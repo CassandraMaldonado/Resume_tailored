{
  "nbformat": 4,
  "nbformat_minor": 0,
  "metadata": {
    "colab": {
      "provenance": []
    },
    "kernelspec": {
      "name": "python3",
      "display_name": "Python 3"
    },
    "language_info": {
      "name": "python"
    },
    "widgets": {
      "application/vnd.jupyter.widget-state+json": {
        "914516796a364f41a4b89609fa83a162": {
          "model_module": "@jupyter-widgets/output",
          "model_name": "OutputModel",
          "model_module_version": "1.0.0",
          "state": {
            "_dom_classes": [],
            "_model_module": "@jupyter-widgets/output",
            "_model_module_version": "1.0.0",
            "_model_name": "OutputModel",
            "_view_count": null,
            "_view_module": "@jupyter-widgets/output",
            "_view_module_version": "1.0.0",
            "_view_name": "OutputView",
            "layout": "IPY_MODEL_6926070c927341108f401fed5ae7f48f",
            "msg_id": "",
            "outputs": [
              {
                "output_type": "display_data",
                "data": {
                  "text/plain": "\u001b[1;34m🌊 Flow: \u001b[0m\u001b[34mInterviewFlow\u001b[0m\n\u001b[37mID: \u001b[0m\u001b[34m697b75fd-1def-49d3-b7aa-c161daed70c6\u001b[0m\n├── \u001b[37mFlow Method Step\u001b[0m\n├── \u001b[1;32m✅ Completed:\u001b[0m\u001b[1;32m ingest_inputs\u001b[0m\n└── \u001b[1;33m🔄 Running:\u001b[0m\u001b[1;33m learn_job_requirements\u001b[0m\n",
                  "text/html": "<pre style=\"white-space:pre;overflow-x:auto;line-height:normal;font-family:Menlo,'DejaVu Sans Mono',consolas,'Courier New',monospace\"><span style=\"color: #000080; text-decoration-color: #000080; font-weight: bold\">🌊 Flow: </span><span style=\"color: #000080; text-decoration-color: #000080\">InterviewFlow</span>\n<span style=\"color: #c0c0c0; text-decoration-color: #c0c0c0\">ID: </span><span style=\"color: #000080; text-decoration-color: #000080\">697b75fd-1def-49d3-b7aa-c161daed70c6</span>\n├── <span style=\"color: #c0c0c0; text-decoration-color: #c0c0c0\">Flow Method Step</span>\n├── <span style=\"color: #008000; text-decoration-color: #008000; font-weight: bold\">✅ Completed: ingest_inputs</span>\n└── <span style=\"color: #808000; text-decoration-color: #808000; font-weight: bold\">🔄 Running: learn_job_requirements</span>\n</pre>\n"
                },
                "metadata": {}
              }
            ]
          }
        },
        "6926070c927341108f401fed5ae7f48f": {
          "model_module": "@jupyter-widgets/base",
          "model_name": "LayoutModel",
          "model_module_version": "1.2.0",
          "state": {
            "_model_module": "@jupyter-widgets/base",
            "_model_module_version": "1.2.0",
            "_model_name": "LayoutModel",
            "_view_count": null,
            "_view_module": "@jupyter-widgets/base",
            "_view_module_version": "1.2.0",
            "_view_name": "LayoutView",
            "align_content": null,
            "align_items": null,
            "align_self": null,
            "border": null,
            "bottom": null,
            "display": null,
            "flex": null,
            "flex_flow": null,
            "grid_area": null,
            "grid_auto_columns": null,
            "grid_auto_flow": null,
            "grid_auto_rows": null,
            "grid_column": null,
            "grid_gap": null,
            "grid_row": null,
            "grid_template_areas": null,
            "grid_template_columns": null,
            "grid_template_rows": null,
            "height": null,
            "justify_content": null,
            "justify_items": null,
            "left": null,
            "margin": null,
            "max_height": null,
            "max_width": null,
            "min_height": null,
            "min_width": null,
            "object_fit": null,
            "object_position": null,
            "order": null,
            "overflow": null,
            "overflow_x": null,
            "overflow_y": null,
            "padding": null,
            "right": null,
            "top": null,
            "visibility": null,
            "width": null
          }
        },
        "cec4060a0c2a4dd49a89d145aec2f69e": {
          "model_module": "@jupyter-widgets/output",
          "model_name": "OutputModel",
          "model_module_version": "1.0.0",
          "state": {
            "_dom_classes": [],
            "_model_module": "@jupyter-widgets/output",
            "_model_module_version": "1.0.0",
            "_model_name": "OutputModel",
            "_view_count": null,
            "_view_module": "@jupyter-widgets/output",
            "_view_module_version": "1.0.0",
            "_view_name": "OutputView",
            "layout": "IPY_MODEL_55dc18bd6df241ec9246ec8db1da30c3",
            "msg_id": "",
            "outputs": [
              {
                "output_type": "display_data",
                "data": {
                  "text/plain": "\u001b[1;32m✅ LiteAgent: \u001b[0m\u001b[32mInterview Coach\u001b[0m\n\u001b[37mStatus: \u001b[0m\u001b[1;32mCompleted\u001b[0m\n├── \u001b[1;31m🔧 Failed \u001b[0m\u001b[31mRead website content (3)\u001b[0m\n├── \u001b[1;31m🔧 Failed \u001b[0m\u001b[31mRead website content (6)\u001b[0m\n├── \u001b[1;33m🔧 \u001b[0m\u001b[33mUsing Search the internet with Serper (1)\u001b[0m\n├── \u001b[1;31m🔧 Failed \u001b[0m\u001b[31mRead website content (9)\u001b[0m\n├── \u001b[1;33m🔧 \u001b[0m\u001b[33mUsing Search the internet with Serper (2)\u001b[0m\n├── \u001b[1;33m🔧 \u001b[0m\u001b[33mUsing Search in a specific website (1)\u001b[0m\n├── \u001b[1;31m🔧 Failed \u001b[0m\u001b[31mSearch in a specific website (4)\u001b[0m\n├── \u001b[1;33m🔧 \u001b[0m\u001b[33mUsing Search the internet with Serper (3)\u001b[0m\n├── \u001b[1;33m🔧 \u001b[0m\u001b[33mUsing Read website content (10)\u001b[0m\n└── \u001b[1;33m🔧 \u001b[0m\u001b[33mUsing Read website content (11)\u001b[0m\n",
                  "text/html": "<pre style=\"white-space:pre;overflow-x:auto;line-height:normal;font-family:Menlo,'DejaVu Sans Mono',consolas,'Courier New',monospace\"><span style=\"color: #008000; text-decoration-color: #008000; font-weight: bold\">✅ LiteAgent: </span><span style=\"color: #008000; text-decoration-color: #008000\">Interview Coach</span>\n<span style=\"color: #c0c0c0; text-decoration-color: #c0c0c0\">Status: </span><span style=\"color: #008000; text-decoration-color: #008000; font-weight: bold\">Completed</span>\n├── <span style=\"color: #800000; text-decoration-color: #800000; font-weight: bold\">🔧 Failed </span><span style=\"color: #800000; text-decoration-color: #800000\">Read website content (3)</span>\n├── <span style=\"color: #800000; text-decoration-color: #800000; font-weight: bold\">🔧 Failed </span><span style=\"color: #800000; text-decoration-color: #800000\">Read website content (6)</span>\n├── <span style=\"color: #808000; text-decoration-color: #808000; font-weight: bold\">🔧 </span><span style=\"color: #808000; text-decoration-color: #808000\">Using Search the internet with Serper (1)</span>\n├── <span style=\"color: #800000; text-decoration-color: #800000; font-weight: bold\">🔧 Failed </span><span style=\"color: #800000; text-decoration-color: #800000\">Read website content (9)</span>\n├── <span style=\"color: #808000; text-decoration-color: #808000; font-weight: bold\">🔧 </span><span style=\"color: #808000; text-decoration-color: #808000\">Using Search the internet with Serper (2)</span>\n├── <span style=\"color: #808000; text-decoration-color: #808000; font-weight: bold\">🔧 </span><span style=\"color: #808000; text-decoration-color: #808000\">Using Search in a specific website (1)</span>\n├── <span style=\"color: #800000; text-decoration-color: #800000; font-weight: bold\">🔧 Failed </span><span style=\"color: #800000; text-decoration-color: #800000\">Search in a specific website (4)</span>\n├── <span style=\"color: #808000; text-decoration-color: #808000; font-weight: bold\">🔧 </span><span style=\"color: #808000; text-decoration-color: #808000\">Using Search the internet with Serper (3)</span>\n├── <span style=\"color: #808000; text-decoration-color: #808000; font-weight: bold\">🔧 </span><span style=\"color: #808000; text-decoration-color: #808000\">Using Read website content (10)</span>\n└── <span style=\"color: #808000; text-decoration-color: #808000; font-weight: bold\">🔧 </span><span style=\"color: #808000; text-decoration-color: #808000\">Using Read website content (11)</span>\n</pre>\n"
                },
                "metadata": {}
              }
            ]
          }
        },
        "55dc18bd6df241ec9246ec8db1da30c3": {
          "model_module": "@jupyter-widgets/base",
          "model_name": "LayoutModel",
          "model_module_version": "1.2.0",
          "state": {
            "_model_module": "@jupyter-widgets/base",
            "_model_module_version": "1.2.0",
            "_model_name": "LayoutModel",
            "_view_count": null,
            "_view_module": "@jupyter-widgets/base",
            "_view_module_version": "1.2.0",
            "_view_name": "LayoutView",
            "align_content": null,
            "align_items": null,
            "align_self": null,
            "border": null,
            "bottom": null,
            "display": null,
            "flex": null,
            "flex_flow": null,
            "grid_area": null,
            "grid_auto_columns": null,
            "grid_auto_flow": null,
            "grid_auto_rows": null,
            "grid_column": null,
            "grid_gap": null,
            "grid_row": null,
            "grid_template_areas": null,
            "grid_template_columns": null,
            "grid_template_rows": null,
            "height": null,
            "justify_content": null,
            "justify_items": null,
            "left": null,
            "margin": null,
            "max_height": null,
            "max_width": null,
            "min_height": null,
            "min_width": null,
            "object_fit": null,
            "object_position": null,
            "order": null,
            "overflow": null,
            "overflow_x": null,
            "overflow_y": null,
            "padding": null,
            "right": null,
            "top": null,
            "visibility": null,
            "width": null
          }
        },
        "382807aa8a1849e1b76f1d91992afd18": {
          "model_module": "@jupyter-widgets/output",
          "model_name": "OutputModel",
          "model_module_version": "1.0.0",
          "state": {
            "_dom_classes": [],
            "_model_module": "@jupyter-widgets/output",
            "_model_module_version": "1.0.0",
            "_model_name": "OutputModel",
            "_view_count": null,
            "_view_module": "@jupyter-widgets/output",
            "_view_module_version": "1.0.0",
            "_view_name": "OutputView",
            "layout": "IPY_MODEL_4ca4af9662d04a56b182b5b855cafce6",
            "msg_id": "",
            "outputs": [
              {
                "output_type": "display_data",
                "data": {
                  "text/plain": "\u001b[1;32m✅ LiteAgent: \u001b[0m\u001b[32mInterview Coach\u001b[0m\n\u001b[37mStatus: \u001b[0m\u001b[1;32mCompleted\u001b[0m\n├── \u001b[1;31m🔧 Failed \u001b[0m\u001b[31mRead website content (3)\u001b[0m\n├── \u001b[1;31m🔧 Failed \u001b[0m\u001b[31mRead website content (6)\u001b[0m\n├── \u001b[1;33m🔧 \u001b[0m\u001b[33mUsing Search the internet with Serper (1)\u001b[0m\n├── \u001b[1;31m🔧 Failed \u001b[0m\u001b[31mRead website content (9)\u001b[0m\n├── \u001b[1;33m🔧 \u001b[0m\u001b[33mUsing Search the internet with Serper (2)\u001b[0m\n├── \u001b[1;33m🔧 \u001b[0m\u001b[33mUsing Search in a specific website (1)\u001b[0m\n├── \u001b[1;31m🔧 Failed \u001b[0m\u001b[31mSearch in a specific website (4)\u001b[0m\n├── \u001b[1;33m🔧 \u001b[0m\u001b[33mUsing Search the internet with Serper (3)\u001b[0m\n├── \u001b[1;33m🔧 \u001b[0m\u001b[33mUsing Read website content (10)\u001b[0m\n├── \u001b[1;33m🔧 \u001b[0m\u001b[33mUsing Read website content (11)\u001b[0m\n└── \u001b[1;33m🔧 \u001b[0m\u001b[33mUsing Search the internet with Serper (4)\u001b[0m\n",
                  "text/html": "<pre style=\"white-space:pre;overflow-x:auto;line-height:normal;font-family:Menlo,'DejaVu Sans Mono',consolas,'Courier New',monospace\"><span style=\"color: #008000; text-decoration-color: #008000; font-weight: bold\">✅ LiteAgent: </span><span style=\"color: #008000; text-decoration-color: #008000\">Interview Coach</span>\n<span style=\"color: #c0c0c0; text-decoration-color: #c0c0c0\">Status: </span><span style=\"color: #008000; text-decoration-color: #008000; font-weight: bold\">Completed</span>\n├── <span style=\"color: #800000; text-decoration-color: #800000; font-weight: bold\">🔧 Failed </span><span style=\"color: #800000; text-decoration-color: #800000\">Read website content (3)</span>\n├── <span style=\"color: #800000; text-decoration-color: #800000; font-weight: bold\">🔧 Failed </span><span style=\"color: #800000; text-decoration-color: #800000\">Read website content (6)</span>\n├── <span style=\"color: #808000; text-decoration-color: #808000; font-weight: bold\">🔧 </span><span style=\"color: #808000; text-decoration-color: #808000\">Using Search the internet with Serper (1)</span>\n├── <span style=\"color: #800000; text-decoration-color: #800000; font-weight: bold\">🔧 Failed </span><span style=\"color: #800000; text-decoration-color: #800000\">Read website content (9)</span>\n├── <span style=\"color: #808000; text-decoration-color: #808000; font-weight: bold\">🔧 </span><span style=\"color: #808000; text-decoration-color: #808000\">Using Search the internet with Serper (2)</span>\n├── <span style=\"color: #808000; text-decoration-color: #808000; font-weight: bold\">🔧 </span><span style=\"color: #808000; text-decoration-color: #808000\">Using Search in a specific website (1)</span>\n├── <span style=\"color: #800000; text-decoration-color: #800000; font-weight: bold\">🔧 Failed </span><span style=\"color: #800000; text-decoration-color: #800000\">Search in a specific website (4)</span>\n├── <span style=\"color: #808000; text-decoration-color: #808000; font-weight: bold\">🔧 </span><span style=\"color: #808000; text-decoration-color: #808000\">Using Search the internet with Serper (3)</span>\n├── <span style=\"color: #808000; text-decoration-color: #808000; font-weight: bold\">🔧 </span><span style=\"color: #808000; text-decoration-color: #808000\">Using Read website content (10)</span>\n├── <span style=\"color: #808000; text-decoration-color: #808000; font-weight: bold\">🔧 </span><span style=\"color: #808000; text-decoration-color: #808000\">Using Read website content (11)</span>\n└── <span style=\"color: #808000; text-decoration-color: #808000; font-weight: bold\">🔧 </span><span style=\"color: #808000; text-decoration-color: #808000\">Using Search the internet with Serper (4)</span>\n</pre>\n"
                },
                "metadata": {}
              }
            ]
          }
        },
        "4ca4af9662d04a56b182b5b855cafce6": {
          "model_module": "@jupyter-widgets/base",
          "model_name": "LayoutModel",
          "model_module_version": "1.2.0",
          "state": {
            "_model_module": "@jupyter-widgets/base",
            "_model_module_version": "1.2.0",
            "_model_name": "LayoutModel",
            "_view_count": null,
            "_view_module": "@jupyter-widgets/base",
            "_view_module_version": "1.2.0",
            "_view_name": "LayoutView",
            "align_content": null,
            "align_items": null,
            "align_self": null,
            "border": null,
            "bottom": null,
            "display": null,
            "flex": null,
            "flex_flow": null,
            "grid_area": null,
            "grid_auto_columns": null,
            "grid_auto_flow": null,
            "grid_auto_rows": null,
            "grid_column": null,
            "grid_gap": null,
            "grid_row": null,
            "grid_template_areas": null,
            "grid_template_columns": null,
            "grid_template_rows": null,
            "height": null,
            "justify_content": null,
            "justify_items": null,
            "left": null,
            "margin": null,
            "max_height": null,
            "max_width": null,
            "min_height": null,
            "min_width": null,
            "object_fit": null,
            "object_position": null,
            "order": null,
            "overflow": null,
            "overflow_x": null,
            "overflow_y": null,
            "padding": null,
            "right": null,
            "top": null,
            "visibility": null,
            "width": null
          }
        },
        "13be1471ee484dc199169f6b1b63295f": {
          "model_module": "@jupyter-widgets/output",
          "model_name": "OutputModel",
          "model_module_version": "1.0.0",
          "state": {
            "_dom_classes": [],
            "_model_module": "@jupyter-widgets/output",
            "_model_module_version": "1.0.0",
            "_model_name": "OutputModel",
            "_view_count": null,
            "_view_module": "@jupyter-widgets/output",
            "_view_module_version": "1.0.0",
            "_view_name": "OutputView",
            "layout": "IPY_MODEL_5ef6c27a3d024caf877ef8431bbc82c5",
            "msg_id": "",
            "outputs": [
              {
                "output_type": "display_data",
                "data": {
                  "text/plain": "\u001b[1;32m✅ LiteAgent: \u001b[0m\u001b[32mInterview Coach\u001b[0m\n\u001b[37mStatus: \u001b[0m\u001b[1;32mCompleted\u001b[0m\n├── \u001b[1;31m🔧 Failed \u001b[0m\u001b[31mRead website content (3)\u001b[0m\n├── \u001b[1;31m🔧 Failed \u001b[0m\u001b[31mRead website content (6)\u001b[0m\n├── \u001b[1;33m🔧 \u001b[0m\u001b[33mUsing Search the internet with Serper (1)\u001b[0m\n├── \u001b[1;31m🔧 Failed \u001b[0m\u001b[31mRead website content (9)\u001b[0m\n├── \u001b[1;33m🔧 \u001b[0m\u001b[33mUsing Search the internet with Serper (2)\u001b[0m\n├── \u001b[1;33m🔧 \u001b[0m\u001b[33mUsing Search in a specific website (1)\u001b[0m\n├── \u001b[1;31m🔧 Failed \u001b[0m\u001b[31mSearch in a specific website (4)\u001b[0m\n├── \u001b[1;33m🔧 \u001b[0m\u001b[33mUsing Search the internet with Serper (3)\u001b[0m\n├── \u001b[1;33m🔧 \u001b[0m\u001b[33mUsing Read website content (10)\u001b[0m\n├── \u001b[1;33m🔧 \u001b[0m\u001b[33mUsing Read website content (11)\u001b[0m\n├── \u001b[1;33m🔧 \u001b[0m\u001b[33mUsing Search the internet with Serper (4)\u001b[0m\n└── \u001b[1;34m🧠 \u001b[0m\u001b[34mThinking...\u001b[0m\n",
                  "text/html": "<pre style=\"white-space:pre;overflow-x:auto;line-height:normal;font-family:Menlo,'DejaVu Sans Mono',consolas,'Courier New',monospace\"><span style=\"color: #008000; text-decoration-color: #008000; font-weight: bold\">✅ LiteAgent: </span><span style=\"color: #008000; text-decoration-color: #008000\">Interview Coach</span>\n<span style=\"color: #c0c0c0; text-decoration-color: #c0c0c0\">Status: </span><span style=\"color: #008000; text-decoration-color: #008000; font-weight: bold\">Completed</span>\n├── <span style=\"color: #800000; text-decoration-color: #800000; font-weight: bold\">🔧 Failed </span><span style=\"color: #800000; text-decoration-color: #800000\">Read website content (3)</span>\n├── <span style=\"color: #800000; text-decoration-color: #800000; font-weight: bold\">🔧 Failed </span><span style=\"color: #800000; text-decoration-color: #800000\">Read website content (6)</span>\n├── <span style=\"color: #808000; text-decoration-color: #808000; font-weight: bold\">🔧 </span><span style=\"color: #808000; text-decoration-color: #808000\">Using Search the internet with Serper (1)</span>\n├── <span style=\"color: #800000; text-decoration-color: #800000; font-weight: bold\">🔧 Failed </span><span style=\"color: #800000; text-decoration-color: #800000\">Read website content (9)</span>\n├── <span style=\"color: #808000; text-decoration-color: #808000; font-weight: bold\">🔧 </span><span style=\"color: #808000; text-decoration-color: #808000\">Using Search the internet with Serper (2)</span>\n├── <span style=\"color: #808000; text-decoration-color: #808000; font-weight: bold\">🔧 </span><span style=\"color: #808000; text-decoration-color: #808000\">Using Search in a specific website (1)</span>\n├── <span style=\"color: #800000; text-decoration-color: #800000; font-weight: bold\">🔧 Failed </span><span style=\"color: #800000; text-decoration-color: #800000\">Search in a specific website (4)</span>\n├── <span style=\"color: #808000; text-decoration-color: #808000; font-weight: bold\">🔧 </span><span style=\"color: #808000; text-decoration-color: #808000\">Using Search the internet with Serper (3)</span>\n├── <span style=\"color: #808000; text-decoration-color: #808000; font-weight: bold\">🔧 </span><span style=\"color: #808000; text-decoration-color: #808000\">Using Read website content (10)</span>\n├── <span style=\"color: #808000; text-decoration-color: #808000; font-weight: bold\">🔧 </span><span style=\"color: #808000; text-decoration-color: #808000\">Using Read website content (11)</span>\n├── <span style=\"color: #808000; text-decoration-color: #808000; font-weight: bold\">🔧 </span><span style=\"color: #808000; text-decoration-color: #808000\">Using Search the internet with Serper (4)</span>\n└── <span style=\"color: #000080; text-decoration-color: #000080; font-weight: bold\">🧠 </span><span style=\"color: #000080; text-decoration-color: #000080\">Thinking...</span>\n</pre>\n"
                },
                "metadata": {}
              }
            ]
          }
        },
        "5ef6c27a3d024caf877ef8431bbc82c5": {
          "model_module": "@jupyter-widgets/base",
          "model_name": "LayoutModel",
          "model_module_version": "1.2.0",
          "state": {
            "_model_module": "@jupyter-widgets/base",
            "_model_module_version": "1.2.0",
            "_model_name": "LayoutModel",
            "_view_count": null,
            "_view_module": "@jupyter-widgets/base",
            "_view_module_version": "1.2.0",
            "_view_name": "LayoutView",
            "align_content": null,
            "align_items": null,
            "align_self": null,
            "border": null,
            "bottom": null,
            "display": null,
            "flex": null,
            "flex_flow": null,
            "grid_area": null,
            "grid_auto_columns": null,
            "grid_auto_flow": null,
            "grid_auto_rows": null,
            "grid_column": null,
            "grid_gap": null,
            "grid_row": null,
            "grid_template_areas": null,
            "grid_template_columns": null,
            "grid_template_rows": null,
            "height": null,
            "justify_content": null,
            "justify_items": null,
            "left": null,
            "margin": null,
            "max_height": null,
            "max_width": null,
            "min_height": null,
            "min_width": null,
            "object_fit": null,
            "object_position": null,
            "order": null,
            "overflow": null,
            "overflow_x": null,
            "overflow_y": null,
            "padding": null,
            "right": null,
            "top": null,
            "visibility": null,
            "width": null
          }
        },
        "abaf0f97ab264e5fa5214d85d1297d9b": {
          "model_module": "@jupyter-widgets/output",
          "model_name": "OutputModel",
          "model_module_version": "1.0.0",
          "state": {
            "_dom_classes": [],
            "_model_module": "@jupyter-widgets/output",
            "_model_module_version": "1.0.0",
            "_model_name": "OutputModel",
            "_view_count": null,
            "_view_module": "@jupyter-widgets/output",
            "_view_module_version": "1.0.0",
            "_view_name": "OutputView",
            "layout": "IPY_MODEL_7625847955524a95a4f30466bbdf3ee9",
            "msg_id": "",
            "outputs": [
              {
                "output_type": "display_data",
                "data": {
                  "text/plain": "\u001b[1;34m🌊 Flow: \u001b[0m\u001b[34mInterviewFlow\u001b[0m\n\u001b[37mID: \u001b[0m\u001b[34m697b75fd-1def-49d3-b7aa-c161daed70c6\u001b[0m\n├── \u001b[37mFlow Method Step\u001b[0m\n├── \u001b[1;32m✅ Completed:\u001b[0m\u001b[1;32m ingest_inputs\u001b[0m\n├── \u001b[1;32m✅ Completed:\u001b[0m\u001b[1;32m learn_job_requirements\u001b[0m\n└── \u001b[1;33m🔄 Running:\u001b[0m\u001b[1;33m check_against_profile\u001b[0m\n",
                  "text/html": "<pre style=\"white-space:pre;overflow-x:auto;line-height:normal;font-family:Menlo,'DejaVu Sans Mono',consolas,'Courier New',monospace\"><span style=\"color: #000080; text-decoration-color: #000080; font-weight: bold\">🌊 Flow: </span><span style=\"color: #000080; text-decoration-color: #000080\">InterviewFlow</span>\n<span style=\"color: #c0c0c0; text-decoration-color: #c0c0c0\">ID: </span><span style=\"color: #000080; text-decoration-color: #000080\">697b75fd-1def-49d3-b7aa-c161daed70c6</span>\n├── <span style=\"color: #c0c0c0; text-decoration-color: #c0c0c0\">Flow Method Step</span>\n├── <span style=\"color: #008000; text-decoration-color: #008000; font-weight: bold\">✅ Completed: ingest_inputs</span>\n├── <span style=\"color: #008000; text-decoration-color: #008000; font-weight: bold\">✅ Completed: learn_job_requirements</span>\n└── <span style=\"color: #808000; text-decoration-color: #808000; font-weight: bold\">🔄 Running: check_against_profile</span>\n</pre>\n"
                },
                "metadata": {}
              }
            ]
          }
        },
        "7625847955524a95a4f30466bbdf3ee9": {
          "model_module": "@jupyter-widgets/base",
          "model_name": "LayoutModel",
          "model_module_version": "1.2.0",
          "state": {
            "_model_module": "@jupyter-widgets/base",
            "_model_module_version": "1.2.0",
            "_model_name": "LayoutModel",
            "_view_count": null,
            "_view_module": "@jupyter-widgets/base",
            "_view_module_version": "1.2.0",
            "_view_name": "LayoutView",
            "align_content": null,
            "align_items": null,
            "align_self": null,
            "border": null,
            "bottom": null,
            "display": null,
            "flex": null,
            "flex_flow": null,
            "grid_area": null,
            "grid_auto_columns": null,
            "grid_auto_flow": null,
            "grid_auto_rows": null,
            "grid_column": null,
            "grid_gap": null,
            "grid_row": null,
            "grid_template_areas": null,
            "grid_template_columns": null,
            "grid_template_rows": null,
            "height": null,
            "justify_content": null,
            "justify_items": null,
            "left": null,
            "margin": null,
            "max_height": null,
            "max_width": null,
            "min_height": null,
            "min_width": null,
            "object_fit": null,
            "object_position": null,
            "order": null,
            "overflow": null,
            "overflow_x": null,
            "overflow_y": null,
            "padding": null,
            "right": null,
            "top": null,
            "visibility": null,
            "width": null
          }
        },
        "d27b1f3961a44673925730ace291bc30": {
          "model_module": "@jupyter-widgets/output",
          "model_name": "OutputModel",
          "model_module_version": "1.0.0",
          "state": {
            "_dom_classes": [],
            "_model_module": "@jupyter-widgets/output",
            "_model_module_version": "1.0.0",
            "_model_name": "OutputModel",
            "_view_count": null,
            "_view_module": "@jupyter-widgets/output",
            "_view_module_version": "1.0.0",
            "_view_name": "OutputView",
            "layout": "IPY_MODEL_d1ee51f65437415ea995e738b3df389c",
            "msg_id": "",
            "outputs": [
              {
                "output_type": "display_data",
                "data": {
                  "text/plain": "\u001b[1;34m🌊 Flow: \u001b[0m\u001b[34mInterviewFlow\u001b[0m\n\u001b[37mID: \u001b[0m\u001b[34m697b75fd-1def-49d3-b7aa-c161daed70c6\u001b[0m\n├── \u001b[37mFlow Method Step\u001b[0m\n├── \u001b[1;32m✅ Completed:\u001b[0m\u001b[1;32m ingest_inputs\u001b[0m\n├── \u001b[1;32m✅ Completed:\u001b[0m\u001b[1;32m learn_job_requirements\u001b[0m\n├── \u001b[1;32m✅ Completed:\u001b[0m\u001b[1;32m check_against_profile\u001b[0m\n└── \u001b[1;33m🔄 Running:\u001b[0m\u001b[1;33m build_resume_strategy\u001b[0m\n",
                  "text/html": "<pre style=\"white-space:pre;overflow-x:auto;line-height:normal;font-family:Menlo,'DejaVu Sans Mono',consolas,'Courier New',monospace\"><span style=\"color: #000080; text-decoration-color: #000080; font-weight: bold\">🌊 Flow: </span><span style=\"color: #000080; text-decoration-color: #000080\">InterviewFlow</span>\n<span style=\"color: #c0c0c0; text-decoration-color: #c0c0c0\">ID: </span><span style=\"color: #000080; text-decoration-color: #000080\">697b75fd-1def-49d3-b7aa-c161daed70c6</span>\n├── <span style=\"color: #c0c0c0; text-decoration-color: #c0c0c0\">Flow Method Step</span>\n├── <span style=\"color: #008000; text-decoration-color: #008000; font-weight: bold\">✅ Completed: ingest_inputs</span>\n├── <span style=\"color: #008000; text-decoration-color: #008000; font-weight: bold\">✅ Completed: learn_job_requirements</span>\n├── <span style=\"color: #008000; text-decoration-color: #008000; font-weight: bold\">✅ Completed: check_against_profile</span>\n└── <span style=\"color: #808000; text-decoration-color: #808000; font-weight: bold\">🔄 Running: build_resume_strategy</span>\n</pre>\n"
                },
                "metadata": {}
              }
            ]
          }
        },
        "d1ee51f65437415ea995e738b3df389c": {
          "model_module": "@jupyter-widgets/base",
          "model_name": "LayoutModel",
          "model_module_version": "1.2.0",
          "state": {
            "_model_module": "@jupyter-widgets/base",
            "_model_module_version": "1.2.0",
            "_model_name": "LayoutModel",
            "_view_count": null,
            "_view_module": "@jupyter-widgets/base",
            "_view_module_version": "1.2.0",
            "_view_name": "LayoutView",
            "align_content": null,
            "align_items": null,
            "align_self": null,
            "border": null,
            "bottom": null,
            "display": null,
            "flex": null,
            "flex_flow": null,
            "grid_area": null,
            "grid_auto_columns": null,
            "grid_auto_flow": null,
            "grid_auto_rows": null,
            "grid_column": null,
            "grid_gap": null,
            "grid_row": null,
            "grid_template_areas": null,
            "grid_template_columns": null,
            "grid_template_rows": null,
            "height": null,
            "justify_content": null,
            "justify_items": null,
            "left": null,
            "margin": null,
            "max_height": null,
            "max_width": null,
            "min_height": null,
            "min_width": null,
            "object_fit": null,
            "object_position": null,
            "order": null,
            "overflow": null,
            "overflow_x": null,
            "overflow_y": null,
            "padding": null,
            "right": null,
            "top": null,
            "visibility": null,
            "width": null
          }
        },
        "455c3047d4e644d4b403d5cad765ba7b": {
          "model_module": "@jupyter-widgets/output",
          "model_name": "OutputModel",
          "model_module_version": "1.0.0",
          "state": {
            "_dom_classes": [],
            "_model_module": "@jupyter-widgets/output",
            "_model_module_version": "1.0.0",
            "_model_name": "OutputModel",
            "_view_count": null,
            "_view_module": "@jupyter-widgets/output",
            "_view_module_version": "1.0.0",
            "_view_name": "OutputView",
            "layout": "IPY_MODEL_f8a5ece665e54d6ca5757c27e102f01d",
            "msg_id": "",
            "outputs": [
              {
                "output_type": "display_data",
                "data": {
                  "text/plain": "\u001b[1;34m🌊 Flow: \u001b[0m\u001b[34mInterviewFlow\u001b[0m\n\u001b[37mID: \u001b[0m\u001b[34m697b75fd-1def-49d3-b7aa-c161daed70c6\u001b[0m\n├── \u001b[37mFlow Method Step\u001b[0m\n├── \u001b[1;32m✅ Completed:\u001b[0m\u001b[1;32m ingest_inputs\u001b[0m\n├── \u001b[1;32m✅ Completed:\u001b[0m\u001b[1;32m learn_job_requirements\u001b[0m\n├── \u001b[1;32m✅ Completed:\u001b[0m\u001b[1;32m check_against_profile\u001b[0m\n├── \u001b[1;32m✅ Completed:\u001b[0m\u001b[1;32m build_resume_strategy\u001b[0m\n└── \u001b[1;33m🔄 Running:\u001b[0m\u001b[1;33m rewrite_resume\u001b[0m\n",
                  "text/html": "<pre style=\"white-space:pre;overflow-x:auto;line-height:normal;font-family:Menlo,'DejaVu Sans Mono',consolas,'Courier New',monospace\"><span style=\"color: #000080; text-decoration-color: #000080; font-weight: bold\">🌊 Flow: </span><span style=\"color: #000080; text-decoration-color: #000080\">InterviewFlow</span>\n<span style=\"color: #c0c0c0; text-decoration-color: #c0c0c0\">ID: </span><span style=\"color: #000080; text-decoration-color: #000080\">697b75fd-1def-49d3-b7aa-c161daed70c6</span>\n├── <span style=\"color: #c0c0c0; text-decoration-color: #c0c0c0\">Flow Method Step</span>\n├── <span style=\"color: #008000; text-decoration-color: #008000; font-weight: bold\">✅ Completed: ingest_inputs</span>\n├── <span style=\"color: #008000; text-decoration-color: #008000; font-weight: bold\">✅ Completed: learn_job_requirements</span>\n├── <span style=\"color: #008000; text-decoration-color: #008000; font-weight: bold\">✅ Completed: check_against_profile</span>\n├── <span style=\"color: #008000; text-decoration-color: #008000; font-weight: bold\">✅ Completed: build_resume_strategy</span>\n└── <span style=\"color: #808000; text-decoration-color: #808000; font-weight: bold\">🔄 Running: rewrite_resume</span>\n</pre>\n"
                },
                "metadata": {}
              }
            ]
          }
        },
        "f8a5ece665e54d6ca5757c27e102f01d": {
          "model_module": "@jupyter-widgets/base",
          "model_name": "LayoutModel",
          "model_module_version": "1.2.0",
          "state": {
            "_model_module": "@jupyter-widgets/base",
            "_model_module_version": "1.2.0",
            "_model_name": "LayoutModel",
            "_view_count": null,
            "_view_module": "@jupyter-widgets/base",
            "_view_module_version": "1.2.0",
            "_view_name": "LayoutView",
            "align_content": null,
            "align_items": null,
            "align_self": null,
            "border": null,
            "bottom": null,
            "display": null,
            "flex": null,
            "flex_flow": null,
            "grid_area": null,
            "grid_auto_columns": null,
            "grid_auto_flow": null,
            "grid_auto_rows": null,
            "grid_column": null,
            "grid_gap": null,
            "grid_row": null,
            "grid_template_areas": null,
            "grid_template_columns": null,
            "grid_template_rows": null,
            "height": null,
            "justify_content": null,
            "justify_items": null,
            "left": null,
            "margin": null,
            "max_height": null,
            "max_width": null,
            "min_height": null,
            "min_width": null,
            "object_fit": null,
            "object_position": null,
            "order": null,
            "overflow": null,
            "overflow_x": null,
            "overflow_y": null,
            "padding": null,
            "right": null,
            "top": null,
            "visibility": null,
            "width": null
          }
        },
        "99af154ea3b34d62a564658ace3c73c9": {
          "model_module": "@jupyter-widgets/output",
          "model_name": "OutputModel",
          "model_module_version": "1.0.0",
          "state": {
            "_dom_classes": [],
            "_model_module": "@jupyter-widgets/output",
            "_model_module_version": "1.0.0",
            "_model_name": "OutputModel",
            "_view_count": null,
            "_view_module": "@jupyter-widgets/output",
            "_view_module_version": "1.0.0",
            "_view_name": "OutputView",
            "layout": "IPY_MODEL_95462b45ba944dd89f9f3a3ed17d1dff",
            "msg_id": "",
            "outputs": [
              {
                "output_type": "display_data",
                "data": {
                  "text/plain": "\u001b[1;34m🌊 Flow: \u001b[0m\u001b[34mInterviewFlow\u001b[0m\n\u001b[37mID: \u001b[0m\u001b[34m697b75fd-1def-49d3-b7aa-c161daed70c6\u001b[0m\n├── \u001b[37mFlow Method Step\u001b[0m\n├── \u001b[1;32m✅ Completed:\u001b[0m\u001b[1;32m ingest_inputs\u001b[0m\n├── \u001b[1;32m✅ Completed:\u001b[0m\u001b[1;32m learn_job_requirements\u001b[0m\n├── \u001b[1;32m✅ Completed:\u001b[0m\u001b[1;32m check_against_profile\u001b[0m\n├── \u001b[1;32m✅ Completed:\u001b[0m\u001b[1;32m build_resume_strategy\u001b[0m\n├── \u001b[1;32m✅ Completed:\u001b[0m\u001b[1;32m rewrite_resume\u001b[0m\n└── \u001b[1;33m🔄 Running:\u001b[0m\u001b[1;33m generate_talking_points\u001b[0m\n",
                  "text/html": "<pre style=\"white-space:pre;overflow-x:auto;line-height:normal;font-family:Menlo,'DejaVu Sans Mono',consolas,'Courier New',monospace\"><span style=\"color: #000080; text-decoration-color: #000080; font-weight: bold\">🌊 Flow: </span><span style=\"color: #000080; text-decoration-color: #000080\">InterviewFlow</span>\n<span style=\"color: #c0c0c0; text-decoration-color: #c0c0c0\">ID: </span><span style=\"color: #000080; text-decoration-color: #000080\">697b75fd-1def-49d3-b7aa-c161daed70c6</span>\n├── <span style=\"color: #c0c0c0; text-decoration-color: #c0c0c0\">Flow Method Step</span>\n├── <span style=\"color: #008000; text-decoration-color: #008000; font-weight: bold\">✅ Completed: ingest_inputs</span>\n├── <span style=\"color: #008000; text-decoration-color: #008000; font-weight: bold\">✅ Completed: learn_job_requirements</span>\n├── <span style=\"color: #008000; text-decoration-color: #008000; font-weight: bold\">✅ Completed: check_against_profile</span>\n├── <span style=\"color: #008000; text-decoration-color: #008000; font-weight: bold\">✅ Completed: build_resume_strategy</span>\n├── <span style=\"color: #008000; text-decoration-color: #008000; font-weight: bold\">✅ Completed: rewrite_resume</span>\n└── <span style=\"color: #808000; text-decoration-color: #808000; font-weight: bold\">🔄 Running: generate_talking_points</span>\n</pre>\n"
                },
                "metadata": {}
              }
            ]
          }
        },
        "95462b45ba944dd89f9f3a3ed17d1dff": {
          "model_module": "@jupyter-widgets/base",
          "model_name": "LayoutModel",
          "model_module_version": "1.2.0",
          "state": {
            "_model_module": "@jupyter-widgets/base",
            "_model_module_version": "1.2.0",
            "_model_name": "LayoutModel",
            "_view_count": null,
            "_view_module": "@jupyter-widgets/base",
            "_view_module_version": "1.2.0",
            "_view_name": "LayoutView",
            "align_content": null,
            "align_items": null,
            "align_self": null,
            "border": null,
            "bottom": null,
            "display": null,
            "flex": null,
            "flex_flow": null,
            "grid_area": null,
            "grid_auto_columns": null,
            "grid_auto_flow": null,
            "grid_auto_rows": null,
            "grid_column": null,
            "grid_gap": null,
            "grid_row": null,
            "grid_template_areas": null,
            "grid_template_columns": null,
            "grid_template_rows": null,
            "height": null,
            "justify_content": null,
            "justify_items": null,
            "left": null,
            "margin": null,
            "max_height": null,
            "max_width": null,
            "min_height": null,
            "min_width": null,
            "object_fit": null,
            "object_position": null,
            "order": null,
            "overflow": null,
            "overflow_x": null,
            "overflow_y": null,
            "padding": null,
            "right": null,
            "top": null,
            "visibility": null,
            "width": null
          }
        },
        "38085b8144484295b062d58ff3c3f889": {
          "model_module": "@jupyter-widgets/output",
          "model_name": "OutputModel",
          "model_module_version": "1.0.0",
          "state": {
            "_dom_classes": [],
            "_model_module": "@jupyter-widgets/output",
            "_model_module_version": "1.0.0",
            "_model_name": "OutputModel",
            "_view_count": null,
            "_view_module": "@jupyter-widgets/output",
            "_view_module_version": "1.0.0",
            "_view_name": "OutputView",
            "layout": "IPY_MODEL_f68d410f5ec74bbca83f6a350bc10d20",
            "msg_id": "",
            "outputs": [
              {
                "output_type": "display_data",
                "data": {
                  "text/plain": "\u001b[1;32m✅ Flow Finished: \u001b[0m\u001b[32mInterviewFlow\u001b[0m\n├── \u001b[37mFlow Method Step\u001b[0m\n├── \u001b[1;32m✅ Completed:\u001b[0m\u001b[1;32m ingest_inputs\u001b[0m\n├── \u001b[1;32m✅ Completed:\u001b[0m\u001b[1;32m learn_job_requirements\u001b[0m\n├── \u001b[1;32m✅ Completed:\u001b[0m\u001b[1;32m check_against_profile\u001b[0m\n├── \u001b[1;32m✅ Completed:\u001b[0m\u001b[1;32m build_resume_strategy\u001b[0m\n├── \u001b[1;32m✅ Completed:\u001b[0m\u001b[1;32m rewrite_resume\u001b[0m\n└── \u001b[1;32m✅ Completed:\u001b[0m\u001b[1;32m generate_talking_points\u001b[0m\n",
                  "text/html": "<pre style=\"white-space:pre;overflow-x:auto;line-height:normal;font-family:Menlo,'DejaVu Sans Mono',consolas,'Courier New',monospace\"><span style=\"color: #008000; text-decoration-color: #008000; font-weight: bold\">✅ Flow Finished: </span><span style=\"color: #008000; text-decoration-color: #008000\">InterviewFlow</span>\n├── <span style=\"color: #c0c0c0; text-decoration-color: #c0c0c0\">Flow Method Step</span>\n├── <span style=\"color: #008000; text-decoration-color: #008000; font-weight: bold\">✅ Completed: ingest_inputs</span>\n├── <span style=\"color: #008000; text-decoration-color: #008000; font-weight: bold\">✅ Completed: learn_job_requirements</span>\n├── <span style=\"color: #008000; text-decoration-color: #008000; font-weight: bold\">✅ Completed: check_against_profile</span>\n├── <span style=\"color: #008000; text-decoration-color: #008000; font-weight: bold\">✅ Completed: build_resume_strategy</span>\n├── <span style=\"color: #008000; text-decoration-color: #008000; font-weight: bold\">✅ Completed: rewrite_resume</span>\n└── <span style=\"color: #008000; text-decoration-color: #008000; font-weight: bold\">✅ Completed: generate_talking_points</span>\n</pre>\n"
                },
                "metadata": {}
              }
            ]
          }
        },
        "f68d410f5ec74bbca83f6a350bc10d20": {
          "model_module": "@jupyter-widgets/base",
          "model_name": "LayoutModel",
          "model_module_version": "1.2.0",
          "state": {
            "_model_module": "@jupyter-widgets/base",
            "_model_module_version": "1.2.0",
            "_model_name": "LayoutModel",
            "_view_count": null,
            "_view_module": "@jupyter-widgets/base",
            "_view_module_version": "1.2.0",
            "_view_name": "LayoutView",
            "align_content": null,
            "align_items": null,
            "align_self": null,
            "border": null,
            "bottom": null,
            "display": null,
            "flex": null,
            "flex_flow": null,
            "grid_area": null,
            "grid_auto_columns": null,
            "grid_auto_flow": null,
            "grid_auto_rows": null,
            "grid_column": null,
            "grid_gap": null,
            "grid_row": null,
            "grid_template_areas": null,
            "grid_template_columns": null,
            "grid_template_rows": null,
            "height": null,
            "justify_content": null,
            "justify_items": null,
            "left": null,
            "margin": null,
            "max_height": null,
            "max_width": null,
            "min_height": null,
            "min_width": null,
            "object_fit": null,
            "object_position": null,
            "order": null,
            "overflow": null,
            "overflow_x": null,
            "overflow_y": null,
            "padding": null,
            "right": null,
            "top": null,
            "visibility": null,
            "width": null
          }
        }
      }
    }
  },
  "cells": [
    {
      "cell_type": "markdown",
      "source": [
        "# **Agentic Job Targeting Workflow for Data Science**"
      ],
      "metadata": {
        "id": "0Bbdw8ZfbOjQ"
      }
    },
    {
      "cell_type": "markdown",
      "source": [
        "Cassandra Maldonado"
      ],
      "metadata": {
        "id": "Q8Pxv_qkbYVu"
      }
    },
    {
      "cell_type": "code",
      "source": [
        "!pip install crewai crewai-tools litellm pydantic"
      ],
      "metadata": {
        "colab": {
          "base_uri": "https://localhost:8080/"
        },
        "id": "Z6Wd1mlHw4XZ",
        "outputId": "a23ae159-d5ff-4a3c-eba9-4fc92b76f7fa"
      },
      "execution_count": null,
      "outputs": [
        {
          "output_type": "stream",
          "name": "stdout",
          "text": [
            "Requirement already satisfied: crewai in /usr/local/lib/python3.11/dist-packages (0.159.0)\n",
            "Requirement already satisfied: crewai-tools in /usr/local/lib/python3.11/dist-packages (0.62.0)\n",
            "Requirement already satisfied: litellm in /usr/local/lib/python3.11/dist-packages (1.74.9)\n",
            "Requirement already satisfied: pydantic in /usr/local/lib/python3.11/dist-packages (2.11.7)\n",
            "Requirement already satisfied: appdirs>=1.4.4 in /usr/local/lib/python3.11/dist-packages (from crewai) (1.4.4)\n",
            "Requirement already satisfied: blinker>=1.9.0 in /usr/local/lib/python3.11/dist-packages (from crewai) (1.9.0)\n",
            "Requirement already satisfied: chromadb>=0.5.23 in /usr/local/lib/python3.11/dist-packages (from crewai) (0.5.23)\n",
            "Requirement already satisfied: click>=8.1.7 in /usr/local/lib/python3.11/dist-packages (from crewai) (8.2.1)\n",
            "Requirement already satisfied: instructor>=1.3.3 in /usr/local/lib/python3.11/dist-packages (from crewai) (1.10.0)\n",
            "Requirement already satisfied: json-repair==0.25.2 in /usr/local/lib/python3.11/dist-packages (from crewai) (0.25.2)\n",
            "Requirement already satisfied: json5>=0.10.0 in /usr/local/lib/python3.11/dist-packages (from crewai) (0.12.1)\n",
            "Requirement already satisfied: jsonref>=1.1.0 in /usr/local/lib/python3.11/dist-packages (from crewai) (1.1.0)\n",
            "Requirement already satisfied: onnxruntime==1.22.0 in /usr/local/lib/python3.11/dist-packages (from crewai) (1.22.0)\n",
            "Requirement already satisfied: openai>=1.13.3 in /usr/local/lib/python3.11/dist-packages (from crewai) (1.99.9)\n",
            "Requirement already satisfied: openpyxl>=3.1.5 in /usr/local/lib/python3.11/dist-packages (from crewai) (3.1.5)\n",
            "Requirement already satisfied: opentelemetry-api>=1.30.0 in /usr/local/lib/python3.11/dist-packages (from crewai) (1.36.0)\n",
            "Requirement already satisfied: opentelemetry-exporter-otlp-proto-http>=1.30.0 in /usr/local/lib/python3.11/dist-packages (from crewai) (1.36.0)\n",
            "Requirement already satisfied: opentelemetry-sdk>=1.30.0 in /usr/local/lib/python3.11/dist-packages (from crewai) (1.36.0)\n",
            "Requirement already satisfied: pdfplumber>=0.11.4 in /usr/local/lib/python3.11/dist-packages (from crewai) (0.11.7)\n",
            "Requirement already satisfied: portalocker==2.7.0 in /usr/local/lib/python3.11/dist-packages (from crewai) (2.7.0)\n",
            "Requirement already satisfied: pyjwt>=2.9.0 in /usr/local/lib/python3.11/dist-packages (from crewai) (2.10.1)\n",
            "Requirement already satisfied: python-dotenv>=1.0.0 in /usr/local/lib/python3.11/dist-packages (from crewai) (1.1.1)\n",
            "Requirement already satisfied: pyvis>=0.3.2 in /usr/local/lib/python3.11/dist-packages (from crewai) (0.3.2)\n",
            "Requirement already satisfied: regex>=2024.9.11 in /usr/local/lib/python3.11/dist-packages (from crewai) (2024.11.6)\n",
            "Requirement already satisfied: tokenizers>=0.20.3 in /usr/local/lib/python3.11/dist-packages (from crewai) (0.20.3)\n",
            "Requirement already satisfied: tomli-w>=1.1.0 in /usr/local/lib/python3.11/dist-packages (from crewai) (1.2.0)\n",
            "Requirement already satisfied: tomli>=2.0.2 in /usr/local/lib/python3.11/dist-packages (from crewai) (2.2.1)\n",
            "Requirement already satisfied: uv>=0.4.25 in /usr/local/lib/python3.11/dist-packages (from crewai) (0.8.11)\n",
            "Requirement already satisfied: aiohttp>=3.10 in /usr/local/lib/python3.11/dist-packages (from litellm) (3.12.15)\n",
            "Requirement already satisfied: httpx>=0.23.0 in /usr/local/lib/python3.11/dist-packages (from litellm) (0.28.1)\n",
            "Requirement already satisfied: importlib-metadata>=6.8.0 in /usr/local/lib/python3.11/dist-packages (from litellm) (8.7.0)\n",
            "Requirement already satisfied: jinja2<4.0.0,>=3.1.2 in /usr/local/lib/python3.11/dist-packages (from litellm) (3.1.6)\n",
            "Requirement already satisfied: jsonschema<5.0.0,>=4.22.0 in /usr/local/lib/python3.11/dist-packages (from litellm) (4.25.0)\n",
            "Requirement already satisfied: tiktoken>=0.7.0 in /usr/local/lib/python3.11/dist-packages (from litellm) (0.11.0)\n",
            "Requirement already satisfied: coloredlogs in /usr/local/lib/python3.11/dist-packages (from onnxruntime==1.22.0->crewai) (15.0.1)\n",
            "Requirement already satisfied: flatbuffers in /usr/local/lib/python3.11/dist-packages (from onnxruntime==1.22.0->crewai) (25.2.10)\n",
            "Requirement already satisfied: numpy>=1.21.6 in /usr/local/lib/python3.11/dist-packages (from onnxruntime==1.22.0->crewai) (2.0.2)\n",
            "Requirement already satisfied: packaging in /usr/local/lib/python3.11/dist-packages (from onnxruntime==1.22.0->crewai) (25.0)\n",
            "Requirement already satisfied: protobuf in /usr/local/lib/python3.11/dist-packages (from onnxruntime==1.22.0->crewai) (5.29.5)\n",
            "Requirement already satisfied: sympy in /usr/local/lib/python3.11/dist-packages (from onnxruntime==1.22.0->crewai) (1.13.1)\n",
            "Requirement already satisfied: docker>=7.1.0 in /usr/local/lib/python3.11/dist-packages (from crewai-tools) (7.1.0)\n",
            "Requirement already satisfied: embedchain>=0.1.114 in /usr/local/lib/python3.11/dist-packages (from crewai-tools) (0.1.128)\n",
            "Requirement already satisfied: lancedb>=0.5.4 in /usr/local/lib/python3.11/dist-packages (from crewai-tools) (0.24.3)\n",
            "Requirement already satisfied: pyright>=1.1.350 in /usr/local/lib/python3.11/dist-packages (from crewai-tools) (1.1.403)\n",
            "Requirement already satisfied: pytube>=15.0.0 in /usr/local/lib/python3.11/dist-packages (from crewai-tools) (15.0.0)\n",
            "Requirement already satisfied: requests>=2.31.0 in /usr/local/lib/python3.11/dist-packages (from crewai-tools) (2.32.3)\n",
            "Requirement already satisfied: stagehand>=0.4.1 in /usr/local/lib/python3.11/dist-packages (from crewai-tools) (0.5.0)\n",
            "Requirement already satisfied: build>=1.0.3 in /usr/local/lib/python3.11/dist-packages (from chromadb>=0.5.23->crewai) (1.3.0)\n",
            "Requirement already satisfied: chroma-hnswlib==0.7.6 in /usr/local/lib/python3.11/dist-packages (from chromadb>=0.5.23->crewai) (0.7.6)\n",
            "Requirement already satisfied: fastapi>=0.95.2 in /usr/local/lib/python3.11/dist-packages (from chromadb>=0.5.23->crewai) (0.116.1)\n",
            "Requirement already satisfied: uvicorn>=0.18.3 in /usr/local/lib/python3.11/dist-packages (from uvicorn[standard]>=0.18.3->chromadb>=0.5.23->crewai) (0.35.0)\n",
            "Requirement already satisfied: posthog>=2.4.0 in /usr/local/lib/python3.11/dist-packages (from chromadb>=0.5.23->crewai) (3.25.0)\n",
            "Requirement already satisfied: typing_extensions>=4.5.0 in /usr/local/lib/python3.11/dist-packages (from chromadb>=0.5.23->crewai) (4.14.1)\n",
            "Requirement already satisfied: opentelemetry-exporter-otlp-proto-grpc>=1.2.0 in /usr/local/lib/python3.11/dist-packages (from chromadb>=0.5.23->crewai) (1.36.0)\n",
            "Requirement already satisfied: opentelemetry-instrumentation-fastapi>=0.41b0 in /usr/local/lib/python3.11/dist-packages (from chromadb>=0.5.23->crewai) (0.57b0)\n",
            "Requirement already satisfied: pypika>=0.48.9 in /usr/local/lib/python3.11/dist-packages (from chromadb>=0.5.23->crewai) (0.48.9)\n",
            "Requirement already satisfied: tqdm>=4.65.0 in /usr/local/lib/python3.11/dist-packages (from chromadb>=0.5.23->crewai) (4.67.1)\n",
            "Requirement already satisfied: overrides>=7.3.1 in /usr/local/lib/python3.11/dist-packages (from chromadb>=0.5.23->crewai) (7.7.0)\n",
            "Requirement already satisfied: importlib-resources in /usr/local/lib/python3.11/dist-packages (from chromadb>=0.5.23->crewai) (6.5.2)\n",
            "Requirement already satisfied: grpcio>=1.58.0 in /usr/local/lib/python3.11/dist-packages (from chromadb>=0.5.23->crewai) (1.74.0)\n",
            "Requirement already satisfied: bcrypt>=4.0.1 in /usr/local/lib/python3.11/dist-packages (from chromadb>=0.5.23->crewai) (4.3.0)\n",
            "Requirement already satisfied: typer>=0.9.0 in /usr/local/lib/python3.11/dist-packages (from chromadb>=0.5.23->crewai) (0.16.0)\n",
            "Requirement already satisfied: kubernetes>=28.1.0 in /usr/local/lib/python3.11/dist-packages (from chromadb>=0.5.23->crewai) (33.1.0)\n",
            "Requirement already satisfied: tenacity>=8.2.3 in /usr/local/lib/python3.11/dist-packages (from chromadb>=0.5.23->crewai) (9.1.2)\n",
            "Requirement already satisfied: PyYAML>=6.0.0 in /usr/local/lib/python3.11/dist-packages (from chromadb>=0.5.23->crewai) (6.0.2)\n",
            "Requirement already satisfied: mmh3>=4.0.1 in /usr/local/lib/python3.11/dist-packages (from chromadb>=0.5.23->crewai) (5.2.0)\n",
            "Requirement already satisfied: orjson>=3.9.12 in /usr/local/lib/python3.11/dist-packages (from chromadb>=0.5.23->crewai) (3.11.2)\n",
            "Requirement already satisfied: rich>=10.11.0 in /usr/local/lib/python3.11/dist-packages (from chromadb>=0.5.23->crewai) (13.9.4)\n",
            "Requirement already satisfied: annotated-types>=0.6.0 in /usr/local/lib/python3.11/dist-packages (from pydantic) (0.7.0)\n",
            "Requirement already satisfied: pydantic-core==2.33.2 in /usr/local/lib/python3.11/dist-packages (from pydantic) (2.33.2)\n",
            "Requirement already satisfied: typing-inspection>=0.4.0 in /usr/local/lib/python3.11/dist-packages (from pydantic) (0.4.1)\n",
            "Requirement already satisfied: aiohappyeyeballs>=2.5.0 in /usr/local/lib/python3.11/dist-packages (from aiohttp>=3.10->litellm) (2.6.1)\n",
            "Requirement already satisfied: aiosignal>=1.4.0 in /usr/local/lib/python3.11/dist-packages (from aiohttp>=3.10->litellm) (1.4.0)\n",
            "Requirement already satisfied: attrs>=17.3.0 in /usr/local/lib/python3.11/dist-packages (from aiohttp>=3.10->litellm) (25.3.0)\n",
            "Requirement already satisfied: frozenlist>=1.1.1 in /usr/local/lib/python3.11/dist-packages (from aiohttp>=3.10->litellm) (1.7.0)\n",
            "Requirement already satisfied: multidict<7.0,>=4.5 in /usr/local/lib/python3.11/dist-packages (from aiohttp>=3.10->litellm) (6.6.4)\n",
            "Requirement already satisfied: propcache>=0.2.0 in /usr/local/lib/python3.11/dist-packages (from aiohttp>=3.10->litellm) (0.3.2)\n",
            "Requirement already satisfied: yarl<2.0,>=1.17.0 in /usr/local/lib/python3.11/dist-packages (from aiohttp>=3.10->litellm) (1.20.1)\n",
            "Requirement already satisfied: urllib3>=1.26.0 in /usr/local/lib/python3.11/dist-packages (from docker>=7.1.0->crewai-tools) (2.5.0)\n",
            "Requirement already satisfied: alembic<2.0.0,>=1.13.1 in /usr/local/lib/python3.11/dist-packages (from embedchain>=0.1.114->crewai-tools) (1.16.4)\n",
            "Requirement already satisfied: beautifulsoup4<5.0.0,>=4.12.2 in /usr/local/lib/python3.11/dist-packages (from embedchain>=0.1.114->crewai-tools) (4.13.4)\n",
            "Requirement already satisfied: gptcache<0.2.0,>=0.1.43 in /usr/local/lib/python3.11/dist-packages (from embedchain>=0.1.114->crewai-tools) (0.1.44)\n",
            "Requirement already satisfied: langchain<0.4.0,>=0.3.1 in /usr/local/lib/python3.11/dist-packages (from embedchain>=0.1.114->crewai-tools) (0.3.27)\n",
            "Requirement already satisfied: langchain-cohere<0.4.0,>=0.3.0 in /usr/local/lib/python3.11/dist-packages (from embedchain>=0.1.114->crewai-tools) (0.3.5)\n",
            "Requirement already satisfied: langchain-community<0.4.0,>=0.3.1 in /usr/local/lib/python3.11/dist-packages (from embedchain>=0.1.114->crewai-tools) (0.3.27)\n",
            "Requirement already satisfied: langchain-openai<0.3.0,>=0.2.1 in /usr/local/lib/python3.11/dist-packages (from embedchain>=0.1.114->crewai-tools) (0.2.14)\n",
            "Requirement already satisfied: langsmith<0.4.0,>=0.3.18 in /usr/local/lib/python3.11/dist-packages (from embedchain>=0.1.114->crewai-tools) (0.3.45)\n",
            "Requirement already satisfied: mem0ai<0.2.0,>=0.1.54 in /usr/local/lib/python3.11/dist-packages (from embedchain>=0.1.114->crewai-tools) (0.1.116)\n",
            "Requirement already satisfied: pypdf<6.0.0,>=5.0.0 in /usr/local/lib/python3.11/dist-packages (from embedchain>=0.1.114->crewai-tools) (5.9.0)\n",
            "Requirement already satisfied: pysbd<0.4.0,>=0.3.4 in /usr/local/lib/python3.11/dist-packages (from embedchain>=0.1.114->crewai-tools) (0.3.4)\n",
            "Requirement already satisfied: schema<0.8.0,>=0.7.5 in /usr/local/lib/python3.11/dist-packages (from embedchain>=0.1.114->crewai-tools) (0.7.7)\n",
            "Requirement already satisfied: sqlalchemy<3.0.0,>=2.0.27 in /usr/local/lib/python3.11/dist-packages (from embedchain>=0.1.114->crewai-tools) (2.0.43)\n",
            "Requirement already satisfied: anyio in /usr/local/lib/python3.11/dist-packages (from httpx>=0.23.0->litellm) (4.10.0)\n",
            "Requirement already satisfied: certifi in /usr/local/lib/python3.11/dist-packages (from httpx>=0.23.0->litellm) (2025.8.3)\n",
            "Requirement already satisfied: httpcore==1.* in /usr/local/lib/python3.11/dist-packages (from httpx>=0.23.0->litellm) (1.0.9)\n",
            "Requirement already satisfied: idna in /usr/local/lib/python3.11/dist-packages (from httpx>=0.23.0->litellm) (3.10)\n",
            "Requirement already satisfied: h11>=0.16 in /usr/local/lib/python3.11/dist-packages (from httpcore==1.*->httpx>=0.23.0->litellm) (0.16.0)\n",
            "Requirement already satisfied: zipp>=3.20 in /usr/local/lib/python3.11/dist-packages (from importlib-metadata>=6.8.0->litellm) (3.23.0)\n",
            "Requirement already satisfied: diskcache>=5.6.3 in /usr/local/lib/python3.11/dist-packages (from instructor>=1.3.3->crewai) (5.6.3)\n",
            "Requirement already satisfied: docstring-parser<1.0,>=0.16 in /usr/local/lib/python3.11/dist-packages (from instructor>=1.3.3->crewai) (0.17.0)\n",
            "Requirement already satisfied: jiter<0.11,>=0.6.1 in /usr/local/lib/python3.11/dist-packages (from instructor>=1.3.3->crewai) (0.10.0)\n",
            "Requirement already satisfied: MarkupSafe>=2.0 in /usr/local/lib/python3.11/dist-packages (from jinja2<4.0.0,>=3.1.2->litellm) (3.0.2)\n",
            "Requirement already satisfied: jsonschema-specifications>=2023.03.6 in /usr/local/lib/python3.11/dist-packages (from jsonschema<5.0.0,>=4.22.0->litellm) (2025.4.1)\n",
            "Requirement already satisfied: referencing>=0.28.4 in /usr/local/lib/python3.11/dist-packages (from jsonschema<5.0.0,>=4.22.0->litellm) (0.36.2)\n",
            "Requirement already satisfied: rpds-py>=0.7.1 in /usr/local/lib/python3.11/dist-packages (from jsonschema<5.0.0,>=4.22.0->litellm) (0.27.0)\n",
            "Requirement already satisfied: deprecation in /usr/local/lib/python3.11/dist-packages (from lancedb>=0.5.4->crewai-tools) (2.1.0)\n",
            "Requirement already satisfied: pyarrow>=16 in /usr/local/lib/python3.11/dist-packages (from lancedb>=0.5.4->crewai-tools) (18.1.0)\n",
            "Requirement already satisfied: distro<2,>=1.7.0 in /usr/local/lib/python3.11/dist-packages (from openai>=1.13.3->crewai) (1.9.0)\n",
            "Requirement already satisfied: sniffio in /usr/local/lib/python3.11/dist-packages (from openai>=1.13.3->crewai) (1.3.1)\n",
            "Requirement already satisfied: et-xmlfile in /usr/local/lib/python3.11/dist-packages (from openpyxl>=3.1.5->crewai) (2.0.0)\n",
            "Requirement already satisfied: googleapis-common-protos~=1.52 in /usr/local/lib/python3.11/dist-packages (from opentelemetry-exporter-otlp-proto-http>=1.30.0->crewai) (1.70.0)\n",
            "Requirement already satisfied: opentelemetry-exporter-otlp-proto-common==1.36.0 in /usr/local/lib/python3.11/dist-packages (from opentelemetry-exporter-otlp-proto-http>=1.30.0->crewai) (1.36.0)\n",
            "Requirement already satisfied: opentelemetry-proto==1.36.0 in /usr/local/lib/python3.11/dist-packages (from opentelemetry-exporter-otlp-proto-http>=1.30.0->crewai) (1.36.0)\n",
            "Requirement already satisfied: opentelemetry-semantic-conventions==0.57b0 in /usr/local/lib/python3.11/dist-packages (from opentelemetry-sdk>=1.30.0->crewai) (0.57b0)\n",
            "Requirement already satisfied: pdfminer.six==20250506 in /usr/local/lib/python3.11/dist-packages (from pdfplumber>=0.11.4->crewai) (20250506)\n",
            "Requirement already satisfied: Pillow>=9.1 in /usr/local/lib/python3.11/dist-packages (from pdfplumber>=0.11.4->crewai) (11.3.0)\n",
            "Requirement already satisfied: pypdfium2>=4.18.0 in /usr/local/lib/python3.11/dist-packages (from pdfplumber>=0.11.4->crewai) (4.30.0)\n",
            "Requirement already satisfied: charset-normalizer>=2.0.0 in /usr/local/lib/python3.11/dist-packages (from pdfminer.six==20250506->pdfplumber>=0.11.4->crewai) (3.4.3)\n",
            "Requirement already satisfied: cryptography>=36.0.0 in /usr/local/lib/python3.11/dist-packages (from pdfminer.six==20250506->pdfplumber>=0.11.4->crewai) (43.0.3)\n",
            "Requirement already satisfied: nodeenv>=1.6.0 in /usr/local/lib/python3.11/dist-packages (from pyright>=1.1.350->crewai-tools) (1.9.1)\n",
            "Requirement already satisfied: ipython>=5.3.0 in /usr/local/lib/python3.11/dist-packages (from pyvis>=0.3.2->crewai) (7.34.0)\n",
            "Requirement already satisfied: jsonpickle>=1.4.1 in /usr/local/lib/python3.11/dist-packages (from pyvis>=0.3.2->crewai) (4.1.1)\n",
            "Requirement already satisfied: networkx>=1.11 in /usr/local/lib/python3.11/dist-packages (from pyvis>=0.3.2->crewai) (3.5)\n",
            "Requirement already satisfied: playwright>=1.42.1 in /usr/local/lib/python3.11/dist-packages (from stagehand>=0.4.1->crewai-tools) (1.54.0)\n",
            "Requirement already satisfied: browserbase>=1.4.0 in /usr/local/lib/python3.11/dist-packages (from stagehand>=0.4.1->crewai-tools) (1.4.0)\n",
            "Requirement already satisfied: anthropic>=0.51.0 in /usr/local/lib/python3.11/dist-packages (from stagehand>=0.4.1->crewai-tools) (0.64.0)\n",
            "Requirement already satisfied: huggingface-hub<1.0,>=0.16.4 in /usr/local/lib/python3.11/dist-packages (from tokenizers>=0.20.3->crewai) (0.34.4)\n",
            "Requirement already satisfied: Mako in /usr/lib/python3/dist-packages (from alembic<2.0.0,>=1.13.1->embedchain>=0.1.114->crewai-tools) (1.1.3)\n",
            "Requirement already satisfied: soupsieve>1.2 in /usr/local/lib/python3.11/dist-packages (from beautifulsoup4<5.0.0,>=4.12.2->embedchain>=0.1.114->crewai-tools) (2.7)\n",
            "Requirement already satisfied: pyproject_hooks in /usr/local/lib/python3.11/dist-packages (from build>=1.0.3->chromadb>=0.5.23->crewai) (1.2.0)\n",
            "Requirement already satisfied: starlette<0.48.0,>=0.40.0 in /usr/local/lib/python3.11/dist-packages (from fastapi>=0.95.2->chromadb>=0.5.23->crewai) (0.47.2)\n",
            "Requirement already satisfied: cachetools in /usr/local/lib/python3.11/dist-packages (from gptcache<0.2.0,>=0.1.43->embedchain>=0.1.114->crewai-tools) (5.5.2)\n",
            "Requirement already satisfied: filelock in /usr/local/lib/python3.11/dist-packages (from huggingface-hub<1.0,>=0.16.4->tokenizers>=0.20.3->crewai) (3.18.0)\n",
            "Requirement already satisfied: fsspec>=2023.5.0 in /usr/local/lib/python3.11/dist-packages (from huggingface-hub<1.0,>=0.16.4->tokenizers>=0.20.3->crewai) (2025.3.0)\n",
            "Requirement already satisfied: hf-xet<2.0.0,>=1.1.3 in /usr/local/lib/python3.11/dist-packages (from huggingface-hub<1.0,>=0.16.4->tokenizers>=0.20.3->crewai) (1.1.7)\n",
            "Requirement already satisfied: setuptools>=18.5 in /usr/local/lib/python3.11/dist-packages (from ipython>=5.3.0->pyvis>=0.3.2->crewai) (75.2.0)\n",
            "Requirement already satisfied: jedi>=0.16 in /usr/local/lib/python3.11/dist-packages (from ipython>=5.3.0->pyvis>=0.3.2->crewai) (0.19.2)\n",
            "Requirement already satisfied: decorator in /usr/local/lib/python3.11/dist-packages (from ipython>=5.3.0->pyvis>=0.3.2->crewai) (4.4.2)\n",
            "Requirement already satisfied: pickleshare in /usr/local/lib/python3.11/dist-packages (from ipython>=5.3.0->pyvis>=0.3.2->crewai) (0.7.5)\n",
            "Requirement already satisfied: traitlets>=4.2 in /usr/local/lib/python3.11/dist-packages (from ipython>=5.3.0->pyvis>=0.3.2->crewai) (5.7.1)\n",
            "Requirement already satisfied: prompt-toolkit!=3.0.0,!=3.0.1,<3.1.0,>=2.0.0 in /usr/local/lib/python3.11/dist-packages (from ipython>=5.3.0->pyvis>=0.3.2->crewai) (3.0.51)\n",
            "Requirement already satisfied: pygments in /usr/local/lib/python3.11/dist-packages (from ipython>=5.3.0->pyvis>=0.3.2->crewai) (2.19.2)\n",
            "Requirement already satisfied: backcall in /usr/local/lib/python3.11/dist-packages (from ipython>=5.3.0->pyvis>=0.3.2->crewai) (0.2.0)\n",
            "Requirement already satisfied: matplotlib-inline in /usr/local/lib/python3.11/dist-packages (from ipython>=5.3.0->pyvis>=0.3.2->crewai) (0.1.7)\n",
            "Requirement already satisfied: pexpect>4.3 in /usr/local/lib/python3.11/dist-packages (from ipython>=5.3.0->pyvis>=0.3.2->crewai) (4.9.0)\n",
            "Requirement already satisfied: six>=1.9.0 in /usr/local/lib/python3.11/dist-packages (from kubernetes>=28.1.0->chromadb>=0.5.23->crewai) (1.17.0)\n",
            "Requirement already satisfied: python-dateutil>=2.5.3 in /usr/local/lib/python3.11/dist-packages (from kubernetes>=28.1.0->chromadb>=0.5.23->crewai) (2.9.0.post0)\n",
            "Requirement already satisfied: google-auth>=1.0.1 in /usr/local/lib/python3.11/dist-packages (from kubernetes>=28.1.0->chromadb>=0.5.23->crewai) (2.38.0)\n",
            "Requirement already satisfied: websocket-client!=0.40.0,!=0.41.*,!=0.42.*,>=0.32.0 in /usr/local/lib/python3.11/dist-packages (from kubernetes>=28.1.0->chromadb>=0.5.23->crewai) (1.8.0)\n",
            "Requirement already satisfied: requests-oauthlib in /usr/local/lib/python3.11/dist-packages (from kubernetes>=28.1.0->chromadb>=0.5.23->crewai) (2.0.0)\n",
            "Requirement already satisfied: oauthlib>=3.2.2 in /usr/local/lib/python3.11/dist-packages (from kubernetes>=28.1.0->chromadb>=0.5.23->crewai) (3.3.1)\n",
            "Requirement already satisfied: durationpy>=0.7 in /usr/local/lib/python3.11/dist-packages (from kubernetes>=28.1.0->chromadb>=0.5.23->crewai) (0.10)\n",
            "Requirement already satisfied: langchain-core<1.0.0,>=0.3.72 in /usr/local/lib/python3.11/dist-packages (from langchain<0.4.0,>=0.3.1->embedchain>=0.1.114->crewai-tools) (0.3.74)\n",
            "Requirement already satisfied: langchain-text-splitters<1.0.0,>=0.3.9 in /usr/local/lib/python3.11/dist-packages (from langchain<0.4.0,>=0.3.1->embedchain>=0.1.114->crewai-tools) (0.3.9)\n",
            "Requirement already satisfied: cohere<6.0,>=5.5.6 in /usr/local/lib/python3.11/dist-packages (from langchain-cohere<0.4.0,>=0.3.0->embedchain>=0.1.114->crewai-tools) (5.17.0)\n",
            "Requirement already satisfied: langchain-experimental<0.4.0,>=0.3.0 in /usr/local/lib/python3.11/dist-packages (from langchain-cohere<0.4.0,>=0.3.0->embedchain>=0.1.114->crewai-tools) (0.3.4)\n",
            "Requirement already satisfied: pandas>=1.4.3 in /usr/local/lib/python3.11/dist-packages (from langchain-cohere<0.4.0,>=0.3.0->embedchain>=0.1.114->crewai-tools) (2.2.2)\n",
            "Requirement already satisfied: tabulate<0.10.0,>=0.9.0 in /usr/local/lib/python3.11/dist-packages (from langchain-cohere<0.4.0,>=0.3.0->embedchain>=0.1.114->crewai-tools) (0.9.0)\n",
            "Requirement already satisfied: dataclasses-json<0.7,>=0.5.7 in /usr/local/lib/python3.11/dist-packages (from langchain-community<0.4.0,>=0.3.1->embedchain>=0.1.114->crewai-tools) (0.6.7)\n",
            "Requirement already satisfied: pydantic-settings<3.0.0,>=2.4.0 in /usr/local/lib/python3.11/dist-packages (from langchain-community<0.4.0,>=0.3.1->embedchain>=0.1.114->crewai-tools) (2.10.1)\n",
            "Requirement already satisfied: httpx-sse<1.0.0,>=0.4.0 in /usr/local/lib/python3.11/dist-packages (from langchain-community<0.4.0,>=0.3.1->embedchain>=0.1.114->crewai-tools) (0.4.0)\n",
            "Requirement already satisfied: requests-toolbelt<2.0.0,>=1.0.0 in /usr/local/lib/python3.11/dist-packages (from langsmith<0.4.0,>=0.3.18->embedchain>=0.1.114->crewai-tools) (1.0.0)\n",
            "Requirement already satisfied: zstandard<0.24.0,>=0.23.0 in /usr/local/lib/python3.11/dist-packages (from langsmith<0.4.0,>=0.3.18->embedchain>=0.1.114->crewai-tools) (0.23.0)\n",
            "Requirement already satisfied: pytz>=2024.1 in /usr/local/lib/python3.11/dist-packages (from mem0ai<0.2.0,>=0.1.54->embedchain>=0.1.114->crewai-tools) (2025.2)\n",
            "Requirement already satisfied: qdrant-client>=1.9.1 in /usr/local/lib/python3.11/dist-packages (from mem0ai<0.2.0,>=0.1.54->embedchain>=0.1.114->crewai-tools) (1.15.1)\n",
            "Requirement already satisfied: opentelemetry-instrumentation-asgi==0.57b0 in /usr/local/lib/python3.11/dist-packages (from opentelemetry-instrumentation-fastapi>=0.41b0->chromadb>=0.5.23->crewai) (0.57b0)\n",
            "Requirement already satisfied: opentelemetry-instrumentation==0.57b0 in /usr/local/lib/python3.11/dist-packages (from opentelemetry-instrumentation-fastapi>=0.41b0->chromadb>=0.5.23->crewai) (0.57b0)\n",
            "Requirement already satisfied: opentelemetry-util-http==0.57b0 in /usr/local/lib/python3.11/dist-packages (from opentelemetry-instrumentation-fastapi>=0.41b0->chromadb>=0.5.23->crewai) (0.57b0)\n",
            "Requirement already satisfied: wrapt<2.0.0,>=1.0.0 in /usr/local/lib/python3.11/dist-packages (from opentelemetry-instrumentation==0.57b0->opentelemetry-instrumentation-fastapi>=0.41b0->chromadb>=0.5.23->crewai) (1.17.3)\n",
            "Requirement already satisfied: asgiref~=3.0 in /usr/local/lib/python3.11/dist-packages (from opentelemetry-instrumentation-asgi==0.57b0->opentelemetry-instrumentation-fastapi>=0.41b0->chromadb>=0.5.23->crewai) (3.9.1)\n",
            "Requirement already satisfied: pyee<14,>=13 in /usr/local/lib/python3.11/dist-packages (from playwright>=1.42.1->stagehand>=0.4.1->crewai-tools) (13.0.0)\n",
            "Requirement already satisfied: greenlet<4.0.0,>=3.1.1 in /usr/local/lib/python3.11/dist-packages (from playwright>=1.42.1->stagehand>=0.4.1->crewai-tools) (3.2.4)\n",
            "Requirement already satisfied: monotonic>=1.5 in /usr/local/lib/python3.11/dist-packages (from posthog>=2.4.0->chromadb>=0.5.23->crewai) (1.6)\n",
            "Requirement already satisfied: backoff>=1.10.0 in /usr/local/lib/python3.11/dist-packages (from posthog>=2.4.0->chromadb>=0.5.23->crewai) (2.2.1)\n",
            "Requirement already satisfied: markdown-it-py>=2.2.0 in /usr/local/lib/python3.11/dist-packages (from rich>=10.11.0->chromadb>=0.5.23->crewai) (4.0.0)\n",
            "Requirement already satisfied: shellingham>=1.3.0 in /usr/local/lib/python3.11/dist-packages (from typer>=0.9.0->chromadb>=0.5.23->crewai) (1.5.4)\n",
            "Requirement already satisfied: httptools>=0.6.3 in /usr/local/lib/python3.11/dist-packages (from uvicorn[standard]>=0.18.3->chromadb>=0.5.23->crewai) (0.6.4)\n",
            "Requirement already satisfied: uvloop>=0.15.1 in /usr/local/lib/python3.11/dist-packages (from uvicorn[standard]>=0.18.3->chromadb>=0.5.23->crewai) (0.21.0)\n",
            "Requirement already satisfied: watchfiles>=0.13 in /usr/local/lib/python3.11/dist-packages (from uvicorn[standard]>=0.18.3->chromadb>=0.5.23->crewai) (1.1.0)\n",
            "Requirement already satisfied: websockets>=10.4 in /usr/local/lib/python3.11/dist-packages (from uvicorn[standard]>=0.18.3->chromadb>=0.5.23->crewai) (15.0.1)\n",
            "Requirement already satisfied: humanfriendly>=9.1 in /usr/local/lib/python3.11/dist-packages (from coloredlogs->onnxruntime==1.22.0->crewai) (10.0)\n",
            "Requirement already satisfied: mpmath<1.4,>=1.1.0 in /usr/local/lib/python3.11/dist-packages (from sympy->onnxruntime==1.22.0->crewai) (1.3.0)\n",
            "Requirement already satisfied: fastavro<2.0.0,>=1.9.4 in /usr/local/lib/python3.11/dist-packages (from cohere<6.0,>=5.5.6->langchain-cohere<0.4.0,>=0.3.0->embedchain>=0.1.114->crewai-tools) (1.12.0)\n",
            "Requirement already satisfied: types-requests<3.0.0,>=2.0.0 in /usr/local/lib/python3.11/dist-packages (from cohere<6.0,>=5.5.6->langchain-cohere<0.4.0,>=0.3.0->embedchain>=0.1.114->crewai-tools) (2.32.4.20250809)\n",
            "Requirement already satisfied: cffi>=1.12 in /usr/local/lib/python3.11/dist-packages (from cryptography>=36.0.0->pdfminer.six==20250506->pdfplumber>=0.11.4->crewai) (1.17.1)\n",
            "Requirement already satisfied: marshmallow<4.0.0,>=3.18.0 in /usr/local/lib/python3.11/dist-packages (from dataclasses-json<0.7,>=0.5.7->langchain-community<0.4.0,>=0.3.1->embedchain>=0.1.114->crewai-tools) (3.26.1)\n",
            "Requirement already satisfied: typing-inspect<1,>=0.4.0 in /usr/local/lib/python3.11/dist-packages (from dataclasses-json<0.7,>=0.5.7->langchain-community<0.4.0,>=0.3.1->embedchain>=0.1.114->crewai-tools) (0.9.0)\n",
            "Requirement already satisfied: pyasn1-modules>=0.2.1 in /usr/local/lib/python3.11/dist-packages (from google-auth>=1.0.1->kubernetes>=28.1.0->chromadb>=0.5.23->crewai) (0.4.2)\n",
            "Requirement already satisfied: rsa<5,>=3.1.4 in /usr/local/lib/python3.11/dist-packages (from google-auth>=1.0.1->kubernetes>=28.1.0->chromadb>=0.5.23->crewai) (4.9.1)\n",
            "Requirement already satisfied: parso<0.9.0,>=0.8.4 in /usr/local/lib/python3.11/dist-packages (from jedi>=0.16->ipython>=5.3.0->pyvis>=0.3.2->crewai) (0.8.4)\n",
            "Requirement already satisfied: jsonpatch<2.0,>=1.33 in /usr/local/lib/python3.11/dist-packages (from langchain-core<1.0.0,>=0.3.72->langchain<0.4.0,>=0.3.1->embedchain>=0.1.114->crewai-tools) (1.33)\n",
            "Requirement already satisfied: mdurl~=0.1 in /usr/local/lib/python3.11/dist-packages (from markdown-it-py>=2.2.0->rich>=10.11.0->chromadb>=0.5.23->crewai) (0.1.2)\n",
            "Requirement already satisfied: tzdata>=2022.7 in /usr/local/lib/python3.11/dist-packages (from pandas>=1.4.3->langchain-cohere<0.4.0,>=0.3.0->embedchain>=0.1.114->crewai-tools) (2025.2)\n",
            "Requirement already satisfied: ptyprocess>=0.5 in /usr/local/lib/python3.11/dist-packages (from pexpect>4.3->ipython>=5.3.0->pyvis>=0.3.2->crewai) (0.7.0)\n",
            "Requirement already satisfied: wcwidth in /usr/local/lib/python3.11/dist-packages (from prompt-toolkit!=3.0.0,!=3.0.1,<3.1.0,>=2.0.0->ipython>=5.3.0->pyvis>=0.3.2->crewai) (0.2.13)\n",
            "Requirement already satisfied: pycparser in /usr/local/lib/python3.11/dist-packages (from cffi>=1.12->cryptography>=36.0.0->pdfminer.six==20250506->pdfplumber>=0.11.4->crewai) (2.22)\n",
            "Requirement already satisfied: h2<5,>=3 in /usr/local/lib/python3.11/dist-packages (from httpx[http2]>=0.20.0->qdrant-client>=1.9.1->mem0ai<0.2.0,>=0.1.54->embedchain>=0.1.114->crewai-tools) (4.2.0)\n",
            "Requirement already satisfied: jsonpointer>=1.9 in /usr/local/lib/python3.11/dist-packages (from jsonpatch<2.0,>=1.33->langchain-core<1.0.0,>=0.3.72->langchain<0.4.0,>=0.3.1->embedchain>=0.1.114->crewai-tools) (3.0.0)\n",
            "Requirement already satisfied: pyasn1<0.7.0,>=0.6.1 in /usr/local/lib/python3.11/dist-packages (from pyasn1-modules>=0.2.1->google-auth>=1.0.1->kubernetes>=28.1.0->chromadb>=0.5.23->crewai) (0.6.1)\n",
            "Requirement already satisfied: mypy-extensions>=0.3.0 in /usr/local/lib/python3.11/dist-packages (from typing-inspect<1,>=0.4.0->dataclasses-json<0.7,>=0.5.7->langchain-community<0.4.0,>=0.3.1->embedchain>=0.1.114->crewai-tools) (1.1.0)\n",
            "Requirement already satisfied: hyperframe<7,>=6.1 in /usr/local/lib/python3.11/dist-packages (from h2<5,>=3->httpx[http2]>=0.20.0->qdrant-client>=1.9.1->mem0ai<0.2.0,>=0.1.54->embedchain>=0.1.114->crewai-tools) (6.1.0)\n",
            "Requirement already satisfied: hpack<5,>=4.1 in /usr/local/lib/python3.11/dist-packages (from h2<5,>=3->httpx[http2]>=0.20.0->qdrant-client>=1.9.1->mem0ai<0.2.0,>=0.1.54->embedchain>=0.1.114->crewai-tools) (4.1.0)\n"
          ]
        },
        {
          "output_type": "stream",
          "name": "stderr",
          "text": [
            "Exception ignored in: <function tqdm.__del__ at 0x7bb30c03cd60>\n",
            "Traceback (most recent call last):\n",
            "  File \"/usr/local/lib/python3.11/dist-packages/tqdm/std.py\", line 1148, in __del__\n",
            "    self.close()\n",
            "  File \"/usr/local/lib/python3.11/dist-packages/tqdm/std.py\", line 1275, in close\n",
            "    self._decr_instances(self)\n",
            "  File \"/usr/local/lib/python3.11/dist-packages/tqdm/std.py\", line 696, in _decr_instances\n",
            "    with cls._lock:\n",
            "  File \"/usr/local/lib/python3.11/dist-packages/tqdm/std.py\", line 111, in __enter__\n",
            "    self.acquire()\n",
            "  File \"/usr/local/lib/python3.11/dist-packages/tqdm/std.py\", line 104, in acquire\n",
            "    lock.acquire(*a, **k)\n",
            "KeyboardInterrupt: \n"
          ]
        }
      ]
    },
    {
      "cell_type": "code",
      "source": [
        "from google.colab import userdata\n",
        "import os\n",
        "\n",
        "os.environ['OPENAI_API_KEY'] = userdata.get('OPENAI_API_KEY')"
      ],
      "metadata": {
        "id": "iNIGxT6iyBvr"
      },
      "execution_count": 7,
      "outputs": []
    },
    {
      "cell_type": "code",
      "source": [
        "from google.colab import userdata\n",
        "import os\n",
        "\n",
        "os.environ['SERPER_API_KEY'] = userdata.get('SERPER_API_KEY')"
      ],
      "metadata": {
        "id": "X3sTzvBozsaK"
      },
      "execution_count": 8,
      "outputs": []
    },
    {
      "cell_type": "code",
      "source": [
        "from __future__ import annotations\n",
        "\n",
        "import asyncio\n",
        "import json\n",
        "from typing import Any, Dict, List, Optional\n",
        "\n",
        "from pydantic import BaseModel, Field\n",
        "\n",
        "from crewai.flow.flow import Flow, listen, start\n",
        "from crewai.agent import Agent\n",
        "from crewai import LLM\n",
        "\n",
        "from crewai_tools import SerperDevTool, ScrapeWebsiteTool\n",
        "\n",
        "class RequirementsModel(BaseModel):\n",
        "    title: Optional[str] = None\n",
        "    seniority: Optional[str] = None\n",
        "    must_have_skills: List[str] = Field(default_factory=list)\n",
        "    nice_to_have_skills: List[str] = Field(default_factory=list)\n",
        "    responsibilities: List[str] = Field(default_factory=list)\n",
        "    keywords: List[str] = Field(\n",
        "        default_factory=list,\n",
        "        description=\"ATS keywords & phrases to prioritize\",\n",
        "    )\n",
        "\n",
        "\n",
        "class MatchGaps(BaseModel):\n",
        "    overall_match_pct: float = 0.0\n",
        "    strong_alignment: List[str] = Field(default_factory=list)\n",
        "    partial_alignment: List[str] = Field(default_factory=list)\n",
        "    gaps: List[str] = Field(default_factory=list)\n",
        "    evidence_map: Dict[str, List[str]] = Field(\n",
        "        default_factory=dict,\n",
        "        description=\"skill -> supporting bullets/experiences\",\n",
        "    )\n",
        "\n",
        "\n",
        "class ResumeOutline(BaseModel):\n",
        "    objective: Optional[str] = None\n",
        "    top_summary: str = Field(\n",
        "        description=\"3–5 line summary tailored to the role with quantified value props\"\n",
        "    )\n",
        "    highlight_sections: List[str] = Field(\n",
        "        description=\"Section names in desired order (e.g., Summary, Key Skills, Experience, Education)\"\n",
        "    )\n",
        "    key_skills_block: List[str] = Field(description=\"10–16 role-relevant skills/keywords\")\n",
        "    reordering_rules: List[str] = Field(\n",
        "        default_factory=list, description=\"What to move up/down and why\"\n",
        "    )\n",
        "    targeted_bullets: Dict[str, List[str]] = Field(\n",
        "        default_factory=dict,\n",
        "        description=\"experience_section -> list of rewritten bullets\",\n",
        "    )\n",
        "\n",
        "\n",
        "class TalkingPoints(BaseModel):\n",
        "    opener: str\n",
        "    why_company: List[str]\n",
        "    why_role: List[str]\n",
        "    top_achievements_star: List[str]\n",
        "    risk_mitigations: List[str]\n",
        "    questions_to_ask: List[str]\n",
        "\n",
        "\n",
        "class InterviewFlowState(BaseModel):\n",
        "    # Job url and resume as inputs.\n",
        "    job_url: Optional[str] = None\n",
        "    candidate_resume: str = \"\"\n",
        "\n",
        "    # Outputs.\n",
        "    requirements: Optional[RequirementsModel] = None\n",
        "    match: Optional[MatchGaps] = None\n",
        "    outline: Optional[ResumeOutline] = None\n",
        "    tailored_resume: Optional[str] = None\n",
        "    talking_points: Optional[TalkingPoints] = None\n",
        "\n",
        "# Maximizes my interview chances for the job's url role.\n",
        "class InterviewFlow(Flow[InterviewFlowState]):\n",
        "\n",
        "    def __init__(self):\n",
        "        super().__init__()\n",
        "\n",
        "        self.base_llm = LLM(\n",
        "            model=\"gpt-4.1-nano\",\n",
        "            temperature=0,\n",
        "        )\n",
        "\n",
        "        self._tools: List[Any] = []\n",
        "        if SerperDevTool:\n",
        "            self._tools.append(SerperDevTool())\n",
        "        if ScrapeWebsiteTool:\n",
        "            self._tools.append(ScrapeWebsiteTool())\n",
        "\n",
        "    def kickoff_async(self, inputs=None):\n",
        "        if inputs:\n",
        "            for key, value in inputs.items():\n",
        "                if hasattr(self.state, key):\n",
        "                    setattr(self.state, key, value)\n",
        "\n",
        "        return super().kickoff_async()\n",
        "\n",
        "    # Agents.\n",
        "    def _job_researcher(self) -> Agent:\n",
        "        return Agent(\n",
        "            role=\"Job Researcher\",\n",
        "            goal=\"Extract precise, structured requirements from the job posting and company materials.\",\n",
        "            backstory=(\n",
        "                \"Ex-McKinsey recruiter assistant. You identify must-haves vs. nice-to-haves, \"\n",
        "                \"ATS keywords, and quantify expectations.\"\n",
        "            ),\n",
        "            llm=self.base_llm,\n",
        "            tools=self._tools,\n",
        "            verbose=True,\n",
        "        )\n",
        "\n",
        "    def _profile_analyst(self) -> Agent:\n",
        "        return Agent(\n",
        "            role=\"Profile Analyst\",\n",
        "            goal=(\n",
        "                \"Map candidate resume, skills, and experiences to JD. Score alignment, \"\n",
        "                \"find gaps, and surface evidence.\"\n",
        "            ),\n",
        "            backstory=(\n",
        "                \"Senior data scientist & resume analyst. You evaluate impact with metrics, \"\n",
        "                \"OKRs, and business outcomes.\"\n",
        "            ),\n",
        "            llm=self.base_llm,\n",
        "            tools=[],\n",
        "            verbose=True,\n",
        "        )\n",
        "\n",
        "    def _resume_strategist(self) -> Agent:\n",
        "        return Agent(\n",
        "            role=\"Resume Strategist\",\n",
        "            goal=(\n",
        "                \"Design a sharp, ATS-optimized resume strategy that highlights role-relevant \"\n",
        "                \"skills and quantified achievements.\"\n",
        "            ),\n",
        "            backstory=(\n",
        "                \"McKinsey-style communications coach. Expert at executive summaries, power verbs, \"\n",
        "                \"and concise storytelling.\"\n",
        "            ),\n",
        "            llm=self.base_llm,\n",
        "            tools=[],\n",
        "            verbose=True,\n",
        "        )\n",
        "\n",
        "    def _resume_writer(self) -> Agent:\n",
        "        return Agent(\n",
        "            role=\"Resume Writer\",\n",
        "            goal=\"Produce a tailored, ATS-friendly resume in plain text/Markdown with clear sections.\",\n",
        "            backstory=\"Principal resume writer—concise, metrics-driven bullets (STAR-style).\",\n",
        "            llm=self.base_llm,\n",
        "            tools=[],\n",
        "            verbose=True,\n",
        "        )\n",
        "\n",
        "    def _interview_coach(self) -> Agent:\n",
        "        return Agent(\n",
        "            role=\"Interview Coach\",\n",
        "            goal=(\n",
        "                \"Craft tight talking points and STAR stories mapped to JD; anticipate questions; \"\n",
        "                \"provide smart questions to ask.\"\n",
        "            ),\n",
        "            backstory=\"Ex-MBB interviewer trained in behavioral & case interviewing.\",\n",
        "            llm=self.base_llm,\n",
        "            tools=[],\n",
        "            verbose=True,\n",
        "        )\n",
        "\n",
        "    # Steps in the flow.\n",
        "    @start()\n",
        "    def ingest_inputs(self, inputs: Dict[str, Any] | None = None) -> Dict[str, Any]:\n",
        "        \"\"\"Load inputs into state and return a normalized payload.\"\"\"\n",
        "        print(f\"Received inputs: {self.state.dict()}\")\n",
        "        return {\n",
        "            \"job_url\": self.state.job_url,\n",
        "            \"candidate_resume\": self.state.candidate_resume,\n",
        "        }\n",
        "\n",
        "    @listen(ingest_inputs)\n",
        "    async def learn_job_requirements(self, _payload: Dict[str, Any]) -> RequirementsModel:\n",
        "        \"\"\"Step 1 — Learn about job requirements (from text or URL).\"\"\"\n",
        "        agent = self._job_researcher()\n",
        "\n",
        "        # Prompt.\n",
        "        job_src = (\n",
        "            f\"URL: {self.state.job_url}\\n\\n\" if self.state.job_url else \"\"\n",
        "        )\n",
        "        prompt = f\"\"\"\n",
        "            You will extract structured requirements from a job posting. If a URL is provided, use web tools to confirm details.\n",
        "\n",
        "            JOB DESCRIPTION INPUT\\n---------------------\\n{job_src}\n",
        "\n",
        "            Return a **JSON** object with keys exactly matching this Pydantic schema:\n",
        "            {RequirementsModel.model_json_schema()}\n",
        "        \"\"\"\n",
        "        # Calling the agent with a structure response.\n",
        "        result = await agent.kickoff_async(prompt, response_format=RequirementsModel)\n",
        "        self.state.requirements = result.pydantic or RequirementsModel()\n",
        "        return self.state.requirements\n",
        "\n",
        "# Checks the job requirements and compares it against my skills and experiences.\n",
        "    @listen(learn_job_requirements)\n",
        "    async def check_against_profile(self, reqs: RequirementsModel) -> MatchGaps:\n",
        "        agent = self._profile_analyst()\n",
        "        prompt = f\"\"\"\n",
        "            Evaluate candidate fit vs. the following job requirements. Use the resume text plus explicit skills/experiences.\n",
        "\n",
        "            REQUIREMENTS (JSON):\\n{reqs.model_dump_json()}\n",
        "\n",
        "            RESUME TEXT:\\n{self.state.candidate_resume}\n",
        "\n",
        "            Return a **JSON** strictly matching this schema:\n",
        "            {MatchGaps.model_json_schema()}\n",
        "        \"\"\"\n",
        "        result = await agent.kickoff_async(prompt, response_format=MatchGaps)\n",
        "        self.state.match = result.pydantic or MatchGaps()\n",
        "        return self.state.match\n",
        "\n",
        "# Edits the resume.\n",
        "    @listen(check_against_profile)\n",
        "    async def build_resume_strategy(self, match: MatchGaps) -> ResumeOutline:\n",
        "        agent = self._resume_strategist()\n",
        "        prompt = f\"\"\"\n",
        "            Design a targeted resume strategy for this role.\n",
        "\n",
        "            CONTEXT\\n-------\n",
        "            TITLE (if known): {self.state.requirements.title if self.state.requirements else ''}\n",
        "            REQUIREMENTS: {self.state.requirements.model_dump_json() if self.state.requirements else '{}'}\n",
        "            MATCH INSIGHTS: {match.model_dump_json()}\n",
        "\n",
        "            Rules:\n",
        "            - Optimize for ATS: short section headers, 10–16 keyword skills, verb-first bullets, %/#/$ metrics.\n",
        "            - Reorder sections to surface relevance within 300 words above the fold.\n",
        "            - Propose rewritten bullets for the top 2–4 experience sections.\n",
        "            - Keep total resume length ~1 page if <10 years experience else 2 pages.\n",
        "            - Prefer US spelling and simple typography.\n",
        "\n",
        "            Return **JSON** meeting this schema exactly:\n",
        "            {ResumeOutline.model_json_schema()}\n",
        "        \"\"\"\n",
        "        result = await agent.kickoff_async(prompt, response_format=ResumeOutline)\n",
        "        self.state.outline = result.pydantic or ResumeOutline(\n",
        "            top_summary=\"\",\n",
        "            highlight_sections=[],\n",
        "            key_skills_block=[],\n",
        "            targeted_bullets={},\n",
        "        )\n",
        "        return self.state.outline\n",
        "\n",
        "# Rewrites the resume and makes it ATS approved.\n",
        "    @listen(build_resume_strategy)\n",
        "    async def rewrite_resume(self, outline: ResumeOutline) -> str:\n",
        "        agent = self._resume_writer()\n",
        "        prompt = f\"\"\"\n",
        "            Rewrite the candidate resume to ATS-optimized Markdown following the given outline.\n",
        "\n",
        "            OUTLINE (JSON):\\n{outline.model_dump_json()}\n",
        "\n",
        "            ORIGINAL RESUME TEXT:\\n{self.state.candidate_resume}\n",
        "\n",
        "            Constraints:\n",
        "            - Clear sections: Summary, Key Skills, Experience, Education, (optional) Certifications/Projects.\n",
        "            - Quantify outcomes (%, $, time) and include tools/methods (SQL, Python, Snowflake, causal inference, etc.) where relevant.\n",
        "            - Use succinct bullets (max ~2 lines each). Avoid graphics, tables, or complex layouts.\n",
        "            - Insert the proposed targeted bullets where indicated, preserving truthfulness.\n",
        "\n",
        "            Output: return only the final resume in Markdown.\n",
        "        \"\"\"\n",
        "        result = await agent.kickoff_async(prompt)\n",
        "        # result may be a string or an object with .raw depending on version\n",
        "        text = getattr(result, \"raw\", None) or str(result)\n",
        "        self.state.tailored_resume = text\n",
        "        return text\n",
        "\n",
        "# Creates the first interview talking points and stories based on my experience.\n",
        "    @listen(rewrite_resume)\n",
        "    async def generate_talking_points(self, _resume_md: str) -> Dict[str, Any]:\n",
        "        agent = self._interview_coach()\n",
        "        prompt = f\"\"\"\n",
        "            Based on the tailored resume and job requirements, produce succinct talking points for a first-round interview.\n",
        "\n",
        "            REQUIREMENTS: {self.state.requirements.model_dump_json() if self.state.requirements else '{}'}\n",
        "            RESUME (Markdown):\\n{self.state.tailored_resume}\n",
        "\n",
        "            Return **JSON** matching this schema exactly:\n",
        "            {TalkingPoints.model_json_schema()}\n",
        "        \"\"\"\n",
        "        result = await agent.kickoff_async(prompt, response_format=TalkingPoints)\n",
        "        self.state.talking_points = result.pydantic or None\n",
        "\n",
        "        return {\n",
        "            \"requirements\": self.state.requirements.model_dump() if self.state.requirements else {},\n",
        "            \"match\": self.state.match.model_dump() if self.state.match else {},\n",
        "            \"outline\": self.state.outline.model_dump() if self.state.outline else {},\n",
        "            \"tailored_resume_markdown\": self.state.tailored_resume or \"\",\n",
        "            \"talking_points\": self.state.talking_points.model_dump() if self.state.talking_points else {},\n",
        "        }"
      ],
      "metadata": {
        "id": "LsrdrVOZ0LPp"
      },
      "execution_count": 9,
      "outputs": []
    },
    {
      "cell_type": "code",
      "source": [
        "flow = InterviewFlow()\n",
        "flow.plot(\"InterviewFlow\")"
      ],
      "metadata": {
        "colab": {
          "base_uri": "https://localhost:8080/",
          "height": 195
        },
        "id": "82iVjoQv53NO",
        "outputId": "92414a88-2ff2-406f-e642-bc5656b7b989"
      },
      "execution_count": 10,
      "outputs": [
        {
          "output_type": "display_data",
          "data": {
            "text/plain": [
              "\u001b[34m╭─\u001b[0m\u001b[34m───────────────────────────────────────────────\u001b[0m\u001b[34m Flow Execution \u001b[0m\u001b[34m────────────────────────────────────────────────\u001b[0m\u001b[34m─╮\u001b[0m\n",
              "\u001b[34m│\u001b[0m                                                                                                                 \u001b[34m│\u001b[0m\n",
              "\u001b[34m│\u001b[0m  \u001b[1;34mStarting Flow Execution\u001b[0m                                                                                        \u001b[34m│\u001b[0m\n",
              "\u001b[34m│\u001b[0m  \u001b[37mName: \u001b[0m\u001b[34mInterviewFlow\u001b[0m                                                                                            \u001b[34m│\u001b[0m\n",
              "\u001b[34m│\u001b[0m  \u001b[37mID: \u001b[0m\u001b[34m697b75fd-1def-49d3-b7aa-c161daed70c6\u001b[0m                                                                       \u001b[34m│\u001b[0m\n",
              "\u001b[34m│\u001b[0m  \u001b[37mTool Args: \u001b[0m                                                                                                    \u001b[34m│\u001b[0m\n",
              "\u001b[34m│\u001b[0m                                                                                                                 \u001b[34m│\u001b[0m\n",
              "\u001b[34m│\u001b[0m                                                                                                                 \u001b[34m│\u001b[0m\n",
              "\u001b[34m╰─────────────────────────────────────────────────────────────────────────────────────────────────────────────────╯\u001b[0m\n"
            ],
            "text/html": [
              "<pre style=\"white-space:pre;overflow-x:auto;line-height:normal;font-family:Menlo,'DejaVu Sans Mono',consolas,'Courier New',monospace\"><span style=\"color: #000080; text-decoration-color: #000080\">╭──────────────────────────────────────────────── Flow Execution ─────────────────────────────────────────────────╮</span>\n",
              "<span style=\"color: #000080; text-decoration-color: #000080\">│</span>                                                                                                                 <span style=\"color: #000080; text-decoration-color: #000080\">│</span>\n",
              "<span style=\"color: #000080; text-decoration-color: #000080\">│</span>  <span style=\"color: #000080; text-decoration-color: #000080; font-weight: bold\">Starting Flow Execution</span>                                                                                        <span style=\"color: #000080; text-decoration-color: #000080\">│</span>\n",
              "<span style=\"color: #000080; text-decoration-color: #000080\">│</span>  <span style=\"color: #c0c0c0; text-decoration-color: #c0c0c0\">Name: </span><span style=\"color: #000080; text-decoration-color: #000080\">InterviewFlow</span>                                                                                            <span style=\"color: #000080; text-decoration-color: #000080\">│</span>\n",
              "<span style=\"color: #000080; text-decoration-color: #000080\">│</span>  <span style=\"color: #c0c0c0; text-decoration-color: #c0c0c0\">ID: </span><span style=\"color: #000080; text-decoration-color: #000080\">697b75fd-1def-49d3-b7aa-c161daed70c6</span>                                                                       <span style=\"color: #000080; text-decoration-color: #000080\">│</span>\n",
              "<span style=\"color: #000080; text-decoration-color: #000080\">│</span>  <span style=\"color: #c0c0c0; text-decoration-color: #c0c0c0\">Tool Args: </span>                                                                                                    <span style=\"color: #000080; text-decoration-color: #000080\">│</span>\n",
              "<span style=\"color: #000080; text-decoration-color: #000080\">│</span>                                                                                                                 <span style=\"color: #000080; text-decoration-color: #000080\">│</span>\n",
              "<span style=\"color: #000080; text-decoration-color: #000080\">│</span>                                                                                                                 <span style=\"color: #000080; text-decoration-color: #000080\">│</span>\n",
              "<span style=\"color: #000080; text-decoration-color: #000080\">╰─────────────────────────────────────────────────────────────────────────────────────────────────────────────────╯</span>\n",
              "</pre>\n"
            ]
          },
          "metadata": {}
        },
        {
          "output_type": "display_data",
          "data": {
            "text/plain": [
              "\n"
            ],
            "text/html": [
              "<pre style=\"white-space:pre;overflow-x:auto;line-height:normal;font-family:Menlo,'DejaVu Sans Mono',consolas,'Courier New',monospace\">\n",
              "</pre>\n"
            ]
          },
          "metadata": {}
        },
        {
          "output_type": "stream",
          "name": "stdout",
          "text": [
            "Plot saved as InterviewFlow.html\n"
          ]
        }
      ]
    },
    {
      "cell_type": "code",
      "source": [
        "result = await flow.kickoff_async(\n",
        "    inputs={\n",
        "        \"job_url\": \"https://jobs.apple.com/en-us/details/200612099/ai-data-scientist\",\n",
        "        \"candidate_resume\": \"\"\"\n",
        "Cassandra Maldonado\n",
        "\n",
        "\\+ 1 \\(415\\) 286-1896 | cassandramr@uchicago.edu | in/cassandra-msullivan | Github\n",
        "\n",
        "Data scientist with experience in generative AI and large-scale ML systems. I’ve built A/B testing frameworks and automated evaluation pipelines that made it easier to track model performance and translate results into decisions in research, product or policy.\n",
        "\n",
        "**WORK EXPERIENCE **\n",
        "\n",
        "**Mexico Central Bank \\(Banco de Mexico\\) **\n",
        "\n",
        "**May 2022 - Sep 2024 **\n",
        "\n",
        "*Machine Learning & Data Science Economist Monterrey, Mexico *\n",
        "\n",
        "• Developed forecasting models \\(XGBoost, ARIMA, Prophet\\) that improved regional economic predictions by 15%.\n",
        "\n",
        "• Applied causal inference \\(DiD, matching\\) and A/B testing to evaluate the impact of policy interventions.\n",
        "\n",
        "• Conducted incrementality analysis to isolate true effects of programs on regional growth.\n",
        "\n",
        "• Automated SQL pipelines while integrating generative AI tools to streamline data evaluation processes, aligning with large-scale model automation principles.\n",
        "\n",
        "• My analyses were featured in national economic reports and policy briefings that informed high-level decisions and reached a nationwide audience.\n",
        "\n",
        "**Universidad Autónoma de Nuevo León \\(University-Industry Relations Office\\)\n",
        "\n",
        "** **Sep 2021 - May 2022 **\n",
        "\n",
        "*Consultant Monterrey, Mexico *\n",
        "\n",
        "• Built Python-based KPI dashboards that improved visibility across departments and helped reduce operating costs by a 7%\n",
        "\n",
        "annually.\n",
        "\n",
        "• Leveraged A/B testing and uplift modeling in data analysis to isolate the incremental effects of pricing strategies on customer conversion.\n",
        "\n",
        "**Secretary of Finance and General Treasury of Nuevo León \\(State Gov. Office\\)**\n",
        "\n",
        "**Jun 2020 - Aug 2021 **\n",
        "\n",
        "*Financial Planning Analyst *\n",
        "\n",
        "*Mexico *\n",
        "\n",
        "• Improved budget accuracy by 23% through R-based forecasting models and real-time financial reporting tools.\n",
        "\n",
        "• Reduced debt servicing costs by 1% by automating SQL pipelines and applying causal inference to evaluate fiscal reforms.\n",
        "\n",
        "**EDUCATION **\n",
        "\n",
        "**University of Chicago, Physical Sciences Division** **Dec 2025 **\n",
        "\n",
        "*Master in Applied Data Science Chicago, IL *\n",
        "\n",
        "• **GPA: **Magna Cum Laude\n",
        "\n",
        "• **Achievements: **Data Science Institute Merit Scholarship.\n",
        "\n",
        "**Instituto Tecnológico y de Estudios Superiores de Monterrey** **Dec 2019 **\n",
        "\n",
        "*Bachelor in Economics Monterrey, Mexico *\n",
        "\n",
        "• **GPA: **Magna Cum Laude 94/100\n",
        "\n",
        "• **Achievements: **Academic Excellence Award \\(Top 5%\\), President of the 36th Edition of the Economics Symposium.\n",
        "\n",
        "**MAJOR PERSONAL PROJECTS **\n",
        "\n",
        "**Healthcare LLM \\(Inference Analytics\\) **\n",
        "\n",
        "**Mar 2025 - Present **\n",
        "\n",
        "• Collaborating on a healthcare-specialized LLM fine-tuned with Reinforcement Learning from EHRs and clinical notes. Focused on prompt engineering, dataset preparation, and reward modeling.\n",
        "\n",
        "**AirfareCast: Airline Fare Forecasting **\n",
        "\n",
        "**Mar 2025 **\n",
        "\n",
        "• Built machine learning models \\(XGBoost, Random Forest\\) to predict flight prices. Deployed an interactive Streamlit dashboard to visualize fare trends and optimize booking decisions.\n",
        "\n",
        "**Conditional VAE for Age-Controlled Face Generation**\n",
        "\n",
        "**Jan 2025 **\n",
        "\n",
        "• Designed a Conditional Variational Autoencoder \\(CVAE\\) to simulate age-based facial transformations. Implemented data preprocessing and achieved latent space disentanglement.\n",
        "\n",
        "**Customer Behavior Analysis Pipeline **\n",
        "\n",
        "**Nov 2024 **\n",
        "\n",
        "• Built a SQL-Python pipeline to analyze 6.75M\\+ e-commerce records using A/B testing and time series.\n",
        "\n",
        "**John List Voltage Research Program **\n",
        "\n",
        "**Sep 2024 - Present **\n",
        "\n",
        "• Used Bayesian modeling and causal inference to quantify real-world treatment effects in behavioral experiments, evaluated incremental outcomes from randomized interventions.\n",
        "\n",
        "**TECHNICAL SKILLS **\n",
        "\n",
        "• **Programming**: Python \\(Pandas, NumPy, Matplotlib, Scikit-Learn\\), SQL, R, STATA, Git.\n",
        "\n",
        "• **Machine Learning & AI**: Generative AI \\(LLMs, VAEs\\), Classification, Regression, XGBoost, Random Forest, A/B\n",
        "\n",
        "Testing, RNN-LSTM, NLP, Neural Networks, Prompt Engineering.\n",
        "\n",
        "• **Statistics**: Time Series Forecasting, Bayesian Inference, GLMs, MLE, MCMC, Panel Data Econometrics, Causal Inference, Sentiment Analysis.\n",
        "        \"\"\"\n",
        "    }\n",
        ")\n",
        "\n",
        "print(json.dumps(result, indent=2))"
      ],
      "metadata": {
        "colab": {
          "base_uri": "https://localhost:8080/",
          "height": 1000,
          "referenced_widgets": [
            "914516796a364f41a4b89609fa83a162",
            "6926070c927341108f401fed5ae7f48f",
            "cec4060a0c2a4dd49a89d145aec2f69e",
            "55dc18bd6df241ec9246ec8db1da30c3",
            "382807aa8a1849e1b76f1d91992afd18",
            "4ca4af9662d04a56b182b5b855cafce6",
            "13be1471ee484dc199169f6b1b63295f",
            "5ef6c27a3d024caf877ef8431bbc82c5",
            "abaf0f97ab264e5fa5214d85d1297d9b",
            "7625847955524a95a4f30466bbdf3ee9",
            "d27b1f3961a44673925730ace291bc30",
            "d1ee51f65437415ea995e738b3df389c",
            "455c3047d4e644d4b403d5cad765ba7b",
            "f8a5ece665e54d6ca5757c27e102f01d",
            "99af154ea3b34d62a564658ace3c73c9",
            "95462b45ba944dd89f9f3a3ed17d1dff",
            "38085b8144484295b062d58ff3c3f889",
            "f68d410f5ec74bbca83f6a350bc10d20"
          ]
        },
        "id": "fuE2FeAB4-0i",
        "outputId": "3e2386f1-410d-4c43-a6bc-f2a6cfe83070"
      },
      "execution_count": 11,
      "outputs": [
        {
          "output_type": "display_data",
          "data": {
            "text/plain": [
              "\u001b[1;35m Flow started with ID: 697b75fd-1def-49d3-b7aa-c161daed70c6\u001b[0m\n"
            ],
            "text/html": [
              "<pre style=\"white-space:pre;overflow-x:auto;line-height:normal;font-family:Menlo,'DejaVu Sans Mono',consolas,'Courier New',monospace\"><span style=\"color: #800080; text-decoration-color: #800080; font-weight: bold\"> Flow started with ID: 697b75fd-1def-49d3-b7aa-c161daed70c6</span>\n",
              "</pre>\n"
            ]
          },
          "metadata": {}
        },
        {
          "output_type": "display_data",
          "data": {
            "text/plain": [
              "Output()"
            ],
            "application/vnd.jupyter.widget-view+json": {
              "version_major": 2,
              "version_minor": 0,
              "model_id": "914516796a364f41a4b89609fa83a162"
            }
          },
          "metadata": {}
        },
        {
          "output_type": "display_data",
          "data": {
            "text/plain": [
              "/usr/local/lib/python3.11/dist-packages/ipywidgets/widgets/widget_output.py:111: DeprecationWarning: \n",
              "Kernel._parent_header is deprecated in ipykernel 6. Use .get_parent()\n",
              "  if ip and hasattr(ip, 'kernel') and hasattr(ip.kernel, '_parent_header'):\n"
            ],
            "text/html": [
              "<pre style=\"white-space:pre;overflow-x:auto;line-height:normal;font-family:Menlo,'DejaVu Sans Mono',consolas,'Courier New',monospace\">/usr/local/lib/python3.11/dist-packages/ipywidgets/widgets/widget_output.py:111: DeprecationWarning: \n",
              "Kernel._parent_header is deprecated in ipykernel 6. Use .get_parent()\n",
              "  if ip and hasattr(ip, 'kernel') and hasattr(ip.kernel, '_parent_header'):\n",
              "</pre>\n"
            ]
          },
          "metadata": {}
        },
        {
          "output_type": "display_data",
          "data": {
            "text/plain": [
              "/usr/local/lib/python3.11/dist-packages/ipywidgets/widgets/widget_output.py:112: DeprecationWarning: \n",
              "Kernel._parent_header is deprecated in ipykernel 6. Use .get_parent()\n",
              "  self.msg_id = ip.kernel._parent_header['header']['msg_id']\n"
            ],
            "text/html": [
              "<pre style=\"white-space:pre;overflow-x:auto;line-height:normal;font-family:Menlo,'DejaVu Sans Mono',consolas,'Courier New',monospace\">/usr/local/lib/python3.11/dist-packages/ipywidgets/widgets/widget_output.py:112: DeprecationWarning: \n",
              "Kernel._parent_header is deprecated in ipykernel 6. Use .get_parent()\n",
              "  self.msg_id = ip.kernel._parent_header['header']['msg_id']\n",
              "</pre>\n"
            ]
          },
          "metadata": {}
        },
        {
          "output_type": "display_data",
          "data": {
            "text/plain": [
              "/tmp/ipython-input-33836790.py:175: PydanticDeprecatedSince20: The `dict` method is deprecated; use `model_dump` \n",
              "instead. Deprecated in Pydantic V2.0 to be removed in V3.0. See Pydantic V2 Migration Guide at \n",
              "https://errors.pydantic.dev/2.11/migration/\n",
              "  print(f\"Received inputs: {self.state.dict()}\")\n"
            ],
            "text/html": [
              "<pre style=\"white-space:pre;overflow-x:auto;line-height:normal;font-family:Menlo,'DejaVu Sans Mono',consolas,'Courier New',monospace\">/tmp/ipython-input-33836790.py:175: PydanticDeprecatedSince20: The `dict` method is deprecated; use `model_dump` \n",
              "instead. Deprecated in Pydantic V2.0 to be removed in V3.0. See Pydantic V2 Migration Guide at \n",
              "https://errors.pydantic.dev/2.11/migration/\n",
              "  print(f\"Received inputs: {self.state.dict()}\")\n",
              "</pre>\n"
            ]
          },
          "metadata": {}
        },
        {
          "output_type": "display_data",
          "data": {
            "text/plain": [
              "Received inputs: {'id': '697b75fd-1def-49d3-b7aa-c161daed70c6', 'job_url': \n",
              "'https://jobs.apple.com/en-us/details/200612099/ai-data-scientist', 'candidate_resume': '\\nCassandra Maldonado \n",
              "\\n\\n\\\\+ 1 \\\\(415\\\\) 286-1896 | cassandramr@uchicago.edu | in/cassandra-msullivan | Github\\n\\nData scientist with \n",
              "experience in generative AI and large-scale ML systems. I’ve built A/B testing frameworks and automated evaluation \n",
              "pipelines that made it easier to track model performance and translate results into decisions in research, product \n",
              "or policy. \\n\\n**WORK EXPERIENCE **\\n\\n**Mexico Central Bank \\\\(Banco de Mexico\\\\) **\\n\\n**May 2022 - Sep 2024 \n",
              "**\\n\\n*Machine Learning & Data Science Economist Monterrey, Mexico *\\n\\n• Developed forecasting models \\\\(XGBoost, \n",
              "ARIMA, Prophet\\\\) that improved regional economic predictions by 15%. \\n\\n• Applied causal inference \\\\(DiD, \n",
              "matching\\\\) and A/B testing to evaluate the impact of policy interventions. \\n\\n• Conducted incrementality analysis\n",
              "to isolate true effects of programs on regional growth. \\n\\n• Automated SQL pipelines while integrating generative \n",
              "AI tools to streamline data evaluation processes, aligning with large-scale model automation principles. \\n\\n• My \n",
              "analyses were featured in national economic reports and policy briefings that informed high-level decisions and \n",
              "reached a nationwide audience. \\n\\n**Universidad Autónoma de Nuevo León \\\\(University-Industry Relations \n",
              "Office\\\\)\\n\\n** **Sep 2021 - May 2022 **\\n\\n*Consultant Monterrey, Mexico *\\n\\n• Built Python-based KPI dashboards \n",
              "that improved visibility across departments and helped reduce operating costs by a 7% \\n\\nannually. \\n\\n• Leveraged\n",
              "A/B testing and uplift modeling in data analysis to isolate the incremental effects of pricing strategies on \n",
              "customer conversion. \\n\\n**Secretary of Finance and General Treasury of Nuevo León \\\\(State Gov. Office\\\\)** \n",
              "\\n\\n**Jun 2020 - Aug 2021 **\\n\\n*Financial Planning Analyst *\\n\\n*Mexico *\\n\\n• Improved budget accuracy by 23% \n",
              "through R-based forecasting models and real-time financial reporting tools. \\n\\n• Reduced debt servicing costs by \n",
              "1% by automating SQL pipelines and applying causal inference to evaluate fiscal reforms. \\n\\n**EDUCATION \n",
              "**\\n\\n**University of Chicago, Physical Sciences Division** **Dec 2025 **\\n\\n*Master in Applied Data Science \n",
              "Chicago, IL *\\n\\n• **GPA: **Magna Cum Laude \\n\\n• **Achievements: **Data Science Institute Merit Scholarship. \n",
              "\\n\\n**Instituto Tecnológico y de Estudios Superiores de Monterrey** **Dec 2019 **\\n\\n*Bachelor in Economics \n",
              "Monterrey, Mexico *\\n\\n• **GPA: **Magna Cum Laude 94/100 \\n\\n• **Achievements: **Academic Excellence Award \\\\(Top \n",
              "5%\\\\), President of the 36th Edition of the Economics Symposium. \\n\\n**MAJOR PERSONAL PROJECTS **\\n\\n**Healthcare \n",
              "LLM \\\\(Inference Analytics\\\\) **\\n\\n**Mar 2025 - Present **\\n\\n• Collaborating on a healthcare-specialized LLM \n",
              "fine-tuned with Reinforcement Learning from EHRs and clinical notes. Focused on prompt engineering, dataset \n",
              "preparation, and reward modeling. \\n\\n**AirfareCast: Airline Fare Forecasting **\\n\\n**Mar 2025 **\\n\\n• Built \n",
              "machine learning models \\\\(XGBoost, Random Forest\\\\) to predict flight prices. Deployed an interactive Streamlit \n",
              "dashboard to visualize fare trends and optimize booking decisions. \\n\\n**Conditional VAE for Age-Controlled Face \n",
              "Generation** \\n\\n**Jan 2025 **\\n\\n• Designed a Conditional Variational Autoencoder \\\\(CVAE\\\\) to simulate age-based\n",
              "facial transformations. Implemented data preprocessing and achieved latent space disentanglement. \\n\\n**Customer \n",
              "Behavior Analysis Pipeline **\\n\\n**Nov 2024 **\\n\\n• Built a SQL-Python pipeline to analyze 6.75M\\\\+ e-commerce \n",
              "records using A/B testing and time series. \\n\\n**John List Voltage Research Program **\\n\\n**Sep 2024 - Present \n",
              "**\\n\\n• Used Bayesian modeling and causal inference to quantify real-world treatment effects in behavioral \n",
              "experiments, evaluated incremental outcomes from randomized interventions. \\n\\n**TECHNICAL SKILLS **\\n\\n• \n",
              "**Programming**: Python \\\\(Pandas, NumPy, Matplotlib, Scikit-Learn\\\\), SQL, R, STATA, Git. \\n\\n• **Machine Learning\n",
              "& AI**: Generative AI \\\\(LLMs, VAEs\\\\), Classification, Regression, XGBoost, Random Forest, A/B \\n\\nTesting, \n",
              "RNN-LSTM, NLP, Neural Networks, Prompt Engineering. \\n\\n• **Statistics**: Time Series Forecasting, Bayesian \n",
              "Inference, GLMs, MLE, MCMC, Panel Data Econometrics, Causal Inference, Sentiment Analysis.\\n        ', \n",
              "'requirements': None, 'match': None, 'outline': None, 'tailored_resume': None, 'talking_points': None}\n"
            ],
            "text/html": [
              "<pre style=\"white-space:pre;overflow-x:auto;line-height:normal;font-family:Menlo,'DejaVu Sans Mono',consolas,'Courier New',monospace\">Received inputs: {'id': '697b75fd-1def-49d3-b7aa-c161daed70c6', 'job_url': \n",
              "'https://jobs.apple.com/en-us/details/200612099/ai-data-scientist', 'candidate_resume': '\\nCassandra Maldonado \n",
              "\\n\\n\\\\+ 1 \\\\(415\\\\) 286-1896 | cassandramr@uchicago.edu | in/cassandra-msullivan | Github\\n\\nData scientist with \n",
              "experience in generative AI and large-scale ML systems. I’ve built A/B testing frameworks and automated evaluation \n",
              "pipelines that made it easier to track model performance and translate results into decisions in research, product \n",
              "or policy. \\n\\n**WORK EXPERIENCE **\\n\\n**Mexico Central Bank \\\\(Banco de Mexico\\\\) **\\n\\n**May 2022 - Sep 2024 \n",
              "**\\n\\n*Machine Learning &amp; Data Science Economist Monterrey, Mexico *\\n\\n• Developed forecasting models \\\\(XGBoost, \n",
              "ARIMA, Prophet\\\\) that improved regional economic predictions by 15%. \\n\\n• Applied causal inference \\\\(DiD, \n",
              "matching\\\\) and A/B testing to evaluate the impact of policy interventions. \\n\\n• Conducted incrementality analysis\n",
              "to isolate true effects of programs on regional growth. \\n\\n• Automated SQL pipelines while integrating generative \n",
              "AI tools to streamline data evaluation processes, aligning with large-scale model automation principles. \\n\\n• My \n",
              "analyses were featured in national economic reports and policy briefings that informed high-level decisions and \n",
              "reached a nationwide audience. \\n\\n**Universidad Autónoma de Nuevo León \\\\(University-Industry Relations \n",
              "Office\\\\)\\n\\n** **Sep 2021 - May 2022 **\\n\\n*Consultant Monterrey, Mexico *\\n\\n• Built Python-based KPI dashboards \n",
              "that improved visibility across departments and helped reduce operating costs by a 7% \\n\\nannually. \\n\\n• Leveraged\n",
              "A/B testing and uplift modeling in data analysis to isolate the incremental effects of pricing strategies on \n",
              "customer conversion. \\n\\n**Secretary of Finance and General Treasury of Nuevo León \\\\(State Gov. Office\\\\)** \n",
              "\\n\\n**Jun 2020 - Aug 2021 **\\n\\n*Financial Planning Analyst *\\n\\n*Mexico *\\n\\n• Improved budget accuracy by 23% \n",
              "through R-based forecasting models and real-time financial reporting tools. \\n\\n• Reduced debt servicing costs by \n",
              "1% by automating SQL pipelines and applying causal inference to evaluate fiscal reforms. \\n\\n**EDUCATION \n",
              "**\\n\\n**University of Chicago, Physical Sciences Division** **Dec 2025 **\\n\\n*Master in Applied Data Science \n",
              "Chicago, IL *\\n\\n• **GPA: **Magna Cum Laude \\n\\n• **Achievements: **Data Science Institute Merit Scholarship. \n",
              "\\n\\n**Instituto Tecnológico y de Estudios Superiores de Monterrey** **Dec 2019 **\\n\\n*Bachelor in Economics \n",
              "Monterrey, Mexico *\\n\\n• **GPA: **Magna Cum Laude 94/100 \\n\\n• **Achievements: **Academic Excellence Award \\\\(Top \n",
              "5%\\\\), President of the 36th Edition of the Economics Symposium. \\n\\n**MAJOR PERSONAL PROJECTS **\\n\\n**Healthcare \n",
              "LLM \\\\(Inference Analytics\\\\) **\\n\\n**Mar 2025 - Present **\\n\\n• Collaborating on a healthcare-specialized LLM \n",
              "fine-tuned with Reinforcement Learning from EHRs and clinical notes. Focused on prompt engineering, dataset \n",
              "preparation, and reward modeling. \\n\\n**AirfareCast: Airline Fare Forecasting **\\n\\n**Mar 2025 **\\n\\n• Built \n",
              "machine learning models \\\\(XGBoost, Random Forest\\\\) to predict flight prices. Deployed an interactive Streamlit \n",
              "dashboard to visualize fare trends and optimize booking decisions. \\n\\n**Conditional VAE for Age-Controlled Face \n",
              "Generation** \\n\\n**Jan 2025 **\\n\\n• Designed a Conditional Variational Autoencoder \\\\(CVAE\\\\) to simulate age-based\n",
              "facial transformations. Implemented data preprocessing and achieved latent space disentanglement. \\n\\n**Customer \n",
              "Behavior Analysis Pipeline **\\n\\n**Nov 2024 **\\n\\n• Built a SQL-Python pipeline to analyze 6.75M\\\\+ e-commerce \n",
              "records using A/B testing and time series. \\n\\n**John List Voltage Research Program **\\n\\n**Sep 2024 - Present \n",
              "**\\n\\n• Used Bayesian modeling and causal inference to quantify real-world treatment effects in behavioral \n",
              "experiments, evaluated incremental outcomes from randomized interventions. \\n\\n**TECHNICAL SKILLS **\\n\\n• \n",
              "**Programming**: Python \\\\(Pandas, NumPy, Matplotlib, Scikit-Learn\\\\), SQL, R, STATA, Git. \\n\\n• **Machine Learning\n",
              "&amp; AI**: Generative AI \\\\(LLMs, VAEs\\\\), Classification, Regression, XGBoost, Random Forest, A/B \\n\\nTesting, \n",
              "RNN-LSTM, NLP, Neural Networks, Prompt Engineering. \\n\\n• **Statistics**: Time Series Forecasting, Bayesian \n",
              "Inference, GLMs, MLE, MCMC, Panel Data Econometrics, Causal Inference, Sentiment Analysis.\\n        ', \n",
              "'requirements': None, 'match': None, 'outline': None, 'tailored_resume': None, 'talking_points': None}\n",
              "</pre>\n"
            ]
          },
          "metadata": {}
        },
        {
          "output_type": "stream",
          "name": "stderr",
          "text": [
            "<>:4: DeprecationWarning: invalid escape sequence '\\+'\n",
            "/tmp/ipython-input-1302976421.py:4: DeprecationWarning: invalid escape sequence '\\+'\n",
            "  \"candidate_resume\": \"\"\"\n"
          ]
        },
        {
          "output_type": "display_data",
          "data": {
            "text/plain": [],
            "text/html": [
              "<pre style=\"white-space:pre;overflow-x:auto;line-height:normal;font-family:Menlo,'DejaVu Sans Mono',consolas,'Courier New',monospace\"></pre>\n"
            ]
          },
          "metadata": {}
        },
        {
          "output_type": "display_data",
          "data": {
            "text/plain": [
              "\u001b[36m╭─\u001b[0m\u001b[36m──────────────────────────────────────────────\u001b[0m\u001b[36m LiteAgent Started \u001b[0m\u001b[36m──────────────────────────────────────────────\u001b[0m\u001b[36m─╮\u001b[0m\n",
              "\u001b[36m│\u001b[0m                                                                                                                 \u001b[36m│\u001b[0m\n",
              "\u001b[36m│\u001b[0m  \u001b[1;36mLiteAgent Session Started\u001b[0m                                                                                      \u001b[36m│\u001b[0m\n",
              "\u001b[36m│\u001b[0m  \u001b[37mName: \u001b[0m\u001b[36mJob Researcher\u001b[0m                                                                                           \u001b[36m│\u001b[0m\n",
              "\u001b[36m│\u001b[0m  \u001b[37mid: \u001b[0m\u001b[36mf9bbeb87-326a-4211-bfa9-abd6db522a6f\u001b[0m                                                                       \u001b[36m│\u001b[0m\n",
              "\u001b[36m│\u001b[0m  \u001b[37mrole: \u001b[0m\u001b[36mJob Researcher\u001b[0m                                                                                           \u001b[36m│\u001b[0m\n",
              "\u001b[36m│\u001b[0m  \u001b[37mgoal: \u001b[0m\u001b[36mExtract precise, structured requirements from the job posting and company materials.\u001b[0m                     \u001b[36m│\u001b[0m\n",
              "\u001b[36m│\u001b[0m  \u001b[37mbackstory: \u001b[0m\u001b[36mEx-McKinsey recruiter assistant. You identify must-haves vs. nice-to-haves, ATS keywords, and \u001b[0m      \u001b[36m│\u001b[0m\n",
              "\u001b[36m│\u001b[0m  \u001b[36mquantify expectations.\u001b[0m                                                                                         \u001b[36m│\u001b[0m\n",
              "\u001b[36m│\u001b[0m  \u001b[37mtools: \u001b[0m\u001b[36m[CrewStructuredTool(name='Search the internet with Serper', description='Tool Name: Search the \u001b[0m         \u001b[36m│\u001b[0m\n",
              "\u001b[36m│\u001b[0m  \u001b[36minternet with Serper\u001b[0m                                                                                           \u001b[36m│\u001b[0m\n",
              "\u001b[36m│\u001b[0m  \u001b[36mTool Arguments: {'search_query': {'description': 'Mandatory search query you want to use to search the \u001b[0m        \u001b[36m│\u001b[0m\n",
              "\u001b[36m│\u001b[0m  \u001b[36minternet', 'type': 'str'}}\u001b[0m                                                                                     \u001b[36m│\u001b[0m\n",
              "\u001b[36m│\u001b[0m  \u001b[36mTool Description: A tool that can be used to search the internet with a search_query. Supports different \u001b[0m      \u001b[36m│\u001b[0m\n",
              "\u001b[36m│\u001b[0m  \u001b[36msearch types: 'search' (default), 'news''), CrewStructuredTool(name='Read website content', description='Tool\u001b[0m  \u001b[36m│\u001b[0m\n",
              "\u001b[36m│\u001b[0m  \u001b[36mName: Read website content\u001b[0m                                                                                     \u001b[36m│\u001b[0m\n",
              "\u001b[36m│\u001b[0m  \u001b[36mTool Arguments: {'website_url': {'description': 'Mandatory website url to read the file', 'type': 'str'}}\u001b[0m      \u001b[36m│\u001b[0m\n",
              "\u001b[36m│\u001b[0m  \u001b[36mTool Description: A tool that can be used to read a website content.')]\u001b[0m                                        \u001b[36m│\u001b[0m\n",
              "\u001b[36m│\u001b[0m  \u001b[37mverbose: \u001b[0m\u001b[36mTrue\u001b[0m                                                                                                  \u001b[36m│\u001b[0m\n",
              "\u001b[36m│\u001b[0m  \u001b[37mTool Args: \u001b[0m                                                                                                    \u001b[36m│\u001b[0m\n",
              "\u001b[36m│\u001b[0m                                                                                                                 \u001b[36m│\u001b[0m\n",
              "\u001b[36m│\u001b[0m                                                                                                                 \u001b[36m│\u001b[0m\n",
              "\u001b[36m╰─────────────────────────────────────────────────────────────────────────────────────────────────────────────────╯\u001b[0m\n"
            ],
            "text/html": [
              "<pre style=\"white-space:pre;overflow-x:auto;line-height:normal;font-family:Menlo,'DejaVu Sans Mono',consolas,'Courier New',monospace\"><span style=\"color: #008080; text-decoration-color: #008080\">╭─────────────────────────────────────────────── LiteAgent Started ───────────────────────────────────────────────╮</span>\n",
              "<span style=\"color: #008080; text-decoration-color: #008080\">│</span>                                                                                                                 <span style=\"color: #008080; text-decoration-color: #008080\">│</span>\n",
              "<span style=\"color: #008080; text-decoration-color: #008080\">│</span>  <span style=\"color: #008080; text-decoration-color: #008080; font-weight: bold\">LiteAgent Session Started</span>                                                                                      <span style=\"color: #008080; text-decoration-color: #008080\">│</span>\n",
              "<span style=\"color: #008080; text-decoration-color: #008080\">│</span>  <span style=\"color: #c0c0c0; text-decoration-color: #c0c0c0\">Name: </span><span style=\"color: #008080; text-decoration-color: #008080\">Job Researcher</span>                                                                                           <span style=\"color: #008080; text-decoration-color: #008080\">│</span>\n",
              "<span style=\"color: #008080; text-decoration-color: #008080\">│</span>  <span style=\"color: #c0c0c0; text-decoration-color: #c0c0c0\">id: </span><span style=\"color: #008080; text-decoration-color: #008080\">f9bbeb87-326a-4211-bfa9-abd6db522a6f</span>                                                                       <span style=\"color: #008080; text-decoration-color: #008080\">│</span>\n",
              "<span style=\"color: #008080; text-decoration-color: #008080\">│</span>  <span style=\"color: #c0c0c0; text-decoration-color: #c0c0c0\">role: </span><span style=\"color: #008080; text-decoration-color: #008080\">Job Researcher</span>                                                                                           <span style=\"color: #008080; text-decoration-color: #008080\">│</span>\n",
              "<span style=\"color: #008080; text-decoration-color: #008080\">│</span>  <span style=\"color: #c0c0c0; text-decoration-color: #c0c0c0\">goal: </span><span style=\"color: #008080; text-decoration-color: #008080\">Extract precise, structured requirements from the job posting and company materials.</span>                     <span style=\"color: #008080; text-decoration-color: #008080\">│</span>\n",
              "<span style=\"color: #008080; text-decoration-color: #008080\">│</span>  <span style=\"color: #c0c0c0; text-decoration-color: #c0c0c0\">backstory: </span><span style=\"color: #008080; text-decoration-color: #008080\">Ex-McKinsey recruiter assistant. You identify must-haves vs. nice-to-haves, ATS keywords, and </span>      <span style=\"color: #008080; text-decoration-color: #008080\">│</span>\n",
              "<span style=\"color: #008080; text-decoration-color: #008080\">│</span>  <span style=\"color: #008080; text-decoration-color: #008080\">quantify expectations.</span>                                                                                         <span style=\"color: #008080; text-decoration-color: #008080\">│</span>\n",
              "<span style=\"color: #008080; text-decoration-color: #008080\">│</span>  <span style=\"color: #c0c0c0; text-decoration-color: #c0c0c0\">tools: </span><span style=\"color: #008080; text-decoration-color: #008080\">[CrewStructuredTool(name='Search the internet with Serper', description='Tool Name: Search the </span>         <span style=\"color: #008080; text-decoration-color: #008080\">│</span>\n",
              "<span style=\"color: #008080; text-decoration-color: #008080\">│</span>  <span style=\"color: #008080; text-decoration-color: #008080\">internet with Serper</span>                                                                                           <span style=\"color: #008080; text-decoration-color: #008080\">│</span>\n",
              "<span style=\"color: #008080; text-decoration-color: #008080\">│</span>  <span style=\"color: #008080; text-decoration-color: #008080\">Tool Arguments: {'search_query': {'description': 'Mandatory search query you want to use to search the </span>        <span style=\"color: #008080; text-decoration-color: #008080\">│</span>\n",
              "<span style=\"color: #008080; text-decoration-color: #008080\">│</span>  <span style=\"color: #008080; text-decoration-color: #008080\">internet', 'type': 'str'}}</span>                                                                                     <span style=\"color: #008080; text-decoration-color: #008080\">│</span>\n",
              "<span style=\"color: #008080; text-decoration-color: #008080\">│</span>  <span style=\"color: #008080; text-decoration-color: #008080\">Tool Description: A tool that can be used to search the internet with a search_query. Supports different </span>      <span style=\"color: #008080; text-decoration-color: #008080\">│</span>\n",
              "<span style=\"color: #008080; text-decoration-color: #008080\">│</span>  <span style=\"color: #008080; text-decoration-color: #008080\">search types: 'search' (default), 'news''), CrewStructuredTool(name='Read website content', description='Tool</span>  <span style=\"color: #008080; text-decoration-color: #008080\">│</span>\n",
              "<span style=\"color: #008080; text-decoration-color: #008080\">│</span>  <span style=\"color: #008080; text-decoration-color: #008080\">Name: Read website content</span>                                                                                     <span style=\"color: #008080; text-decoration-color: #008080\">│</span>\n",
              "<span style=\"color: #008080; text-decoration-color: #008080\">│</span>  <span style=\"color: #008080; text-decoration-color: #008080\">Tool Arguments: {'website_url': {'description': 'Mandatory website url to read the file', 'type': 'str'}}</span>      <span style=\"color: #008080; text-decoration-color: #008080\">│</span>\n",
              "<span style=\"color: #008080; text-decoration-color: #008080\">│</span>  <span style=\"color: #008080; text-decoration-color: #008080\">Tool Description: A tool that can be used to read a website content.')]</span>                                        <span style=\"color: #008080; text-decoration-color: #008080\">│</span>\n",
              "<span style=\"color: #008080; text-decoration-color: #008080\">│</span>  <span style=\"color: #c0c0c0; text-decoration-color: #c0c0c0\">verbose: </span><span style=\"color: #008080; text-decoration-color: #008080\">True</span>                                                                                                  <span style=\"color: #008080; text-decoration-color: #008080\">│</span>\n",
              "<span style=\"color: #008080; text-decoration-color: #008080\">│</span>  <span style=\"color: #c0c0c0; text-decoration-color: #c0c0c0\">Tool Args: </span>                                                                                                    <span style=\"color: #008080; text-decoration-color: #008080\">│</span>\n",
              "<span style=\"color: #008080; text-decoration-color: #008080\">│</span>                                                                                                                 <span style=\"color: #008080; text-decoration-color: #008080\">│</span>\n",
              "<span style=\"color: #008080; text-decoration-color: #008080\">│</span>                                                                                                                 <span style=\"color: #008080; text-decoration-color: #008080\">│</span>\n",
              "<span style=\"color: #008080; text-decoration-color: #008080\">╰─────────────────────────────────────────────────────────────────────────────────────────────────────────────────╯</span>\n",
              "</pre>\n"
            ]
          },
          "metadata": {}
        },
        {
          "output_type": "display_data",
          "data": {
            "text/plain": [
              "\n"
            ],
            "text/html": [
              "<pre style=\"white-space:pre;overflow-x:auto;line-height:normal;font-family:Menlo,'DejaVu Sans Mono',consolas,'Courier New',monospace\">\n",
              "</pre>\n"
            ]
          },
          "metadata": {}
        },
        {
          "output_type": "display_data",
          "data": {
            "text/plain": [
              "Output()"
            ],
            "application/vnd.jupyter.widget-view+json": {
              "version_major": 2,
              "version_minor": 0,
              "model_id": "cec4060a0c2a4dd49a89d145aec2f69e"
            }
          },
          "metadata": {}
        },
        {
          "output_type": "display_data",
          "data": {
            "text/plain": [
              "/usr/local/lib/python3.11/dist-packages/ipywidgets/widgets/widget_output.py:111: DeprecationWarning: \n",
              "Kernel._parent_header is deprecated in ipykernel 6. Use .get_parent()\n",
              "  if ip and hasattr(ip, 'kernel') and hasattr(ip.kernel, '_parent_header'):\n"
            ],
            "text/html": [
              "<pre style=\"white-space:pre;overflow-x:auto;line-height:normal;font-family:Menlo,'DejaVu Sans Mono',consolas,'Courier New',monospace\">/usr/local/lib/python3.11/dist-packages/ipywidgets/widgets/widget_output.py:111: DeprecationWarning: \n",
              "Kernel._parent_header is deprecated in ipykernel 6. Use .get_parent()\n",
              "  if ip and hasattr(ip, 'kernel') and hasattr(ip.kernel, '_parent_header'):\n",
              "</pre>\n"
            ]
          },
          "metadata": {}
        },
        {
          "output_type": "display_data",
          "data": {
            "text/plain": [
              "/usr/local/lib/python3.11/dist-packages/ipywidgets/widgets/widget_output.py:112: DeprecationWarning: \n",
              "Kernel._parent_header is deprecated in ipykernel 6. Use .get_parent()\n",
              "  self.msg_id = ip.kernel._parent_header['header']['msg_id']\n"
            ],
            "text/html": [
              "<pre style=\"white-space:pre;overflow-x:auto;line-height:normal;font-family:Menlo,'DejaVu Sans Mono',consolas,'Courier New',monospace\">/usr/local/lib/python3.11/dist-packages/ipywidgets/widgets/widget_output.py:112: DeprecationWarning: \n",
              "Kernel._parent_header is deprecated in ipykernel 6. Use .get_parent()\n",
              "  self.msg_id = ip.kernel._parent_header['header']['msg_id']\n",
              "</pre>\n"
            ]
          },
          "metadata": {}
        },
        {
          "output_type": "display_data",
          "data": {
            "text/plain": [],
            "text/html": [
              "<pre style=\"white-space:pre;overflow-x:auto;line-height:normal;font-family:Menlo,'DejaVu Sans Mono',consolas,'Courier New',monospace\"></pre>\n"
            ]
          },
          "metadata": {}
        },
        {
          "output_type": "display_data",
          "data": {
            "text/plain": [
              "\u001b[35m╭─\u001b[0m\u001b[35m───────────────────────────────────────────\u001b[0m\u001b[35m 🔧 Agent Tool Execution \u001b[0m\u001b[35m───────────────────────────────────────────\u001b[0m\u001b[35m─╮\u001b[0m\n",
              "\u001b[35m│\u001b[0m                                                                                                                 \u001b[35m│\u001b[0m\n",
              "\u001b[35m│\u001b[0m  \u001b[37mAgent: \u001b[0m\u001b[1;92mJob Researcher\u001b[0m                                                                                          \u001b[35m│\u001b[0m\n",
              "\u001b[35m│\u001b[0m                                                                                                                 \u001b[35m│\u001b[0m\n",
              "\u001b[35m│\u001b[0m  \u001b[37mThought: \u001b[0m\u001b[92mThought: I need to gather detailed information from the provided URL to extract structured \u001b[0m           \u001b[35m│\u001b[0m\n",
              "\u001b[35m│\u001b[0m  \u001b[92mrequirements. I will first read the webpage content to identify the job title, responsibilities, skills, and \u001b[0m  \u001b[35m│\u001b[0m\n",
              "\u001b[35m│\u001b[0m  \u001b[92mkeywords.\u001b[0m                                                                                                      \u001b[35m│\u001b[0m\n",
              "\u001b[35m│\u001b[0m                                                                                                                 \u001b[35m│\u001b[0m\n",
              "\u001b[35m│\u001b[0m  \u001b[37mUsing Tool: \u001b[0m\u001b[1;92mRead website content\u001b[0m                                                                               \u001b[35m│\u001b[0m\n",
              "\u001b[35m│\u001b[0m                                                                                                                 \u001b[35m│\u001b[0m\n",
              "\u001b[35m╰─────────────────────────────────────────────────────────────────────────────────────────────────────────────────╯\u001b[0m\n"
            ],
            "text/html": [
              "<pre style=\"white-space:pre;overflow-x:auto;line-height:normal;font-family:Menlo,'DejaVu Sans Mono',consolas,'Courier New',monospace\"><span style=\"color: #800080; text-decoration-color: #800080\">╭──────────────────────────────────────────── 🔧 Agent Tool Execution ────────────────────────────────────────────╮</span>\n",
              "<span style=\"color: #800080; text-decoration-color: #800080\">│</span>                                                                                                                 <span style=\"color: #800080; text-decoration-color: #800080\">│</span>\n",
              "<span style=\"color: #800080; text-decoration-color: #800080\">│</span>  <span style=\"color: #c0c0c0; text-decoration-color: #c0c0c0\">Agent: </span><span style=\"color: #00ff00; text-decoration-color: #00ff00; font-weight: bold\">Job Researcher</span>                                                                                          <span style=\"color: #800080; text-decoration-color: #800080\">│</span>\n",
              "<span style=\"color: #800080; text-decoration-color: #800080\">│</span>                                                                                                                 <span style=\"color: #800080; text-decoration-color: #800080\">│</span>\n",
              "<span style=\"color: #800080; text-decoration-color: #800080\">│</span>  <span style=\"color: #c0c0c0; text-decoration-color: #c0c0c0\">Thought: </span><span style=\"color: #00ff00; text-decoration-color: #00ff00\">Thought: I need to gather detailed information from the provided URL to extract structured </span>           <span style=\"color: #800080; text-decoration-color: #800080\">│</span>\n",
              "<span style=\"color: #800080; text-decoration-color: #800080\">│</span>  <span style=\"color: #00ff00; text-decoration-color: #00ff00\">requirements. I will first read the webpage content to identify the job title, responsibilities, skills, and </span>  <span style=\"color: #800080; text-decoration-color: #800080\">│</span>\n",
              "<span style=\"color: #800080; text-decoration-color: #800080\">│</span>  <span style=\"color: #00ff00; text-decoration-color: #00ff00\">keywords.</span>                                                                                                      <span style=\"color: #800080; text-decoration-color: #800080\">│</span>\n",
              "<span style=\"color: #800080; text-decoration-color: #800080\">│</span>                                                                                                                 <span style=\"color: #800080; text-decoration-color: #800080\">│</span>\n",
              "<span style=\"color: #800080; text-decoration-color: #800080\">│</span>  <span style=\"color: #c0c0c0; text-decoration-color: #c0c0c0\">Using Tool: </span><span style=\"color: #00ff00; text-decoration-color: #00ff00; font-weight: bold\">Read website content</span>                                                                               <span style=\"color: #800080; text-decoration-color: #800080\">│</span>\n",
              "<span style=\"color: #800080; text-decoration-color: #800080\">│</span>                                                                                                                 <span style=\"color: #800080; text-decoration-color: #800080\">│</span>\n",
              "<span style=\"color: #800080; text-decoration-color: #800080\">╰─────────────────────────────────────────────────────────────────────────────────────────────────────────────────╯</span>\n",
              "</pre>\n"
            ]
          },
          "metadata": {}
        },
        {
          "output_type": "display_data",
          "data": {
            "text/plain": [
              "\u001b[34m╭─\u001b[0m\u001b[34m─────────────────────────────────────────────────\u001b[0m\u001b[34m Tool Input \u001b[0m\u001b[34m──────────────────────────────────────────────────\u001b[0m\u001b[34m─╮\u001b[0m\n",
              "\u001b[34m│\u001b[0m                                                                                                                 \u001b[34m│\u001b[0m\n",
              "\u001b[34m│\u001b[0m  \u001b[38;2;230;219;116;49m\"{\\\"website_url\\\": \\\"https://jobs.apple.com/en-us/details/200612099/ai-data-scientist\\\"}\"\u001b[0m                      \u001b[34m│\u001b[0m\n",
              "\u001b[34m│\u001b[0m                                                                                                                 \u001b[34m│\u001b[0m\n",
              "\u001b[34m╰─────────────────────────────────────────────────────────────────────────────────────────────────────────────────╯\u001b[0m\n"
            ],
            "text/html": [
              "<pre style=\"white-space:pre;overflow-x:auto;line-height:normal;font-family:Menlo,'DejaVu Sans Mono',consolas,'Courier New',monospace\"><span style=\"color: #000080; text-decoration-color: #000080\">╭────────────────────────────────────────────────── Tool Input ───────────────────────────────────────────────────╮</span>\n",
              "<span style=\"color: #000080; text-decoration-color: #000080\">│</span>                                                                                                                 <span style=\"color: #000080; text-decoration-color: #000080\">│</span>\n",
              "<span style=\"color: #000080; text-decoration-color: #000080\">│</span>  <span style=\"color: #e6db74; text-decoration-color: #e6db74; background-color: #ffffff\">\"{\\\"website_url\\\": \\\"https://jobs.apple.com/en-us/details/200612099/ai-data-scientist\\\"}\"</span>                      <span style=\"color: #000080; text-decoration-color: #000080\">│</span>\n",
              "<span style=\"color: #000080; text-decoration-color: #000080\">│</span>                                                                                                                 <span style=\"color: #000080; text-decoration-color: #000080\">│</span>\n",
              "<span style=\"color: #000080; text-decoration-color: #000080\">╰─────────────────────────────────────────────────────────────────────────────────────────────────────────────────╯</span>\n",
              "</pre>\n"
            ]
          },
          "metadata": {}
        },
        {
          "output_type": "display_data",
          "data": {
            "text/plain": [
              "\u001b[32m╭─\u001b[0m\u001b[32m─────────────────────────────────────────────────\u001b[0m\u001b[32m Tool Output \u001b[0m\u001b[32m─────────────────────────────────────────────────\u001b[0m\u001b[32m─╮\u001b[0m\n",
              "\u001b[32m│\u001b[0m                                                                                                                 \u001b[32m│\u001b[0m\n",
              "\u001b[32m│\u001b[0m                                                                                                                 \u001b[32m│\u001b[0m\n",
              "\u001b[32m│\u001b[0m  \u001b[92mAI Data Scientist - Jobs - Careers at Apple\u001b[0m                                                                    \u001b[32m│\u001b[0m\n",
              "\u001b[32m│\u001b[0m  \u001b[92mApple Store Mac iPad iPhone Watch\u001b[0m                                                                              \u001b[32m│\u001b[0m\n",
              "\u001b[32m│\u001b[0m  \u001b[92mVision AirPods TV & Home Entertainment Accessories Support\u001b[0m                                                     \u001b[32m│\u001b[0m\n",
              "\u001b[32m│\u001b[0m  \u001b[92m0 +\u001b[0m                                                                                                            \u001b[32m│\u001b[0m\n",
              "\u001b[32m│\u001b[0m  \u001b[92mPlease enable Javascript in your browser for best experience.\u001b[0m                                                  \u001b[32m│\u001b[0m\n",
              "\u001b[32m│\u001b[0m  \u001b[92mCareers at Apple Overview Work at Apple Explore Work at Apple Locations Teams Apple Retail Students Life at \u001b[0m   \u001b[32m│\u001b[0m\n",
              "\u001b[32m│\u001b[0m  \u001b[92mApple Explore Life at Apple Diversity Network Associations Shared Values Benefits My Profile Sign In Search \u001b[0m   \u001b[32m│\u001b[0m\n",
              "\u001b[32m│\u001b[0m  \u001b[92mRoles AI Data Scientist Cupertino, California, United States Sales and Business Development Submit Resume \u001b[0m     \u001b[32m│\u001b[0m\n",
              "\u001b[32m│\u001b[0m  \u001b[92mBack to search results Summary Posted: Jul 10, 2025 Weekly Hours: 40 Role Number: 200612099 Imagine what you \u001b[0m  \u001b[32m│\u001b[0m\n",
              "\u001b[32m│\u001b[0m  \u001b[92mcould do here. At Apple, new ideas have a way of becoming outstanding products, services, and customer \u001b[0m        \u001b[32m│\u001b[0m\n",
              "\u001b[32m│\u001b[0m  \u001b[92mexperiences very quickly. Bring passion and dedication to your job, and there's no telling what you could \u001b[0m     \u001b[32m│\u001b[0m\n",
              "\u001b[32m│\u001b[0m  \u001b[92maccomplish!\u001b[0m                                                                                                    \u001b[32m│\u001b[0m\n",
              "\u001b[32m│\u001b[0m                                                                                                                 \u001b[32m│\u001b[0m\n",
              "\u001b[32m│\u001b[0m  \u001b[92mApple’s Sales organization generates the revenue needed to fuel our ongoing development of products and \u001b[0m       \u001b[32m│\u001b[0m\n",
              "\u001b[32m│\u001b[0m  \u001b[92mservices. This, in turn, enriches the lives of hundreds of millions of people around the world. We are, in \u001b[0m    \u001b[32m│\u001b[0m\n",
              "\u001b[32m│\u001b[0m  \u001b[92mmany ways, the face of Apple to our largest customers.\u001b[0m                                                         \u001b[32m│\u001b[0m\n",
              "\u001b[32m│\u001b[0m                                                                                                                 \u001b[32m│\u001b[0m\n",
              "\u001b[32m│\u001b[0m  \u001b[92mApple's US Decision Intelligence (DI) team is looking for a dedicated individual who is passionate about \u001b[0m      \u001b[32m│\u001b[0m\n",
              "\u001b[32m│\u001b[0m  \u001b[92mcrafting, implementing, and operating analytical solutions that have a direct and measurable impact on Apple \u001b[0m  \u001b[32m│\u001b[0m\n",
              "\u001b[32m│\u001b[0m  \u001b[92mSales and its customers. As a US DI Data Scientist, you will employ predictive modeling, data visualization, \u001b[0m  \u001b[32m│\u001b[0m\n",
              "\u001b[32m│\u001b[0m  \u001b[92mand statistical analysis techniques to build end-to-end solutions for internal stakeholders, leveraging sales\u001b[0m  \u001b[32m│\u001b[0m\n",
              "\u001b[32m│\u001b[0m  \u001b[92mperformance data, market data, programs, external data, etc.\u001b[0m                                                   \u001b[32m│\u001b[0m\n",
              "\u001b[32m│\u001b[0m  \u001b[92mThis role will operate in both capacities, to augment existing data solutions, as well as innovate and \u001b[0m        \u001b[32m│\u001b[0m\n",
              "\u001b[32m│\u001b[0m  \u001b[92mtrailblazing data science projects, crafting analytic experiences that simplify data into insights and \u001b[0m        \u001b[32m│\u001b[0m\n",
              "\u001b[32m│\u001b[0m  \u001b[92mcatalyze decision-making. Analytics is a team sport, and in your role, you will be key in leading and \u001b[0m         \u001b[32m│\u001b[0m\n",
              "\u001b[32m│\u001b[0m  \u001b[92minfluencing teams on the translation of business problems and questions...\u001b[0m                                     \u001b[32m│\u001b[0m\n",
              "\u001b[32m│\u001b[0m                                                                                                                 \u001b[32m│\u001b[0m\n",
              "\u001b[32m╰─────────────────────────────────────────────────────────────────────────────────────────────────────────────────╯\u001b[0m\n"
            ],
            "text/html": [
              "<pre style=\"white-space:pre;overflow-x:auto;line-height:normal;font-family:Menlo,'DejaVu Sans Mono',consolas,'Courier New',monospace\"><span style=\"color: #008000; text-decoration-color: #008000\">╭────────────────────────────────────────────────── Tool Output ──────────────────────────────────────────────────╮</span>\n",
              "<span style=\"color: #008000; text-decoration-color: #008000\">│</span>                                                                                                                 <span style=\"color: #008000; text-decoration-color: #008000\">│</span>\n",
              "<span style=\"color: #008000; text-decoration-color: #008000\">│</span>                                                                                                                 <span style=\"color: #008000; text-decoration-color: #008000\">│</span>\n",
              "<span style=\"color: #008000; text-decoration-color: #008000\">│</span>  <span style=\"color: #00ff00; text-decoration-color: #00ff00\">AI Data Scientist - Jobs - Careers at Apple</span>                                                                    <span style=\"color: #008000; text-decoration-color: #008000\">│</span>\n",
              "<span style=\"color: #008000; text-decoration-color: #008000\">│</span>  <span style=\"color: #00ff00; text-decoration-color: #00ff00\">Apple Store Mac iPad iPhone Watch</span>                                                                              <span style=\"color: #008000; text-decoration-color: #008000\">│</span>\n",
              "<span style=\"color: #008000; text-decoration-color: #008000\">│</span>  <span style=\"color: #00ff00; text-decoration-color: #00ff00\">Vision AirPods TV &amp; Home Entertainment Accessories Support</span>                                                     <span style=\"color: #008000; text-decoration-color: #008000\">│</span>\n",
              "<span style=\"color: #008000; text-decoration-color: #008000\">│</span>  <span style=\"color: #00ff00; text-decoration-color: #00ff00\">0 +</span>                                                                                                            <span style=\"color: #008000; text-decoration-color: #008000\">│</span>\n",
              "<span style=\"color: #008000; text-decoration-color: #008000\">│</span>  <span style=\"color: #00ff00; text-decoration-color: #00ff00\">Please enable Javascript in your browser for best experience.</span>                                                  <span style=\"color: #008000; text-decoration-color: #008000\">│</span>\n",
              "<span style=\"color: #008000; text-decoration-color: #008000\">│</span>  <span style=\"color: #00ff00; text-decoration-color: #00ff00\">Careers at Apple Overview Work at Apple Explore Work at Apple Locations Teams Apple Retail Students Life at </span>   <span style=\"color: #008000; text-decoration-color: #008000\">│</span>\n",
              "<span style=\"color: #008000; text-decoration-color: #008000\">│</span>  <span style=\"color: #00ff00; text-decoration-color: #00ff00\">Apple Explore Life at Apple Diversity Network Associations Shared Values Benefits My Profile Sign In Search </span>   <span style=\"color: #008000; text-decoration-color: #008000\">│</span>\n",
              "<span style=\"color: #008000; text-decoration-color: #008000\">│</span>  <span style=\"color: #00ff00; text-decoration-color: #00ff00\">Roles AI Data Scientist Cupertino, California, United States Sales and Business Development Submit Resume </span>     <span style=\"color: #008000; text-decoration-color: #008000\">│</span>\n",
              "<span style=\"color: #008000; text-decoration-color: #008000\">│</span>  <span style=\"color: #00ff00; text-decoration-color: #00ff00\">Back to search results Summary Posted: Jul 10, 2025 Weekly Hours: 40 Role Number: 200612099 Imagine what you </span>  <span style=\"color: #008000; text-decoration-color: #008000\">│</span>\n",
              "<span style=\"color: #008000; text-decoration-color: #008000\">│</span>  <span style=\"color: #00ff00; text-decoration-color: #00ff00\">could do here. At Apple, new ideas have a way of becoming outstanding products, services, and customer </span>        <span style=\"color: #008000; text-decoration-color: #008000\">│</span>\n",
              "<span style=\"color: #008000; text-decoration-color: #008000\">│</span>  <span style=\"color: #00ff00; text-decoration-color: #00ff00\">experiences very quickly. Bring passion and dedication to your job, and there's no telling what you could </span>     <span style=\"color: #008000; text-decoration-color: #008000\">│</span>\n",
              "<span style=\"color: #008000; text-decoration-color: #008000\">│</span>  <span style=\"color: #00ff00; text-decoration-color: #00ff00\">accomplish!</span>                                                                                                    <span style=\"color: #008000; text-decoration-color: #008000\">│</span>\n",
              "<span style=\"color: #008000; text-decoration-color: #008000\">│</span>                                                                                                                 <span style=\"color: #008000; text-decoration-color: #008000\">│</span>\n",
              "<span style=\"color: #008000; text-decoration-color: #008000\">│</span>  <span style=\"color: #00ff00; text-decoration-color: #00ff00\">Apple’s Sales organization generates the revenue needed to fuel our ongoing development of products and </span>       <span style=\"color: #008000; text-decoration-color: #008000\">│</span>\n",
              "<span style=\"color: #008000; text-decoration-color: #008000\">│</span>  <span style=\"color: #00ff00; text-decoration-color: #00ff00\">services. This, in turn, enriches the lives of hundreds of millions of people around the world. We are, in </span>    <span style=\"color: #008000; text-decoration-color: #008000\">│</span>\n",
              "<span style=\"color: #008000; text-decoration-color: #008000\">│</span>  <span style=\"color: #00ff00; text-decoration-color: #00ff00\">many ways, the face of Apple to our largest customers.</span>                                                         <span style=\"color: #008000; text-decoration-color: #008000\">│</span>\n",
              "<span style=\"color: #008000; text-decoration-color: #008000\">│</span>                                                                                                                 <span style=\"color: #008000; text-decoration-color: #008000\">│</span>\n",
              "<span style=\"color: #008000; text-decoration-color: #008000\">│</span>  <span style=\"color: #00ff00; text-decoration-color: #00ff00\">Apple's US Decision Intelligence (DI) team is looking for a dedicated individual who is passionate about </span>      <span style=\"color: #008000; text-decoration-color: #008000\">│</span>\n",
              "<span style=\"color: #008000; text-decoration-color: #008000\">│</span>  <span style=\"color: #00ff00; text-decoration-color: #00ff00\">crafting, implementing, and operating analytical solutions that have a direct and measurable impact on Apple </span>  <span style=\"color: #008000; text-decoration-color: #008000\">│</span>\n",
              "<span style=\"color: #008000; text-decoration-color: #008000\">│</span>  <span style=\"color: #00ff00; text-decoration-color: #00ff00\">Sales and its customers. As a US DI Data Scientist, you will employ predictive modeling, data visualization, </span>  <span style=\"color: #008000; text-decoration-color: #008000\">│</span>\n",
              "<span style=\"color: #008000; text-decoration-color: #008000\">│</span>  <span style=\"color: #00ff00; text-decoration-color: #00ff00\">and statistical analysis techniques to build end-to-end solutions for internal stakeholders, leveraging sales</span>  <span style=\"color: #008000; text-decoration-color: #008000\">│</span>\n",
              "<span style=\"color: #008000; text-decoration-color: #008000\">│</span>  <span style=\"color: #00ff00; text-decoration-color: #00ff00\">performance data, market data, programs, external data, etc.</span>                                                   <span style=\"color: #008000; text-decoration-color: #008000\">│</span>\n",
              "<span style=\"color: #008000; text-decoration-color: #008000\">│</span>  <span style=\"color: #00ff00; text-decoration-color: #00ff00\">This role will operate in both capacities, to augment existing data solutions, as well as innovate and </span>        <span style=\"color: #008000; text-decoration-color: #008000\">│</span>\n",
              "<span style=\"color: #008000; text-decoration-color: #008000\">│</span>  <span style=\"color: #00ff00; text-decoration-color: #00ff00\">trailblazing data science projects, crafting analytic experiences that simplify data into insights and </span>        <span style=\"color: #008000; text-decoration-color: #008000\">│</span>\n",
              "<span style=\"color: #008000; text-decoration-color: #008000\">│</span>  <span style=\"color: #00ff00; text-decoration-color: #00ff00\">catalyze decision-making. Analytics is a team sport, and in your role, you will be key in leading and </span>         <span style=\"color: #008000; text-decoration-color: #008000\">│</span>\n",
              "<span style=\"color: #008000; text-decoration-color: #008000\">│</span>  <span style=\"color: #00ff00; text-decoration-color: #00ff00\">influencing teams on the translation of business problems and questions...</span>                                     <span style=\"color: #008000; text-decoration-color: #008000\">│</span>\n",
              "<span style=\"color: #008000; text-decoration-color: #008000\">│</span>                                                                                                                 <span style=\"color: #008000; text-decoration-color: #008000\">│</span>\n",
              "<span style=\"color: #008000; text-decoration-color: #008000\">╰─────────────────────────────────────────────────────────────────────────────────────────────────────────────────╯</span>\n",
              "</pre>\n"
            ]
          },
          "metadata": {}
        },
        {
          "output_type": "display_data",
          "data": {
            "text/plain": [
              "\n"
            ],
            "text/html": [
              "<pre style=\"white-space:pre;overflow-x:auto;line-height:normal;font-family:Menlo,'DejaVu Sans Mono',consolas,'Courier New',monospace\">\n",
              "</pre>\n"
            ]
          },
          "metadata": {}
        },
        {
          "output_type": "display_data",
          "data": {
            "text/plain": [
              "Output()"
            ],
            "application/vnd.jupyter.widget-view+json": {
              "version_major": 2,
              "version_minor": 0,
              "model_id": "382807aa8a1849e1b76f1d91992afd18"
            }
          },
          "metadata": {}
        },
        {
          "output_type": "display_data",
          "data": {
            "text/plain": [
              "/usr/local/lib/python3.11/dist-packages/ipywidgets/widgets/widget_output.py:111: DeprecationWarning: \n",
              "Kernel._parent_header is deprecated in ipykernel 6. Use .get_parent()\n",
              "  if ip and hasattr(ip, 'kernel') and hasattr(ip.kernel, '_parent_header'):\n"
            ],
            "text/html": [
              "<pre style=\"white-space:pre;overflow-x:auto;line-height:normal;font-family:Menlo,'DejaVu Sans Mono',consolas,'Courier New',monospace\">/usr/local/lib/python3.11/dist-packages/ipywidgets/widgets/widget_output.py:111: DeprecationWarning: \n",
              "Kernel._parent_header is deprecated in ipykernel 6. Use .get_parent()\n",
              "  if ip and hasattr(ip, 'kernel') and hasattr(ip.kernel, '_parent_header'):\n",
              "</pre>\n"
            ]
          },
          "metadata": {}
        },
        {
          "output_type": "display_data",
          "data": {
            "text/plain": [
              "/usr/local/lib/python3.11/dist-packages/ipywidgets/widgets/widget_output.py:112: DeprecationWarning: \n",
              "Kernel._parent_header is deprecated in ipykernel 6. Use .get_parent()\n",
              "  self.msg_id = ip.kernel._parent_header['header']['msg_id']\n"
            ],
            "text/html": [
              "<pre style=\"white-space:pre;overflow-x:auto;line-height:normal;font-family:Menlo,'DejaVu Sans Mono',consolas,'Courier New',monospace\">/usr/local/lib/python3.11/dist-packages/ipywidgets/widgets/widget_output.py:112: DeprecationWarning: \n",
              "Kernel._parent_header is deprecated in ipykernel 6. Use .get_parent()\n",
              "  self.msg_id = ip.kernel._parent_header['header']['msg_id']\n",
              "</pre>\n"
            ]
          },
          "metadata": {}
        },
        {
          "output_type": "display_data",
          "data": {
            "text/plain": [],
            "text/html": [
              "<pre style=\"white-space:pre;overflow-x:auto;line-height:normal;font-family:Menlo,'DejaVu Sans Mono',consolas,'Courier New',monospace\"></pre>\n"
            ]
          },
          "metadata": {}
        },
        {
          "output_type": "display_data",
          "data": {
            "text/plain": [
              "\u001b[35m╭─\u001b[0m\u001b[35m───────────────────────────────────────────\u001b[0m\u001b[35m 🔧 Agent Tool Execution \u001b[0m\u001b[35m───────────────────────────────────────────\u001b[0m\u001b[35m─╮\u001b[0m\n",
              "\u001b[35m│\u001b[0m                                                                                                                 \u001b[35m│\u001b[0m\n",
              "\u001b[35m│\u001b[0m  \u001b[37mAgent: \u001b[0m\u001b[1;92mJob Researcher\u001b[0m                                                                                          \u001b[35m│\u001b[0m\n",
              "\u001b[35m│\u001b[0m                                                                                                                 \u001b[35m│\u001b[0m\n",
              "\u001b[35m│\u001b[0m  \u001b[37mThought: \u001b[0m\u001b[92mThought: I need to extract the key structured requirements from the job posting, including title, \u001b[0m    \u001b[35m│\u001b[0m\n",
              "\u001b[35m│\u001b[0m  \u001b[92mseniority, must-have skills, nice-to-have skills, responsibilities, and keywords. I will focus on the \u001b[0m         \u001b[35m│\u001b[0m\n",
              "\u001b[35m│\u001b[0m  \u001b[92mdetailed job description and qualifications sections to identify these elements.\u001b[0m                               \u001b[35m│\u001b[0m\n",
              "\u001b[35m│\u001b[0m                                                                                                                 \u001b[35m│\u001b[0m\n",
              "\u001b[35m│\u001b[0m  \u001b[37mUsing Tool: \u001b[0m\u001b[1;92mSearch the internet with Serper\u001b[0m                                                                    \u001b[35m│\u001b[0m\n",
              "\u001b[35m│\u001b[0m                                                                                                                 \u001b[35m│\u001b[0m\n",
              "\u001b[35m╰─────────────────────────────────────────────────────────────────────────────────────────────────────────────────╯\u001b[0m\n"
            ],
            "text/html": [
              "<pre style=\"white-space:pre;overflow-x:auto;line-height:normal;font-family:Menlo,'DejaVu Sans Mono',consolas,'Courier New',monospace\"><span style=\"color: #800080; text-decoration-color: #800080\">╭──────────────────────────────────────────── 🔧 Agent Tool Execution ────────────────────────────────────────────╮</span>\n",
              "<span style=\"color: #800080; text-decoration-color: #800080\">│</span>                                                                                                                 <span style=\"color: #800080; text-decoration-color: #800080\">│</span>\n",
              "<span style=\"color: #800080; text-decoration-color: #800080\">│</span>  <span style=\"color: #c0c0c0; text-decoration-color: #c0c0c0\">Agent: </span><span style=\"color: #00ff00; text-decoration-color: #00ff00; font-weight: bold\">Job Researcher</span>                                                                                          <span style=\"color: #800080; text-decoration-color: #800080\">│</span>\n",
              "<span style=\"color: #800080; text-decoration-color: #800080\">│</span>                                                                                                                 <span style=\"color: #800080; text-decoration-color: #800080\">│</span>\n",
              "<span style=\"color: #800080; text-decoration-color: #800080\">│</span>  <span style=\"color: #c0c0c0; text-decoration-color: #c0c0c0\">Thought: </span><span style=\"color: #00ff00; text-decoration-color: #00ff00\">Thought: I need to extract the key structured requirements from the job posting, including title, </span>    <span style=\"color: #800080; text-decoration-color: #800080\">│</span>\n",
              "<span style=\"color: #800080; text-decoration-color: #800080\">│</span>  <span style=\"color: #00ff00; text-decoration-color: #00ff00\">seniority, must-have skills, nice-to-have skills, responsibilities, and keywords. I will focus on the </span>         <span style=\"color: #800080; text-decoration-color: #800080\">│</span>\n",
              "<span style=\"color: #800080; text-decoration-color: #800080\">│</span>  <span style=\"color: #00ff00; text-decoration-color: #00ff00\">detailed job description and qualifications sections to identify these elements.</span>                               <span style=\"color: #800080; text-decoration-color: #800080\">│</span>\n",
              "<span style=\"color: #800080; text-decoration-color: #800080\">│</span>                                                                                                                 <span style=\"color: #800080; text-decoration-color: #800080\">│</span>\n",
              "<span style=\"color: #800080; text-decoration-color: #800080\">│</span>  <span style=\"color: #c0c0c0; text-decoration-color: #c0c0c0\">Using Tool: </span><span style=\"color: #00ff00; text-decoration-color: #00ff00; font-weight: bold\">Search the internet with Serper</span>                                                                    <span style=\"color: #800080; text-decoration-color: #800080\">│</span>\n",
              "<span style=\"color: #800080; text-decoration-color: #800080\">│</span>                                                                                                                 <span style=\"color: #800080; text-decoration-color: #800080\">│</span>\n",
              "<span style=\"color: #800080; text-decoration-color: #800080\">╰─────────────────────────────────────────────────────────────────────────────────────────────────────────────────╯</span>\n",
              "</pre>\n"
            ]
          },
          "metadata": {}
        },
        {
          "output_type": "display_data",
          "data": {
            "text/plain": [
              "\u001b[34m╭─\u001b[0m\u001b[34m─────────────────────────────────────────────────\u001b[0m\u001b[34m Tool Input \u001b[0m\u001b[34m──────────────────────────────────────────────────\u001b[0m\u001b[34m─╮\u001b[0m\n",
              "\u001b[34m│\u001b[0m                                                                                                                 \u001b[34m│\u001b[0m\n",
              "\u001b[34m│\u001b[0m  \u001b[38;2;230;219;116;49m\"{\\\"search_query\\\": \\\"AI Data Scientist Apple job description requirements\\\"}\"\u001b[0m                                 \u001b[34m│\u001b[0m\n",
              "\u001b[34m│\u001b[0m                                                                                                                 \u001b[34m│\u001b[0m\n",
              "\u001b[34m╰─────────────────────────────────────────────────────────────────────────────────────────────────────────────────╯\u001b[0m\n"
            ],
            "text/html": [
              "<pre style=\"white-space:pre;overflow-x:auto;line-height:normal;font-family:Menlo,'DejaVu Sans Mono',consolas,'Courier New',monospace\"><span style=\"color: #000080; text-decoration-color: #000080\">╭────────────────────────────────────────────────── Tool Input ───────────────────────────────────────────────────╮</span>\n",
              "<span style=\"color: #000080; text-decoration-color: #000080\">│</span>                                                                                                                 <span style=\"color: #000080; text-decoration-color: #000080\">│</span>\n",
              "<span style=\"color: #000080; text-decoration-color: #000080\">│</span>  <span style=\"color: #e6db74; text-decoration-color: #e6db74; background-color: #ffffff\">\"{\\\"search_query\\\": \\\"AI Data Scientist Apple job description requirements\\\"}\"</span>                                 <span style=\"color: #000080; text-decoration-color: #000080\">│</span>\n",
              "<span style=\"color: #000080; text-decoration-color: #000080\">│</span>                                                                                                                 <span style=\"color: #000080; text-decoration-color: #000080\">│</span>\n",
              "<span style=\"color: #000080; text-decoration-color: #000080\">╰─────────────────────────────────────────────────────────────────────────────────────────────────────────────────╯</span>\n",
              "</pre>\n"
            ]
          },
          "metadata": {}
        },
        {
          "output_type": "display_data",
          "data": {
            "text/plain": [
              "\u001b[32m╭─\u001b[0m\u001b[32m─────────────────────────────────────────────────\u001b[0m\u001b[32m Tool Output \u001b[0m\u001b[32m─────────────────────────────────────────────────\u001b[0m\u001b[32m─╮\u001b[0m\n",
              "\u001b[32m│\u001b[0m                                                                                                                 \u001b[32m│\u001b[0m\n",
              "\u001b[32m│\u001b[0m  \u001b[92m{'searchParameters': {'q': 'AI Data Scientist Apple job description requirements', 'type': 'search', 'num': \u001b[0m   \u001b[32m│\u001b[0m\n",
              "\u001b[32m│\u001b[0m  \u001b[92m10, 'engine': 'google'}, 'organic': [{'title': 'AI Data Scientist - Jobs - Careers at Apple', 'link': \u001b[0m         \u001b[32m│\u001b[0m\n",
              "\u001b[32m│\u001b[0m  \u001b[92m'https://jobs.apple.com/en-us/details/200612099/ai-data-scientist', 'snippet': 'Preferred Qualifications  \u001b[0m     \u001b[32m│\u001b[0m\n",
              "\u001b[32m│\u001b[0m  \u001b[92mStrong experience articulating and translating business questions into data solutions . Communicate results \u001b[0m   \u001b[32m│\u001b[0m\n",
              "\u001b[32m│\u001b[0m  \u001b[92mand insights effectively to partners and senior leaders, as well as both technical and non-technical \u001b[0m          \u001b[32m│\u001b[0m\n",
              "\u001b[32m│\u001b[0m  \u001b[92maudiences. Experience with anomaly detection and causal inference models.', 'position': 1}, {'title': 'Human \u001b[0m  \u001b[32m│\u001b[0m\n",
              "\u001b[32m│\u001b[0m  \u001b[92mCentered AI - Data Scientist - ASE - Jobs - Careers at Apple', 'link': \u001b[0m                                        \u001b[32m│\u001b[0m\n",
              "\u001b[32m│\u001b[0m  \u001b[92m'https://jobs.apple.com/en-us/details/200595432/human-centered-ai-data-scientist-ase', 'snippet': 'Minimum \u001b[0m    \u001b[32m│\u001b[0m\n",
              "\u001b[32m│\u001b[0m  \u001b[92mQualifications · Experience with machine learning concepts, including model evaluation metrics, and data \u001b[0m      \u001b[32m│\u001b[0m\n",
              "\u001b[32m│\u001b[0m  \u001b[92manalysis. · Experience with Large ...', 'position': 2}, {'title': 'AIML - Data Scientist, Evaluation - Jobs -\u001b[0m  \u001b[32m│\u001b[0m\n",
              "\u001b[32m│\u001b[0m  \u001b[92mCareers at Apple', 'link': 'https://jobs.apple.com/en-us/details/200612947/aiml-data-scientist-evaluation', \u001b[0m   \u001b[32m│\u001b[0m\n",
              "\u001b[32m│\u001b[0m  \u001b[92m'snippet': 'Minimum Qualifications · 5 years of relevant work experience. · Proficiency in data science, \u001b[0m      \u001b[32m│\u001b[0m\n",
              "\u001b[32m│\u001b[0m  \u001b[92mmachine learning, and analytics, including ...', 'position': 3}, {'title': 'Machine Learning, Applied Data \u001b[0m    \u001b[32m│\u001b[0m\n",
              "\u001b[32m│\u001b[0m  \u001b[92mScience Program - Apple Careers', 'link': \u001b[0m                                                                     \u001b[32m│\u001b[0m\n",
              "\u001b[32m│\u001b[0m  \u001b[92m'https://jobs.apple.com/en-us/details/200615183-1242/machine-learning-applied-data-science-program', \u001b[0m          \u001b[32m│\u001b[0m\n",
              "\u001b[32m│\u001b[0m  \u001b[92m'snippet': 'Minimum Qualifications · Bachelors or Masters in Data Science, Computer Science, or related \u001b[0m       \u001b[32m│\u001b[0m\n",
              "\u001b[32m│\u001b[0m  \u001b[92mEngineering field · Proficient in at least one ...', 'position': 4}, {'title': 'AIML - Data Scientist, Data \u001b[0m   \u001b[32m│\u001b[0m\n",
              "\u001b[32m│\u001b[0m  \u001b[92mOperations - Jobs - Careers at Apple', 'link': \u001b[0m                                                                \u001b[32m│\u001b[0m\n",
              "\u001b[32m│\u001b[0m  \u001b[92m'https://jobs.apple.com/en-us/details/200609424/aiml-data-scientist-data-operations', 'snippet': 'Preferred \u001b[0m   \u001b[32m│\u001b[0m\n",
              "\u001b[32m│\u001b[0m  \u001b[92mQualifications · 5+ years of experience in Forecasting, Planning, Data Analyst, or Data Science roles · \u001b[0m       \u001b[32m│\u001b[0m\n",
              "\u001b[32m│\u001b[0m  \u001b[92mProficiency with using large ...', '...\u001b[0m                                                                        \u001b[32m│\u001b[0m\n",
              "\u001b[32m│\u001b[0m                                                                                                                 \u001b[32m│\u001b[0m\n",
              "\u001b[32m╰─────────────────────────────────────────────────────────────────────────────────────────────────────────────────╯\u001b[0m\n"
            ],
            "text/html": [
              "<pre style=\"white-space:pre;overflow-x:auto;line-height:normal;font-family:Menlo,'DejaVu Sans Mono',consolas,'Courier New',monospace\"><span style=\"color: #008000; text-decoration-color: #008000\">╭────────────────────────────────────────────────── Tool Output ──────────────────────────────────────────────────╮</span>\n",
              "<span style=\"color: #008000; text-decoration-color: #008000\">│</span>                                                                                                                 <span style=\"color: #008000; text-decoration-color: #008000\">│</span>\n",
              "<span style=\"color: #008000; text-decoration-color: #008000\">│</span>  <span style=\"color: #00ff00; text-decoration-color: #00ff00\">{'searchParameters': {'q': 'AI Data Scientist Apple job description requirements', 'type': 'search', 'num': </span>   <span style=\"color: #008000; text-decoration-color: #008000\">│</span>\n",
              "<span style=\"color: #008000; text-decoration-color: #008000\">│</span>  <span style=\"color: #00ff00; text-decoration-color: #00ff00\">10, 'engine': 'google'}, 'organic': [{'title': 'AI Data Scientist - Jobs - Careers at Apple', 'link': </span>         <span style=\"color: #008000; text-decoration-color: #008000\">│</span>\n",
              "<span style=\"color: #008000; text-decoration-color: #008000\">│</span>  <span style=\"color: #00ff00; text-decoration-color: #00ff00\">'https://jobs.apple.com/en-us/details/200612099/ai-data-scientist', 'snippet': 'Preferred Qualifications  </span>     <span style=\"color: #008000; text-decoration-color: #008000\">│</span>\n",
              "<span style=\"color: #008000; text-decoration-color: #008000\">│</span>  <span style=\"color: #00ff00; text-decoration-color: #00ff00\">Strong experience articulating and translating business questions into data solutions . Communicate results </span>   <span style=\"color: #008000; text-decoration-color: #008000\">│</span>\n",
              "<span style=\"color: #008000; text-decoration-color: #008000\">│</span>  <span style=\"color: #00ff00; text-decoration-color: #00ff00\">and insights effectively to partners and senior leaders, as well as both technical and non-technical </span>          <span style=\"color: #008000; text-decoration-color: #008000\">│</span>\n",
              "<span style=\"color: #008000; text-decoration-color: #008000\">│</span>  <span style=\"color: #00ff00; text-decoration-color: #00ff00\">audiences. Experience with anomaly detection and causal inference models.', 'position': 1}, {'title': 'Human </span>  <span style=\"color: #008000; text-decoration-color: #008000\">│</span>\n",
              "<span style=\"color: #008000; text-decoration-color: #008000\">│</span>  <span style=\"color: #00ff00; text-decoration-color: #00ff00\">Centered AI - Data Scientist - ASE - Jobs - Careers at Apple', 'link': </span>                                        <span style=\"color: #008000; text-decoration-color: #008000\">│</span>\n",
              "<span style=\"color: #008000; text-decoration-color: #008000\">│</span>  <span style=\"color: #00ff00; text-decoration-color: #00ff00\">'https://jobs.apple.com/en-us/details/200595432/human-centered-ai-data-scientist-ase', 'snippet': 'Minimum </span>    <span style=\"color: #008000; text-decoration-color: #008000\">│</span>\n",
              "<span style=\"color: #008000; text-decoration-color: #008000\">│</span>  <span style=\"color: #00ff00; text-decoration-color: #00ff00\">Qualifications · Experience with machine learning concepts, including model evaluation metrics, and data </span>      <span style=\"color: #008000; text-decoration-color: #008000\">│</span>\n",
              "<span style=\"color: #008000; text-decoration-color: #008000\">│</span>  <span style=\"color: #00ff00; text-decoration-color: #00ff00\">analysis. · Experience with Large ...', 'position': 2}, {'title': 'AIML - Data Scientist, Evaluation - Jobs -</span>  <span style=\"color: #008000; text-decoration-color: #008000\">│</span>\n",
              "<span style=\"color: #008000; text-decoration-color: #008000\">│</span>  <span style=\"color: #00ff00; text-decoration-color: #00ff00\">Careers at Apple', 'link': 'https://jobs.apple.com/en-us/details/200612947/aiml-data-scientist-evaluation', </span>   <span style=\"color: #008000; text-decoration-color: #008000\">│</span>\n",
              "<span style=\"color: #008000; text-decoration-color: #008000\">│</span>  <span style=\"color: #00ff00; text-decoration-color: #00ff00\">'snippet': 'Minimum Qualifications · 5 years of relevant work experience. · Proficiency in data science, </span>      <span style=\"color: #008000; text-decoration-color: #008000\">│</span>\n",
              "<span style=\"color: #008000; text-decoration-color: #008000\">│</span>  <span style=\"color: #00ff00; text-decoration-color: #00ff00\">machine learning, and analytics, including ...', 'position': 3}, {'title': 'Machine Learning, Applied Data </span>    <span style=\"color: #008000; text-decoration-color: #008000\">│</span>\n",
              "<span style=\"color: #008000; text-decoration-color: #008000\">│</span>  <span style=\"color: #00ff00; text-decoration-color: #00ff00\">Science Program - Apple Careers', 'link': </span>                                                                     <span style=\"color: #008000; text-decoration-color: #008000\">│</span>\n",
              "<span style=\"color: #008000; text-decoration-color: #008000\">│</span>  <span style=\"color: #00ff00; text-decoration-color: #00ff00\">'https://jobs.apple.com/en-us/details/200615183-1242/machine-learning-applied-data-science-program', </span>          <span style=\"color: #008000; text-decoration-color: #008000\">│</span>\n",
              "<span style=\"color: #008000; text-decoration-color: #008000\">│</span>  <span style=\"color: #00ff00; text-decoration-color: #00ff00\">'snippet': 'Minimum Qualifications · Bachelors or Masters in Data Science, Computer Science, or related </span>       <span style=\"color: #008000; text-decoration-color: #008000\">│</span>\n",
              "<span style=\"color: #008000; text-decoration-color: #008000\">│</span>  <span style=\"color: #00ff00; text-decoration-color: #00ff00\">Engineering field · Proficient in at least one ...', 'position': 4}, {'title': 'AIML - Data Scientist, Data </span>   <span style=\"color: #008000; text-decoration-color: #008000\">│</span>\n",
              "<span style=\"color: #008000; text-decoration-color: #008000\">│</span>  <span style=\"color: #00ff00; text-decoration-color: #00ff00\">Operations - Jobs - Careers at Apple', 'link': </span>                                                                <span style=\"color: #008000; text-decoration-color: #008000\">│</span>\n",
              "<span style=\"color: #008000; text-decoration-color: #008000\">│</span>  <span style=\"color: #00ff00; text-decoration-color: #00ff00\">'https://jobs.apple.com/en-us/details/200609424/aiml-data-scientist-data-operations', 'snippet': 'Preferred </span>   <span style=\"color: #008000; text-decoration-color: #008000\">│</span>\n",
              "<span style=\"color: #008000; text-decoration-color: #008000\">│</span>  <span style=\"color: #00ff00; text-decoration-color: #00ff00\">Qualifications · 5+ years of experience in Forecasting, Planning, Data Analyst, or Data Science roles · </span>       <span style=\"color: #008000; text-decoration-color: #008000\">│</span>\n",
              "<span style=\"color: #008000; text-decoration-color: #008000\">│</span>  <span style=\"color: #00ff00; text-decoration-color: #00ff00\">Proficiency with using large ...', '...</span>                                                                        <span style=\"color: #008000; text-decoration-color: #008000\">│</span>\n",
              "<span style=\"color: #008000; text-decoration-color: #008000\">│</span>                                                                                                                 <span style=\"color: #008000; text-decoration-color: #008000\">│</span>\n",
              "<span style=\"color: #008000; text-decoration-color: #008000\">╰─────────────────────────────────────────────────────────────────────────────────────────────────────────────────╯</span>\n",
              "</pre>\n"
            ]
          },
          "metadata": {}
        },
        {
          "output_type": "display_data",
          "data": {
            "text/plain": [
              "\n"
            ],
            "text/html": [
              "<pre style=\"white-space:pre;overflow-x:auto;line-height:normal;font-family:Menlo,'DejaVu Sans Mono',consolas,'Courier New',monospace\">\n",
              "</pre>\n"
            ]
          },
          "metadata": {}
        },
        {
          "output_type": "display_data",
          "data": {
            "text/plain": [
              "Output()"
            ],
            "application/vnd.jupyter.widget-view+json": {
              "version_major": 2,
              "version_minor": 0,
              "model_id": "13be1471ee484dc199169f6b1b63295f"
            }
          },
          "metadata": {}
        },
        {
          "output_type": "display_data",
          "data": {
            "text/plain": [],
            "text/html": [
              "<pre style=\"white-space:pre;overflow-x:auto;line-height:normal;font-family:Menlo,'DejaVu Sans Mono',consolas,'Courier New',monospace\"></pre>\n"
            ]
          },
          "metadata": {}
        },
        {
          "output_type": "display_data",
          "data": {
            "text/plain": [
              "\u001b[32m╭─\u001b[0m\u001b[32m────────────────────────────────────────────\u001b[0m\u001b[32m ✅ Agent Final Answer \u001b[0m\u001b[32m────────────────────────────────────────────\u001b[0m\u001b[32m─╮\u001b[0m\n",
              "\u001b[32m│\u001b[0m                                                                                                                 \u001b[32m│\u001b[0m\n",
              "\u001b[32m│\u001b[0m  \u001b[37mAgent: \u001b[0m\u001b[1;92mJob Researcher\u001b[0m                                                                                          \u001b[32m│\u001b[0m\n",
              "\u001b[32m│\u001b[0m                                                                                                                 \u001b[32m│\u001b[0m\n",
              "\u001b[32m│\u001b[0m  \u001b[37mFinal Answer:\u001b[0m                                                                                                  \u001b[32m│\u001b[0m\n",
              "\u001b[32m│\u001b[0m  \u001b[92m{\u001b[0m                                                                                                              \u001b[32m│\u001b[0m\n",
              "\u001b[32m│\u001b[0m  \u001b[92m  \"title\": \"AI Data Scientist\",\u001b[0m                                                                                \u001b[32m│\u001b[0m\n",
              "\u001b[32m│\u001b[0m  \u001b[92m  \"seniority\": \"6+ years of experience, senior-level\",\u001b[0m                                                         \u001b[32m│\u001b[0m\n",
              "\u001b[32m│\u001b[0m  \u001b[92m  \"must_have_skills\": [\u001b[0m                                                                                        \u001b[32m│\u001b[0m\n",
              "\u001b[32m│\u001b[0m  \u001b[92m    \"Experience with predictive modeling (forecasting, anomaly detection, causal inference)\",\u001b[0m                  \u001b[32m│\u001b[0m\n",
              "\u001b[32m│\u001b[0m  \u001b[92m    \"Proficiency in SQL and data analytics platforms (Hadoop, Spark, Snowflake)\",\u001b[0m                              \u001b[32m│\u001b[0m\n",
              "\u001b[32m│\u001b[0m  \u001b[92m    \"Data visualization tools (Tableau, d3, Plotly)\",\u001b[0m                                                          \u001b[32m│\u001b[0m\n",
              "\u001b[32m│\u001b[0m  \u001b[92m    \"Programming in Python, Git, Notebooks\",\u001b[0m                                                                   \u001b[32m│\u001b[0m\n",
              "\u001b[32m│\u001b[0m  \u001b[92m    \"Experience with large language models (LLMs), RAG architectures, prompt evaluation\",\u001b[0m                      \u001b[32m│\u001b[0m\n",
              "\u001b[32m│\u001b[0m  \u001b[92m    \"Strong statistical data analysis skills (hypothesis testing, time series, multivariate analysis)\",\u001b[0m        \u001b[32m│\u001b[0m\n",
              "\u001b[32m│\u001b[0m  \u001b[92m    \"Ability to translate business questions into data solutions\",\u001b[0m                                             \u001b[32m│\u001b[0m\n",
              "\u001b[32m│\u001b[0m  \u001b[92m    \"Experience with ML pipelines and deploying models in production\",\u001b[0m                                         \u001b[32m│\u001b[0m\n",
              "\u001b[32m│\u001b[0m  \u001b[92m    \"Excellent communication skills for technical and non-technical audiences\"\u001b[0m                                 \u001b[32m│\u001b[0m\n",
              "\u001b[32m│\u001b[0m  \u001b[92m  ],\u001b[0m                                                                                                           \u001b[32m│\u001b[0m\n",
              "\u001b[32m│\u001b[0m  \u001b[92m  \"nice_to_have_skills\": [\u001b[0m                                                                                     \u001b[32m│\u001b[0m\n",
              "\u001b[32m│\u001b[0m  \u001b[92m    \"Experience with LLM evaluation pipelines and GenAI frameworks (LangChain, LlamaIndex)\",\u001b[0m                   \u001b[32m│\u001b[0m\n",
              "\u001b[32m│\u001b[0m  \u001b[92m    \"Experience with observability tools for LLMs (LangSmith, Truera, Weights & Biases)\",\u001b[0m                      \u001b[32m│\u001b[0m\n",
              "\u001b[32m│\u001b[0m  \u001b[92m    \"Knowledge of vector similarity search, retrieval algorithms, and data modeling for vector graphs\",\u001b[0m        \u001b[32m│\u001b[0m\n",
              "\u001b[32m│\u001b[0m  \u001b[92m    \"Experience with anomaly detection and causal inference models\",\u001b[0m                                           \u001b[32m│\u001b[0m\n",
              "\u001b[32m│\u001b[0m  \u001b[92m    \"Advanced degree (MS or Ph.D.) in a related quantitative field\",\u001b[0m                                           \u001b[32m│\u001b[0m\n",
              "\u001b[32m│\u001b[0m  \u001b[92m    \"Experience with data dashboard and self-service tool development\",\u001b[0m                                        \u001b[32m│\u001b[0m\n",
              "\u001b[32m│\u001b[0m  \u001b[92m    \"Experience working with software engineers in production environments\"\u001b[0m                                    \u001b[32m│\u001b[0m\n",
              "\u001b[32m│\u001b[0m  \u001b[92m  ],\u001b[0m                                                                                                           \u001b[32m│\u001b[0m\n",
              "\u001b[32m│\u001b[0m  \u001b[92m  \"responsibilities\": [\u001b[0m                                                                                        \u001b[32m│\u001b[0m\n",
              "\u001b[32m│\u001b[0m  \u001b[92m    \"Develop and productionalize ML models (forecasting, anomaly detection, attribution, causal inference)\",\u001b[0m   \u001b[32m│\u001b[0m\n",
              "\u001b[32m│\u001b[0m  \u001b[92m    \"Build RCA and recommendation engines for summarization and chatbots\",\u001b[0m                                     \u001b[32m│\u001b[0m\n",
              "\u001b[32m│\u001b[0m  \u001b[92m    \"Analyze agent interactions and implement LLM evaluation pipelines\",\u001b[0m                                       \u001b[32m│\u001b[0m\n",
              "\u001b[32m│\u001b[0m  \u001b[92m    \"Support experimentation and A/B testing\",\u001b[0m                                                                 \u001b[32m│\u001b[0m\n",
              "\u001b[32m│\u001b[0m  \u001b[92m    \"Partner with AI engineers and PMs to scale features\",\u001b[0m                                                     \u001b[32m│\u001b[0m\n",
              "\u001b[32m│\u001b[0m  \u001b[92m    \"Bridge technical and business teams to translate data insights\",\u001b[0m                                          \u001b[32m│\u001b[0m\n",
              "\u001b[32m│\u001b[0m  \u001b[92m    \"Influence data model design, KPI definitions, and develop data solutions\",\u001b[0m                                \u001b[32m│\u001b[0m\n",
              "\u001b[32m│\u001b[0m  \u001b[92m    \"Create dashboards and self-service tools for data analysis\",\u001b[0m                                              \u001b[32m│\u001b[0m\n",
              "\u001b[32m│\u001b[0m  \u001b[92m    \"Leverage and adapt existing AI/ML models for US-specific needs\"\u001b[0m                                           \u001b[32m│\u001b[0m\n",
              "\u001b[32m│\u001b[0m  \u001b[92m  ],\u001b[0m                                                                                                           \u001b[32m│\u001b[0m\n",
              "\u001b[32m│\u001b[0m  \u001b[92m  \"keywords\": [\u001b[0m                                                                                                \u001b[32m│\u001b[0m\n",
              "\u001b[32m│\u001b[0m  \u001b[92m    \"AI Data Scientist\",\u001b[0m                                                                                       \u001b[32m│\u001b[0m\n",
              "\u001b[32m│\u001b[0m  \u001b[92m    \"predictive modeling\",\u001b[0m                                                                                     \u001b[32m│\u001b[0m\n",
              "\u001b[32m│\u001b[0m  \u001b[92m    \"ML pipelines\",\u001b[0m                                                                                            \u001b[32m│\u001b[0m\n",
              "\u001b[32m│\u001b[0m  \u001b[92m    \"LLM evaluation\",\u001b[0m                                                                                          \u001b[32m│\u001b[0m\n",
              "\u001b[32m│\u001b[0m  \u001b[92m    \"RAG architectures\",\u001b[0m                                                                                       \u001b[32m│\u001b[0m\n",
              "\u001b[32m│\u001b[0m  \u001b[92m    \"prompt evaluation\",\u001b[0m                                                                                       \u001b[32m│\u001b[0m\n",
              "\u001b[32m│\u001b[0m  \u001b[92m    \"data visualization\",\u001b[0m                                                                                      \u001b[32m│\u001b[0m\n",
              "\u001b[32m│\u001b[0m  \u001b[92m    \"SQL\",\u001b[0m                                                                                                     \u001b[32m│\u001b[0m\n",
              "\u001b[32m│\u001b[0m  \u001b[92m    \"Python\",\u001b[0m                                                                                                  \u001b[32m│\u001b[0m\n",
              "\u001b[32m│\u001b[0m  \u001b[92m    \"Spark\",\u001b[0m                                                                                                   \u001b[32m│\u001b[0m\n",
              "\u001b[32m│\u001b[0m  \u001b[92m    \"Snowflake\",\u001b[0m                                                                                               \u001b[32m│\u001b[0m\n",
              "\u001b[32m│\u001b[0m  \u001b[92m    \"Tableau\",\u001b[0m                                                                                                 \u001b[32m│\u001b[0m\n",
              "\u001b[32m│\u001b[0m  \u001b[92m    \"GenAI\",\u001b[0m                                                                                                   \u001b[32m│\u001b[0m\n",
              "\u001b[32m│\u001b[0m  \u001b[92m    \"causal inference\",\u001b[0m                                                                                        \u001b[32m│\u001b[0m\n",
              "\u001b[32m│\u001b[0m  \u001b[92m    \"anomaly detection\",\u001b[0m                                                                                       \u001b[32m│\u001b[0m\n",
              "\u001b[32m│\u001b[0m  \u001b[92m    \"vector similarity search\"\u001b[0m                                                                                 \u001b[32m│\u001b[0m\n",
              "\u001b[32m│\u001b[0m  \u001b[92m  ]\u001b[0m                                                                                                            \u001b[32m│\u001b[0m\n",
              "\u001b[32m│\u001b[0m  \u001b[92m}\u001b[0m                                                                                                              \u001b[32m│\u001b[0m\n",
              "\u001b[32m│\u001b[0m                                                                                                                 \u001b[32m│\u001b[0m\n",
              "\u001b[32m╰─────────────────────────────────────────────────────────────────────────────────────────────────────────────────╯\u001b[0m\n"
            ],
            "text/html": [
              "<pre style=\"white-space:pre;overflow-x:auto;line-height:normal;font-family:Menlo,'DejaVu Sans Mono',consolas,'Courier New',monospace\"><span style=\"color: #008000; text-decoration-color: #008000\">╭───────────────────────────────────────────── ✅ Agent Final Answer ─────────────────────────────────────────────╮</span>\n",
              "<span style=\"color: #008000; text-decoration-color: #008000\">│</span>                                                                                                                 <span style=\"color: #008000; text-decoration-color: #008000\">│</span>\n",
              "<span style=\"color: #008000; text-decoration-color: #008000\">│</span>  <span style=\"color: #c0c0c0; text-decoration-color: #c0c0c0\">Agent: </span><span style=\"color: #00ff00; text-decoration-color: #00ff00; font-weight: bold\">Job Researcher</span>                                                                                          <span style=\"color: #008000; text-decoration-color: #008000\">│</span>\n",
              "<span style=\"color: #008000; text-decoration-color: #008000\">│</span>                                                                                                                 <span style=\"color: #008000; text-decoration-color: #008000\">│</span>\n",
              "<span style=\"color: #008000; text-decoration-color: #008000\">│</span>  <span style=\"color: #c0c0c0; text-decoration-color: #c0c0c0\">Final Answer:</span>                                                                                                  <span style=\"color: #008000; text-decoration-color: #008000\">│</span>\n",
              "<span style=\"color: #008000; text-decoration-color: #008000\">│</span>  <span style=\"color: #00ff00; text-decoration-color: #00ff00\">{</span>                                                                                                              <span style=\"color: #008000; text-decoration-color: #008000\">│</span>\n",
              "<span style=\"color: #008000; text-decoration-color: #008000\">│</span>  <span style=\"color: #00ff00; text-decoration-color: #00ff00\">  \"title\": \"AI Data Scientist\",</span>                                                                                <span style=\"color: #008000; text-decoration-color: #008000\">│</span>\n",
              "<span style=\"color: #008000; text-decoration-color: #008000\">│</span>  <span style=\"color: #00ff00; text-decoration-color: #00ff00\">  \"seniority\": \"6+ years of experience, senior-level\",</span>                                                         <span style=\"color: #008000; text-decoration-color: #008000\">│</span>\n",
              "<span style=\"color: #008000; text-decoration-color: #008000\">│</span>  <span style=\"color: #00ff00; text-decoration-color: #00ff00\">  \"must_have_skills\": [</span>                                                                                        <span style=\"color: #008000; text-decoration-color: #008000\">│</span>\n",
              "<span style=\"color: #008000; text-decoration-color: #008000\">│</span>  <span style=\"color: #00ff00; text-decoration-color: #00ff00\">    \"Experience with predictive modeling (forecasting, anomaly detection, causal inference)\",</span>                  <span style=\"color: #008000; text-decoration-color: #008000\">│</span>\n",
              "<span style=\"color: #008000; text-decoration-color: #008000\">│</span>  <span style=\"color: #00ff00; text-decoration-color: #00ff00\">    \"Proficiency in SQL and data analytics platforms (Hadoop, Spark, Snowflake)\",</span>                              <span style=\"color: #008000; text-decoration-color: #008000\">│</span>\n",
              "<span style=\"color: #008000; text-decoration-color: #008000\">│</span>  <span style=\"color: #00ff00; text-decoration-color: #00ff00\">    \"Data visualization tools (Tableau, d3, Plotly)\",</span>                                                          <span style=\"color: #008000; text-decoration-color: #008000\">│</span>\n",
              "<span style=\"color: #008000; text-decoration-color: #008000\">│</span>  <span style=\"color: #00ff00; text-decoration-color: #00ff00\">    \"Programming in Python, Git, Notebooks\",</span>                                                                   <span style=\"color: #008000; text-decoration-color: #008000\">│</span>\n",
              "<span style=\"color: #008000; text-decoration-color: #008000\">│</span>  <span style=\"color: #00ff00; text-decoration-color: #00ff00\">    \"Experience with large language models (LLMs), RAG architectures, prompt evaluation\",</span>                      <span style=\"color: #008000; text-decoration-color: #008000\">│</span>\n",
              "<span style=\"color: #008000; text-decoration-color: #008000\">│</span>  <span style=\"color: #00ff00; text-decoration-color: #00ff00\">    \"Strong statistical data analysis skills (hypothesis testing, time series, multivariate analysis)\",</span>        <span style=\"color: #008000; text-decoration-color: #008000\">│</span>\n",
              "<span style=\"color: #008000; text-decoration-color: #008000\">│</span>  <span style=\"color: #00ff00; text-decoration-color: #00ff00\">    \"Ability to translate business questions into data solutions\",</span>                                             <span style=\"color: #008000; text-decoration-color: #008000\">│</span>\n",
              "<span style=\"color: #008000; text-decoration-color: #008000\">│</span>  <span style=\"color: #00ff00; text-decoration-color: #00ff00\">    \"Experience with ML pipelines and deploying models in production\",</span>                                         <span style=\"color: #008000; text-decoration-color: #008000\">│</span>\n",
              "<span style=\"color: #008000; text-decoration-color: #008000\">│</span>  <span style=\"color: #00ff00; text-decoration-color: #00ff00\">    \"Excellent communication skills for technical and non-technical audiences\"</span>                                 <span style=\"color: #008000; text-decoration-color: #008000\">│</span>\n",
              "<span style=\"color: #008000; text-decoration-color: #008000\">│</span>  <span style=\"color: #00ff00; text-decoration-color: #00ff00\">  ],</span>                                                                                                           <span style=\"color: #008000; text-decoration-color: #008000\">│</span>\n",
              "<span style=\"color: #008000; text-decoration-color: #008000\">│</span>  <span style=\"color: #00ff00; text-decoration-color: #00ff00\">  \"nice_to_have_skills\": [</span>                                                                                     <span style=\"color: #008000; text-decoration-color: #008000\">│</span>\n",
              "<span style=\"color: #008000; text-decoration-color: #008000\">│</span>  <span style=\"color: #00ff00; text-decoration-color: #00ff00\">    \"Experience with LLM evaluation pipelines and GenAI frameworks (LangChain, LlamaIndex)\",</span>                   <span style=\"color: #008000; text-decoration-color: #008000\">│</span>\n",
              "<span style=\"color: #008000; text-decoration-color: #008000\">│</span>  <span style=\"color: #00ff00; text-decoration-color: #00ff00\">    \"Experience with observability tools for LLMs (LangSmith, Truera, Weights &amp; Biases)\",</span>                      <span style=\"color: #008000; text-decoration-color: #008000\">│</span>\n",
              "<span style=\"color: #008000; text-decoration-color: #008000\">│</span>  <span style=\"color: #00ff00; text-decoration-color: #00ff00\">    \"Knowledge of vector similarity search, retrieval algorithms, and data modeling for vector graphs\",</span>        <span style=\"color: #008000; text-decoration-color: #008000\">│</span>\n",
              "<span style=\"color: #008000; text-decoration-color: #008000\">│</span>  <span style=\"color: #00ff00; text-decoration-color: #00ff00\">    \"Experience with anomaly detection and causal inference models\",</span>                                           <span style=\"color: #008000; text-decoration-color: #008000\">│</span>\n",
              "<span style=\"color: #008000; text-decoration-color: #008000\">│</span>  <span style=\"color: #00ff00; text-decoration-color: #00ff00\">    \"Advanced degree (MS or Ph.D.) in a related quantitative field\",</span>                                           <span style=\"color: #008000; text-decoration-color: #008000\">│</span>\n",
              "<span style=\"color: #008000; text-decoration-color: #008000\">│</span>  <span style=\"color: #00ff00; text-decoration-color: #00ff00\">    \"Experience with data dashboard and self-service tool development\",</span>                                        <span style=\"color: #008000; text-decoration-color: #008000\">│</span>\n",
              "<span style=\"color: #008000; text-decoration-color: #008000\">│</span>  <span style=\"color: #00ff00; text-decoration-color: #00ff00\">    \"Experience working with software engineers in production environments\"</span>                                    <span style=\"color: #008000; text-decoration-color: #008000\">│</span>\n",
              "<span style=\"color: #008000; text-decoration-color: #008000\">│</span>  <span style=\"color: #00ff00; text-decoration-color: #00ff00\">  ],</span>                                                                                                           <span style=\"color: #008000; text-decoration-color: #008000\">│</span>\n",
              "<span style=\"color: #008000; text-decoration-color: #008000\">│</span>  <span style=\"color: #00ff00; text-decoration-color: #00ff00\">  \"responsibilities\": [</span>                                                                                        <span style=\"color: #008000; text-decoration-color: #008000\">│</span>\n",
              "<span style=\"color: #008000; text-decoration-color: #008000\">│</span>  <span style=\"color: #00ff00; text-decoration-color: #00ff00\">    \"Develop and productionalize ML models (forecasting, anomaly detection, attribution, causal inference)\",</span>   <span style=\"color: #008000; text-decoration-color: #008000\">│</span>\n",
              "<span style=\"color: #008000; text-decoration-color: #008000\">│</span>  <span style=\"color: #00ff00; text-decoration-color: #00ff00\">    \"Build RCA and recommendation engines for summarization and chatbots\",</span>                                     <span style=\"color: #008000; text-decoration-color: #008000\">│</span>\n",
              "<span style=\"color: #008000; text-decoration-color: #008000\">│</span>  <span style=\"color: #00ff00; text-decoration-color: #00ff00\">    \"Analyze agent interactions and implement LLM evaluation pipelines\",</span>                                       <span style=\"color: #008000; text-decoration-color: #008000\">│</span>\n",
              "<span style=\"color: #008000; text-decoration-color: #008000\">│</span>  <span style=\"color: #00ff00; text-decoration-color: #00ff00\">    \"Support experimentation and A/B testing\",</span>                                                                 <span style=\"color: #008000; text-decoration-color: #008000\">│</span>\n",
              "<span style=\"color: #008000; text-decoration-color: #008000\">│</span>  <span style=\"color: #00ff00; text-decoration-color: #00ff00\">    \"Partner with AI engineers and PMs to scale features\",</span>                                                     <span style=\"color: #008000; text-decoration-color: #008000\">│</span>\n",
              "<span style=\"color: #008000; text-decoration-color: #008000\">│</span>  <span style=\"color: #00ff00; text-decoration-color: #00ff00\">    \"Bridge technical and business teams to translate data insights\",</span>                                          <span style=\"color: #008000; text-decoration-color: #008000\">│</span>\n",
              "<span style=\"color: #008000; text-decoration-color: #008000\">│</span>  <span style=\"color: #00ff00; text-decoration-color: #00ff00\">    \"Influence data model design, KPI definitions, and develop data solutions\",</span>                                <span style=\"color: #008000; text-decoration-color: #008000\">│</span>\n",
              "<span style=\"color: #008000; text-decoration-color: #008000\">│</span>  <span style=\"color: #00ff00; text-decoration-color: #00ff00\">    \"Create dashboards and self-service tools for data analysis\",</span>                                              <span style=\"color: #008000; text-decoration-color: #008000\">│</span>\n",
              "<span style=\"color: #008000; text-decoration-color: #008000\">│</span>  <span style=\"color: #00ff00; text-decoration-color: #00ff00\">    \"Leverage and adapt existing AI/ML models for US-specific needs\"</span>                                           <span style=\"color: #008000; text-decoration-color: #008000\">│</span>\n",
              "<span style=\"color: #008000; text-decoration-color: #008000\">│</span>  <span style=\"color: #00ff00; text-decoration-color: #00ff00\">  ],</span>                                                                                                           <span style=\"color: #008000; text-decoration-color: #008000\">│</span>\n",
              "<span style=\"color: #008000; text-decoration-color: #008000\">│</span>  <span style=\"color: #00ff00; text-decoration-color: #00ff00\">  \"keywords\": [</span>                                                                                                <span style=\"color: #008000; text-decoration-color: #008000\">│</span>\n",
              "<span style=\"color: #008000; text-decoration-color: #008000\">│</span>  <span style=\"color: #00ff00; text-decoration-color: #00ff00\">    \"AI Data Scientist\",</span>                                                                                       <span style=\"color: #008000; text-decoration-color: #008000\">│</span>\n",
              "<span style=\"color: #008000; text-decoration-color: #008000\">│</span>  <span style=\"color: #00ff00; text-decoration-color: #00ff00\">    \"predictive modeling\",</span>                                                                                     <span style=\"color: #008000; text-decoration-color: #008000\">│</span>\n",
              "<span style=\"color: #008000; text-decoration-color: #008000\">│</span>  <span style=\"color: #00ff00; text-decoration-color: #00ff00\">    \"ML pipelines\",</span>                                                                                            <span style=\"color: #008000; text-decoration-color: #008000\">│</span>\n",
              "<span style=\"color: #008000; text-decoration-color: #008000\">│</span>  <span style=\"color: #00ff00; text-decoration-color: #00ff00\">    \"LLM evaluation\",</span>                                                                                          <span style=\"color: #008000; text-decoration-color: #008000\">│</span>\n",
              "<span style=\"color: #008000; text-decoration-color: #008000\">│</span>  <span style=\"color: #00ff00; text-decoration-color: #00ff00\">    \"RAG architectures\",</span>                                                                                       <span style=\"color: #008000; text-decoration-color: #008000\">│</span>\n",
              "<span style=\"color: #008000; text-decoration-color: #008000\">│</span>  <span style=\"color: #00ff00; text-decoration-color: #00ff00\">    \"prompt evaluation\",</span>                                                                                       <span style=\"color: #008000; text-decoration-color: #008000\">│</span>\n",
              "<span style=\"color: #008000; text-decoration-color: #008000\">│</span>  <span style=\"color: #00ff00; text-decoration-color: #00ff00\">    \"data visualization\",</span>                                                                                      <span style=\"color: #008000; text-decoration-color: #008000\">│</span>\n",
              "<span style=\"color: #008000; text-decoration-color: #008000\">│</span>  <span style=\"color: #00ff00; text-decoration-color: #00ff00\">    \"SQL\",</span>                                                                                                     <span style=\"color: #008000; text-decoration-color: #008000\">│</span>\n",
              "<span style=\"color: #008000; text-decoration-color: #008000\">│</span>  <span style=\"color: #00ff00; text-decoration-color: #00ff00\">    \"Python\",</span>                                                                                                  <span style=\"color: #008000; text-decoration-color: #008000\">│</span>\n",
              "<span style=\"color: #008000; text-decoration-color: #008000\">│</span>  <span style=\"color: #00ff00; text-decoration-color: #00ff00\">    \"Spark\",</span>                                                                                                   <span style=\"color: #008000; text-decoration-color: #008000\">│</span>\n",
              "<span style=\"color: #008000; text-decoration-color: #008000\">│</span>  <span style=\"color: #00ff00; text-decoration-color: #00ff00\">    \"Snowflake\",</span>                                                                                               <span style=\"color: #008000; text-decoration-color: #008000\">│</span>\n",
              "<span style=\"color: #008000; text-decoration-color: #008000\">│</span>  <span style=\"color: #00ff00; text-decoration-color: #00ff00\">    \"Tableau\",</span>                                                                                                 <span style=\"color: #008000; text-decoration-color: #008000\">│</span>\n",
              "<span style=\"color: #008000; text-decoration-color: #008000\">│</span>  <span style=\"color: #00ff00; text-decoration-color: #00ff00\">    \"GenAI\",</span>                                                                                                   <span style=\"color: #008000; text-decoration-color: #008000\">│</span>\n",
              "<span style=\"color: #008000; text-decoration-color: #008000\">│</span>  <span style=\"color: #00ff00; text-decoration-color: #00ff00\">    \"causal inference\",</span>                                                                                        <span style=\"color: #008000; text-decoration-color: #008000\">│</span>\n",
              "<span style=\"color: #008000; text-decoration-color: #008000\">│</span>  <span style=\"color: #00ff00; text-decoration-color: #00ff00\">    \"anomaly detection\",</span>                                                                                       <span style=\"color: #008000; text-decoration-color: #008000\">│</span>\n",
              "<span style=\"color: #008000; text-decoration-color: #008000\">│</span>  <span style=\"color: #00ff00; text-decoration-color: #00ff00\">    \"vector similarity search\"</span>                                                                                 <span style=\"color: #008000; text-decoration-color: #008000\">│</span>\n",
              "<span style=\"color: #008000; text-decoration-color: #008000\">│</span>  <span style=\"color: #00ff00; text-decoration-color: #00ff00\">  ]</span>                                                                                                            <span style=\"color: #008000; text-decoration-color: #008000\">│</span>\n",
              "<span style=\"color: #008000; text-decoration-color: #008000\">│</span>  <span style=\"color: #00ff00; text-decoration-color: #00ff00\">}</span>                                                                                                              <span style=\"color: #008000; text-decoration-color: #008000\">│</span>\n",
              "<span style=\"color: #008000; text-decoration-color: #008000\">│</span>                                                                                                                 <span style=\"color: #008000; text-decoration-color: #008000\">│</span>\n",
              "<span style=\"color: #008000; text-decoration-color: #008000\">╰─────────────────────────────────────────────────────────────────────────────────────────────────────────────────╯</span>\n",
              "</pre>\n"
            ]
          },
          "metadata": {}
        },
        {
          "output_type": "display_data",
          "data": {
            "text/plain": [
              "\n"
            ],
            "text/html": [
              "<pre style=\"white-space:pre;overflow-x:auto;line-height:normal;font-family:Menlo,'DejaVu Sans Mono',consolas,'Courier New',monospace\">\n",
              "</pre>\n"
            ]
          },
          "metadata": {}
        },
        {
          "output_type": "display_data",
          "data": {
            "text/plain": [],
            "text/html": [
              "<pre style=\"white-space:pre;overflow-x:auto;line-height:normal;font-family:Menlo,'DejaVu Sans Mono',consolas,'Courier New',monospace\"></pre>\n"
            ]
          },
          "metadata": {}
        },
        {
          "output_type": "display_data",
          "data": {
            "text/plain": [
              "\u001b[32m╭─\u001b[0m\u001b[32m────────────────────────────────────────────\u001b[0m\u001b[32m LiteAgent Completion \u001b[0m\u001b[32m─────────────────────────────────────────────\u001b[0m\u001b[32m─╮\u001b[0m\n",
              "\u001b[32m│\u001b[0m                                                                                                                 \u001b[32m│\u001b[0m\n",
              "\u001b[32m│\u001b[0m  \u001b[1;32mLiteAgent Completed\u001b[0m                                                                                            \u001b[32m│\u001b[0m\n",
              "\u001b[32m│\u001b[0m  \u001b[37mName: \u001b[0m\u001b[32mJob Researcher\u001b[0m                                                                                           \u001b[32m│\u001b[0m\n",
              "\u001b[32m│\u001b[0m  \u001b[37mid: \u001b[0m\u001b[32mf9bbeb87-326a-4211-bfa9-abd6db522a6f\u001b[0m                                                                       \u001b[32m│\u001b[0m\n",
              "\u001b[32m│\u001b[0m  \u001b[37mrole: \u001b[0m\u001b[32mJob Researcher\u001b[0m                                                                                           \u001b[32m│\u001b[0m\n",
              "\u001b[32m│\u001b[0m  \u001b[37mgoal: \u001b[0m\u001b[32mExtract precise, structured requirements from the job posting and company materials.\u001b[0m                     \u001b[32m│\u001b[0m\n",
              "\u001b[32m│\u001b[0m  \u001b[37mbackstory: \u001b[0m\u001b[32mEx-McKinsey recruiter assistant. You identify must-haves vs. nice-to-haves, ATS keywords, and \u001b[0m      \u001b[32m│\u001b[0m\n",
              "\u001b[32m│\u001b[0m  \u001b[32mquantify expectations.\u001b[0m                                                                                         \u001b[32m│\u001b[0m\n",
              "\u001b[32m│\u001b[0m  \u001b[37mtools: \u001b[0m\u001b[32m[CrewStructuredTool(name='Search the internet with Serper', description='Tool Name: Search the \u001b[0m         \u001b[32m│\u001b[0m\n",
              "\u001b[32m│\u001b[0m  \u001b[32minternet with Serper\u001b[0m                                                                                           \u001b[32m│\u001b[0m\n",
              "\u001b[32m│\u001b[0m  \u001b[32mTool Arguments: {'search_query': {'description': 'Mandatory search query you want to use to search the \u001b[0m        \u001b[32m│\u001b[0m\n",
              "\u001b[32m│\u001b[0m  \u001b[32minternet', 'type': 'str'}}\u001b[0m                                                                                     \u001b[32m│\u001b[0m\n",
              "\u001b[32m│\u001b[0m  \u001b[32mTool Description: A tool that can be used to search the internet with a search_query. Supports different \u001b[0m      \u001b[32m│\u001b[0m\n",
              "\u001b[32m│\u001b[0m  \u001b[32msearch types: 'search' (default), 'news''), CrewStructuredTool(name='Read website content', description='Tool\u001b[0m  \u001b[32m│\u001b[0m\n",
              "\u001b[32m│\u001b[0m  \u001b[32mName: Read website content\u001b[0m                                                                                     \u001b[32m│\u001b[0m\n",
              "\u001b[32m│\u001b[0m  \u001b[32mTool Arguments: {'website_url': {'description': 'Mandatory website url to read the file', 'type': 'str'}}\u001b[0m      \u001b[32m│\u001b[0m\n",
              "\u001b[32m│\u001b[0m  \u001b[32mTool Description: A tool that can be used to read a website content.')]\u001b[0m                                        \u001b[32m│\u001b[0m\n",
              "\u001b[32m│\u001b[0m  \u001b[37mverbose: \u001b[0m\u001b[32mTrue\u001b[0m                                                                                                  \u001b[32m│\u001b[0m\n",
              "\u001b[32m│\u001b[0m  \u001b[37mTool Args: \u001b[0m                                                                                                    \u001b[32m│\u001b[0m\n",
              "\u001b[32m│\u001b[0m                                                                                                                 \u001b[32m│\u001b[0m\n",
              "\u001b[32m│\u001b[0m                                                                                                                 \u001b[32m│\u001b[0m\n",
              "\u001b[32m╰─────────────────────────────────────────────────────────────────────────────────────────────────────────────────╯\u001b[0m\n"
            ],
            "text/html": [
              "<pre style=\"white-space:pre;overflow-x:auto;line-height:normal;font-family:Menlo,'DejaVu Sans Mono',consolas,'Courier New',monospace\"><span style=\"color: #008000; text-decoration-color: #008000\">╭───────────────────────────────────────────── LiteAgent Completion ──────────────────────────────────────────────╮</span>\n",
              "<span style=\"color: #008000; text-decoration-color: #008000\">│</span>                                                                                                                 <span style=\"color: #008000; text-decoration-color: #008000\">│</span>\n",
              "<span style=\"color: #008000; text-decoration-color: #008000\">│</span>  <span style=\"color: #008000; text-decoration-color: #008000; font-weight: bold\">LiteAgent Completed</span>                                                                                            <span style=\"color: #008000; text-decoration-color: #008000\">│</span>\n",
              "<span style=\"color: #008000; text-decoration-color: #008000\">│</span>  <span style=\"color: #c0c0c0; text-decoration-color: #c0c0c0\">Name: </span><span style=\"color: #008000; text-decoration-color: #008000\">Job Researcher</span>                                                                                           <span style=\"color: #008000; text-decoration-color: #008000\">│</span>\n",
              "<span style=\"color: #008000; text-decoration-color: #008000\">│</span>  <span style=\"color: #c0c0c0; text-decoration-color: #c0c0c0\">id: </span><span style=\"color: #008000; text-decoration-color: #008000\">f9bbeb87-326a-4211-bfa9-abd6db522a6f</span>                                                                       <span style=\"color: #008000; text-decoration-color: #008000\">│</span>\n",
              "<span style=\"color: #008000; text-decoration-color: #008000\">│</span>  <span style=\"color: #c0c0c0; text-decoration-color: #c0c0c0\">role: </span><span style=\"color: #008000; text-decoration-color: #008000\">Job Researcher</span>                                                                                           <span style=\"color: #008000; text-decoration-color: #008000\">│</span>\n",
              "<span style=\"color: #008000; text-decoration-color: #008000\">│</span>  <span style=\"color: #c0c0c0; text-decoration-color: #c0c0c0\">goal: </span><span style=\"color: #008000; text-decoration-color: #008000\">Extract precise, structured requirements from the job posting and company materials.</span>                     <span style=\"color: #008000; text-decoration-color: #008000\">│</span>\n",
              "<span style=\"color: #008000; text-decoration-color: #008000\">│</span>  <span style=\"color: #c0c0c0; text-decoration-color: #c0c0c0\">backstory: </span><span style=\"color: #008000; text-decoration-color: #008000\">Ex-McKinsey recruiter assistant. You identify must-haves vs. nice-to-haves, ATS keywords, and </span>      <span style=\"color: #008000; text-decoration-color: #008000\">│</span>\n",
              "<span style=\"color: #008000; text-decoration-color: #008000\">│</span>  <span style=\"color: #008000; text-decoration-color: #008000\">quantify expectations.</span>                                                                                         <span style=\"color: #008000; text-decoration-color: #008000\">│</span>\n",
              "<span style=\"color: #008000; text-decoration-color: #008000\">│</span>  <span style=\"color: #c0c0c0; text-decoration-color: #c0c0c0\">tools: </span><span style=\"color: #008000; text-decoration-color: #008000\">[CrewStructuredTool(name='Search the internet with Serper', description='Tool Name: Search the </span>         <span style=\"color: #008000; text-decoration-color: #008000\">│</span>\n",
              "<span style=\"color: #008000; text-decoration-color: #008000\">│</span>  <span style=\"color: #008000; text-decoration-color: #008000\">internet with Serper</span>                                                                                           <span style=\"color: #008000; text-decoration-color: #008000\">│</span>\n",
              "<span style=\"color: #008000; text-decoration-color: #008000\">│</span>  <span style=\"color: #008000; text-decoration-color: #008000\">Tool Arguments: {'search_query': {'description': 'Mandatory search query you want to use to search the </span>        <span style=\"color: #008000; text-decoration-color: #008000\">│</span>\n",
              "<span style=\"color: #008000; text-decoration-color: #008000\">│</span>  <span style=\"color: #008000; text-decoration-color: #008000\">internet', 'type': 'str'}}</span>                                                                                     <span style=\"color: #008000; text-decoration-color: #008000\">│</span>\n",
              "<span style=\"color: #008000; text-decoration-color: #008000\">│</span>  <span style=\"color: #008000; text-decoration-color: #008000\">Tool Description: A tool that can be used to search the internet with a search_query. Supports different </span>      <span style=\"color: #008000; text-decoration-color: #008000\">│</span>\n",
              "<span style=\"color: #008000; text-decoration-color: #008000\">│</span>  <span style=\"color: #008000; text-decoration-color: #008000\">search types: 'search' (default), 'news''), CrewStructuredTool(name='Read website content', description='Tool</span>  <span style=\"color: #008000; text-decoration-color: #008000\">│</span>\n",
              "<span style=\"color: #008000; text-decoration-color: #008000\">│</span>  <span style=\"color: #008000; text-decoration-color: #008000\">Name: Read website content</span>                                                                                     <span style=\"color: #008000; text-decoration-color: #008000\">│</span>\n",
              "<span style=\"color: #008000; text-decoration-color: #008000\">│</span>  <span style=\"color: #008000; text-decoration-color: #008000\">Tool Arguments: {'website_url': {'description': 'Mandatory website url to read the file', 'type': 'str'}}</span>      <span style=\"color: #008000; text-decoration-color: #008000\">│</span>\n",
              "<span style=\"color: #008000; text-decoration-color: #008000\">│</span>  <span style=\"color: #008000; text-decoration-color: #008000\">Tool Description: A tool that can be used to read a website content.')]</span>                                        <span style=\"color: #008000; text-decoration-color: #008000\">│</span>\n",
              "<span style=\"color: #008000; text-decoration-color: #008000\">│</span>  <span style=\"color: #c0c0c0; text-decoration-color: #c0c0c0\">verbose: </span><span style=\"color: #008000; text-decoration-color: #008000\">True</span>                                                                                                  <span style=\"color: #008000; text-decoration-color: #008000\">│</span>\n",
              "<span style=\"color: #008000; text-decoration-color: #008000\">│</span>  <span style=\"color: #c0c0c0; text-decoration-color: #c0c0c0\">Tool Args: </span>                                                                                                    <span style=\"color: #008000; text-decoration-color: #008000\">│</span>\n",
              "<span style=\"color: #008000; text-decoration-color: #008000\">│</span>                                                                                                                 <span style=\"color: #008000; text-decoration-color: #008000\">│</span>\n",
              "<span style=\"color: #008000; text-decoration-color: #008000\">│</span>                                                                                                                 <span style=\"color: #008000; text-decoration-color: #008000\">│</span>\n",
              "<span style=\"color: #008000; text-decoration-color: #008000\">╰─────────────────────────────────────────────────────────────────────────────────────────────────────────────────╯</span>\n",
              "</pre>\n"
            ]
          },
          "metadata": {}
        },
        {
          "output_type": "display_data",
          "data": {
            "text/plain": [
              "\n"
            ],
            "text/html": [
              "<pre style=\"white-space:pre;overflow-x:auto;line-height:normal;font-family:Menlo,'DejaVu Sans Mono',consolas,'Courier New',monospace\">\n",
              "</pre>\n"
            ]
          },
          "metadata": {}
        },
        {
          "output_type": "display_data",
          "data": {
            "text/plain": [
              "Output()"
            ],
            "application/vnd.jupyter.widget-view+json": {
              "version_major": 2,
              "version_minor": 0,
              "model_id": "abaf0f97ab264e5fa5214d85d1297d9b"
            }
          },
          "metadata": {}
        },
        {
          "output_type": "display_data",
          "data": {
            "text/plain": [
              "/usr/local/lib/python3.11/dist-packages/ipywidgets/widgets/widget_output.py:111: DeprecationWarning: \n",
              "Kernel._parent_header is deprecated in ipykernel 6. Use .get_parent()\n",
              "  if ip and hasattr(ip, 'kernel') and hasattr(ip.kernel, '_parent_header'):\n"
            ],
            "text/html": [
              "<pre style=\"white-space:pre;overflow-x:auto;line-height:normal;font-family:Menlo,'DejaVu Sans Mono',consolas,'Courier New',monospace\">/usr/local/lib/python3.11/dist-packages/ipywidgets/widgets/widget_output.py:111: DeprecationWarning: \n",
              "Kernel._parent_header is deprecated in ipykernel 6. Use .get_parent()\n",
              "  if ip and hasattr(ip, 'kernel') and hasattr(ip.kernel, '_parent_header'):\n",
              "</pre>\n"
            ]
          },
          "metadata": {}
        },
        {
          "output_type": "display_data",
          "data": {
            "text/plain": [
              "/usr/local/lib/python3.11/dist-packages/ipywidgets/widgets/widget_output.py:112: DeprecationWarning: \n",
              "Kernel._parent_header is deprecated in ipykernel 6. Use .get_parent()\n",
              "  self.msg_id = ip.kernel._parent_header['header']['msg_id']\n"
            ],
            "text/html": [
              "<pre style=\"white-space:pre;overflow-x:auto;line-height:normal;font-family:Menlo,'DejaVu Sans Mono',consolas,'Courier New',monospace\">/usr/local/lib/python3.11/dist-packages/ipywidgets/widgets/widget_output.py:112: DeprecationWarning: \n",
              "Kernel._parent_header is deprecated in ipykernel 6. Use .get_parent()\n",
              "  self.msg_id = ip.kernel._parent_header['header']['msg_id']\n",
              "</pre>\n"
            ]
          },
          "metadata": {}
        },
        {
          "output_type": "display_data",
          "data": {
            "text/plain": [],
            "text/html": [
              "<pre style=\"white-space:pre;overflow-x:auto;line-height:normal;font-family:Menlo,'DejaVu Sans Mono',consolas,'Courier New',monospace\"></pre>\n"
            ]
          },
          "metadata": {}
        },
        {
          "output_type": "display_data",
          "data": {
            "text/plain": [
              "\u001b[36m╭─\u001b[0m\u001b[36m──────────────────────────────────────────────\u001b[0m\u001b[36m LiteAgent Started \u001b[0m\u001b[36m──────────────────────────────────────────────\u001b[0m\u001b[36m─╮\u001b[0m\n",
              "\u001b[36m│\u001b[0m                                                                                                                 \u001b[36m│\u001b[0m\n",
              "\u001b[36m│\u001b[0m  \u001b[1;36mLiteAgent Session Started\u001b[0m                                                                                      \u001b[36m│\u001b[0m\n",
              "\u001b[36m│\u001b[0m  \u001b[37mName: \u001b[0m\u001b[36mProfile Analyst\u001b[0m                                                                                          \u001b[36m│\u001b[0m\n",
              "\u001b[36m│\u001b[0m  \u001b[37mid: \u001b[0m\u001b[36m36da88b6-ec83-4214-a08e-344624642f7d\u001b[0m                                                                       \u001b[36m│\u001b[0m\n",
              "\u001b[36m│\u001b[0m  \u001b[37mrole: \u001b[0m\u001b[36mProfile Analyst\u001b[0m                                                                                          \u001b[36m│\u001b[0m\n",
              "\u001b[36m│\u001b[0m  \u001b[37mgoal: \u001b[0m\u001b[36mMap candidate resume, skills, and experiences to JD. Score alignment, find gaps, and surface evidence.\u001b[0m   \u001b[36m│\u001b[0m\n",
              "\u001b[36m│\u001b[0m  \u001b[37mbackstory: \u001b[0m\u001b[36mSenior data scientist & resume analyst. You evaluate impact with metrics, OKRs, and business \u001b[0m       \u001b[36m│\u001b[0m\n",
              "\u001b[36m│\u001b[0m  \u001b[36moutcomes.\u001b[0m                                                                                                      \u001b[36m│\u001b[0m\n",
              "\u001b[36m│\u001b[0m  \u001b[37mtools: \u001b[0m\u001b[36m[]\u001b[0m                                                                                                      \u001b[36m│\u001b[0m\n",
              "\u001b[36m│\u001b[0m  \u001b[37mverbose: \u001b[0m\u001b[36mTrue\u001b[0m                                                                                                  \u001b[36m│\u001b[0m\n",
              "\u001b[36m│\u001b[0m  \u001b[37mTool Args: \u001b[0m                                                                                                    \u001b[36m│\u001b[0m\n",
              "\u001b[36m│\u001b[0m                                                                                                                 \u001b[36m│\u001b[0m\n",
              "\u001b[36m│\u001b[0m                                                                                                                 \u001b[36m│\u001b[0m\n",
              "\u001b[36m╰─────────────────────────────────────────────────────────────────────────────────────────────────────────────────╯\u001b[0m\n"
            ],
            "text/html": [
              "<pre style=\"white-space:pre;overflow-x:auto;line-height:normal;font-family:Menlo,'DejaVu Sans Mono',consolas,'Courier New',monospace\"><span style=\"color: #008080; text-decoration-color: #008080\">╭─────────────────────────────────────────────── LiteAgent Started ───────────────────────────────────────────────╮</span>\n",
              "<span style=\"color: #008080; text-decoration-color: #008080\">│</span>                                                                                                                 <span style=\"color: #008080; text-decoration-color: #008080\">│</span>\n",
              "<span style=\"color: #008080; text-decoration-color: #008080\">│</span>  <span style=\"color: #008080; text-decoration-color: #008080; font-weight: bold\">LiteAgent Session Started</span>                                                                                      <span style=\"color: #008080; text-decoration-color: #008080\">│</span>\n",
              "<span style=\"color: #008080; text-decoration-color: #008080\">│</span>  <span style=\"color: #c0c0c0; text-decoration-color: #c0c0c0\">Name: </span><span style=\"color: #008080; text-decoration-color: #008080\">Profile Analyst</span>                                                                                          <span style=\"color: #008080; text-decoration-color: #008080\">│</span>\n",
              "<span style=\"color: #008080; text-decoration-color: #008080\">│</span>  <span style=\"color: #c0c0c0; text-decoration-color: #c0c0c0\">id: </span><span style=\"color: #008080; text-decoration-color: #008080\">36da88b6-ec83-4214-a08e-344624642f7d</span>                                                                       <span style=\"color: #008080; text-decoration-color: #008080\">│</span>\n",
              "<span style=\"color: #008080; text-decoration-color: #008080\">│</span>  <span style=\"color: #c0c0c0; text-decoration-color: #c0c0c0\">role: </span><span style=\"color: #008080; text-decoration-color: #008080\">Profile Analyst</span>                                                                                          <span style=\"color: #008080; text-decoration-color: #008080\">│</span>\n",
              "<span style=\"color: #008080; text-decoration-color: #008080\">│</span>  <span style=\"color: #c0c0c0; text-decoration-color: #c0c0c0\">goal: </span><span style=\"color: #008080; text-decoration-color: #008080\">Map candidate resume, skills, and experiences to JD. Score alignment, find gaps, and surface evidence.</span>   <span style=\"color: #008080; text-decoration-color: #008080\">│</span>\n",
              "<span style=\"color: #008080; text-decoration-color: #008080\">│</span>  <span style=\"color: #c0c0c0; text-decoration-color: #c0c0c0\">backstory: </span><span style=\"color: #008080; text-decoration-color: #008080\">Senior data scientist &amp; resume analyst. You evaluate impact with metrics, OKRs, and business </span>       <span style=\"color: #008080; text-decoration-color: #008080\">│</span>\n",
              "<span style=\"color: #008080; text-decoration-color: #008080\">│</span>  <span style=\"color: #008080; text-decoration-color: #008080\">outcomes.</span>                                                                                                      <span style=\"color: #008080; text-decoration-color: #008080\">│</span>\n",
              "<span style=\"color: #008080; text-decoration-color: #008080\">│</span>  <span style=\"color: #c0c0c0; text-decoration-color: #c0c0c0\">tools: </span><span style=\"color: #008080; text-decoration-color: #008080\">[]</span>                                                                                                      <span style=\"color: #008080; text-decoration-color: #008080\">│</span>\n",
              "<span style=\"color: #008080; text-decoration-color: #008080\">│</span>  <span style=\"color: #c0c0c0; text-decoration-color: #c0c0c0\">verbose: </span><span style=\"color: #008080; text-decoration-color: #008080\">True</span>                                                                                                  <span style=\"color: #008080; text-decoration-color: #008080\">│</span>\n",
              "<span style=\"color: #008080; text-decoration-color: #008080\">│</span>  <span style=\"color: #c0c0c0; text-decoration-color: #c0c0c0\">Tool Args: </span>                                                                                                    <span style=\"color: #008080; text-decoration-color: #008080\">│</span>\n",
              "<span style=\"color: #008080; text-decoration-color: #008080\">│</span>                                                                                                                 <span style=\"color: #008080; text-decoration-color: #008080\">│</span>\n",
              "<span style=\"color: #008080; text-decoration-color: #008080\">│</span>                                                                                                                 <span style=\"color: #008080; text-decoration-color: #008080\">│</span>\n",
              "<span style=\"color: #008080; text-decoration-color: #008080\">╰─────────────────────────────────────────────────────────────────────────────────────────────────────────────────╯</span>\n",
              "</pre>\n"
            ]
          },
          "metadata": {}
        },
        {
          "output_type": "display_data",
          "data": {
            "text/plain": [
              "\n"
            ],
            "text/html": [
              "<pre style=\"white-space:pre;overflow-x:auto;line-height:normal;font-family:Menlo,'DejaVu Sans Mono',consolas,'Courier New',monospace\">\n",
              "</pre>\n"
            ]
          },
          "metadata": {}
        },
        {
          "output_type": "display_data",
          "data": {
            "text/plain": [
              "\u001b[32m╭─\u001b[0m\u001b[32m────────────────────────────────────────────\u001b[0m\u001b[32m ✅ Agent Final Answer \u001b[0m\u001b[32m────────────────────────────────────────────\u001b[0m\u001b[32m─╮\u001b[0m\n",
              "\u001b[32m│\u001b[0m                                                                                                                 \u001b[32m│\u001b[0m\n",
              "\u001b[32m│\u001b[0m  \u001b[37mAgent: \u001b[0m\u001b[1;92mProfile Analyst\u001b[0m                                                                                         \u001b[32m│\u001b[0m\n",
              "\u001b[32m│\u001b[0m                                                                                                                 \u001b[32m│\u001b[0m\n",
              "\u001b[32m│\u001b[0m  \u001b[37mFinal Answer:\u001b[0m                                                                                                  \u001b[32m│\u001b[0m\n",
              "\u001b[32m│\u001b[0m  \u001b[92m{\u001b[0m                                                                                                              \u001b[32m│\u001b[0m\n",
              "\u001b[32m│\u001b[0m  \u001b[92m  \"overall_match_pct\": 75.0,\u001b[0m                                                                                   \u001b[32m│\u001b[0m\n",
              "\u001b[32m│\u001b[0m  \u001b[92m  \"strong_alignment\": [\u001b[0m                                                                                        \u001b[32m│\u001b[0m\n",
              "\u001b[32m│\u001b[0m  \u001b[92m    \"Experience with predictive modeling (ARIMA, Prophet, XGBoost, Random Forest)\",\u001b[0m                            \u001b[32m│\u001b[0m\n",
              "\u001b[32m│\u001b[0m  \u001b[92m    \"Applied causal inference (DiD, matching) and A/B testing\",\u001b[0m                                                \u001b[32m│\u001b[0m\n",
              "\u001b[32m│\u001b[0m  \u001b[92m    \"Automated SQL pipelines and data evaluation processes\",\u001b[0m                                                   \u001b[32m│\u001b[0m\n",
              "\u001b[32m│\u001b[0m  \u001b[92m    \"Data visualization skills (Streamlit dashboards, economic reports)\",\u001b[0m                                      \u001b[32m│\u001b[0m\n",
              "\u001b[32m│\u001b[0m  \u001b[92m    \"Programming in Python and SQL\",\u001b[0m                                                                           \u001b[32m│\u001b[0m\n",
              "\u001b[32m│\u001b[0m  \u001b[92m    \"Experience with large-scale ML systems and generative AI\",\u001b[0m                                                \u001b[32m│\u001b[0m\n",
              "\u001b[32m│\u001b[0m  \u001b[92m    \"Research and development of ML models for forecasting and analysis\",\u001b[0m                                      \u001b[32m│\u001b[0m\n",
              "\u001b[32m│\u001b[0m  \u001b[92m    \"Ability to translate business questions into data solutions\",\u001b[0m                                             \u001b[32m│\u001b[0m\n",
              "\u001b[32m│\u001b[0m  \u001b[92m    \"Experience with hypothesis testing, time series, multivariate analysis\",\u001b[0m                                  \u001b[32m│\u001b[0m\n",
              "\u001b[32m│\u001b[0m  \u001b[92m    \"Experience with ML pipelines and deploying models in production\"\u001b[0m                                          \u001b[32m│\u001b[0m\n",
              "\u001b[32m│\u001b[0m  \u001b[92m  ],\u001b[0m                                                                                                           \u001b[32m│\u001b[0m\n",
              "\u001b[32m│\u001b[0m  \u001b[92m  \"partial_alignment\": [\u001b[0m                                                                                       \u001b[32m│\u001b[0m\n",
              "\u001b[32m│\u001b[0m  \u001b[92m    \"Experience with LLM evaluation pipelines and prompt engineering\",\u001b[0m                                         \u001b[32m│\u001b[0m\n",
              "\u001b[32m│\u001b[0m  \u001b[92m    \"Knowledge of RAG architectures, retrieval algorithms, vector similarity search\",\u001b[0m                          \u001b[32m│\u001b[0m\n",
              "\u001b[32m│\u001b[0m  \u001b[92m    \"Experience with observability tools for LLMs (e.g., LangSmith, Weights & Biases)\",\u001b[0m                        \u001b[32m│\u001b[0m\n",
              "\u001b[32m│\u001b[0m  \u001b[92m    \"Experience with self-service data dashboards and tools\",\u001b[0m                                                  \u001b[32m│\u001b[0m\n",
              "\u001b[32m│\u001b[0m  \u001b[92m    \"Experience working with software engineers in production environments\"\u001b[0m                                    \u001b[32m│\u001b[0m\n",
              "\u001b[32m│\u001b[0m  \u001b[92m  ],\u001b[0m                                                                                                           \u001b[32m│\u001b[0m\n",
              "\u001b[32m│\u001b[0m  \u001b[92m  \"gaps\": [\u001b[0m                                                                                                    \u001b[32m│\u001b[0m\n",
              "\u001b[32m│\u001b[0m  \u001b[92m    \"Explicit experience with large language models (LLMs) beyond fine-tuning and prompt engineering\",\u001b[0m         \u001b[32m│\u001b[0m\n",
              "\u001b[32m│\u001b[0m  \u001b[92m    \"Specific experience with RAG architectures and retrieval algorithms\",\u001b[0m                                     \u001b[32m│\u001b[0m\n",
              "\u001b[32m│\u001b[0m  \u001b[92m    \"Hands-on experience with LLM evaluation pipelines and GenAI frameworks like LangChain or LlamaIndex\",\u001b[0m     \u001b[32m│\u001b[0m\n",
              "\u001b[32m│\u001b[0m  \u001b[92m    \"Experience with observability tools for LLMs (LangSmith, Truera, Weights & Biases)\",\u001b[0m                      \u001b[32m│\u001b[0m\n",
              "\u001b[32m│\u001b[0m  \u001b[92m    \"Knowledge of vector similarity search and data modeling for vector graphs\",\u001b[0m                               \u001b[32m│\u001b[0m\n",
              "\u001b[32m│\u001b[0m  \u001b[92m    \"Advanced degree (MS or Ph.D.) in a related quantitative field (candidate is pursuing a Master’s)\"\u001b[0m         \u001b[32m│\u001b[0m\n",
              "\u001b[32m│\u001b[0m  \u001b[92m  ],\u001b[0m                                                                                                           \u001b[32m│\u001b[0m\n",
              "\u001b[32m│\u001b[0m  \u001b[92m  \"evidence_map\": {\u001b[0m                                                                                            \u001b[32m│\u001b[0m\n",
              "\u001b[32m│\u001b[0m  \u001b[92m    \"predictive modeling\": [\u001b[0m                                                                                   \u001b[32m│\u001b[0m\n",
              "\u001b[32m│\u001b[0m  \u001b[92m      \"Developed forecasting models (XGBoost, ARIMA, Prophet) that improved regional economic predictions by \u001b[0m  \u001b[32m│\u001b[0m\n",
              "\u001b[32m│\u001b[0m  \u001b[92m15%\",\u001b[0m                                                                                                          \u001b[32m│\u001b[0m\n",
              "\u001b[32m│\u001b[0m  \u001b[92m      \"Built ML models for airfare forecasting (XGBoost, Random Forest)\",\u001b[0m                                      \u001b[32m│\u001b[0m\n",
              "\u001b[32m│\u001b[0m  \u001b[92m      \"Designed CVAE for age-controlled face generation\"\u001b[0m                                                       \u001b[32m│\u001b[0m\n",
              "\u001b[32m│\u001b[0m  \u001b[92m    ],\u001b[0m                                                                                                         \u001b[32m│\u001b[0m\n",
              "\u001b[32m│\u001b[0m  \u001b[92m    \"causal inference\": [\u001b[0m                                                                                      \u001b[32m│\u001b[0m\n",
              "\u001b[32m│\u001b[0m  \u001b[92m      \"Applied causal inference (DiD, matching) to evaluate policy impacts\",\u001b[0m                                   \u001b[32m│\u001b[0m\n",
              "\u001b[32m│\u001b[0m  \u001b[92m      \"Reduced debt servicing costs via causal inference analysis\",\u001b[0m                                            \u001b[32m│\u001b[0m\n",
              "\u001b[32m│\u001b[0m  \u001b[92m      \"Used Bayesian modeling and causal inference in behavioral experiments\"\u001b[0m                                  \u001b[32m│\u001b[0m\n",
              "\u001b[32m│\u001b[0m  \u001b[92m    ],\u001b[0m                                                                                                         \u001b[32m│\u001b[0m\n",
              "\u001b[32m│\u001b[0m  \u001b[92m    \"SQL and data pipelines\": [\u001b[0m                                                                                \u001b[32m│\u001b[0m\n",
              "\u001b[32m│\u001b[0m  \u001b[92m      \"Automated SQL pipelines for economic and financial data\",\u001b[0m                                               \u001b[32m│\u001b[0m\n",
              "\u001b[32m│\u001b[0m  \u001b[92m      \"Built SQL-Python pipeline analyzing 6.75M e-commerce records\"\u001b[0m                                           \u001b[32m│\u001b[0m\n",
              "\u001b[32m│\u001b[0m  \u001b[92m    ],\u001b[0m                                                                                                         \u001b[32m│\u001b[0m\n",
              "\u001b[32m│\u001b[0m  \u001b[92m    \"data visualization\": [\u001b[0m                                                                                    \u001b[32m│\u001b[0m\n",
              "\u001b[32m│\u001b[0m  \u001b[92m      \"Created dashboards with Streamlit for airfare forecasting\",\u001b[0m                                             \u001b[32m│\u001b[0m\n",
              "\u001b[32m│\u001b[0m  \u001b[92m      \"Built KPI dashboards for university department analysis\",\u001b[0m                                               \u001b[32m│\u001b[0m\n",
              "\u001b[32m│\u001b[0m  \u001b[92m      \"Produced economic reports and policy briefings\"\u001b[0m                                                         \u001b[32m│\u001b[0m\n",
              "\u001b[32m│\u001b[0m  \u001b[92m    ],\u001b[0m                                                                                                         \u001b[32m│\u001b[0m\n",
              "\u001b[32m│\u001b[0m  \u001b[92m    \"Python and ML\": [\u001b[0m                                                                                         \u001b[32m│\u001b[0m\n",
              "\u001b[32m│\u001b[0m  \u001b[92m      \"Proficient in Python (Pandas, NumPy, Scikit-Learn, NLP, neural networks)\",\u001b[0m                              \u001b[32m│\u001b[0m\n",
              "\u001b[32m│\u001b[0m  \u001b[92m      \"Experience deploying ML models in research and policy contexts\"\u001b[0m                                         \u001b[32m│\u001b[0m\n",
              "\u001b[32m│\u001b[0m  \u001b[92m    ],\u001b[0m                                                                                                         \u001b[32m│\u001b[0m\n",
              "\u001b[32m│\u001b[0m  \u001b[92m    \"large-scale ML systems and generative AI\": [\u001b[0m                                                              \u001b[32m│\u001b[0m\n",
              "\u001b[32m│\u001b[0m  \u001b[92m      \"Experience with generative AI, LLM fine-tuning, prompt engineering\",\u001b[0m                                    \u001b[32m│\u001b[0m\n",
              "\u001b[32m│\u001b[0m  \u001b[92m      \"Collaborating on healthcare LLM with Reinforcement Learning from EHRs\"\u001b[0m                                  \u001b[32m│\u001b[0m\n",
              "\u001b[32m│\u001b[0m  \u001b[92m    ],\u001b[0m                                                                                                         \u001b[32m│\u001b[0m\n",
              "\u001b[32m│\u001b[0m  \u001b[92m    \"business translation\": [\u001b[0m                                                                                  \u001b[32m│\u001b[0m\n",
              "\u001b[32m│\u001b[0m  \u001b[92m      \"Analyses informed national economic reports and policy decisions\",\u001b[0m                                      \u001b[32m│\u001b[0m\n",
              "\u001b[32m│\u001b[0m  \u001b[92m      \"Built dashboards and tools to improve operational visibility\"\u001b[0m                                           \u001b[32m│\u001b[0m\n",
              "\u001b[32m│\u001b[0m  \u001b[92m    ],\u001b[0m                                                                                                         \u001b[32m│\u001b[0m\n",
              "\u001b[32m│\u001b[0m  \u001b[92m    \"research and development\": [\u001b[0m                                                                              \u001b[32m│\u001b[0m\n",
              "\u001b[32m│\u001b[0m  \u001b[92m      \"Developed models for economic forecasting, policy impact, and healthcare\",\u001b[0m                              \u001b[32m│\u001b[0m\n",
              "\u001b[32m│\u001b[0m  \u001b[92m      \"Engaged in projects involving VAE, LLMs, and causal inference\"\u001b[0m                                          \u001b[32m│\u001b[0m\n",
              "\u001b[32m│\u001b[0m  \u001b[92m    ],\u001b[0m                                                                                                         \u001b[32m│\u001b[0m\n",
              "\u001b[32m│\u001b[0m  \u001b[92m    \"communication skills\": [\u001b[0m                                                                                  \u001b[32m│\u001b[0m\n",
              "\u001b[32m│\u001b[0m  \u001b[92m      \"Presented analyses in reports and policy briefings\",\u001b[0m                                                    \u001b[32m│\u001b[0m\n",
              "\u001b[32m│\u001b[0m  \u001b[92m      \"Collaborated with cross-functional teams including policymakers and researchers\"\u001b[0m                        \u001b[32m│\u001b[0m\n",
              "\u001b[32m│\u001b[0m  \u001b[92m    ],\u001b[0m                                                                                                         \u001b[32m│\u001b[0m\n",
              "\u001b[32m│\u001b[0m  \u001b[92m    \"nice to have\": [\u001b[0m                                                                                          \u001b[32m│\u001b[0m\n",
              "\u001b[32m│\u001b[0m  \u001b[92m      \"Experience with LLM evaluation pipelines, RAG architectures, and vector search is implied but not \u001b[0m      \u001b[32m│\u001b[0m\n",
              "\u001b[32m│\u001b[0m  \u001b[92mexplicitly demonstrated\",\u001b[0m                                                                                      \u001b[32m│\u001b[0m\n",
              "\u001b[32m│\u001b[0m  \u001b[92m      \"Specific tools like LangChain, LlamaIndex, LangSmith, Truera, Weights & Biases are not mentioned\"\u001b[0m       \u001b[32m│\u001b[0m\n",
              "\u001b[32m│\u001b[0m  \u001b[92m    ]\u001b[0m                                                                                                          \u001b[32m│\u001b[0m\n",
              "\u001b[32m│\u001b[0m  \u001b[92m  }\u001b[0m                                                                                                            \u001b[32m│\u001b[0m\n",
              "\u001b[32m│\u001b[0m  \u001b[92m}\u001b[0m                                                                                                              \u001b[32m│\u001b[0m\n",
              "\u001b[32m│\u001b[0m                                                                                                                 \u001b[32m│\u001b[0m\n",
              "\u001b[32m╰─────────────────────────────────────────────────────────────────────────────────────────────────────────────────╯\u001b[0m\n"
            ],
            "text/html": [
              "<pre style=\"white-space:pre;overflow-x:auto;line-height:normal;font-family:Menlo,'DejaVu Sans Mono',consolas,'Courier New',monospace\"><span style=\"color: #008000; text-decoration-color: #008000\">╭───────────────────────────────────────────── ✅ Agent Final Answer ─────────────────────────────────────────────╮</span>\n",
              "<span style=\"color: #008000; text-decoration-color: #008000\">│</span>                                                                                                                 <span style=\"color: #008000; text-decoration-color: #008000\">│</span>\n",
              "<span style=\"color: #008000; text-decoration-color: #008000\">│</span>  <span style=\"color: #c0c0c0; text-decoration-color: #c0c0c0\">Agent: </span><span style=\"color: #00ff00; text-decoration-color: #00ff00; font-weight: bold\">Profile Analyst</span>                                                                                         <span style=\"color: #008000; text-decoration-color: #008000\">│</span>\n",
              "<span style=\"color: #008000; text-decoration-color: #008000\">│</span>                                                                                                                 <span style=\"color: #008000; text-decoration-color: #008000\">│</span>\n",
              "<span style=\"color: #008000; text-decoration-color: #008000\">│</span>  <span style=\"color: #c0c0c0; text-decoration-color: #c0c0c0\">Final Answer:</span>                                                                                                  <span style=\"color: #008000; text-decoration-color: #008000\">│</span>\n",
              "<span style=\"color: #008000; text-decoration-color: #008000\">│</span>  <span style=\"color: #00ff00; text-decoration-color: #00ff00\">{</span>                                                                                                              <span style=\"color: #008000; text-decoration-color: #008000\">│</span>\n",
              "<span style=\"color: #008000; text-decoration-color: #008000\">│</span>  <span style=\"color: #00ff00; text-decoration-color: #00ff00\">  \"overall_match_pct\": 75.0,</span>                                                                                   <span style=\"color: #008000; text-decoration-color: #008000\">│</span>\n",
              "<span style=\"color: #008000; text-decoration-color: #008000\">│</span>  <span style=\"color: #00ff00; text-decoration-color: #00ff00\">  \"strong_alignment\": [</span>                                                                                        <span style=\"color: #008000; text-decoration-color: #008000\">│</span>\n",
              "<span style=\"color: #008000; text-decoration-color: #008000\">│</span>  <span style=\"color: #00ff00; text-decoration-color: #00ff00\">    \"Experience with predictive modeling (ARIMA, Prophet, XGBoost, Random Forest)\",</span>                            <span style=\"color: #008000; text-decoration-color: #008000\">│</span>\n",
              "<span style=\"color: #008000; text-decoration-color: #008000\">│</span>  <span style=\"color: #00ff00; text-decoration-color: #00ff00\">    \"Applied causal inference (DiD, matching) and A/B testing\",</span>                                                <span style=\"color: #008000; text-decoration-color: #008000\">│</span>\n",
              "<span style=\"color: #008000; text-decoration-color: #008000\">│</span>  <span style=\"color: #00ff00; text-decoration-color: #00ff00\">    \"Automated SQL pipelines and data evaluation processes\",</span>                                                   <span style=\"color: #008000; text-decoration-color: #008000\">│</span>\n",
              "<span style=\"color: #008000; text-decoration-color: #008000\">│</span>  <span style=\"color: #00ff00; text-decoration-color: #00ff00\">    \"Data visualization skills (Streamlit dashboards, economic reports)\",</span>                                      <span style=\"color: #008000; text-decoration-color: #008000\">│</span>\n",
              "<span style=\"color: #008000; text-decoration-color: #008000\">│</span>  <span style=\"color: #00ff00; text-decoration-color: #00ff00\">    \"Programming in Python and SQL\",</span>                                                                           <span style=\"color: #008000; text-decoration-color: #008000\">│</span>\n",
              "<span style=\"color: #008000; text-decoration-color: #008000\">│</span>  <span style=\"color: #00ff00; text-decoration-color: #00ff00\">    \"Experience with large-scale ML systems and generative AI\",</span>                                                <span style=\"color: #008000; text-decoration-color: #008000\">│</span>\n",
              "<span style=\"color: #008000; text-decoration-color: #008000\">│</span>  <span style=\"color: #00ff00; text-decoration-color: #00ff00\">    \"Research and development of ML models for forecasting and analysis\",</span>                                      <span style=\"color: #008000; text-decoration-color: #008000\">│</span>\n",
              "<span style=\"color: #008000; text-decoration-color: #008000\">│</span>  <span style=\"color: #00ff00; text-decoration-color: #00ff00\">    \"Ability to translate business questions into data solutions\",</span>                                             <span style=\"color: #008000; text-decoration-color: #008000\">│</span>\n",
              "<span style=\"color: #008000; text-decoration-color: #008000\">│</span>  <span style=\"color: #00ff00; text-decoration-color: #00ff00\">    \"Experience with hypothesis testing, time series, multivariate analysis\",</span>                                  <span style=\"color: #008000; text-decoration-color: #008000\">│</span>\n",
              "<span style=\"color: #008000; text-decoration-color: #008000\">│</span>  <span style=\"color: #00ff00; text-decoration-color: #00ff00\">    \"Experience with ML pipelines and deploying models in production\"</span>                                          <span style=\"color: #008000; text-decoration-color: #008000\">│</span>\n",
              "<span style=\"color: #008000; text-decoration-color: #008000\">│</span>  <span style=\"color: #00ff00; text-decoration-color: #00ff00\">  ],</span>                                                                                                           <span style=\"color: #008000; text-decoration-color: #008000\">│</span>\n",
              "<span style=\"color: #008000; text-decoration-color: #008000\">│</span>  <span style=\"color: #00ff00; text-decoration-color: #00ff00\">  \"partial_alignment\": [</span>                                                                                       <span style=\"color: #008000; text-decoration-color: #008000\">│</span>\n",
              "<span style=\"color: #008000; text-decoration-color: #008000\">│</span>  <span style=\"color: #00ff00; text-decoration-color: #00ff00\">    \"Experience with LLM evaluation pipelines and prompt engineering\",</span>                                         <span style=\"color: #008000; text-decoration-color: #008000\">│</span>\n",
              "<span style=\"color: #008000; text-decoration-color: #008000\">│</span>  <span style=\"color: #00ff00; text-decoration-color: #00ff00\">    \"Knowledge of RAG architectures, retrieval algorithms, vector similarity search\",</span>                          <span style=\"color: #008000; text-decoration-color: #008000\">│</span>\n",
              "<span style=\"color: #008000; text-decoration-color: #008000\">│</span>  <span style=\"color: #00ff00; text-decoration-color: #00ff00\">    \"Experience with observability tools for LLMs (e.g., LangSmith, Weights &amp; Biases)\",</span>                        <span style=\"color: #008000; text-decoration-color: #008000\">│</span>\n",
              "<span style=\"color: #008000; text-decoration-color: #008000\">│</span>  <span style=\"color: #00ff00; text-decoration-color: #00ff00\">    \"Experience with self-service data dashboards and tools\",</span>                                                  <span style=\"color: #008000; text-decoration-color: #008000\">│</span>\n",
              "<span style=\"color: #008000; text-decoration-color: #008000\">│</span>  <span style=\"color: #00ff00; text-decoration-color: #00ff00\">    \"Experience working with software engineers in production environments\"</span>                                    <span style=\"color: #008000; text-decoration-color: #008000\">│</span>\n",
              "<span style=\"color: #008000; text-decoration-color: #008000\">│</span>  <span style=\"color: #00ff00; text-decoration-color: #00ff00\">  ],</span>                                                                                                           <span style=\"color: #008000; text-decoration-color: #008000\">│</span>\n",
              "<span style=\"color: #008000; text-decoration-color: #008000\">│</span>  <span style=\"color: #00ff00; text-decoration-color: #00ff00\">  \"gaps\": [</span>                                                                                                    <span style=\"color: #008000; text-decoration-color: #008000\">│</span>\n",
              "<span style=\"color: #008000; text-decoration-color: #008000\">│</span>  <span style=\"color: #00ff00; text-decoration-color: #00ff00\">    \"Explicit experience with large language models (LLMs) beyond fine-tuning and prompt engineering\",</span>         <span style=\"color: #008000; text-decoration-color: #008000\">│</span>\n",
              "<span style=\"color: #008000; text-decoration-color: #008000\">│</span>  <span style=\"color: #00ff00; text-decoration-color: #00ff00\">    \"Specific experience with RAG architectures and retrieval algorithms\",</span>                                     <span style=\"color: #008000; text-decoration-color: #008000\">│</span>\n",
              "<span style=\"color: #008000; text-decoration-color: #008000\">│</span>  <span style=\"color: #00ff00; text-decoration-color: #00ff00\">    \"Hands-on experience with LLM evaluation pipelines and GenAI frameworks like LangChain or LlamaIndex\",</span>     <span style=\"color: #008000; text-decoration-color: #008000\">│</span>\n",
              "<span style=\"color: #008000; text-decoration-color: #008000\">│</span>  <span style=\"color: #00ff00; text-decoration-color: #00ff00\">    \"Experience with observability tools for LLMs (LangSmith, Truera, Weights &amp; Biases)\",</span>                      <span style=\"color: #008000; text-decoration-color: #008000\">│</span>\n",
              "<span style=\"color: #008000; text-decoration-color: #008000\">│</span>  <span style=\"color: #00ff00; text-decoration-color: #00ff00\">    \"Knowledge of vector similarity search and data modeling for vector graphs\",</span>                               <span style=\"color: #008000; text-decoration-color: #008000\">│</span>\n",
              "<span style=\"color: #008000; text-decoration-color: #008000\">│</span>  <span style=\"color: #00ff00; text-decoration-color: #00ff00\">    \"Advanced degree (MS or Ph.D.) in a related quantitative field (candidate is pursuing a Master’s)\"</span>         <span style=\"color: #008000; text-decoration-color: #008000\">│</span>\n",
              "<span style=\"color: #008000; text-decoration-color: #008000\">│</span>  <span style=\"color: #00ff00; text-decoration-color: #00ff00\">  ],</span>                                                                                                           <span style=\"color: #008000; text-decoration-color: #008000\">│</span>\n",
              "<span style=\"color: #008000; text-decoration-color: #008000\">│</span>  <span style=\"color: #00ff00; text-decoration-color: #00ff00\">  \"evidence_map\": {</span>                                                                                            <span style=\"color: #008000; text-decoration-color: #008000\">│</span>\n",
              "<span style=\"color: #008000; text-decoration-color: #008000\">│</span>  <span style=\"color: #00ff00; text-decoration-color: #00ff00\">    \"predictive modeling\": [</span>                                                                                   <span style=\"color: #008000; text-decoration-color: #008000\">│</span>\n",
              "<span style=\"color: #008000; text-decoration-color: #008000\">│</span>  <span style=\"color: #00ff00; text-decoration-color: #00ff00\">      \"Developed forecasting models (XGBoost, ARIMA, Prophet) that improved regional economic predictions by </span>  <span style=\"color: #008000; text-decoration-color: #008000\">│</span>\n",
              "<span style=\"color: #008000; text-decoration-color: #008000\">│</span>  <span style=\"color: #00ff00; text-decoration-color: #00ff00\">15%\",</span>                                                                                                          <span style=\"color: #008000; text-decoration-color: #008000\">│</span>\n",
              "<span style=\"color: #008000; text-decoration-color: #008000\">│</span>  <span style=\"color: #00ff00; text-decoration-color: #00ff00\">      \"Built ML models for airfare forecasting (XGBoost, Random Forest)\",</span>                                      <span style=\"color: #008000; text-decoration-color: #008000\">│</span>\n",
              "<span style=\"color: #008000; text-decoration-color: #008000\">│</span>  <span style=\"color: #00ff00; text-decoration-color: #00ff00\">      \"Designed CVAE for age-controlled face generation\"</span>                                                       <span style=\"color: #008000; text-decoration-color: #008000\">│</span>\n",
              "<span style=\"color: #008000; text-decoration-color: #008000\">│</span>  <span style=\"color: #00ff00; text-decoration-color: #00ff00\">    ],</span>                                                                                                         <span style=\"color: #008000; text-decoration-color: #008000\">│</span>\n",
              "<span style=\"color: #008000; text-decoration-color: #008000\">│</span>  <span style=\"color: #00ff00; text-decoration-color: #00ff00\">    \"causal inference\": [</span>                                                                                      <span style=\"color: #008000; text-decoration-color: #008000\">│</span>\n",
              "<span style=\"color: #008000; text-decoration-color: #008000\">│</span>  <span style=\"color: #00ff00; text-decoration-color: #00ff00\">      \"Applied causal inference (DiD, matching) to evaluate policy impacts\",</span>                                   <span style=\"color: #008000; text-decoration-color: #008000\">│</span>\n",
              "<span style=\"color: #008000; text-decoration-color: #008000\">│</span>  <span style=\"color: #00ff00; text-decoration-color: #00ff00\">      \"Reduced debt servicing costs via causal inference analysis\",</span>                                            <span style=\"color: #008000; text-decoration-color: #008000\">│</span>\n",
              "<span style=\"color: #008000; text-decoration-color: #008000\">│</span>  <span style=\"color: #00ff00; text-decoration-color: #00ff00\">      \"Used Bayesian modeling and causal inference in behavioral experiments\"</span>                                  <span style=\"color: #008000; text-decoration-color: #008000\">│</span>\n",
              "<span style=\"color: #008000; text-decoration-color: #008000\">│</span>  <span style=\"color: #00ff00; text-decoration-color: #00ff00\">    ],</span>                                                                                                         <span style=\"color: #008000; text-decoration-color: #008000\">│</span>\n",
              "<span style=\"color: #008000; text-decoration-color: #008000\">│</span>  <span style=\"color: #00ff00; text-decoration-color: #00ff00\">    \"SQL and data pipelines\": [</span>                                                                                <span style=\"color: #008000; text-decoration-color: #008000\">│</span>\n",
              "<span style=\"color: #008000; text-decoration-color: #008000\">│</span>  <span style=\"color: #00ff00; text-decoration-color: #00ff00\">      \"Automated SQL pipelines for economic and financial data\",</span>                                               <span style=\"color: #008000; text-decoration-color: #008000\">│</span>\n",
              "<span style=\"color: #008000; text-decoration-color: #008000\">│</span>  <span style=\"color: #00ff00; text-decoration-color: #00ff00\">      \"Built SQL-Python pipeline analyzing 6.75M e-commerce records\"</span>                                           <span style=\"color: #008000; text-decoration-color: #008000\">│</span>\n",
              "<span style=\"color: #008000; text-decoration-color: #008000\">│</span>  <span style=\"color: #00ff00; text-decoration-color: #00ff00\">    ],</span>                                                                                                         <span style=\"color: #008000; text-decoration-color: #008000\">│</span>\n",
              "<span style=\"color: #008000; text-decoration-color: #008000\">│</span>  <span style=\"color: #00ff00; text-decoration-color: #00ff00\">    \"data visualization\": [</span>                                                                                    <span style=\"color: #008000; text-decoration-color: #008000\">│</span>\n",
              "<span style=\"color: #008000; text-decoration-color: #008000\">│</span>  <span style=\"color: #00ff00; text-decoration-color: #00ff00\">      \"Created dashboards with Streamlit for airfare forecasting\",</span>                                             <span style=\"color: #008000; text-decoration-color: #008000\">│</span>\n",
              "<span style=\"color: #008000; text-decoration-color: #008000\">│</span>  <span style=\"color: #00ff00; text-decoration-color: #00ff00\">      \"Built KPI dashboards for university department analysis\",</span>                                               <span style=\"color: #008000; text-decoration-color: #008000\">│</span>\n",
              "<span style=\"color: #008000; text-decoration-color: #008000\">│</span>  <span style=\"color: #00ff00; text-decoration-color: #00ff00\">      \"Produced economic reports and policy briefings\"</span>                                                         <span style=\"color: #008000; text-decoration-color: #008000\">│</span>\n",
              "<span style=\"color: #008000; text-decoration-color: #008000\">│</span>  <span style=\"color: #00ff00; text-decoration-color: #00ff00\">    ],</span>                                                                                                         <span style=\"color: #008000; text-decoration-color: #008000\">│</span>\n",
              "<span style=\"color: #008000; text-decoration-color: #008000\">│</span>  <span style=\"color: #00ff00; text-decoration-color: #00ff00\">    \"Python and ML\": [</span>                                                                                         <span style=\"color: #008000; text-decoration-color: #008000\">│</span>\n",
              "<span style=\"color: #008000; text-decoration-color: #008000\">│</span>  <span style=\"color: #00ff00; text-decoration-color: #00ff00\">      \"Proficient in Python (Pandas, NumPy, Scikit-Learn, NLP, neural networks)\",</span>                              <span style=\"color: #008000; text-decoration-color: #008000\">│</span>\n",
              "<span style=\"color: #008000; text-decoration-color: #008000\">│</span>  <span style=\"color: #00ff00; text-decoration-color: #00ff00\">      \"Experience deploying ML models in research and policy contexts\"</span>                                         <span style=\"color: #008000; text-decoration-color: #008000\">│</span>\n",
              "<span style=\"color: #008000; text-decoration-color: #008000\">│</span>  <span style=\"color: #00ff00; text-decoration-color: #00ff00\">    ],</span>                                                                                                         <span style=\"color: #008000; text-decoration-color: #008000\">│</span>\n",
              "<span style=\"color: #008000; text-decoration-color: #008000\">│</span>  <span style=\"color: #00ff00; text-decoration-color: #00ff00\">    \"large-scale ML systems and generative AI\": [</span>                                                              <span style=\"color: #008000; text-decoration-color: #008000\">│</span>\n",
              "<span style=\"color: #008000; text-decoration-color: #008000\">│</span>  <span style=\"color: #00ff00; text-decoration-color: #00ff00\">      \"Experience with generative AI, LLM fine-tuning, prompt engineering\",</span>                                    <span style=\"color: #008000; text-decoration-color: #008000\">│</span>\n",
              "<span style=\"color: #008000; text-decoration-color: #008000\">│</span>  <span style=\"color: #00ff00; text-decoration-color: #00ff00\">      \"Collaborating on healthcare LLM with Reinforcement Learning from EHRs\"</span>                                  <span style=\"color: #008000; text-decoration-color: #008000\">│</span>\n",
              "<span style=\"color: #008000; text-decoration-color: #008000\">│</span>  <span style=\"color: #00ff00; text-decoration-color: #00ff00\">    ],</span>                                                                                                         <span style=\"color: #008000; text-decoration-color: #008000\">│</span>\n",
              "<span style=\"color: #008000; text-decoration-color: #008000\">│</span>  <span style=\"color: #00ff00; text-decoration-color: #00ff00\">    \"business translation\": [</span>                                                                                  <span style=\"color: #008000; text-decoration-color: #008000\">│</span>\n",
              "<span style=\"color: #008000; text-decoration-color: #008000\">│</span>  <span style=\"color: #00ff00; text-decoration-color: #00ff00\">      \"Analyses informed national economic reports and policy decisions\",</span>                                      <span style=\"color: #008000; text-decoration-color: #008000\">│</span>\n",
              "<span style=\"color: #008000; text-decoration-color: #008000\">│</span>  <span style=\"color: #00ff00; text-decoration-color: #00ff00\">      \"Built dashboards and tools to improve operational visibility\"</span>                                           <span style=\"color: #008000; text-decoration-color: #008000\">│</span>\n",
              "<span style=\"color: #008000; text-decoration-color: #008000\">│</span>  <span style=\"color: #00ff00; text-decoration-color: #00ff00\">    ],</span>                                                                                                         <span style=\"color: #008000; text-decoration-color: #008000\">│</span>\n",
              "<span style=\"color: #008000; text-decoration-color: #008000\">│</span>  <span style=\"color: #00ff00; text-decoration-color: #00ff00\">    \"research and development\": [</span>                                                                              <span style=\"color: #008000; text-decoration-color: #008000\">│</span>\n",
              "<span style=\"color: #008000; text-decoration-color: #008000\">│</span>  <span style=\"color: #00ff00; text-decoration-color: #00ff00\">      \"Developed models for economic forecasting, policy impact, and healthcare\",</span>                              <span style=\"color: #008000; text-decoration-color: #008000\">│</span>\n",
              "<span style=\"color: #008000; text-decoration-color: #008000\">│</span>  <span style=\"color: #00ff00; text-decoration-color: #00ff00\">      \"Engaged in projects involving VAE, LLMs, and causal inference\"</span>                                          <span style=\"color: #008000; text-decoration-color: #008000\">│</span>\n",
              "<span style=\"color: #008000; text-decoration-color: #008000\">│</span>  <span style=\"color: #00ff00; text-decoration-color: #00ff00\">    ],</span>                                                                                                         <span style=\"color: #008000; text-decoration-color: #008000\">│</span>\n",
              "<span style=\"color: #008000; text-decoration-color: #008000\">│</span>  <span style=\"color: #00ff00; text-decoration-color: #00ff00\">    \"communication skills\": [</span>                                                                                  <span style=\"color: #008000; text-decoration-color: #008000\">│</span>\n",
              "<span style=\"color: #008000; text-decoration-color: #008000\">│</span>  <span style=\"color: #00ff00; text-decoration-color: #00ff00\">      \"Presented analyses in reports and policy briefings\",</span>                                                    <span style=\"color: #008000; text-decoration-color: #008000\">│</span>\n",
              "<span style=\"color: #008000; text-decoration-color: #008000\">│</span>  <span style=\"color: #00ff00; text-decoration-color: #00ff00\">      \"Collaborated with cross-functional teams including policymakers and researchers\"</span>                        <span style=\"color: #008000; text-decoration-color: #008000\">│</span>\n",
              "<span style=\"color: #008000; text-decoration-color: #008000\">│</span>  <span style=\"color: #00ff00; text-decoration-color: #00ff00\">    ],</span>                                                                                                         <span style=\"color: #008000; text-decoration-color: #008000\">│</span>\n",
              "<span style=\"color: #008000; text-decoration-color: #008000\">│</span>  <span style=\"color: #00ff00; text-decoration-color: #00ff00\">    \"nice to have\": [</span>                                                                                          <span style=\"color: #008000; text-decoration-color: #008000\">│</span>\n",
              "<span style=\"color: #008000; text-decoration-color: #008000\">│</span>  <span style=\"color: #00ff00; text-decoration-color: #00ff00\">      \"Experience with LLM evaluation pipelines, RAG architectures, and vector search is implied but not </span>      <span style=\"color: #008000; text-decoration-color: #008000\">│</span>\n",
              "<span style=\"color: #008000; text-decoration-color: #008000\">│</span>  <span style=\"color: #00ff00; text-decoration-color: #00ff00\">explicitly demonstrated\",</span>                                                                                      <span style=\"color: #008000; text-decoration-color: #008000\">│</span>\n",
              "<span style=\"color: #008000; text-decoration-color: #008000\">│</span>  <span style=\"color: #00ff00; text-decoration-color: #00ff00\">      \"Specific tools like LangChain, LlamaIndex, LangSmith, Truera, Weights &amp; Biases are not mentioned\"</span>       <span style=\"color: #008000; text-decoration-color: #008000\">│</span>\n",
              "<span style=\"color: #008000; text-decoration-color: #008000\">│</span>  <span style=\"color: #00ff00; text-decoration-color: #00ff00\">    ]</span>                                                                                                          <span style=\"color: #008000; text-decoration-color: #008000\">│</span>\n",
              "<span style=\"color: #008000; text-decoration-color: #008000\">│</span>  <span style=\"color: #00ff00; text-decoration-color: #00ff00\">  }</span>                                                                                                            <span style=\"color: #008000; text-decoration-color: #008000\">│</span>\n",
              "<span style=\"color: #008000; text-decoration-color: #008000\">│</span>  <span style=\"color: #00ff00; text-decoration-color: #00ff00\">}</span>                                                                                                              <span style=\"color: #008000; text-decoration-color: #008000\">│</span>\n",
              "<span style=\"color: #008000; text-decoration-color: #008000\">│</span>                                                                                                                 <span style=\"color: #008000; text-decoration-color: #008000\">│</span>\n",
              "<span style=\"color: #008000; text-decoration-color: #008000\">╰─────────────────────────────────────────────────────────────────────────────────────────────────────────────────╯</span>\n",
              "</pre>\n"
            ]
          },
          "metadata": {}
        },
        {
          "output_type": "display_data",
          "data": {
            "text/plain": [
              "\n"
            ],
            "text/html": [
              "<pre style=\"white-space:pre;overflow-x:auto;line-height:normal;font-family:Menlo,'DejaVu Sans Mono',consolas,'Courier New',monospace\">\n",
              "</pre>\n"
            ]
          },
          "metadata": {}
        },
        {
          "output_type": "display_data",
          "data": {
            "text/plain": [],
            "text/html": [
              "<pre style=\"white-space:pre;overflow-x:auto;line-height:normal;font-family:Menlo,'DejaVu Sans Mono',consolas,'Courier New',monospace\"></pre>\n"
            ]
          },
          "metadata": {}
        },
        {
          "output_type": "display_data",
          "data": {
            "text/plain": [
              "\u001b[32m╭─\u001b[0m\u001b[32m────────────────────────────────────────────\u001b[0m\u001b[32m LiteAgent Completion \u001b[0m\u001b[32m─────────────────────────────────────────────\u001b[0m\u001b[32m─╮\u001b[0m\n",
              "\u001b[32m│\u001b[0m                                                                                                                 \u001b[32m│\u001b[0m\n",
              "\u001b[32m│\u001b[0m  \u001b[1;32mLiteAgent Completed\u001b[0m                                                                                            \u001b[32m│\u001b[0m\n",
              "\u001b[32m│\u001b[0m  \u001b[37mName: \u001b[0m\u001b[32mProfile Analyst\u001b[0m                                                                                          \u001b[32m│\u001b[0m\n",
              "\u001b[32m│\u001b[0m  \u001b[37mid: \u001b[0m\u001b[32m36da88b6-ec83-4214-a08e-344624642f7d\u001b[0m                                                                       \u001b[32m│\u001b[0m\n",
              "\u001b[32m│\u001b[0m  \u001b[37mrole: \u001b[0m\u001b[32mProfile Analyst\u001b[0m                                                                                          \u001b[32m│\u001b[0m\n",
              "\u001b[32m│\u001b[0m  \u001b[37mgoal: \u001b[0m\u001b[32mMap candidate resume, skills, and experiences to JD. Score alignment, find gaps, and surface evidence.\u001b[0m   \u001b[32m│\u001b[0m\n",
              "\u001b[32m│\u001b[0m  \u001b[37mbackstory: \u001b[0m\u001b[32mSenior data scientist & resume analyst. You evaluate impact with metrics, OKRs, and business \u001b[0m       \u001b[32m│\u001b[0m\n",
              "\u001b[32m│\u001b[0m  \u001b[32moutcomes.\u001b[0m                                                                                                      \u001b[32m│\u001b[0m\n",
              "\u001b[32m│\u001b[0m  \u001b[37mtools: \u001b[0m\u001b[32m[]\u001b[0m                                                                                                      \u001b[32m│\u001b[0m\n",
              "\u001b[32m│\u001b[0m  \u001b[37mverbose: \u001b[0m\u001b[32mTrue\u001b[0m                                                                                                  \u001b[32m│\u001b[0m\n",
              "\u001b[32m│\u001b[0m  \u001b[37mTool Args: \u001b[0m                                                                                                    \u001b[32m│\u001b[0m\n",
              "\u001b[32m│\u001b[0m                                                                                                                 \u001b[32m│\u001b[0m\n",
              "\u001b[32m│\u001b[0m                                                                                                                 \u001b[32m│\u001b[0m\n",
              "\u001b[32m╰─────────────────────────────────────────────────────────────────────────────────────────────────────────────────╯\u001b[0m\n"
            ],
            "text/html": [
              "<pre style=\"white-space:pre;overflow-x:auto;line-height:normal;font-family:Menlo,'DejaVu Sans Mono',consolas,'Courier New',monospace\"><span style=\"color: #008000; text-decoration-color: #008000\">╭───────────────────────────────────────────── LiteAgent Completion ──────────────────────────────────────────────╮</span>\n",
              "<span style=\"color: #008000; text-decoration-color: #008000\">│</span>                                                                                                                 <span style=\"color: #008000; text-decoration-color: #008000\">│</span>\n",
              "<span style=\"color: #008000; text-decoration-color: #008000\">│</span>  <span style=\"color: #008000; text-decoration-color: #008000; font-weight: bold\">LiteAgent Completed</span>                                                                                            <span style=\"color: #008000; text-decoration-color: #008000\">│</span>\n",
              "<span style=\"color: #008000; text-decoration-color: #008000\">│</span>  <span style=\"color: #c0c0c0; text-decoration-color: #c0c0c0\">Name: </span><span style=\"color: #008000; text-decoration-color: #008000\">Profile Analyst</span>                                                                                          <span style=\"color: #008000; text-decoration-color: #008000\">│</span>\n",
              "<span style=\"color: #008000; text-decoration-color: #008000\">│</span>  <span style=\"color: #c0c0c0; text-decoration-color: #c0c0c0\">id: </span><span style=\"color: #008000; text-decoration-color: #008000\">36da88b6-ec83-4214-a08e-344624642f7d</span>                                                                       <span style=\"color: #008000; text-decoration-color: #008000\">│</span>\n",
              "<span style=\"color: #008000; text-decoration-color: #008000\">│</span>  <span style=\"color: #c0c0c0; text-decoration-color: #c0c0c0\">role: </span><span style=\"color: #008000; text-decoration-color: #008000\">Profile Analyst</span>                                                                                          <span style=\"color: #008000; text-decoration-color: #008000\">│</span>\n",
              "<span style=\"color: #008000; text-decoration-color: #008000\">│</span>  <span style=\"color: #c0c0c0; text-decoration-color: #c0c0c0\">goal: </span><span style=\"color: #008000; text-decoration-color: #008000\">Map candidate resume, skills, and experiences to JD. Score alignment, find gaps, and surface evidence.</span>   <span style=\"color: #008000; text-decoration-color: #008000\">│</span>\n",
              "<span style=\"color: #008000; text-decoration-color: #008000\">│</span>  <span style=\"color: #c0c0c0; text-decoration-color: #c0c0c0\">backstory: </span><span style=\"color: #008000; text-decoration-color: #008000\">Senior data scientist &amp; resume analyst. You evaluate impact with metrics, OKRs, and business </span>       <span style=\"color: #008000; text-decoration-color: #008000\">│</span>\n",
              "<span style=\"color: #008000; text-decoration-color: #008000\">│</span>  <span style=\"color: #008000; text-decoration-color: #008000\">outcomes.</span>                                                                                                      <span style=\"color: #008000; text-decoration-color: #008000\">│</span>\n",
              "<span style=\"color: #008000; text-decoration-color: #008000\">│</span>  <span style=\"color: #c0c0c0; text-decoration-color: #c0c0c0\">tools: </span><span style=\"color: #008000; text-decoration-color: #008000\">[]</span>                                                                                                      <span style=\"color: #008000; text-decoration-color: #008000\">│</span>\n",
              "<span style=\"color: #008000; text-decoration-color: #008000\">│</span>  <span style=\"color: #c0c0c0; text-decoration-color: #c0c0c0\">verbose: </span><span style=\"color: #008000; text-decoration-color: #008000\">True</span>                                                                                                  <span style=\"color: #008000; text-decoration-color: #008000\">│</span>\n",
              "<span style=\"color: #008000; text-decoration-color: #008000\">│</span>  <span style=\"color: #c0c0c0; text-decoration-color: #c0c0c0\">Tool Args: </span>                                                                                                    <span style=\"color: #008000; text-decoration-color: #008000\">│</span>\n",
              "<span style=\"color: #008000; text-decoration-color: #008000\">│</span>                                                                                                                 <span style=\"color: #008000; text-decoration-color: #008000\">│</span>\n",
              "<span style=\"color: #008000; text-decoration-color: #008000\">│</span>                                                                                                                 <span style=\"color: #008000; text-decoration-color: #008000\">│</span>\n",
              "<span style=\"color: #008000; text-decoration-color: #008000\">╰─────────────────────────────────────────────────────────────────────────────────────────────────────────────────╯</span>\n",
              "</pre>\n"
            ]
          },
          "metadata": {}
        },
        {
          "output_type": "display_data",
          "data": {
            "text/plain": [
              "\n"
            ],
            "text/html": [
              "<pre style=\"white-space:pre;overflow-x:auto;line-height:normal;font-family:Menlo,'DejaVu Sans Mono',consolas,'Courier New',monospace\">\n",
              "</pre>\n"
            ]
          },
          "metadata": {}
        },
        {
          "output_type": "display_data",
          "data": {
            "text/plain": [
              "Output()"
            ],
            "application/vnd.jupyter.widget-view+json": {
              "version_major": 2,
              "version_minor": 0,
              "model_id": "d27b1f3961a44673925730ace291bc30"
            }
          },
          "metadata": {}
        },
        {
          "output_type": "display_data",
          "data": {
            "text/plain": [
              "/usr/local/lib/python3.11/dist-packages/ipywidgets/widgets/widget_output.py:111: DeprecationWarning: \n",
              "Kernel._parent_header is deprecated in ipykernel 6. Use .get_parent()\n",
              "  if ip and hasattr(ip, 'kernel') and hasattr(ip.kernel, '_parent_header'):\n"
            ],
            "text/html": [
              "<pre style=\"white-space:pre;overflow-x:auto;line-height:normal;font-family:Menlo,'DejaVu Sans Mono',consolas,'Courier New',monospace\">/usr/local/lib/python3.11/dist-packages/ipywidgets/widgets/widget_output.py:111: DeprecationWarning: \n",
              "Kernel._parent_header is deprecated in ipykernel 6. Use .get_parent()\n",
              "  if ip and hasattr(ip, 'kernel') and hasattr(ip.kernel, '_parent_header'):\n",
              "</pre>\n"
            ]
          },
          "metadata": {}
        },
        {
          "output_type": "display_data",
          "data": {
            "text/plain": [
              "/usr/local/lib/python3.11/dist-packages/ipywidgets/widgets/widget_output.py:112: DeprecationWarning: \n",
              "Kernel._parent_header is deprecated in ipykernel 6. Use .get_parent()\n",
              "  self.msg_id = ip.kernel._parent_header['header']['msg_id']\n"
            ],
            "text/html": [
              "<pre style=\"white-space:pre;overflow-x:auto;line-height:normal;font-family:Menlo,'DejaVu Sans Mono',consolas,'Courier New',monospace\">/usr/local/lib/python3.11/dist-packages/ipywidgets/widgets/widget_output.py:112: DeprecationWarning: \n",
              "Kernel._parent_header is deprecated in ipykernel 6. Use .get_parent()\n",
              "  self.msg_id = ip.kernel._parent_header['header']['msg_id']\n",
              "</pre>\n"
            ]
          },
          "metadata": {}
        },
        {
          "output_type": "display_data",
          "data": {
            "text/plain": [],
            "text/html": [
              "<pre style=\"white-space:pre;overflow-x:auto;line-height:normal;font-family:Menlo,'DejaVu Sans Mono',consolas,'Courier New',monospace\"></pre>\n"
            ]
          },
          "metadata": {}
        },
        {
          "output_type": "display_data",
          "data": {
            "text/plain": [
              "\u001b[36m╭─\u001b[0m\u001b[36m──────────────────────────────────────────────\u001b[0m\u001b[36m LiteAgent Started \u001b[0m\u001b[36m──────────────────────────────────────────────\u001b[0m\u001b[36m─╮\u001b[0m\n",
              "\u001b[36m│\u001b[0m                                                                                                                 \u001b[36m│\u001b[0m\n",
              "\u001b[36m│\u001b[0m  \u001b[1;36mLiteAgent Session Started\u001b[0m                                                                                      \u001b[36m│\u001b[0m\n",
              "\u001b[36m│\u001b[0m  \u001b[37mName: \u001b[0m\u001b[36mResume Strategist\u001b[0m                                                                                        \u001b[36m│\u001b[0m\n",
              "\u001b[36m│\u001b[0m  \u001b[37mid: \u001b[0m\u001b[36me312b2cf-20af-430f-981a-ddee8f04573f\u001b[0m                                                                       \u001b[36m│\u001b[0m\n",
              "\u001b[36m│\u001b[0m  \u001b[37mrole: \u001b[0m\u001b[36mResume Strategist\u001b[0m                                                                                        \u001b[36m│\u001b[0m\n",
              "\u001b[36m│\u001b[0m  \u001b[37mgoal: \u001b[0m\u001b[36mDesign a sharp, ATS-optimized resume strategy that highlights role-relevant skills and quantified \u001b[0m       \u001b[36m│\u001b[0m\n",
              "\u001b[36m│\u001b[0m  \u001b[36machievements.\u001b[0m                                                                                                  \u001b[36m│\u001b[0m\n",
              "\u001b[36m│\u001b[0m  \u001b[37mbackstory: \u001b[0m\u001b[36mMcKinsey-style communications coach. Expert at executive summaries, power verbs, and concise \u001b[0m       \u001b[36m│\u001b[0m\n",
              "\u001b[36m│\u001b[0m  \u001b[36mstorytelling.\u001b[0m                                                                                                  \u001b[36m│\u001b[0m\n",
              "\u001b[36m│\u001b[0m  \u001b[37mtools: \u001b[0m\u001b[36m[]\u001b[0m                                                                                                      \u001b[36m│\u001b[0m\n",
              "\u001b[36m│\u001b[0m  \u001b[37mverbose: \u001b[0m\u001b[36mTrue\u001b[0m                                                                                                  \u001b[36m│\u001b[0m\n",
              "\u001b[36m│\u001b[0m  \u001b[37mTool Args: \u001b[0m                                                                                                    \u001b[36m│\u001b[0m\n",
              "\u001b[36m│\u001b[0m                                                                                                                 \u001b[36m│\u001b[0m\n",
              "\u001b[36m│\u001b[0m                                                                                                                 \u001b[36m│\u001b[0m\n",
              "\u001b[36m╰─────────────────────────────────────────────────────────────────────────────────────────────────────────────────╯\u001b[0m\n"
            ],
            "text/html": [
              "<pre style=\"white-space:pre;overflow-x:auto;line-height:normal;font-family:Menlo,'DejaVu Sans Mono',consolas,'Courier New',monospace\"><span style=\"color: #008080; text-decoration-color: #008080\">╭─────────────────────────────────────────────── LiteAgent Started ───────────────────────────────────────────────╮</span>\n",
              "<span style=\"color: #008080; text-decoration-color: #008080\">│</span>                                                                                                                 <span style=\"color: #008080; text-decoration-color: #008080\">│</span>\n",
              "<span style=\"color: #008080; text-decoration-color: #008080\">│</span>  <span style=\"color: #008080; text-decoration-color: #008080; font-weight: bold\">LiteAgent Session Started</span>                                                                                      <span style=\"color: #008080; text-decoration-color: #008080\">│</span>\n",
              "<span style=\"color: #008080; text-decoration-color: #008080\">│</span>  <span style=\"color: #c0c0c0; text-decoration-color: #c0c0c0\">Name: </span><span style=\"color: #008080; text-decoration-color: #008080\">Resume Strategist</span>                                                                                        <span style=\"color: #008080; text-decoration-color: #008080\">│</span>\n",
              "<span style=\"color: #008080; text-decoration-color: #008080\">│</span>  <span style=\"color: #c0c0c0; text-decoration-color: #c0c0c0\">id: </span><span style=\"color: #008080; text-decoration-color: #008080\">e312b2cf-20af-430f-981a-ddee8f04573f</span>                                                                       <span style=\"color: #008080; text-decoration-color: #008080\">│</span>\n",
              "<span style=\"color: #008080; text-decoration-color: #008080\">│</span>  <span style=\"color: #c0c0c0; text-decoration-color: #c0c0c0\">role: </span><span style=\"color: #008080; text-decoration-color: #008080\">Resume Strategist</span>                                                                                        <span style=\"color: #008080; text-decoration-color: #008080\">│</span>\n",
              "<span style=\"color: #008080; text-decoration-color: #008080\">│</span>  <span style=\"color: #c0c0c0; text-decoration-color: #c0c0c0\">goal: </span><span style=\"color: #008080; text-decoration-color: #008080\">Design a sharp, ATS-optimized resume strategy that highlights role-relevant skills and quantified </span>       <span style=\"color: #008080; text-decoration-color: #008080\">│</span>\n",
              "<span style=\"color: #008080; text-decoration-color: #008080\">│</span>  <span style=\"color: #008080; text-decoration-color: #008080\">achievements.</span>                                                                                                  <span style=\"color: #008080; text-decoration-color: #008080\">│</span>\n",
              "<span style=\"color: #008080; text-decoration-color: #008080\">│</span>  <span style=\"color: #c0c0c0; text-decoration-color: #c0c0c0\">backstory: </span><span style=\"color: #008080; text-decoration-color: #008080\">McKinsey-style communications coach. Expert at executive summaries, power verbs, and concise </span>       <span style=\"color: #008080; text-decoration-color: #008080\">│</span>\n",
              "<span style=\"color: #008080; text-decoration-color: #008080\">│</span>  <span style=\"color: #008080; text-decoration-color: #008080\">storytelling.</span>                                                                                                  <span style=\"color: #008080; text-decoration-color: #008080\">│</span>\n",
              "<span style=\"color: #008080; text-decoration-color: #008080\">│</span>  <span style=\"color: #c0c0c0; text-decoration-color: #c0c0c0\">tools: </span><span style=\"color: #008080; text-decoration-color: #008080\">[]</span>                                                                                                      <span style=\"color: #008080; text-decoration-color: #008080\">│</span>\n",
              "<span style=\"color: #008080; text-decoration-color: #008080\">│</span>  <span style=\"color: #c0c0c0; text-decoration-color: #c0c0c0\">verbose: </span><span style=\"color: #008080; text-decoration-color: #008080\">True</span>                                                                                                  <span style=\"color: #008080; text-decoration-color: #008080\">│</span>\n",
              "<span style=\"color: #008080; text-decoration-color: #008080\">│</span>  <span style=\"color: #c0c0c0; text-decoration-color: #c0c0c0\">Tool Args: </span>                                                                                                    <span style=\"color: #008080; text-decoration-color: #008080\">│</span>\n",
              "<span style=\"color: #008080; text-decoration-color: #008080\">│</span>                                                                                                                 <span style=\"color: #008080; text-decoration-color: #008080\">│</span>\n",
              "<span style=\"color: #008080; text-decoration-color: #008080\">│</span>                                                                                                                 <span style=\"color: #008080; text-decoration-color: #008080\">│</span>\n",
              "<span style=\"color: #008080; text-decoration-color: #008080\">╰─────────────────────────────────────────────────────────────────────────────────────────────────────────────────╯</span>\n",
              "</pre>\n"
            ]
          },
          "metadata": {}
        },
        {
          "output_type": "display_data",
          "data": {
            "text/plain": [
              "\n"
            ],
            "text/html": [
              "<pre style=\"white-space:pre;overflow-x:auto;line-height:normal;font-family:Menlo,'DejaVu Sans Mono',consolas,'Courier New',monospace\">\n",
              "</pre>\n"
            ]
          },
          "metadata": {}
        },
        {
          "output_type": "display_data",
          "data": {
            "text/plain": [
              "\u001b[32m╭─\u001b[0m\u001b[32m────────────────────────────────────────────\u001b[0m\u001b[32m ✅ Agent Final Answer \u001b[0m\u001b[32m────────────────────────────────────────────\u001b[0m\u001b[32m─╮\u001b[0m\n",
              "\u001b[32m│\u001b[0m                                                                                                                 \u001b[32m│\u001b[0m\n",
              "\u001b[32m│\u001b[0m  \u001b[37mAgent: \u001b[0m\u001b[1;92mResume Strategist\u001b[0m                                                                                       \u001b[32m│\u001b[0m\n",
              "\u001b[32m│\u001b[0m                                                                                                                 \u001b[32m│\u001b[0m\n",
              "\u001b[32m│\u001b[0m  \u001b[37mFinal Answer:\u001b[0m                                                                                                  \u001b[32m│\u001b[0m\n",
              "\u001b[32m│\u001b[0m  \u001b[92m{\u001b[0m                                                                                                              \u001b[32m│\u001b[0m\n",
              "\u001b[32m│\u001b[0m  \u001b[92m  \"objective\": null,\u001b[0m                                                                                           \u001b[32m│\u001b[0m\n",
              "\u001b[32m│\u001b[0m  \u001b[92m  \"top_summary\": \"Senior AI Data Scientist with 6+ years of experience delivering scalable predictive models,\u001b[0m  \u001b[32m│\u001b[0m\n",
              "\u001b[32m│\u001b[0m  \u001b[92mcausal inference, and large-scale ML pipelines. Proven ability to translate complex business questions into \u001b[0m   \u001b[32m│\u001b[0m\n",
              "\u001b[32m│\u001b[0m  \u001b[92mdata-driven solutions, deploying models in production that increased forecast accuracy by up to 15%. Skilled \u001b[0m  \u001b[32m│\u001b[0m\n",
              "\u001b[32m│\u001b[0m  \u001b[92min LLM evaluation, RAG architectures, and data visualization, with a strong record of cross-functional \u001b[0m        \u001b[32m│\u001b[0m\n",
              "\u001b[32m│\u001b[0m  \u001b[92mcollaboration and technical communication.\",\u001b[0m                                                                   \u001b[32m│\u001b[0m\n",
              "\u001b[32m│\u001b[0m  \u001b[92m  \"highlight_sections\": [\"Summary\", \"Key Skills\", \"Experience\", \"Education\"],\u001b[0m                                  \u001b[32m│\u001b[0m\n",
              "\u001b[32m│\u001b[0m  \u001b[92m  \"key_skills_block\": [\u001b[0m                                                                                        \u001b[32m│\u001b[0m\n",
              "\u001b[32m│\u001b[0m  \u001b[92m    \"Predictive Modeling\",\u001b[0m                                                                                     \u001b[32m│\u001b[0m\n",
              "\u001b[32m│\u001b[0m  \u001b[92m    \"Causal Inference\",\u001b[0m                                                                                        \u001b[32m│\u001b[0m\n",
              "\u001b[32m│\u001b[0m  \u001b[92m    \"ML Pipelines\",\u001b[0m                                                                                            \u001b[32m│\u001b[0m\n",
              "\u001b[32m│\u001b[0m  \u001b[92m    \"Large Language Models (LLMs)\",\u001b[0m                                                                            \u001b[32m│\u001b[0m\n",
              "\u001b[32m│\u001b[0m  \u001b[92m    \"RAG Architectures\",\u001b[0m                                                                                       \u001b[32m│\u001b[0m\n",
              "\u001b[32m│\u001b[0m  \u001b[92m    \"Prompt Engineering\",\u001b[0m                                                                                      \u001b[32m│\u001b[0m\n",
              "\u001b[32m│\u001b[0m  \u001b[92m    \"SQL & Data Pipelines\",\u001b[0m                                                                                    \u001b[32m│\u001b[0m\n",
              "\u001b[32m│\u001b[0m  \u001b[92m    \"Data Visualization\",\u001b[0m                                                                                      \u001b[32m│\u001b[0m\n",
              "\u001b[32m│\u001b[0m  \u001b[92m    \"Python & Notebooks\",\u001b[0m                                                                                      \u001b[32m│\u001b[0m\n",
              "\u001b[32m│\u001b[0m  \u001b[92m    \"Generative AI\",\u001b[0m                                                                                           \u001b[32m│\u001b[0m\n",
              "\u001b[32m│\u001b[0m  \u001b[92m    \"Data Analysis\",\u001b[0m                                                                                           \u001b[32m│\u001b[0m\n",
              "\u001b[32m│\u001b[0m  \u001b[92m    \"Deployment & Monitoring\",\u001b[0m                                                                                 \u001b[32m│\u001b[0m\n",
              "\u001b[32m│\u001b[0m  \u001b[92m    \"Statistical Analysis\",\u001b[0m                                                                                    \u001b[32m│\u001b[0m\n",
              "\u001b[32m│\u001b[0m  \u001b[92m    \"A/B Testing\",\u001b[0m                                                                                             \u001b[32m│\u001b[0m\n",
              "\u001b[32m│\u001b[0m  \u001b[92m    \"Data Modeling\"\u001b[0m                                                                                            \u001b[32m│\u001b[0m\n",
              "\u001b[32m│\u001b[0m  \u001b[92m  ],\u001b[0m                                                                                                           \u001b[32m│\u001b[0m\n",
              "\u001b[32m│\u001b[0m  \u001b[92m  \"reordering_rules\": [\u001b[0m                                                                                        \u001b[32m│\u001b[0m\n",
              "\u001b[32m│\u001b[0m  \u001b[92m    \"Move 'Experience' section above 'Education' to highlight relevant work first\",\u001b[0m                            \u001b[32m│\u001b[0m\n",
              "\u001b[32m│\u001b[0m  \u001b[92m    \"Prioritize bullets in 'Experience' that demonstrate predictive modeling, causal inference, and ML \u001b[0m        \u001b[32m│\u001b[0m\n",
              "\u001b[32m│\u001b[0m  \u001b[92mdeployment\",\u001b[0m                                                                                                   \u001b[32m│\u001b[0m\n",
              "\u001b[32m│\u001b[0m  \u001b[92m    \"Rearrange skills to surface ATS keywords like LLM evaluation, RAG, prompt engineering early\",\u001b[0m             \u001b[32m│\u001b[0m\n",
              "\u001b[32m│\u001b[0m  \u001b[92m    \"Ensure summary and key skills are above the fold for quick scanning\"\u001b[0m                                      \u001b[32m│\u001b[0m\n",
              "\u001b[32m│\u001b[0m  \u001b[92m  ],\u001b[0m                                                                                                           \u001b[32m│\u001b[0m\n",
              "\u001b[32m│\u001b[0m  \u001b[92m  \"targeted_bullets\": {\u001b[0m                                                                                        \u001b[32m│\u001b[0m\n",
              "\u001b[32m│\u001b[0m  \u001b[92m    \"Experience\": [\u001b[0m                                                                                            \u001b[32m│\u001b[0m\n",
              "\u001b[32m│\u001b[0m  \u001b[92m      \"Led development and deployment of forecasting and anomaly detection models using XGBoost, ARIMA, and \u001b[0m   \u001b[32m│\u001b[0m\n",
              "\u001b[32m│\u001b[0m  \u001b[92mProphet, improving regional economic prediction accuracy by 15%\",\u001b[0m                                              \u001b[32m│\u001b[0m\n",
              "\u001b[32m│\u001b[0m  \u001b[92m      \"Engineered causal inference analyses (DiD, matching) to evaluate policy impacts, reducing decision \u001b[0m     \u001b[32m│\u001b[0m\n",
              "\u001b[32m│\u001b[0m  \u001b[92mcycle time by 20%\",\u001b[0m                                                                                            \u001b[32m│\u001b[0m\n",
              "\u001b[32m│\u001b[0m  \u001b[92m      \"Automated SQL and Spark pipelines processing 6.75M records, streamlining data ingestion and evaluation\u001b[0m  \u001b[32m│\u001b[0m\n",
              "\u001b[32m│\u001b[0m  \u001b[92mworkflows\",\u001b[0m                                                                                                    \u001b[32m│\u001b[0m\n",
              "\u001b[32m│\u001b[0m  \u001b[92m      \"Built interactive dashboards with Streamlit and Tableau, enabling real-time insights for \u001b[0m               \u001b[32m│\u001b[0m\n",
              "\u001b[32m│\u001b[0m  \u001b[92mcross-functional teams\",\u001b[0m                                                                                       \u001b[32m│\u001b[0m\n",
              "\u001b[32m│\u001b[0m  \u001b[92m      \"Collaborated with AI engineers to scale ML models in production, integrating LLMs and RAG \u001b[0m              \u001b[32m│\u001b[0m\n",
              "\u001b[32m│\u001b[0m  \u001b[92marchitectures for chatbot and summarization engines\",\u001b[0m                                                          \u001b[32m│\u001b[0m\n",
              "\u001b[32m│\u001b[0m  \u001b[92m      \"Analyzed agent interactions and implemented LLM evaluation pipelines, enhancing prompt effectiveness \u001b[0m   \u001b[32m│\u001b[0m\n",
              "\u001b[32m│\u001b[0m  \u001b[92mand model reliability\",\u001b[0m                                                                                        \u001b[32m│\u001b[0m\n",
              "\u001b[32m│\u001b[0m  \u001b[92m      \"Translated complex business questions into scalable data solutions, influencing KPI definitions and \u001b[0m    \u001b[32m│\u001b[0m\n",
              "\u001b[32m│\u001b[0m  \u001b[92mstrategic initiatives\"\u001b[0m                                                                                         \u001b[32m│\u001b[0m\n",
              "\u001b[32m│\u001b[0m  \u001b[92m    ]\u001b[0m                                                                                                          \u001b[32m│\u001b[0m\n",
              "\u001b[32m│\u001b[0m  \u001b[92m  }\u001b[0m                                                                                                            \u001b[32m│\u001b[0m\n",
              "\u001b[32m│\u001b[0m  \u001b[92m}\u001b[0m                                                                                                              \u001b[32m│\u001b[0m\n",
              "\u001b[32m│\u001b[0m                                                                                                                 \u001b[32m│\u001b[0m\n",
              "\u001b[32m╰─────────────────────────────────────────────────────────────────────────────────────────────────────────────────╯\u001b[0m\n"
            ],
            "text/html": [
              "<pre style=\"white-space:pre;overflow-x:auto;line-height:normal;font-family:Menlo,'DejaVu Sans Mono',consolas,'Courier New',monospace\"><span style=\"color: #008000; text-decoration-color: #008000\">╭───────────────────────────────────────────── ✅ Agent Final Answer ─────────────────────────────────────────────╮</span>\n",
              "<span style=\"color: #008000; text-decoration-color: #008000\">│</span>                                                                                                                 <span style=\"color: #008000; text-decoration-color: #008000\">│</span>\n",
              "<span style=\"color: #008000; text-decoration-color: #008000\">│</span>  <span style=\"color: #c0c0c0; text-decoration-color: #c0c0c0\">Agent: </span><span style=\"color: #00ff00; text-decoration-color: #00ff00; font-weight: bold\">Resume Strategist</span>                                                                                       <span style=\"color: #008000; text-decoration-color: #008000\">│</span>\n",
              "<span style=\"color: #008000; text-decoration-color: #008000\">│</span>                                                                                                                 <span style=\"color: #008000; text-decoration-color: #008000\">│</span>\n",
              "<span style=\"color: #008000; text-decoration-color: #008000\">│</span>  <span style=\"color: #c0c0c0; text-decoration-color: #c0c0c0\">Final Answer:</span>                                                                                                  <span style=\"color: #008000; text-decoration-color: #008000\">│</span>\n",
              "<span style=\"color: #008000; text-decoration-color: #008000\">│</span>  <span style=\"color: #00ff00; text-decoration-color: #00ff00\">{</span>                                                                                                              <span style=\"color: #008000; text-decoration-color: #008000\">│</span>\n",
              "<span style=\"color: #008000; text-decoration-color: #008000\">│</span>  <span style=\"color: #00ff00; text-decoration-color: #00ff00\">  \"objective\": null,</span>                                                                                           <span style=\"color: #008000; text-decoration-color: #008000\">│</span>\n",
              "<span style=\"color: #008000; text-decoration-color: #008000\">│</span>  <span style=\"color: #00ff00; text-decoration-color: #00ff00\">  \"top_summary\": \"Senior AI Data Scientist with 6+ years of experience delivering scalable predictive models,</span>  <span style=\"color: #008000; text-decoration-color: #008000\">│</span>\n",
              "<span style=\"color: #008000; text-decoration-color: #008000\">│</span>  <span style=\"color: #00ff00; text-decoration-color: #00ff00\">causal inference, and large-scale ML pipelines. Proven ability to translate complex business questions into </span>   <span style=\"color: #008000; text-decoration-color: #008000\">│</span>\n",
              "<span style=\"color: #008000; text-decoration-color: #008000\">│</span>  <span style=\"color: #00ff00; text-decoration-color: #00ff00\">data-driven solutions, deploying models in production that increased forecast accuracy by up to 15%. Skilled </span>  <span style=\"color: #008000; text-decoration-color: #008000\">│</span>\n",
              "<span style=\"color: #008000; text-decoration-color: #008000\">│</span>  <span style=\"color: #00ff00; text-decoration-color: #00ff00\">in LLM evaluation, RAG architectures, and data visualization, with a strong record of cross-functional </span>        <span style=\"color: #008000; text-decoration-color: #008000\">│</span>\n",
              "<span style=\"color: #008000; text-decoration-color: #008000\">│</span>  <span style=\"color: #00ff00; text-decoration-color: #00ff00\">collaboration and technical communication.\",</span>                                                                   <span style=\"color: #008000; text-decoration-color: #008000\">│</span>\n",
              "<span style=\"color: #008000; text-decoration-color: #008000\">│</span>  <span style=\"color: #00ff00; text-decoration-color: #00ff00\">  \"highlight_sections\": [\"Summary\", \"Key Skills\", \"Experience\", \"Education\"],</span>                                  <span style=\"color: #008000; text-decoration-color: #008000\">│</span>\n",
              "<span style=\"color: #008000; text-decoration-color: #008000\">│</span>  <span style=\"color: #00ff00; text-decoration-color: #00ff00\">  \"key_skills_block\": [</span>                                                                                        <span style=\"color: #008000; text-decoration-color: #008000\">│</span>\n",
              "<span style=\"color: #008000; text-decoration-color: #008000\">│</span>  <span style=\"color: #00ff00; text-decoration-color: #00ff00\">    \"Predictive Modeling\",</span>                                                                                     <span style=\"color: #008000; text-decoration-color: #008000\">│</span>\n",
              "<span style=\"color: #008000; text-decoration-color: #008000\">│</span>  <span style=\"color: #00ff00; text-decoration-color: #00ff00\">    \"Causal Inference\",</span>                                                                                        <span style=\"color: #008000; text-decoration-color: #008000\">│</span>\n",
              "<span style=\"color: #008000; text-decoration-color: #008000\">│</span>  <span style=\"color: #00ff00; text-decoration-color: #00ff00\">    \"ML Pipelines\",</span>                                                                                            <span style=\"color: #008000; text-decoration-color: #008000\">│</span>\n",
              "<span style=\"color: #008000; text-decoration-color: #008000\">│</span>  <span style=\"color: #00ff00; text-decoration-color: #00ff00\">    \"Large Language Models (LLMs)\",</span>                                                                            <span style=\"color: #008000; text-decoration-color: #008000\">│</span>\n",
              "<span style=\"color: #008000; text-decoration-color: #008000\">│</span>  <span style=\"color: #00ff00; text-decoration-color: #00ff00\">    \"RAG Architectures\",</span>                                                                                       <span style=\"color: #008000; text-decoration-color: #008000\">│</span>\n",
              "<span style=\"color: #008000; text-decoration-color: #008000\">│</span>  <span style=\"color: #00ff00; text-decoration-color: #00ff00\">    \"Prompt Engineering\",</span>                                                                                      <span style=\"color: #008000; text-decoration-color: #008000\">│</span>\n",
              "<span style=\"color: #008000; text-decoration-color: #008000\">│</span>  <span style=\"color: #00ff00; text-decoration-color: #00ff00\">    \"SQL &amp; Data Pipelines\",</span>                                                                                    <span style=\"color: #008000; text-decoration-color: #008000\">│</span>\n",
              "<span style=\"color: #008000; text-decoration-color: #008000\">│</span>  <span style=\"color: #00ff00; text-decoration-color: #00ff00\">    \"Data Visualization\",</span>                                                                                      <span style=\"color: #008000; text-decoration-color: #008000\">│</span>\n",
              "<span style=\"color: #008000; text-decoration-color: #008000\">│</span>  <span style=\"color: #00ff00; text-decoration-color: #00ff00\">    \"Python &amp; Notebooks\",</span>                                                                                      <span style=\"color: #008000; text-decoration-color: #008000\">│</span>\n",
              "<span style=\"color: #008000; text-decoration-color: #008000\">│</span>  <span style=\"color: #00ff00; text-decoration-color: #00ff00\">    \"Generative AI\",</span>                                                                                           <span style=\"color: #008000; text-decoration-color: #008000\">│</span>\n",
              "<span style=\"color: #008000; text-decoration-color: #008000\">│</span>  <span style=\"color: #00ff00; text-decoration-color: #00ff00\">    \"Data Analysis\",</span>                                                                                           <span style=\"color: #008000; text-decoration-color: #008000\">│</span>\n",
              "<span style=\"color: #008000; text-decoration-color: #008000\">│</span>  <span style=\"color: #00ff00; text-decoration-color: #00ff00\">    \"Deployment &amp; Monitoring\",</span>                                                                                 <span style=\"color: #008000; text-decoration-color: #008000\">│</span>\n",
              "<span style=\"color: #008000; text-decoration-color: #008000\">│</span>  <span style=\"color: #00ff00; text-decoration-color: #00ff00\">    \"Statistical Analysis\",</span>                                                                                    <span style=\"color: #008000; text-decoration-color: #008000\">│</span>\n",
              "<span style=\"color: #008000; text-decoration-color: #008000\">│</span>  <span style=\"color: #00ff00; text-decoration-color: #00ff00\">    \"A/B Testing\",</span>                                                                                             <span style=\"color: #008000; text-decoration-color: #008000\">│</span>\n",
              "<span style=\"color: #008000; text-decoration-color: #008000\">│</span>  <span style=\"color: #00ff00; text-decoration-color: #00ff00\">    \"Data Modeling\"</span>                                                                                            <span style=\"color: #008000; text-decoration-color: #008000\">│</span>\n",
              "<span style=\"color: #008000; text-decoration-color: #008000\">│</span>  <span style=\"color: #00ff00; text-decoration-color: #00ff00\">  ],</span>                                                                                                           <span style=\"color: #008000; text-decoration-color: #008000\">│</span>\n",
              "<span style=\"color: #008000; text-decoration-color: #008000\">│</span>  <span style=\"color: #00ff00; text-decoration-color: #00ff00\">  \"reordering_rules\": [</span>                                                                                        <span style=\"color: #008000; text-decoration-color: #008000\">│</span>\n",
              "<span style=\"color: #008000; text-decoration-color: #008000\">│</span>  <span style=\"color: #00ff00; text-decoration-color: #00ff00\">    \"Move 'Experience' section above 'Education' to highlight relevant work first\",</span>                            <span style=\"color: #008000; text-decoration-color: #008000\">│</span>\n",
              "<span style=\"color: #008000; text-decoration-color: #008000\">│</span>  <span style=\"color: #00ff00; text-decoration-color: #00ff00\">    \"Prioritize bullets in 'Experience' that demonstrate predictive modeling, causal inference, and ML </span>        <span style=\"color: #008000; text-decoration-color: #008000\">│</span>\n",
              "<span style=\"color: #008000; text-decoration-color: #008000\">│</span>  <span style=\"color: #00ff00; text-decoration-color: #00ff00\">deployment\",</span>                                                                                                   <span style=\"color: #008000; text-decoration-color: #008000\">│</span>\n",
              "<span style=\"color: #008000; text-decoration-color: #008000\">│</span>  <span style=\"color: #00ff00; text-decoration-color: #00ff00\">    \"Rearrange skills to surface ATS keywords like LLM evaluation, RAG, prompt engineering early\",</span>             <span style=\"color: #008000; text-decoration-color: #008000\">│</span>\n",
              "<span style=\"color: #008000; text-decoration-color: #008000\">│</span>  <span style=\"color: #00ff00; text-decoration-color: #00ff00\">    \"Ensure summary and key skills are above the fold for quick scanning\"</span>                                      <span style=\"color: #008000; text-decoration-color: #008000\">│</span>\n",
              "<span style=\"color: #008000; text-decoration-color: #008000\">│</span>  <span style=\"color: #00ff00; text-decoration-color: #00ff00\">  ],</span>                                                                                                           <span style=\"color: #008000; text-decoration-color: #008000\">│</span>\n",
              "<span style=\"color: #008000; text-decoration-color: #008000\">│</span>  <span style=\"color: #00ff00; text-decoration-color: #00ff00\">  \"targeted_bullets\": {</span>                                                                                        <span style=\"color: #008000; text-decoration-color: #008000\">│</span>\n",
              "<span style=\"color: #008000; text-decoration-color: #008000\">│</span>  <span style=\"color: #00ff00; text-decoration-color: #00ff00\">    \"Experience\": [</span>                                                                                            <span style=\"color: #008000; text-decoration-color: #008000\">│</span>\n",
              "<span style=\"color: #008000; text-decoration-color: #008000\">│</span>  <span style=\"color: #00ff00; text-decoration-color: #00ff00\">      \"Led development and deployment of forecasting and anomaly detection models using XGBoost, ARIMA, and </span>   <span style=\"color: #008000; text-decoration-color: #008000\">│</span>\n",
              "<span style=\"color: #008000; text-decoration-color: #008000\">│</span>  <span style=\"color: #00ff00; text-decoration-color: #00ff00\">Prophet, improving regional economic prediction accuracy by 15%\",</span>                                              <span style=\"color: #008000; text-decoration-color: #008000\">│</span>\n",
              "<span style=\"color: #008000; text-decoration-color: #008000\">│</span>  <span style=\"color: #00ff00; text-decoration-color: #00ff00\">      \"Engineered causal inference analyses (DiD, matching) to evaluate policy impacts, reducing decision </span>     <span style=\"color: #008000; text-decoration-color: #008000\">│</span>\n",
              "<span style=\"color: #008000; text-decoration-color: #008000\">│</span>  <span style=\"color: #00ff00; text-decoration-color: #00ff00\">cycle time by 20%\",</span>                                                                                            <span style=\"color: #008000; text-decoration-color: #008000\">│</span>\n",
              "<span style=\"color: #008000; text-decoration-color: #008000\">│</span>  <span style=\"color: #00ff00; text-decoration-color: #00ff00\">      \"Automated SQL and Spark pipelines processing 6.75M records, streamlining data ingestion and evaluation</span>  <span style=\"color: #008000; text-decoration-color: #008000\">│</span>\n",
              "<span style=\"color: #008000; text-decoration-color: #008000\">│</span>  <span style=\"color: #00ff00; text-decoration-color: #00ff00\">workflows\",</span>                                                                                                    <span style=\"color: #008000; text-decoration-color: #008000\">│</span>\n",
              "<span style=\"color: #008000; text-decoration-color: #008000\">│</span>  <span style=\"color: #00ff00; text-decoration-color: #00ff00\">      \"Built interactive dashboards with Streamlit and Tableau, enabling real-time insights for </span>               <span style=\"color: #008000; text-decoration-color: #008000\">│</span>\n",
              "<span style=\"color: #008000; text-decoration-color: #008000\">│</span>  <span style=\"color: #00ff00; text-decoration-color: #00ff00\">cross-functional teams\",</span>                                                                                       <span style=\"color: #008000; text-decoration-color: #008000\">│</span>\n",
              "<span style=\"color: #008000; text-decoration-color: #008000\">│</span>  <span style=\"color: #00ff00; text-decoration-color: #00ff00\">      \"Collaborated with AI engineers to scale ML models in production, integrating LLMs and RAG </span>              <span style=\"color: #008000; text-decoration-color: #008000\">│</span>\n",
              "<span style=\"color: #008000; text-decoration-color: #008000\">│</span>  <span style=\"color: #00ff00; text-decoration-color: #00ff00\">architectures for chatbot and summarization engines\",</span>                                                          <span style=\"color: #008000; text-decoration-color: #008000\">│</span>\n",
              "<span style=\"color: #008000; text-decoration-color: #008000\">│</span>  <span style=\"color: #00ff00; text-decoration-color: #00ff00\">      \"Analyzed agent interactions and implemented LLM evaluation pipelines, enhancing prompt effectiveness </span>   <span style=\"color: #008000; text-decoration-color: #008000\">│</span>\n",
              "<span style=\"color: #008000; text-decoration-color: #008000\">│</span>  <span style=\"color: #00ff00; text-decoration-color: #00ff00\">and model reliability\",</span>                                                                                        <span style=\"color: #008000; text-decoration-color: #008000\">│</span>\n",
              "<span style=\"color: #008000; text-decoration-color: #008000\">│</span>  <span style=\"color: #00ff00; text-decoration-color: #00ff00\">      \"Translated complex business questions into scalable data solutions, influencing KPI definitions and </span>    <span style=\"color: #008000; text-decoration-color: #008000\">│</span>\n",
              "<span style=\"color: #008000; text-decoration-color: #008000\">│</span>  <span style=\"color: #00ff00; text-decoration-color: #00ff00\">strategic initiatives\"</span>                                                                                         <span style=\"color: #008000; text-decoration-color: #008000\">│</span>\n",
              "<span style=\"color: #008000; text-decoration-color: #008000\">│</span>  <span style=\"color: #00ff00; text-decoration-color: #00ff00\">    ]</span>                                                                                                          <span style=\"color: #008000; text-decoration-color: #008000\">│</span>\n",
              "<span style=\"color: #008000; text-decoration-color: #008000\">│</span>  <span style=\"color: #00ff00; text-decoration-color: #00ff00\">  }</span>                                                                                                            <span style=\"color: #008000; text-decoration-color: #008000\">│</span>\n",
              "<span style=\"color: #008000; text-decoration-color: #008000\">│</span>  <span style=\"color: #00ff00; text-decoration-color: #00ff00\">}</span>                                                                                                              <span style=\"color: #008000; text-decoration-color: #008000\">│</span>\n",
              "<span style=\"color: #008000; text-decoration-color: #008000\">│</span>                                                                                                                 <span style=\"color: #008000; text-decoration-color: #008000\">│</span>\n",
              "<span style=\"color: #008000; text-decoration-color: #008000\">╰─────────────────────────────────────────────────────────────────────────────────────────────────────────────────╯</span>\n",
              "</pre>\n"
            ]
          },
          "metadata": {}
        },
        {
          "output_type": "display_data",
          "data": {
            "text/plain": [
              "\n"
            ],
            "text/html": [
              "<pre style=\"white-space:pre;overflow-x:auto;line-height:normal;font-family:Menlo,'DejaVu Sans Mono',consolas,'Courier New',monospace\">\n",
              "</pre>\n"
            ]
          },
          "metadata": {}
        },
        {
          "output_type": "display_data",
          "data": {
            "text/plain": [],
            "text/html": [
              "<pre style=\"white-space:pre;overflow-x:auto;line-height:normal;font-family:Menlo,'DejaVu Sans Mono',consolas,'Courier New',monospace\"></pre>\n"
            ]
          },
          "metadata": {}
        },
        {
          "output_type": "display_data",
          "data": {
            "text/plain": [
              "\u001b[32m╭─\u001b[0m\u001b[32m────────────────────────────────────────────\u001b[0m\u001b[32m LiteAgent Completion \u001b[0m\u001b[32m─────────────────────────────────────────────\u001b[0m\u001b[32m─╮\u001b[0m\n",
              "\u001b[32m│\u001b[0m                                                                                                                 \u001b[32m│\u001b[0m\n",
              "\u001b[32m│\u001b[0m  \u001b[1;32mLiteAgent Completed\u001b[0m                                                                                            \u001b[32m│\u001b[0m\n",
              "\u001b[32m│\u001b[0m  \u001b[37mName: \u001b[0m\u001b[32mResume Strategist\u001b[0m                                                                                        \u001b[32m│\u001b[0m\n",
              "\u001b[32m│\u001b[0m  \u001b[37mid: \u001b[0m\u001b[32me312b2cf-20af-430f-981a-ddee8f04573f\u001b[0m                                                                       \u001b[32m│\u001b[0m\n",
              "\u001b[32m│\u001b[0m  \u001b[37mrole: \u001b[0m\u001b[32mResume Strategist\u001b[0m                                                                                        \u001b[32m│\u001b[0m\n",
              "\u001b[32m│\u001b[0m  \u001b[37mgoal: \u001b[0m\u001b[32mDesign a sharp, ATS-optimized resume strategy that highlights role-relevant skills and quantified \u001b[0m       \u001b[32m│\u001b[0m\n",
              "\u001b[32m│\u001b[0m  \u001b[32machievements.\u001b[0m                                                                                                  \u001b[32m│\u001b[0m\n",
              "\u001b[32m│\u001b[0m  \u001b[37mbackstory: \u001b[0m\u001b[32mMcKinsey-style communications coach. Expert at executive summaries, power verbs, and concise \u001b[0m       \u001b[32m│\u001b[0m\n",
              "\u001b[32m│\u001b[0m  \u001b[32mstorytelling.\u001b[0m                                                                                                  \u001b[32m│\u001b[0m\n",
              "\u001b[32m│\u001b[0m  \u001b[37mtools: \u001b[0m\u001b[32m[]\u001b[0m                                                                                                      \u001b[32m│\u001b[0m\n",
              "\u001b[32m│\u001b[0m  \u001b[37mverbose: \u001b[0m\u001b[32mTrue\u001b[0m                                                                                                  \u001b[32m│\u001b[0m\n",
              "\u001b[32m│\u001b[0m  \u001b[37mTool Args: \u001b[0m                                                                                                    \u001b[32m│\u001b[0m\n",
              "\u001b[32m│\u001b[0m                                                                                                                 \u001b[32m│\u001b[0m\n",
              "\u001b[32m│\u001b[0m                                                                                                                 \u001b[32m│\u001b[0m\n",
              "\u001b[32m╰─────────────────────────────────────────────────────────────────────────────────────────────────────────────────╯\u001b[0m\n"
            ],
            "text/html": [
              "<pre style=\"white-space:pre;overflow-x:auto;line-height:normal;font-family:Menlo,'DejaVu Sans Mono',consolas,'Courier New',monospace\"><span style=\"color: #008000; text-decoration-color: #008000\">╭───────────────────────────────────────────── LiteAgent Completion ──────────────────────────────────────────────╮</span>\n",
              "<span style=\"color: #008000; text-decoration-color: #008000\">│</span>                                                                                                                 <span style=\"color: #008000; text-decoration-color: #008000\">│</span>\n",
              "<span style=\"color: #008000; text-decoration-color: #008000\">│</span>  <span style=\"color: #008000; text-decoration-color: #008000; font-weight: bold\">LiteAgent Completed</span>                                                                                            <span style=\"color: #008000; text-decoration-color: #008000\">│</span>\n",
              "<span style=\"color: #008000; text-decoration-color: #008000\">│</span>  <span style=\"color: #c0c0c0; text-decoration-color: #c0c0c0\">Name: </span><span style=\"color: #008000; text-decoration-color: #008000\">Resume Strategist</span>                                                                                        <span style=\"color: #008000; text-decoration-color: #008000\">│</span>\n",
              "<span style=\"color: #008000; text-decoration-color: #008000\">│</span>  <span style=\"color: #c0c0c0; text-decoration-color: #c0c0c0\">id: </span><span style=\"color: #008000; text-decoration-color: #008000\">e312b2cf-20af-430f-981a-ddee8f04573f</span>                                                                       <span style=\"color: #008000; text-decoration-color: #008000\">│</span>\n",
              "<span style=\"color: #008000; text-decoration-color: #008000\">│</span>  <span style=\"color: #c0c0c0; text-decoration-color: #c0c0c0\">role: </span><span style=\"color: #008000; text-decoration-color: #008000\">Resume Strategist</span>                                                                                        <span style=\"color: #008000; text-decoration-color: #008000\">│</span>\n",
              "<span style=\"color: #008000; text-decoration-color: #008000\">│</span>  <span style=\"color: #c0c0c0; text-decoration-color: #c0c0c0\">goal: </span><span style=\"color: #008000; text-decoration-color: #008000\">Design a sharp, ATS-optimized resume strategy that highlights role-relevant skills and quantified </span>       <span style=\"color: #008000; text-decoration-color: #008000\">│</span>\n",
              "<span style=\"color: #008000; text-decoration-color: #008000\">│</span>  <span style=\"color: #008000; text-decoration-color: #008000\">achievements.</span>                                                                                                  <span style=\"color: #008000; text-decoration-color: #008000\">│</span>\n",
              "<span style=\"color: #008000; text-decoration-color: #008000\">│</span>  <span style=\"color: #c0c0c0; text-decoration-color: #c0c0c0\">backstory: </span><span style=\"color: #008000; text-decoration-color: #008000\">McKinsey-style communications coach. Expert at executive summaries, power verbs, and concise </span>       <span style=\"color: #008000; text-decoration-color: #008000\">│</span>\n",
              "<span style=\"color: #008000; text-decoration-color: #008000\">│</span>  <span style=\"color: #008000; text-decoration-color: #008000\">storytelling.</span>                                                                                                  <span style=\"color: #008000; text-decoration-color: #008000\">│</span>\n",
              "<span style=\"color: #008000; text-decoration-color: #008000\">│</span>  <span style=\"color: #c0c0c0; text-decoration-color: #c0c0c0\">tools: </span><span style=\"color: #008000; text-decoration-color: #008000\">[]</span>                                                                                                      <span style=\"color: #008000; text-decoration-color: #008000\">│</span>\n",
              "<span style=\"color: #008000; text-decoration-color: #008000\">│</span>  <span style=\"color: #c0c0c0; text-decoration-color: #c0c0c0\">verbose: </span><span style=\"color: #008000; text-decoration-color: #008000\">True</span>                                                                                                  <span style=\"color: #008000; text-decoration-color: #008000\">│</span>\n",
              "<span style=\"color: #008000; text-decoration-color: #008000\">│</span>  <span style=\"color: #c0c0c0; text-decoration-color: #c0c0c0\">Tool Args: </span>                                                                                                    <span style=\"color: #008000; text-decoration-color: #008000\">│</span>\n",
              "<span style=\"color: #008000; text-decoration-color: #008000\">│</span>                                                                                                                 <span style=\"color: #008000; text-decoration-color: #008000\">│</span>\n",
              "<span style=\"color: #008000; text-decoration-color: #008000\">│</span>                                                                                                                 <span style=\"color: #008000; text-decoration-color: #008000\">│</span>\n",
              "<span style=\"color: #008000; text-decoration-color: #008000\">╰─────────────────────────────────────────────────────────────────────────────────────────────────────────────────╯</span>\n",
              "</pre>\n"
            ]
          },
          "metadata": {}
        },
        {
          "output_type": "display_data",
          "data": {
            "text/plain": [
              "\n"
            ],
            "text/html": [
              "<pre style=\"white-space:pre;overflow-x:auto;line-height:normal;font-family:Menlo,'DejaVu Sans Mono',consolas,'Courier New',monospace\">\n",
              "</pre>\n"
            ]
          },
          "metadata": {}
        },
        {
          "output_type": "display_data",
          "data": {
            "text/plain": [
              "Output()"
            ],
            "application/vnd.jupyter.widget-view+json": {
              "version_major": 2,
              "version_minor": 0,
              "model_id": "455c3047d4e644d4b403d5cad765ba7b"
            }
          },
          "metadata": {}
        },
        {
          "output_type": "display_data",
          "data": {
            "text/plain": [
              "/usr/local/lib/python3.11/dist-packages/ipywidgets/widgets/widget_output.py:111: DeprecationWarning: \n",
              "Kernel._parent_header is deprecated in ipykernel 6. Use .get_parent()\n",
              "  if ip and hasattr(ip, 'kernel') and hasattr(ip.kernel, '_parent_header'):\n"
            ],
            "text/html": [
              "<pre style=\"white-space:pre;overflow-x:auto;line-height:normal;font-family:Menlo,'DejaVu Sans Mono',consolas,'Courier New',monospace\">/usr/local/lib/python3.11/dist-packages/ipywidgets/widgets/widget_output.py:111: DeprecationWarning: \n",
              "Kernel._parent_header is deprecated in ipykernel 6. Use .get_parent()\n",
              "  if ip and hasattr(ip, 'kernel') and hasattr(ip.kernel, '_parent_header'):\n",
              "</pre>\n"
            ]
          },
          "metadata": {}
        },
        {
          "output_type": "display_data",
          "data": {
            "text/plain": [
              "/usr/local/lib/python3.11/dist-packages/ipywidgets/widgets/widget_output.py:112: DeprecationWarning: \n",
              "Kernel._parent_header is deprecated in ipykernel 6. Use .get_parent()\n",
              "  self.msg_id = ip.kernel._parent_header['header']['msg_id']\n"
            ],
            "text/html": [
              "<pre style=\"white-space:pre;overflow-x:auto;line-height:normal;font-family:Menlo,'DejaVu Sans Mono',consolas,'Courier New',monospace\">/usr/local/lib/python3.11/dist-packages/ipywidgets/widgets/widget_output.py:112: DeprecationWarning: \n",
              "Kernel._parent_header is deprecated in ipykernel 6. Use .get_parent()\n",
              "  self.msg_id = ip.kernel._parent_header['header']['msg_id']\n",
              "</pre>\n"
            ]
          },
          "metadata": {}
        },
        {
          "output_type": "display_data",
          "data": {
            "text/plain": [],
            "text/html": [
              "<pre style=\"white-space:pre;overflow-x:auto;line-height:normal;font-family:Menlo,'DejaVu Sans Mono',consolas,'Courier New',monospace\"></pre>\n"
            ]
          },
          "metadata": {}
        },
        {
          "output_type": "display_data",
          "data": {
            "text/plain": [
              "\u001b[36m╭─\u001b[0m\u001b[36m──────────────────────────────────────────────\u001b[0m\u001b[36m LiteAgent Started \u001b[0m\u001b[36m──────────────────────────────────────────────\u001b[0m\u001b[36m─╮\u001b[0m\n",
              "\u001b[36m│\u001b[0m                                                                                                                 \u001b[36m│\u001b[0m\n",
              "\u001b[36m│\u001b[0m  \u001b[1;36mLiteAgent Session Started\u001b[0m                                                                                      \u001b[36m│\u001b[0m\n",
              "\u001b[36m│\u001b[0m  \u001b[37mName: \u001b[0m\u001b[36mResume Writer\u001b[0m                                                                                            \u001b[36m│\u001b[0m\n",
              "\u001b[36m│\u001b[0m  \u001b[37mid: \u001b[0m\u001b[36me8357d50-6625-4b98-8c36-f7ce822c88e5\u001b[0m                                                                       \u001b[36m│\u001b[0m\n",
              "\u001b[36m│\u001b[0m  \u001b[37mrole: \u001b[0m\u001b[36mResume Writer\u001b[0m                                                                                            \u001b[36m│\u001b[0m\n",
              "\u001b[36m│\u001b[0m  \u001b[37mgoal: \u001b[0m\u001b[36mProduce a tailored, ATS-friendly resume in plain text/Markdown with clear sections.\u001b[0m                      \u001b[36m│\u001b[0m\n",
              "\u001b[36m│\u001b[0m  \u001b[37mbackstory: \u001b[0m\u001b[36mPrincipal resume writer—concise, metrics-driven bullets (STAR-style).\u001b[0m                               \u001b[36m│\u001b[0m\n",
              "\u001b[36m│\u001b[0m  \u001b[37mtools: \u001b[0m\u001b[36m[]\u001b[0m                                                                                                      \u001b[36m│\u001b[0m\n",
              "\u001b[36m│\u001b[0m  \u001b[37mverbose: \u001b[0m\u001b[36mTrue\u001b[0m                                                                                                  \u001b[36m│\u001b[0m\n",
              "\u001b[36m│\u001b[0m  \u001b[37mTool Args: \u001b[0m                                                                                                    \u001b[36m│\u001b[0m\n",
              "\u001b[36m│\u001b[0m                                                                                                                 \u001b[36m│\u001b[0m\n",
              "\u001b[36m│\u001b[0m                                                                                                                 \u001b[36m│\u001b[0m\n",
              "\u001b[36m╰─────────────────────────────────────────────────────────────────────────────────────────────────────────────────╯\u001b[0m\n"
            ],
            "text/html": [
              "<pre style=\"white-space:pre;overflow-x:auto;line-height:normal;font-family:Menlo,'DejaVu Sans Mono',consolas,'Courier New',monospace\"><span style=\"color: #008080; text-decoration-color: #008080\">╭─────────────────────────────────────────────── LiteAgent Started ───────────────────────────────────────────────╮</span>\n",
              "<span style=\"color: #008080; text-decoration-color: #008080\">│</span>                                                                                                                 <span style=\"color: #008080; text-decoration-color: #008080\">│</span>\n",
              "<span style=\"color: #008080; text-decoration-color: #008080\">│</span>  <span style=\"color: #008080; text-decoration-color: #008080; font-weight: bold\">LiteAgent Session Started</span>                                                                                      <span style=\"color: #008080; text-decoration-color: #008080\">│</span>\n",
              "<span style=\"color: #008080; text-decoration-color: #008080\">│</span>  <span style=\"color: #c0c0c0; text-decoration-color: #c0c0c0\">Name: </span><span style=\"color: #008080; text-decoration-color: #008080\">Resume Writer</span>                                                                                            <span style=\"color: #008080; text-decoration-color: #008080\">│</span>\n",
              "<span style=\"color: #008080; text-decoration-color: #008080\">│</span>  <span style=\"color: #c0c0c0; text-decoration-color: #c0c0c0\">id: </span><span style=\"color: #008080; text-decoration-color: #008080\">e8357d50-6625-4b98-8c36-f7ce822c88e5</span>                                                                       <span style=\"color: #008080; text-decoration-color: #008080\">│</span>\n",
              "<span style=\"color: #008080; text-decoration-color: #008080\">│</span>  <span style=\"color: #c0c0c0; text-decoration-color: #c0c0c0\">role: </span><span style=\"color: #008080; text-decoration-color: #008080\">Resume Writer</span>                                                                                            <span style=\"color: #008080; text-decoration-color: #008080\">│</span>\n",
              "<span style=\"color: #008080; text-decoration-color: #008080\">│</span>  <span style=\"color: #c0c0c0; text-decoration-color: #c0c0c0\">goal: </span><span style=\"color: #008080; text-decoration-color: #008080\">Produce a tailored, ATS-friendly resume in plain text/Markdown with clear sections.</span>                      <span style=\"color: #008080; text-decoration-color: #008080\">│</span>\n",
              "<span style=\"color: #008080; text-decoration-color: #008080\">│</span>  <span style=\"color: #c0c0c0; text-decoration-color: #c0c0c0\">backstory: </span><span style=\"color: #008080; text-decoration-color: #008080\">Principal resume writer—concise, metrics-driven bullets (STAR-style).</span>                               <span style=\"color: #008080; text-decoration-color: #008080\">│</span>\n",
              "<span style=\"color: #008080; text-decoration-color: #008080\">│</span>  <span style=\"color: #c0c0c0; text-decoration-color: #c0c0c0\">tools: </span><span style=\"color: #008080; text-decoration-color: #008080\">[]</span>                                                                                                      <span style=\"color: #008080; text-decoration-color: #008080\">│</span>\n",
              "<span style=\"color: #008080; text-decoration-color: #008080\">│</span>  <span style=\"color: #c0c0c0; text-decoration-color: #c0c0c0\">verbose: </span><span style=\"color: #008080; text-decoration-color: #008080\">True</span>                                                                                                  <span style=\"color: #008080; text-decoration-color: #008080\">│</span>\n",
              "<span style=\"color: #008080; text-decoration-color: #008080\">│</span>  <span style=\"color: #c0c0c0; text-decoration-color: #c0c0c0\">Tool Args: </span>                                                                                                    <span style=\"color: #008080; text-decoration-color: #008080\">│</span>\n",
              "<span style=\"color: #008080; text-decoration-color: #008080\">│</span>                                                                                                                 <span style=\"color: #008080; text-decoration-color: #008080\">│</span>\n",
              "<span style=\"color: #008080; text-decoration-color: #008080\">│</span>                                                                                                                 <span style=\"color: #008080; text-decoration-color: #008080\">│</span>\n",
              "<span style=\"color: #008080; text-decoration-color: #008080\">╰─────────────────────────────────────────────────────────────────────────────────────────────────────────────────╯</span>\n",
              "</pre>\n"
            ]
          },
          "metadata": {}
        },
        {
          "output_type": "display_data",
          "data": {
            "text/plain": [
              "\n"
            ],
            "text/html": [
              "<pre style=\"white-space:pre;overflow-x:auto;line-height:normal;font-family:Menlo,'DejaVu Sans Mono',consolas,'Courier New',monospace\">\n",
              "</pre>\n"
            ]
          },
          "metadata": {}
        },
        {
          "output_type": "display_data",
          "data": {
            "text/plain": [
              "\u001b[32m╭─\u001b[0m\u001b[32m────────────────────────────────────────────\u001b[0m\u001b[32m ✅ Agent Final Answer \u001b[0m\u001b[32m────────────────────────────────────────────\u001b[0m\u001b[32m─╮\u001b[0m\n",
              "\u001b[32m│\u001b[0m                                                                                                                 \u001b[32m│\u001b[0m\n",
              "\u001b[32m│\u001b[0m  \u001b[37mAgent: \u001b[0m\u001b[1;92mResume Writer\u001b[0m                                                                                           \u001b[32m│\u001b[0m\n",
              "\u001b[32m│\u001b[0m                                                                                                                 \u001b[32m│\u001b[0m\n",
              "\u001b[32m│\u001b[0m  \u001b[37mFinal Answer:\u001b[0m                                                                                                  \u001b[32m│\u001b[0m\n",
              "\u001b[32m│\u001b[0m  \u001b[92m```markdown\u001b[0m                                                                                                    \u001b[32m│\u001b[0m\n",
              "\u001b[32m│\u001b[0m  \u001b[92m# Cassandra Maldonado\u001b[0m                                                                                          \u001b[32m│\u001b[0m\n",
              "\u001b[32m│\u001b[0m                                                                                                                 \u001b[32m│\u001b[0m\n",
              "\u001b[32m│\u001b[0m  \u001b[92m+1 (415) 286-1896 | cassandramr@uchicago.edu | [LinkedIn](in/cassandra-msullivan) | \u001b[0m                           \u001b[32m│\u001b[0m\n",
              "\u001b[32m│\u001b[0m  \u001b[92m[GitHub](https://github.com)\u001b[0m                                                                                   \u001b[32m│\u001b[0m\n",
              "\u001b[32m│\u001b[0m                                                                                                                 \u001b[32m│\u001b[0m\n",
              "\u001b[32m│\u001b[0m  \u001b[92m---\u001b[0m                                                                                                            \u001b[32m│\u001b[0m\n",
              "\u001b[32m│\u001b[0m                                                                                                                 \u001b[32m│\u001b[0m\n",
              "\u001b[32m│\u001b[0m  \u001b[92m## Summary\u001b[0m                                                                                                     \u001b[32m│\u001b[0m\n",
              "\u001b[32m│\u001b[0m  \u001b[92mSenior AI Data Scientist with 6+ years of experience delivering scalable predictive models, causal inference,\u001b[0m  \u001b[32m│\u001b[0m\n",
              "\u001b[32m│\u001b[0m  \u001b[92mand large-scale ML pipelines. Proven ability to translate complex business questions into data-driven \u001b[0m         \u001b[32m│\u001b[0m\n",
              "\u001b[32m│\u001b[0m  \u001b[92msolutions, deploying models in production that increased forecast accuracy by up to 15%. Skilled in LLM \u001b[0m       \u001b[32m│\u001b[0m\n",
              "\u001b[32m│\u001b[0m  \u001b[92mevaluation, RAG architectures, prompt engineering, and data visualization, with a strong record of \u001b[0m            \u001b[32m│\u001b[0m\n",
              "\u001b[32m│\u001b[0m  \u001b[92mcross-functional collaboration and technical communication.\u001b[0m                                                    \u001b[32m│\u001b[0m\n",
              "\u001b[32m│\u001b[0m                                                                                                                 \u001b[32m│\u001b[0m\n",
              "\u001b[32m│\u001b[0m  \u001b[92m---\u001b[0m                                                                                                            \u001b[32m│\u001b[0m\n",
              "\u001b[32m│\u001b[0m                                                                                                                 \u001b[32m│\u001b[0m\n",
              "\u001b[32m│\u001b[0m  \u001b[92m## Key Skills\u001b[0m                                                                                                  \u001b[32m│\u001b[0m\n",
              "\u001b[32m│\u001b[0m  \u001b[92m- Predictive Modeling | Causal Inference | ML Pipelines | Large Language Models (LLMs) | RAG Architectures | \u001b[0m  \u001b[32m│\u001b[0m\n",
              "\u001b[32m│\u001b[0m  \u001b[92mPrompt Engineering\u001b[0m                                                                                             \u001b[32m│\u001b[0m\n",
              "\u001b[32m│\u001b[0m  \u001b[92m- SQL & Data Pipelines | Data Visualization | Python & Notebooks | Generative AI | Data Analysis | Deployment\u001b[0m  \u001b[32m│\u001b[0m\n",
              "\u001b[32m│\u001b[0m  \u001b[92m& Monitoring\u001b[0m                                                                                                   \u001b[32m│\u001b[0m\n",
              "\u001b[32m│\u001b[0m  \u001b[92m- Statistical Analysis | A/B Testing | Data Modeling | Time Series Forecasting | Bayesian Inference | MLOps\u001b[0m    \u001b[32m│\u001b[0m\n",
              "\u001b[32m│\u001b[0m                                                                                                                 \u001b[32m│\u001b[0m\n",
              "\u001b[32m│\u001b[0m  \u001b[92m---\u001b[0m                                                                                                            \u001b[32m│\u001b[0m\n",
              "\u001b[32m│\u001b[0m                                                                                                                 \u001b[32m│\u001b[0m\n",
              "\u001b[32m│\u001b[0m  \u001b[92m## Experience\u001b[0m                                                                                                  \u001b[32m│\u001b[0m\n",
              "\u001b[32m│\u001b[0m                                                                                                                 \u001b[32m│\u001b[0m\n",
              "\u001b[32m│\u001b[0m  \u001b[92m### Mexico Central Bank (Banco de Mexico)  \u001b[0m                                                                    \u001b[32m│\u001b[0m\n",
              "\u001b[32m│\u001b[0m  \u001b[92m*Machine Learning & Data Science Economist* — Monterrey, Mexico  \u001b[0m                                              \u001b[32m│\u001b[0m\n",
              "\u001b[32m│\u001b[0m  \u001b[92mMay 2022 – Sep 2024\u001b[0m                                                                                            \u001b[32m│\u001b[0m\n",
              "\u001b[32m│\u001b[0m  \u001b[92m- Led development of forecasting models (XGBoost, ARIMA, Prophet) that improved regional economic prediction \u001b[0m  \u001b[32m│\u001b[0m\n",
              "\u001b[32m│\u001b[0m  \u001b[92maccuracy by 15%.  \u001b[0m                                                                                             \u001b[32m│\u001b[0m\n",
              "\u001b[32m│\u001b[0m  \u001b[92m- Engineered causal inference analyses (DiD, matching) and A/B tests to evaluate policy impacts, reducing \u001b[0m     \u001b[32m│\u001b[0m\n",
              "\u001b[32m│\u001b[0m  \u001b[92mdecision cycle time by 20%.  \u001b[0m                                                                                  \u001b[32m│\u001b[0m\n",
              "\u001b[32m│\u001b[0m  \u001b[92m- Automated SQL pipelines and integrated generative AI tools, streamlining data ingestion and evaluation \u001b[0m      \u001b[32m│\u001b[0m\n",
              "\u001b[32m│\u001b[0m  \u001b[92mworkflows for large-scale model automation.  \u001b[0m                                                                  \u001b[32m│\u001b[0m\n",
              "\u001b[32m│\u001b[0m  \u001b[92m- Built interactive dashboards with Streamlit and Tableau, enabling real-time insights for policymakers and \u001b[0m   \u001b[32m│\u001b[0m\n",
              "\u001b[32m│\u001b[0m  \u001b[92manalysts.  \u001b[0m                                                                                                    \u001b[32m│\u001b[0m\n",
              "\u001b[32m│\u001b[0m  \u001b[92m- Collaborated with AI engineers to scale ML models in production, integrating LLMs and RAG architectures for\u001b[0m  \u001b[32m│\u001b[0m\n",
              "\u001b[32m│\u001b[0m  \u001b[92mchatbot and summarization engines.  \u001b[0m                                                                           \u001b[32m│\u001b[0m\n",
              "\u001b[32m│\u001b[0m  \u001b[92m- Analyzed agent interactions and implemented LLM evaluation pipelines, enhancing prompt effectiveness and \u001b[0m    \u001b[32m│\u001b[0m\n",
              "\u001b[32m│\u001b[0m  \u001b[92mmodel reliability.  \u001b[0m                                                                                           \u001b[32m│\u001b[0m\n",
              "\u001b[32m│\u001b[0m  \u001b[92m- Translated complex business questions into scalable data solutions, influencing KPI definitions and \u001b[0m         \u001b[32m│\u001b[0m\n",
              "\u001b[32m│\u001b[0m  \u001b[92mstrategic initiatives.\u001b[0m                                                                                         \u001b[32m│\u001b[0m\n",
              "\u001b[32m│\u001b[0m                                                                                                                 \u001b[32m│\u001b[0m\n",
              "\u001b[32m│\u001b[0m  \u001b[92m### Universidad Autónoma de Nuevo León (University-Industry Relations Office)  \u001b[0m                                \u001b[32m│\u001b[0m\n",
              "\u001b[32m│\u001b[0m  \u001b[92m*Consultant* — Monterrey, Mexico  \u001b[0m                                                                             \u001b[32m│\u001b[0m\n",
              "\u001b[32m│\u001b[0m  \u001b[92mSep 2021 – May 2022\u001b[0m                                                                                            \u001b[32m│\u001b[0m\n",
              "\u001b[32m│\u001b[0m  \u001b[92m- Developed Python KPI dashboards, improving departmental visibility and reducing operating costs by 7% \u001b[0m       \u001b[32m│\u001b[0m\n",
              "\u001b[32m│\u001b[0m  \u001b[92mannually.  \u001b[0m                                                                                                    \u001b[32m│\u001b[0m\n",
              "\u001b[32m│\u001b[0m  \u001b[92m- Applied A/B testing and uplift modeling to quantify the incremental effects of pricing strategies on \u001b[0m        \u001b[32m│\u001b[0m\n",
              "\u001b[32m│\u001b[0m  \u001b[92mcustomer conversion.\u001b[0m                                                                                           \u001b[32m│\u001b[0m\n",
              "\u001b[32m│\u001b[0m                                                                                                                 \u001b[32m│\u001b[0m\n",
              "\u001b[32m│\u001b[0m  \u001b[92m### Secretary of Finance and General Treasury of Nuevo León (State Government)  \u001b[0m                               \u001b[32m│\u001b[0m\n",
              "\u001b[32m│\u001b[0m  \u001b[92m*Financial Planning Analyst* — Mexico  \u001b[0m                                                                        \u001b[32m│\u001b[0m\n",
              "\u001b[32m│\u001b[0m  \u001b[92mJun 2020 – Aug 2021\u001b[0m                                                                                            \u001b[32m│\u001b[0m\n",
              "\u001b[32m│\u001b[0m  \u001b[92m- Improved budget accuracy by 23% through R-based forecasting models and real-time financial reporting tools.\u001b[0m  \u001b[32m│\u001b[0m\n",
              "\u001b[32m│\u001b[0m  \u001b[92m- Reduced debt servicing costs by 1% via automated SQL pipelines and causal inference to evaluate fiscal \u001b[0m      \u001b[32m│\u001b[0m\n",
              "\u001b[32m│\u001b[0m  \u001b[92mreforms.\u001b[0m                                                                                                       \u001b[32m│\u001b[0m\n",
              "\u001b[32m│\u001b[0m                                                                                                                 \u001b[32m│\u001b[0m\n",
              "\u001b[32m│\u001b[0m  \u001b[92m---\u001b[0m                                                                                                            \u001b[32m│\u001b[0m\n",
              "\u001b[32m│\u001b[0m                                                                                                                 \u001b[32m│\u001b[0m\n",
              "\u001b[32m│\u001b[0m  \u001b[92m## Education\u001b[0m                                                                                                   \u001b[32m│\u001b[0m\n",
              "\u001b[32m│\u001b[0m                                                                                                                 \u001b[32m│\u001b[0m\n",
              "\u001b[32m│\u001b[0m  \u001b[92m**University of Chicago, Physical Sciences Division**  \u001b[0m                                                        \u001b[32m│\u001b[0m\n",
              "\u001b[32m│\u001b[0m  \u001b[92mMaster in Applied Data Science — Chicago, IL  \u001b[0m                                                                 \u001b[32m│\u001b[0m\n",
              "\u001b[32m│\u001b[0m  \u001b[92mDec 2025 (Magna Cum Laude)  \u001b[0m                                                                                   \u001b[32m│\u001b[0m\n",
              "\u001b[32m│\u001b[0m  \u001b[92m- Data Science Institute Merit Scholarship\u001b[0m                                                                     \u001b[32m│\u001b[0m\n",
              "\u001b[32m│\u001b[0m                                                                                                                 \u001b[32m│\u001b[0m\n",
              "\u001b[32m│\u001b[0m  \u001b[92m**Instituto Tecnológico y de Estudios Superiores de Monterrey**  \u001b[0m                                              \u001b[32m│\u001b[0m\n",
              "\u001b[32m│\u001b[0m  \u001b[92mBachelor in Economics — Monterrey, Mexico  \u001b[0m                                                                    \u001b[32m│\u001b[0m\n",
              "\u001b[32m│\u001b[0m  \u001b[92mDec 2019 (Magna Cum Laude, GPA: 94/100)  \u001b[0m                                                                      \u001b[32m│\u001b[0m\n",
              "\u001b[32m│\u001b[0m  \u001b[92m- Academic Excellence Award (Top 5%)  \u001b[0m                                                                         \u001b[32m│\u001b[0m\n",
              "\u001b[32m│\u001b[0m  \u001b[92m- President, 36th Economics Symposium\u001b[0m                                                                          \u001b[32m│\u001b[0m\n",
              "\u001b[32m│\u001b[0m                                                                                                                 \u001b[32m│\u001b[0m\n",
              "\u001b[32m│\u001b[0m  \u001b[92m---\u001b[0m                                                                                                            \u001b[32m│\u001b[0m\n",
              "\u001b[32m│\u001b[0m                                                                                                                 \u001b[32m│\u001b[0m\n",
              "\u001b[32m│\u001b[0m  \u001b[92m## Major Personal Projects\u001b[0m                                                                                     \u001b[32m│\u001b[0m\n",
              "\u001b[32m│\u001b[0m                                                                                                                 \u001b[32m│\u001b[0m\n",
              "\u001b[32m│\u001b[0m  \u001b[92m### Healthcare LLM (Inference Analytics)  \u001b[0m                                                                     \u001b[32m│\u001b[0m\n",
              "\u001b[32m│\u001b[0m  \u001b[92mMar 2025 – Present\u001b[0m                                                                                             \u001b[32m│\u001b[0m\n",
              "\u001b[32m│\u001b[0m  \u001b[92m- Fine-tuning healthcare-specific LLMs with Reinforcement Learning from EHRs and clinical notes, focusing on \u001b[0m  \u001b[32m│\u001b[0m\n",
              "\u001b[32m│\u001b[0m  \u001b[92mprompt engineering and reward modeling.\u001b[0m                                                                        \u001b[32m│\u001b[0m\n",
              "\u001b[32m│\u001b[0m                                                                                                                 \u001b[32m│\u001b[0m\n",
              "\u001b[32m│\u001b[0m  \u001b[92m### AirfareCast: Airline Fare Forecasting  \u001b[0m                                                                    \u001b[32m│\u001b[0m\n",
              "\u001b[32m│\u001b[0m  \u001b[92mMar 2025\u001b[0m                                                                                                       \u001b[32m│\u001b[0m\n",
              "\u001b[32m│\u001b[0m  \u001b[92m- Built XGBoost and Random Forest models to predict flight prices; deployed Streamlit dashboards for fare \u001b[0m     \u001b[32m│\u001b[0m\n",
              "\u001b[32m│\u001b[0m  \u001b[92mtrend visualization.\u001b[0m                                                                                           \u001b[32m│\u001b[0m\n",
              "\u001b[32m│\u001b[0m                                                                                                                 \u001b[32m│\u001b[0m\n",
              "\u001b[32m│\u001b[0m  \u001b[92m### Conditional VAE for Age-Controlled Face Generation  \u001b[0m                                                       \u001b[32m│\u001b[0m\n",
              "\u001b[32m│\u001b[0m  \u001b[92mJan 2025\u001b[0m                                                                                                       \u001b[32m│\u001b[0m\n",
              "\u001b[32m│\u001b[0m  \u001b[92m- Designed a CVAE to simulate age-based facial transformations, achieving latent space disentanglement.\u001b[0m        \u001b[32m│\u001b[0m\n",
              "\u001b[32m│\u001b[0m                                                                                                                 \u001b[32m│\u001b[0m\n",
              "\u001b[32m│\u001b[0m  \u001b[92m### Customer Behavior Analysis Pipeline  \u001b[0m                                                                      \u001b[32m│\u001b[0m\n",
              "\u001b[32m│\u001b[0m  \u001b[92mNov 2024\u001b[0m                                                                                                       \u001b[32m│\u001b[0m\n",
              "\u001b[32m│\u001b[0m  \u001b[92m- Developed a SQL-Python pipeline analyzing 6.75M e-commerce records using A/B testing and time series \u001b[0m        \u001b[32m│\u001b[0m\n",
              "\u001b[32m│\u001b[0m  \u001b[92manalysis.\u001b[0m                                                                                                      \u001b[32m│\u001b[0m\n",
              "\u001b[32m│\u001b[0m                                                                                                                 \u001b[32m│\u001b[0m\n",
              "\u001b[32m│\u001b[0m  \u001b[92m### John List Voltage Research Program  \u001b[0m                                                                       \u001b[32m│\u001b[0m\n",
              "\u001b[32m│\u001b[0m  \u001b[92mSep 2024 – Present\u001b[0m                                                                                             \u001b[32m│\u001b[0m\n",
              "\u001b[32m│\u001b[0m  \u001b[92m- Applied Bayesian modeling and causal inference to quantify treatment effects in behavioral experiments and \u001b[0m  \u001b[32m│\u001b[0m\n",
              "\u001b[32m│\u001b[0m  \u001b[92mevaluate incremental outcomes.\u001b[0m                                                                                 \u001b[32m│\u001b[0m\n",
              "\u001b[32m│\u001b[0m                                                                                                                 \u001b[32m│\u001b[0m\n",
              "\u001b[32m│\u001b[0m  \u001b[92m---\u001b[0m                                                                                                            \u001b[32m│\u001b[0m\n",
              "\u001b[32m│\u001b[0m                                                                                                                 \u001b[32m│\u001b[0m\n",
              "\u001b[32m│\u001b[0m  \u001b[92m## Technical Skills\u001b[0m                                                                                            \u001b[32m│\u001b[0m\n",
              "\u001b[32m│\u001b[0m  \u001b[92m- **Programming:** Python (Pandas, NumPy, Matplotlib, Scikit-Learn), SQL, R, STATA, Git  \u001b[0m                      \u001b[32m│\u001b[0m\n",
              "\u001b[32m│\u001b[0m  \u001b[92m- **ML & AI:** Generative AI (LLMs, VAEs), Classification, Regression, XGBoost, Random Forest, RNN-LSTM, NLP,\u001b[0m  \u001b[32m│\u001b[0m\n",
              "\u001b[32m│\u001b[0m  \u001b[92mPrompt Engineering  \u001b[0m                                                                                           \u001b[32m│\u001b[0m\n",
              "\u001b[32m│\u001b[0m  \u001b[92m- **Statistics:** Time Series Forecasting, Bayesian Inference, Causal Inference, MLE, MCMC, Econometrics, \u001b[0m     \u001b[32m│\u001b[0m\n",
              "\u001b[32m│\u001b[0m  \u001b[92mSentiment Analysis  \u001b[0m                                                                                           \u001b[32m│\u001b[0m\n",
              "\u001b[32m│\u001b[0m  \u001b[92m- **Tools:** Snowflake, Tableau, Streamlit, Spark, MLOps frameworks\u001b[0m                                            \u001b[32m│\u001b[0m\n",
              "\u001b[32m│\u001b[0m  \u001b[92m```\u001b[0m                                                                                                            \u001b[32m│\u001b[0m\n",
              "\u001b[32m│\u001b[0m                                                                                                                 \u001b[32m│\u001b[0m\n",
              "\u001b[32m╰─────────────────────────────────────────────────────────────────────────────────────────────────────────────────╯\u001b[0m\n"
            ],
            "text/html": [
              "<pre style=\"white-space:pre;overflow-x:auto;line-height:normal;font-family:Menlo,'DejaVu Sans Mono',consolas,'Courier New',monospace\"><span style=\"color: #008000; text-decoration-color: #008000\">╭───────────────────────────────────────────── ✅ Agent Final Answer ─────────────────────────────────────────────╮</span>\n",
              "<span style=\"color: #008000; text-decoration-color: #008000\">│</span>                                                                                                                 <span style=\"color: #008000; text-decoration-color: #008000\">│</span>\n",
              "<span style=\"color: #008000; text-decoration-color: #008000\">│</span>  <span style=\"color: #c0c0c0; text-decoration-color: #c0c0c0\">Agent: </span><span style=\"color: #00ff00; text-decoration-color: #00ff00; font-weight: bold\">Resume Writer</span>                                                                                           <span style=\"color: #008000; text-decoration-color: #008000\">│</span>\n",
              "<span style=\"color: #008000; text-decoration-color: #008000\">│</span>                                                                                                                 <span style=\"color: #008000; text-decoration-color: #008000\">│</span>\n",
              "<span style=\"color: #008000; text-decoration-color: #008000\">│</span>  <span style=\"color: #c0c0c0; text-decoration-color: #c0c0c0\">Final Answer:</span>                                                                                                  <span style=\"color: #008000; text-decoration-color: #008000\">│</span>\n",
              "<span style=\"color: #008000; text-decoration-color: #008000\">│</span>  <span style=\"color: #00ff00; text-decoration-color: #00ff00\">```markdown</span>                                                                                                    <span style=\"color: #008000; text-decoration-color: #008000\">│</span>\n",
              "<span style=\"color: #008000; text-decoration-color: #008000\">│</span>  <span style=\"color: #00ff00; text-decoration-color: #00ff00\"># Cassandra Maldonado</span>                                                                                          <span style=\"color: #008000; text-decoration-color: #008000\">│</span>\n",
              "<span style=\"color: #008000; text-decoration-color: #008000\">│</span>                                                                                                                 <span style=\"color: #008000; text-decoration-color: #008000\">│</span>\n",
              "<span style=\"color: #008000; text-decoration-color: #008000\">│</span>  <span style=\"color: #00ff00; text-decoration-color: #00ff00\">+1 (415) 286-1896 | cassandramr@uchicago.edu | [LinkedIn](in/cassandra-msullivan) | </span>                           <span style=\"color: #008000; text-decoration-color: #008000\">│</span>\n",
              "<span style=\"color: #008000; text-decoration-color: #008000\">│</span>  <span style=\"color: #00ff00; text-decoration-color: #00ff00\">[GitHub](https://github.com)</span>                                                                                   <span style=\"color: #008000; text-decoration-color: #008000\">│</span>\n",
              "<span style=\"color: #008000; text-decoration-color: #008000\">│</span>                                                                                                                 <span style=\"color: #008000; text-decoration-color: #008000\">│</span>\n",
              "<span style=\"color: #008000; text-decoration-color: #008000\">│</span>  <span style=\"color: #00ff00; text-decoration-color: #00ff00\">---</span>                                                                                                            <span style=\"color: #008000; text-decoration-color: #008000\">│</span>\n",
              "<span style=\"color: #008000; text-decoration-color: #008000\">│</span>                                                                                                                 <span style=\"color: #008000; text-decoration-color: #008000\">│</span>\n",
              "<span style=\"color: #008000; text-decoration-color: #008000\">│</span>  <span style=\"color: #00ff00; text-decoration-color: #00ff00\">## Summary</span>                                                                                                     <span style=\"color: #008000; text-decoration-color: #008000\">│</span>\n",
              "<span style=\"color: #008000; text-decoration-color: #008000\">│</span>  <span style=\"color: #00ff00; text-decoration-color: #00ff00\">Senior AI Data Scientist with 6+ years of experience delivering scalable predictive models, causal inference,</span>  <span style=\"color: #008000; text-decoration-color: #008000\">│</span>\n",
              "<span style=\"color: #008000; text-decoration-color: #008000\">│</span>  <span style=\"color: #00ff00; text-decoration-color: #00ff00\">and large-scale ML pipelines. Proven ability to translate complex business questions into data-driven </span>         <span style=\"color: #008000; text-decoration-color: #008000\">│</span>\n",
              "<span style=\"color: #008000; text-decoration-color: #008000\">│</span>  <span style=\"color: #00ff00; text-decoration-color: #00ff00\">solutions, deploying models in production that increased forecast accuracy by up to 15%. Skilled in LLM </span>       <span style=\"color: #008000; text-decoration-color: #008000\">│</span>\n",
              "<span style=\"color: #008000; text-decoration-color: #008000\">│</span>  <span style=\"color: #00ff00; text-decoration-color: #00ff00\">evaluation, RAG architectures, prompt engineering, and data visualization, with a strong record of </span>            <span style=\"color: #008000; text-decoration-color: #008000\">│</span>\n",
              "<span style=\"color: #008000; text-decoration-color: #008000\">│</span>  <span style=\"color: #00ff00; text-decoration-color: #00ff00\">cross-functional collaboration and technical communication.</span>                                                    <span style=\"color: #008000; text-decoration-color: #008000\">│</span>\n",
              "<span style=\"color: #008000; text-decoration-color: #008000\">│</span>                                                                                                                 <span style=\"color: #008000; text-decoration-color: #008000\">│</span>\n",
              "<span style=\"color: #008000; text-decoration-color: #008000\">│</span>  <span style=\"color: #00ff00; text-decoration-color: #00ff00\">---</span>                                                                                                            <span style=\"color: #008000; text-decoration-color: #008000\">│</span>\n",
              "<span style=\"color: #008000; text-decoration-color: #008000\">│</span>                                                                                                                 <span style=\"color: #008000; text-decoration-color: #008000\">│</span>\n",
              "<span style=\"color: #008000; text-decoration-color: #008000\">│</span>  <span style=\"color: #00ff00; text-decoration-color: #00ff00\">## Key Skills</span>                                                                                                  <span style=\"color: #008000; text-decoration-color: #008000\">│</span>\n",
              "<span style=\"color: #008000; text-decoration-color: #008000\">│</span>  <span style=\"color: #00ff00; text-decoration-color: #00ff00\">- Predictive Modeling | Causal Inference | ML Pipelines | Large Language Models (LLMs) | RAG Architectures | </span>  <span style=\"color: #008000; text-decoration-color: #008000\">│</span>\n",
              "<span style=\"color: #008000; text-decoration-color: #008000\">│</span>  <span style=\"color: #00ff00; text-decoration-color: #00ff00\">Prompt Engineering</span>                                                                                             <span style=\"color: #008000; text-decoration-color: #008000\">│</span>\n",
              "<span style=\"color: #008000; text-decoration-color: #008000\">│</span>  <span style=\"color: #00ff00; text-decoration-color: #00ff00\">- SQL &amp; Data Pipelines | Data Visualization | Python &amp; Notebooks | Generative AI | Data Analysis | Deployment</span>  <span style=\"color: #008000; text-decoration-color: #008000\">│</span>\n",
              "<span style=\"color: #008000; text-decoration-color: #008000\">│</span>  <span style=\"color: #00ff00; text-decoration-color: #00ff00\">&amp; Monitoring</span>                                                                                                   <span style=\"color: #008000; text-decoration-color: #008000\">│</span>\n",
              "<span style=\"color: #008000; text-decoration-color: #008000\">│</span>  <span style=\"color: #00ff00; text-decoration-color: #00ff00\">- Statistical Analysis | A/B Testing | Data Modeling | Time Series Forecasting | Bayesian Inference | MLOps</span>    <span style=\"color: #008000; text-decoration-color: #008000\">│</span>\n",
              "<span style=\"color: #008000; text-decoration-color: #008000\">│</span>                                                                                                                 <span style=\"color: #008000; text-decoration-color: #008000\">│</span>\n",
              "<span style=\"color: #008000; text-decoration-color: #008000\">│</span>  <span style=\"color: #00ff00; text-decoration-color: #00ff00\">---</span>                                                                                                            <span style=\"color: #008000; text-decoration-color: #008000\">│</span>\n",
              "<span style=\"color: #008000; text-decoration-color: #008000\">│</span>                                                                                                                 <span style=\"color: #008000; text-decoration-color: #008000\">│</span>\n",
              "<span style=\"color: #008000; text-decoration-color: #008000\">│</span>  <span style=\"color: #00ff00; text-decoration-color: #00ff00\">## Experience</span>                                                                                                  <span style=\"color: #008000; text-decoration-color: #008000\">│</span>\n",
              "<span style=\"color: #008000; text-decoration-color: #008000\">│</span>                                                                                                                 <span style=\"color: #008000; text-decoration-color: #008000\">│</span>\n",
              "<span style=\"color: #008000; text-decoration-color: #008000\">│</span>  <span style=\"color: #00ff00; text-decoration-color: #00ff00\">### Mexico Central Bank (Banco de Mexico)  </span>                                                                    <span style=\"color: #008000; text-decoration-color: #008000\">│</span>\n",
              "<span style=\"color: #008000; text-decoration-color: #008000\">│</span>  <span style=\"color: #00ff00; text-decoration-color: #00ff00\">*Machine Learning &amp; Data Science Economist* — Monterrey, Mexico  </span>                                              <span style=\"color: #008000; text-decoration-color: #008000\">│</span>\n",
              "<span style=\"color: #008000; text-decoration-color: #008000\">│</span>  <span style=\"color: #00ff00; text-decoration-color: #00ff00\">May 2022 – Sep 2024</span>                                                                                            <span style=\"color: #008000; text-decoration-color: #008000\">│</span>\n",
              "<span style=\"color: #008000; text-decoration-color: #008000\">│</span>  <span style=\"color: #00ff00; text-decoration-color: #00ff00\">- Led development of forecasting models (XGBoost, ARIMA, Prophet) that improved regional economic prediction </span>  <span style=\"color: #008000; text-decoration-color: #008000\">│</span>\n",
              "<span style=\"color: #008000; text-decoration-color: #008000\">│</span>  <span style=\"color: #00ff00; text-decoration-color: #00ff00\">accuracy by 15%.  </span>                                                                                             <span style=\"color: #008000; text-decoration-color: #008000\">│</span>\n",
              "<span style=\"color: #008000; text-decoration-color: #008000\">│</span>  <span style=\"color: #00ff00; text-decoration-color: #00ff00\">- Engineered causal inference analyses (DiD, matching) and A/B tests to evaluate policy impacts, reducing </span>     <span style=\"color: #008000; text-decoration-color: #008000\">│</span>\n",
              "<span style=\"color: #008000; text-decoration-color: #008000\">│</span>  <span style=\"color: #00ff00; text-decoration-color: #00ff00\">decision cycle time by 20%.  </span>                                                                                  <span style=\"color: #008000; text-decoration-color: #008000\">│</span>\n",
              "<span style=\"color: #008000; text-decoration-color: #008000\">│</span>  <span style=\"color: #00ff00; text-decoration-color: #00ff00\">- Automated SQL pipelines and integrated generative AI tools, streamlining data ingestion and evaluation </span>      <span style=\"color: #008000; text-decoration-color: #008000\">│</span>\n",
              "<span style=\"color: #008000; text-decoration-color: #008000\">│</span>  <span style=\"color: #00ff00; text-decoration-color: #00ff00\">workflows for large-scale model automation.  </span>                                                                  <span style=\"color: #008000; text-decoration-color: #008000\">│</span>\n",
              "<span style=\"color: #008000; text-decoration-color: #008000\">│</span>  <span style=\"color: #00ff00; text-decoration-color: #00ff00\">- Built interactive dashboards with Streamlit and Tableau, enabling real-time insights for policymakers and </span>   <span style=\"color: #008000; text-decoration-color: #008000\">│</span>\n",
              "<span style=\"color: #008000; text-decoration-color: #008000\">│</span>  <span style=\"color: #00ff00; text-decoration-color: #00ff00\">analysts.  </span>                                                                                                    <span style=\"color: #008000; text-decoration-color: #008000\">│</span>\n",
              "<span style=\"color: #008000; text-decoration-color: #008000\">│</span>  <span style=\"color: #00ff00; text-decoration-color: #00ff00\">- Collaborated with AI engineers to scale ML models in production, integrating LLMs and RAG architectures for</span>  <span style=\"color: #008000; text-decoration-color: #008000\">│</span>\n",
              "<span style=\"color: #008000; text-decoration-color: #008000\">│</span>  <span style=\"color: #00ff00; text-decoration-color: #00ff00\">chatbot and summarization engines.  </span>                                                                           <span style=\"color: #008000; text-decoration-color: #008000\">│</span>\n",
              "<span style=\"color: #008000; text-decoration-color: #008000\">│</span>  <span style=\"color: #00ff00; text-decoration-color: #00ff00\">- Analyzed agent interactions and implemented LLM evaluation pipelines, enhancing prompt effectiveness and </span>    <span style=\"color: #008000; text-decoration-color: #008000\">│</span>\n",
              "<span style=\"color: #008000; text-decoration-color: #008000\">│</span>  <span style=\"color: #00ff00; text-decoration-color: #00ff00\">model reliability.  </span>                                                                                           <span style=\"color: #008000; text-decoration-color: #008000\">│</span>\n",
              "<span style=\"color: #008000; text-decoration-color: #008000\">│</span>  <span style=\"color: #00ff00; text-decoration-color: #00ff00\">- Translated complex business questions into scalable data solutions, influencing KPI definitions and </span>         <span style=\"color: #008000; text-decoration-color: #008000\">│</span>\n",
              "<span style=\"color: #008000; text-decoration-color: #008000\">│</span>  <span style=\"color: #00ff00; text-decoration-color: #00ff00\">strategic initiatives.</span>                                                                                         <span style=\"color: #008000; text-decoration-color: #008000\">│</span>\n",
              "<span style=\"color: #008000; text-decoration-color: #008000\">│</span>                                                                                                                 <span style=\"color: #008000; text-decoration-color: #008000\">│</span>\n",
              "<span style=\"color: #008000; text-decoration-color: #008000\">│</span>  <span style=\"color: #00ff00; text-decoration-color: #00ff00\">### Universidad Autónoma de Nuevo León (University-Industry Relations Office)  </span>                                <span style=\"color: #008000; text-decoration-color: #008000\">│</span>\n",
              "<span style=\"color: #008000; text-decoration-color: #008000\">│</span>  <span style=\"color: #00ff00; text-decoration-color: #00ff00\">*Consultant* — Monterrey, Mexico  </span>                                                                             <span style=\"color: #008000; text-decoration-color: #008000\">│</span>\n",
              "<span style=\"color: #008000; text-decoration-color: #008000\">│</span>  <span style=\"color: #00ff00; text-decoration-color: #00ff00\">Sep 2021 – May 2022</span>                                                                                            <span style=\"color: #008000; text-decoration-color: #008000\">│</span>\n",
              "<span style=\"color: #008000; text-decoration-color: #008000\">│</span>  <span style=\"color: #00ff00; text-decoration-color: #00ff00\">- Developed Python KPI dashboards, improving departmental visibility and reducing operating costs by 7% </span>       <span style=\"color: #008000; text-decoration-color: #008000\">│</span>\n",
              "<span style=\"color: #008000; text-decoration-color: #008000\">│</span>  <span style=\"color: #00ff00; text-decoration-color: #00ff00\">annually.  </span>                                                                                                    <span style=\"color: #008000; text-decoration-color: #008000\">│</span>\n",
              "<span style=\"color: #008000; text-decoration-color: #008000\">│</span>  <span style=\"color: #00ff00; text-decoration-color: #00ff00\">- Applied A/B testing and uplift modeling to quantify the incremental effects of pricing strategies on </span>        <span style=\"color: #008000; text-decoration-color: #008000\">│</span>\n",
              "<span style=\"color: #008000; text-decoration-color: #008000\">│</span>  <span style=\"color: #00ff00; text-decoration-color: #00ff00\">customer conversion.</span>                                                                                           <span style=\"color: #008000; text-decoration-color: #008000\">│</span>\n",
              "<span style=\"color: #008000; text-decoration-color: #008000\">│</span>                                                                                                                 <span style=\"color: #008000; text-decoration-color: #008000\">│</span>\n",
              "<span style=\"color: #008000; text-decoration-color: #008000\">│</span>  <span style=\"color: #00ff00; text-decoration-color: #00ff00\">### Secretary of Finance and General Treasury of Nuevo León (State Government)  </span>                               <span style=\"color: #008000; text-decoration-color: #008000\">│</span>\n",
              "<span style=\"color: #008000; text-decoration-color: #008000\">│</span>  <span style=\"color: #00ff00; text-decoration-color: #00ff00\">*Financial Planning Analyst* — Mexico  </span>                                                                        <span style=\"color: #008000; text-decoration-color: #008000\">│</span>\n",
              "<span style=\"color: #008000; text-decoration-color: #008000\">│</span>  <span style=\"color: #00ff00; text-decoration-color: #00ff00\">Jun 2020 – Aug 2021</span>                                                                                            <span style=\"color: #008000; text-decoration-color: #008000\">│</span>\n",
              "<span style=\"color: #008000; text-decoration-color: #008000\">│</span>  <span style=\"color: #00ff00; text-decoration-color: #00ff00\">- Improved budget accuracy by 23% through R-based forecasting models and real-time financial reporting tools.</span>  <span style=\"color: #008000; text-decoration-color: #008000\">│</span>\n",
              "<span style=\"color: #008000; text-decoration-color: #008000\">│</span>  <span style=\"color: #00ff00; text-decoration-color: #00ff00\">- Reduced debt servicing costs by 1% via automated SQL pipelines and causal inference to evaluate fiscal </span>      <span style=\"color: #008000; text-decoration-color: #008000\">│</span>\n",
              "<span style=\"color: #008000; text-decoration-color: #008000\">│</span>  <span style=\"color: #00ff00; text-decoration-color: #00ff00\">reforms.</span>                                                                                                       <span style=\"color: #008000; text-decoration-color: #008000\">│</span>\n",
              "<span style=\"color: #008000; text-decoration-color: #008000\">│</span>                                                                                                                 <span style=\"color: #008000; text-decoration-color: #008000\">│</span>\n",
              "<span style=\"color: #008000; text-decoration-color: #008000\">│</span>  <span style=\"color: #00ff00; text-decoration-color: #00ff00\">---</span>                                                                                                            <span style=\"color: #008000; text-decoration-color: #008000\">│</span>\n",
              "<span style=\"color: #008000; text-decoration-color: #008000\">│</span>                                                                                                                 <span style=\"color: #008000; text-decoration-color: #008000\">│</span>\n",
              "<span style=\"color: #008000; text-decoration-color: #008000\">│</span>  <span style=\"color: #00ff00; text-decoration-color: #00ff00\">## Education</span>                                                                                                   <span style=\"color: #008000; text-decoration-color: #008000\">│</span>\n",
              "<span style=\"color: #008000; text-decoration-color: #008000\">│</span>                                                                                                                 <span style=\"color: #008000; text-decoration-color: #008000\">│</span>\n",
              "<span style=\"color: #008000; text-decoration-color: #008000\">│</span>  <span style=\"color: #00ff00; text-decoration-color: #00ff00\">**University of Chicago, Physical Sciences Division**  </span>                                                        <span style=\"color: #008000; text-decoration-color: #008000\">│</span>\n",
              "<span style=\"color: #008000; text-decoration-color: #008000\">│</span>  <span style=\"color: #00ff00; text-decoration-color: #00ff00\">Master in Applied Data Science — Chicago, IL  </span>                                                                 <span style=\"color: #008000; text-decoration-color: #008000\">│</span>\n",
              "<span style=\"color: #008000; text-decoration-color: #008000\">│</span>  <span style=\"color: #00ff00; text-decoration-color: #00ff00\">Dec 2025 (Magna Cum Laude)  </span>                                                                                   <span style=\"color: #008000; text-decoration-color: #008000\">│</span>\n",
              "<span style=\"color: #008000; text-decoration-color: #008000\">│</span>  <span style=\"color: #00ff00; text-decoration-color: #00ff00\">- Data Science Institute Merit Scholarship</span>                                                                     <span style=\"color: #008000; text-decoration-color: #008000\">│</span>\n",
              "<span style=\"color: #008000; text-decoration-color: #008000\">│</span>                                                                                                                 <span style=\"color: #008000; text-decoration-color: #008000\">│</span>\n",
              "<span style=\"color: #008000; text-decoration-color: #008000\">│</span>  <span style=\"color: #00ff00; text-decoration-color: #00ff00\">**Instituto Tecnológico y de Estudios Superiores de Monterrey**  </span>                                              <span style=\"color: #008000; text-decoration-color: #008000\">│</span>\n",
              "<span style=\"color: #008000; text-decoration-color: #008000\">│</span>  <span style=\"color: #00ff00; text-decoration-color: #00ff00\">Bachelor in Economics — Monterrey, Mexico  </span>                                                                    <span style=\"color: #008000; text-decoration-color: #008000\">│</span>\n",
              "<span style=\"color: #008000; text-decoration-color: #008000\">│</span>  <span style=\"color: #00ff00; text-decoration-color: #00ff00\">Dec 2019 (Magna Cum Laude, GPA: 94/100)  </span>                                                                      <span style=\"color: #008000; text-decoration-color: #008000\">│</span>\n",
              "<span style=\"color: #008000; text-decoration-color: #008000\">│</span>  <span style=\"color: #00ff00; text-decoration-color: #00ff00\">- Academic Excellence Award (Top 5%)  </span>                                                                         <span style=\"color: #008000; text-decoration-color: #008000\">│</span>\n",
              "<span style=\"color: #008000; text-decoration-color: #008000\">│</span>  <span style=\"color: #00ff00; text-decoration-color: #00ff00\">- President, 36th Economics Symposium</span>                                                                          <span style=\"color: #008000; text-decoration-color: #008000\">│</span>\n",
              "<span style=\"color: #008000; text-decoration-color: #008000\">│</span>                                                                                                                 <span style=\"color: #008000; text-decoration-color: #008000\">│</span>\n",
              "<span style=\"color: #008000; text-decoration-color: #008000\">│</span>  <span style=\"color: #00ff00; text-decoration-color: #00ff00\">---</span>                                                                                                            <span style=\"color: #008000; text-decoration-color: #008000\">│</span>\n",
              "<span style=\"color: #008000; text-decoration-color: #008000\">│</span>                                                                                                                 <span style=\"color: #008000; text-decoration-color: #008000\">│</span>\n",
              "<span style=\"color: #008000; text-decoration-color: #008000\">│</span>  <span style=\"color: #00ff00; text-decoration-color: #00ff00\">## Major Personal Projects</span>                                                                                     <span style=\"color: #008000; text-decoration-color: #008000\">│</span>\n",
              "<span style=\"color: #008000; text-decoration-color: #008000\">│</span>                                                                                                                 <span style=\"color: #008000; text-decoration-color: #008000\">│</span>\n",
              "<span style=\"color: #008000; text-decoration-color: #008000\">│</span>  <span style=\"color: #00ff00; text-decoration-color: #00ff00\">### Healthcare LLM (Inference Analytics)  </span>                                                                     <span style=\"color: #008000; text-decoration-color: #008000\">│</span>\n",
              "<span style=\"color: #008000; text-decoration-color: #008000\">│</span>  <span style=\"color: #00ff00; text-decoration-color: #00ff00\">Mar 2025 – Present</span>                                                                                             <span style=\"color: #008000; text-decoration-color: #008000\">│</span>\n",
              "<span style=\"color: #008000; text-decoration-color: #008000\">│</span>  <span style=\"color: #00ff00; text-decoration-color: #00ff00\">- Fine-tuning healthcare-specific LLMs with Reinforcement Learning from EHRs and clinical notes, focusing on </span>  <span style=\"color: #008000; text-decoration-color: #008000\">│</span>\n",
              "<span style=\"color: #008000; text-decoration-color: #008000\">│</span>  <span style=\"color: #00ff00; text-decoration-color: #00ff00\">prompt engineering and reward modeling.</span>                                                                        <span style=\"color: #008000; text-decoration-color: #008000\">│</span>\n",
              "<span style=\"color: #008000; text-decoration-color: #008000\">│</span>                                                                                                                 <span style=\"color: #008000; text-decoration-color: #008000\">│</span>\n",
              "<span style=\"color: #008000; text-decoration-color: #008000\">│</span>  <span style=\"color: #00ff00; text-decoration-color: #00ff00\">### AirfareCast: Airline Fare Forecasting  </span>                                                                    <span style=\"color: #008000; text-decoration-color: #008000\">│</span>\n",
              "<span style=\"color: #008000; text-decoration-color: #008000\">│</span>  <span style=\"color: #00ff00; text-decoration-color: #00ff00\">Mar 2025</span>                                                                                                       <span style=\"color: #008000; text-decoration-color: #008000\">│</span>\n",
              "<span style=\"color: #008000; text-decoration-color: #008000\">│</span>  <span style=\"color: #00ff00; text-decoration-color: #00ff00\">- Built XGBoost and Random Forest models to predict flight prices; deployed Streamlit dashboards for fare </span>     <span style=\"color: #008000; text-decoration-color: #008000\">│</span>\n",
              "<span style=\"color: #008000; text-decoration-color: #008000\">│</span>  <span style=\"color: #00ff00; text-decoration-color: #00ff00\">trend visualization.</span>                                                                                           <span style=\"color: #008000; text-decoration-color: #008000\">│</span>\n",
              "<span style=\"color: #008000; text-decoration-color: #008000\">│</span>                                                                                                                 <span style=\"color: #008000; text-decoration-color: #008000\">│</span>\n",
              "<span style=\"color: #008000; text-decoration-color: #008000\">│</span>  <span style=\"color: #00ff00; text-decoration-color: #00ff00\">### Conditional VAE for Age-Controlled Face Generation  </span>                                                       <span style=\"color: #008000; text-decoration-color: #008000\">│</span>\n",
              "<span style=\"color: #008000; text-decoration-color: #008000\">│</span>  <span style=\"color: #00ff00; text-decoration-color: #00ff00\">Jan 2025</span>                                                                                                       <span style=\"color: #008000; text-decoration-color: #008000\">│</span>\n",
              "<span style=\"color: #008000; text-decoration-color: #008000\">│</span>  <span style=\"color: #00ff00; text-decoration-color: #00ff00\">- Designed a CVAE to simulate age-based facial transformations, achieving latent space disentanglement.</span>        <span style=\"color: #008000; text-decoration-color: #008000\">│</span>\n",
              "<span style=\"color: #008000; text-decoration-color: #008000\">│</span>                                                                                                                 <span style=\"color: #008000; text-decoration-color: #008000\">│</span>\n",
              "<span style=\"color: #008000; text-decoration-color: #008000\">│</span>  <span style=\"color: #00ff00; text-decoration-color: #00ff00\">### Customer Behavior Analysis Pipeline  </span>                                                                      <span style=\"color: #008000; text-decoration-color: #008000\">│</span>\n",
              "<span style=\"color: #008000; text-decoration-color: #008000\">│</span>  <span style=\"color: #00ff00; text-decoration-color: #00ff00\">Nov 2024</span>                                                                                                       <span style=\"color: #008000; text-decoration-color: #008000\">│</span>\n",
              "<span style=\"color: #008000; text-decoration-color: #008000\">│</span>  <span style=\"color: #00ff00; text-decoration-color: #00ff00\">- Developed a SQL-Python pipeline analyzing 6.75M e-commerce records using A/B testing and time series </span>        <span style=\"color: #008000; text-decoration-color: #008000\">│</span>\n",
              "<span style=\"color: #008000; text-decoration-color: #008000\">│</span>  <span style=\"color: #00ff00; text-decoration-color: #00ff00\">analysis.</span>                                                                                                      <span style=\"color: #008000; text-decoration-color: #008000\">│</span>\n",
              "<span style=\"color: #008000; text-decoration-color: #008000\">│</span>                                                                                                                 <span style=\"color: #008000; text-decoration-color: #008000\">│</span>\n",
              "<span style=\"color: #008000; text-decoration-color: #008000\">│</span>  <span style=\"color: #00ff00; text-decoration-color: #00ff00\">### John List Voltage Research Program  </span>                                                                       <span style=\"color: #008000; text-decoration-color: #008000\">│</span>\n",
              "<span style=\"color: #008000; text-decoration-color: #008000\">│</span>  <span style=\"color: #00ff00; text-decoration-color: #00ff00\">Sep 2024 – Present</span>                                                                                             <span style=\"color: #008000; text-decoration-color: #008000\">│</span>\n",
              "<span style=\"color: #008000; text-decoration-color: #008000\">│</span>  <span style=\"color: #00ff00; text-decoration-color: #00ff00\">- Applied Bayesian modeling and causal inference to quantify treatment effects in behavioral experiments and </span>  <span style=\"color: #008000; text-decoration-color: #008000\">│</span>\n",
              "<span style=\"color: #008000; text-decoration-color: #008000\">│</span>  <span style=\"color: #00ff00; text-decoration-color: #00ff00\">evaluate incremental outcomes.</span>                                                                                 <span style=\"color: #008000; text-decoration-color: #008000\">│</span>\n",
              "<span style=\"color: #008000; text-decoration-color: #008000\">│</span>                                                                                                                 <span style=\"color: #008000; text-decoration-color: #008000\">│</span>\n",
              "<span style=\"color: #008000; text-decoration-color: #008000\">│</span>  <span style=\"color: #00ff00; text-decoration-color: #00ff00\">---</span>                                                                                                            <span style=\"color: #008000; text-decoration-color: #008000\">│</span>\n",
              "<span style=\"color: #008000; text-decoration-color: #008000\">│</span>                                                                                                                 <span style=\"color: #008000; text-decoration-color: #008000\">│</span>\n",
              "<span style=\"color: #008000; text-decoration-color: #008000\">│</span>  <span style=\"color: #00ff00; text-decoration-color: #00ff00\">## Technical Skills</span>                                                                                            <span style=\"color: #008000; text-decoration-color: #008000\">│</span>\n",
              "<span style=\"color: #008000; text-decoration-color: #008000\">│</span>  <span style=\"color: #00ff00; text-decoration-color: #00ff00\">- **Programming:** Python (Pandas, NumPy, Matplotlib, Scikit-Learn), SQL, R, STATA, Git  </span>                      <span style=\"color: #008000; text-decoration-color: #008000\">│</span>\n",
              "<span style=\"color: #008000; text-decoration-color: #008000\">│</span>  <span style=\"color: #00ff00; text-decoration-color: #00ff00\">- **ML &amp; AI:** Generative AI (LLMs, VAEs), Classification, Regression, XGBoost, Random Forest, RNN-LSTM, NLP,</span>  <span style=\"color: #008000; text-decoration-color: #008000\">│</span>\n",
              "<span style=\"color: #008000; text-decoration-color: #008000\">│</span>  <span style=\"color: #00ff00; text-decoration-color: #00ff00\">Prompt Engineering  </span>                                                                                           <span style=\"color: #008000; text-decoration-color: #008000\">│</span>\n",
              "<span style=\"color: #008000; text-decoration-color: #008000\">│</span>  <span style=\"color: #00ff00; text-decoration-color: #00ff00\">- **Statistics:** Time Series Forecasting, Bayesian Inference, Causal Inference, MLE, MCMC, Econometrics, </span>     <span style=\"color: #008000; text-decoration-color: #008000\">│</span>\n",
              "<span style=\"color: #008000; text-decoration-color: #008000\">│</span>  <span style=\"color: #00ff00; text-decoration-color: #00ff00\">Sentiment Analysis  </span>                                                                                           <span style=\"color: #008000; text-decoration-color: #008000\">│</span>\n",
              "<span style=\"color: #008000; text-decoration-color: #008000\">│</span>  <span style=\"color: #00ff00; text-decoration-color: #00ff00\">- **Tools:** Snowflake, Tableau, Streamlit, Spark, MLOps frameworks</span>                                            <span style=\"color: #008000; text-decoration-color: #008000\">│</span>\n",
              "<span style=\"color: #008000; text-decoration-color: #008000\">│</span>  <span style=\"color: #00ff00; text-decoration-color: #00ff00\">```</span>                                                                                                            <span style=\"color: #008000; text-decoration-color: #008000\">│</span>\n",
              "<span style=\"color: #008000; text-decoration-color: #008000\">│</span>                                                                                                                 <span style=\"color: #008000; text-decoration-color: #008000\">│</span>\n",
              "<span style=\"color: #008000; text-decoration-color: #008000\">╰─────────────────────────────────────────────────────────────────────────────────────────────────────────────────╯</span>\n",
              "</pre>\n"
            ]
          },
          "metadata": {}
        },
        {
          "output_type": "display_data",
          "data": {
            "text/plain": [
              "\n"
            ],
            "text/html": [
              "<pre style=\"white-space:pre;overflow-x:auto;line-height:normal;font-family:Menlo,'DejaVu Sans Mono',consolas,'Courier New',monospace\">\n",
              "</pre>\n"
            ]
          },
          "metadata": {}
        },
        {
          "output_type": "display_data",
          "data": {
            "text/plain": [],
            "text/html": [
              "<pre style=\"white-space:pre;overflow-x:auto;line-height:normal;font-family:Menlo,'DejaVu Sans Mono',consolas,'Courier New',monospace\"></pre>\n"
            ]
          },
          "metadata": {}
        },
        {
          "output_type": "display_data",
          "data": {
            "text/plain": [
              "\u001b[32m╭─\u001b[0m\u001b[32m────────────────────────────────────────────\u001b[0m\u001b[32m LiteAgent Completion \u001b[0m\u001b[32m─────────────────────────────────────────────\u001b[0m\u001b[32m─╮\u001b[0m\n",
              "\u001b[32m│\u001b[0m                                                                                                                 \u001b[32m│\u001b[0m\n",
              "\u001b[32m│\u001b[0m  \u001b[1;32mLiteAgent Completed\u001b[0m                                                                                            \u001b[32m│\u001b[0m\n",
              "\u001b[32m│\u001b[0m  \u001b[37mName: \u001b[0m\u001b[32mResume Writer\u001b[0m                                                                                            \u001b[32m│\u001b[0m\n",
              "\u001b[32m│\u001b[0m  \u001b[37mid: \u001b[0m\u001b[32me8357d50-6625-4b98-8c36-f7ce822c88e5\u001b[0m                                                                       \u001b[32m│\u001b[0m\n",
              "\u001b[32m│\u001b[0m  \u001b[37mrole: \u001b[0m\u001b[32mResume Writer\u001b[0m                                                                                            \u001b[32m│\u001b[0m\n",
              "\u001b[32m│\u001b[0m  \u001b[37mgoal: \u001b[0m\u001b[32mProduce a tailored, ATS-friendly resume in plain text/Markdown with clear sections.\u001b[0m                      \u001b[32m│\u001b[0m\n",
              "\u001b[32m│\u001b[0m  \u001b[37mbackstory: \u001b[0m\u001b[32mPrincipal resume writer—concise, metrics-driven bullets (STAR-style).\u001b[0m                               \u001b[32m│\u001b[0m\n",
              "\u001b[32m│\u001b[0m  \u001b[37mtools: \u001b[0m\u001b[32m[]\u001b[0m                                                                                                      \u001b[32m│\u001b[0m\n",
              "\u001b[32m│\u001b[0m  \u001b[37mverbose: \u001b[0m\u001b[32mTrue\u001b[0m                                                                                                  \u001b[32m│\u001b[0m\n",
              "\u001b[32m│\u001b[0m  \u001b[37mTool Args: \u001b[0m                                                                                                    \u001b[32m│\u001b[0m\n",
              "\u001b[32m│\u001b[0m                                                                                                                 \u001b[32m│\u001b[0m\n",
              "\u001b[32m│\u001b[0m                                                                                                                 \u001b[32m│\u001b[0m\n",
              "\u001b[32m╰─────────────────────────────────────────────────────────────────────────────────────────────────────────────────╯\u001b[0m\n"
            ],
            "text/html": [
              "<pre style=\"white-space:pre;overflow-x:auto;line-height:normal;font-family:Menlo,'DejaVu Sans Mono',consolas,'Courier New',monospace\"><span style=\"color: #008000; text-decoration-color: #008000\">╭───────────────────────────────────────────── LiteAgent Completion ──────────────────────────────────────────────╮</span>\n",
              "<span style=\"color: #008000; text-decoration-color: #008000\">│</span>                                                                                                                 <span style=\"color: #008000; text-decoration-color: #008000\">│</span>\n",
              "<span style=\"color: #008000; text-decoration-color: #008000\">│</span>  <span style=\"color: #008000; text-decoration-color: #008000; font-weight: bold\">LiteAgent Completed</span>                                                                                            <span style=\"color: #008000; text-decoration-color: #008000\">│</span>\n",
              "<span style=\"color: #008000; text-decoration-color: #008000\">│</span>  <span style=\"color: #c0c0c0; text-decoration-color: #c0c0c0\">Name: </span><span style=\"color: #008000; text-decoration-color: #008000\">Resume Writer</span>                                                                                            <span style=\"color: #008000; text-decoration-color: #008000\">│</span>\n",
              "<span style=\"color: #008000; text-decoration-color: #008000\">│</span>  <span style=\"color: #c0c0c0; text-decoration-color: #c0c0c0\">id: </span><span style=\"color: #008000; text-decoration-color: #008000\">e8357d50-6625-4b98-8c36-f7ce822c88e5</span>                                                                       <span style=\"color: #008000; text-decoration-color: #008000\">│</span>\n",
              "<span style=\"color: #008000; text-decoration-color: #008000\">│</span>  <span style=\"color: #c0c0c0; text-decoration-color: #c0c0c0\">role: </span><span style=\"color: #008000; text-decoration-color: #008000\">Resume Writer</span>                                                                                            <span style=\"color: #008000; text-decoration-color: #008000\">│</span>\n",
              "<span style=\"color: #008000; text-decoration-color: #008000\">│</span>  <span style=\"color: #c0c0c0; text-decoration-color: #c0c0c0\">goal: </span><span style=\"color: #008000; text-decoration-color: #008000\">Produce a tailored, ATS-friendly resume in plain text/Markdown with clear sections.</span>                      <span style=\"color: #008000; text-decoration-color: #008000\">│</span>\n",
              "<span style=\"color: #008000; text-decoration-color: #008000\">│</span>  <span style=\"color: #c0c0c0; text-decoration-color: #c0c0c0\">backstory: </span><span style=\"color: #008000; text-decoration-color: #008000\">Principal resume writer—concise, metrics-driven bullets (STAR-style).</span>                               <span style=\"color: #008000; text-decoration-color: #008000\">│</span>\n",
              "<span style=\"color: #008000; text-decoration-color: #008000\">│</span>  <span style=\"color: #c0c0c0; text-decoration-color: #c0c0c0\">tools: </span><span style=\"color: #008000; text-decoration-color: #008000\">[]</span>                                                                                                      <span style=\"color: #008000; text-decoration-color: #008000\">│</span>\n",
              "<span style=\"color: #008000; text-decoration-color: #008000\">│</span>  <span style=\"color: #c0c0c0; text-decoration-color: #c0c0c0\">verbose: </span><span style=\"color: #008000; text-decoration-color: #008000\">True</span>                                                                                                  <span style=\"color: #008000; text-decoration-color: #008000\">│</span>\n",
              "<span style=\"color: #008000; text-decoration-color: #008000\">│</span>  <span style=\"color: #c0c0c0; text-decoration-color: #c0c0c0\">Tool Args: </span>                                                                                                    <span style=\"color: #008000; text-decoration-color: #008000\">│</span>\n",
              "<span style=\"color: #008000; text-decoration-color: #008000\">│</span>                                                                                                                 <span style=\"color: #008000; text-decoration-color: #008000\">│</span>\n",
              "<span style=\"color: #008000; text-decoration-color: #008000\">│</span>                                                                                                                 <span style=\"color: #008000; text-decoration-color: #008000\">│</span>\n",
              "<span style=\"color: #008000; text-decoration-color: #008000\">╰─────────────────────────────────────────────────────────────────────────────────────────────────────────────────╯</span>\n",
              "</pre>\n"
            ]
          },
          "metadata": {}
        },
        {
          "output_type": "display_data",
          "data": {
            "text/plain": [
              "\n"
            ],
            "text/html": [
              "<pre style=\"white-space:pre;overflow-x:auto;line-height:normal;font-family:Menlo,'DejaVu Sans Mono',consolas,'Courier New',monospace\">\n",
              "</pre>\n"
            ]
          },
          "metadata": {}
        },
        {
          "output_type": "display_data",
          "data": {
            "text/plain": [
              "Output()"
            ],
            "application/vnd.jupyter.widget-view+json": {
              "version_major": 2,
              "version_minor": 0,
              "model_id": "99af154ea3b34d62a564658ace3c73c9"
            }
          },
          "metadata": {}
        },
        {
          "output_type": "display_data",
          "data": {
            "text/plain": [
              "/usr/local/lib/python3.11/dist-packages/ipywidgets/widgets/widget_output.py:111: DeprecationWarning: \n",
              "Kernel._parent_header is deprecated in ipykernel 6. Use .get_parent()\n",
              "  if ip and hasattr(ip, 'kernel') and hasattr(ip.kernel, '_parent_header'):\n"
            ],
            "text/html": [
              "<pre style=\"white-space:pre;overflow-x:auto;line-height:normal;font-family:Menlo,'DejaVu Sans Mono',consolas,'Courier New',monospace\">/usr/local/lib/python3.11/dist-packages/ipywidgets/widgets/widget_output.py:111: DeprecationWarning: \n",
              "Kernel._parent_header is deprecated in ipykernel 6. Use .get_parent()\n",
              "  if ip and hasattr(ip, 'kernel') and hasattr(ip.kernel, '_parent_header'):\n",
              "</pre>\n"
            ]
          },
          "metadata": {}
        },
        {
          "output_type": "display_data",
          "data": {
            "text/plain": [
              "/usr/local/lib/python3.11/dist-packages/ipywidgets/widgets/widget_output.py:112: DeprecationWarning: \n",
              "Kernel._parent_header is deprecated in ipykernel 6. Use .get_parent()\n",
              "  self.msg_id = ip.kernel._parent_header['header']['msg_id']\n"
            ],
            "text/html": [
              "<pre style=\"white-space:pre;overflow-x:auto;line-height:normal;font-family:Menlo,'DejaVu Sans Mono',consolas,'Courier New',monospace\">/usr/local/lib/python3.11/dist-packages/ipywidgets/widgets/widget_output.py:112: DeprecationWarning: \n",
              "Kernel._parent_header is deprecated in ipykernel 6. Use .get_parent()\n",
              "  self.msg_id = ip.kernel._parent_header['header']['msg_id']\n",
              "</pre>\n"
            ]
          },
          "metadata": {}
        },
        {
          "output_type": "display_data",
          "data": {
            "text/plain": [],
            "text/html": [
              "<pre style=\"white-space:pre;overflow-x:auto;line-height:normal;font-family:Menlo,'DejaVu Sans Mono',consolas,'Courier New',monospace\"></pre>\n"
            ]
          },
          "metadata": {}
        },
        {
          "output_type": "display_data",
          "data": {
            "text/plain": [
              "\u001b[36m╭─\u001b[0m\u001b[36m──────────────────────────────────────────────\u001b[0m\u001b[36m LiteAgent Started \u001b[0m\u001b[36m──────────────────────────────────────────────\u001b[0m\u001b[36m─╮\u001b[0m\n",
              "\u001b[36m│\u001b[0m                                                                                                                 \u001b[36m│\u001b[0m\n",
              "\u001b[36m│\u001b[0m  \u001b[1;36mLiteAgent Session Started\u001b[0m                                                                                      \u001b[36m│\u001b[0m\n",
              "\u001b[36m│\u001b[0m  \u001b[37mName: \u001b[0m\u001b[36mInterview Coach\u001b[0m                                                                                          \u001b[36m│\u001b[0m\n",
              "\u001b[36m│\u001b[0m  \u001b[37mid: \u001b[0m\u001b[36mc883d888-f3b2-4108-8bc5-3aae5660f63c\u001b[0m                                                                       \u001b[36m│\u001b[0m\n",
              "\u001b[36m│\u001b[0m  \u001b[37mrole: \u001b[0m\u001b[36mInterview Coach\u001b[0m                                                                                          \u001b[36m│\u001b[0m\n",
              "\u001b[36m│\u001b[0m  \u001b[37mgoal: \u001b[0m\u001b[36mCraft tight talking points and STAR stories mapped to JD; anticipate questions; provide smart questions\u001b[0m  \u001b[36m│\u001b[0m\n",
              "\u001b[36m│\u001b[0m  \u001b[36mto ask.\u001b[0m                                                                                                        \u001b[36m│\u001b[0m\n",
              "\u001b[36m│\u001b[0m  \u001b[37mbackstory: \u001b[0m\u001b[36mEx-MBB interviewer trained in behavioral & case interviewing.\u001b[0m                                       \u001b[36m│\u001b[0m\n",
              "\u001b[36m│\u001b[0m  \u001b[37mtools: \u001b[0m\u001b[36m[]\u001b[0m                                                                                                      \u001b[36m│\u001b[0m\n",
              "\u001b[36m│\u001b[0m  \u001b[37mverbose: \u001b[0m\u001b[36mTrue\u001b[0m                                                                                                  \u001b[36m│\u001b[0m\n",
              "\u001b[36m│\u001b[0m  \u001b[37mTool Args: \u001b[0m                                                                                                    \u001b[36m│\u001b[0m\n",
              "\u001b[36m│\u001b[0m                                                                                                                 \u001b[36m│\u001b[0m\n",
              "\u001b[36m│\u001b[0m                                                                                                                 \u001b[36m│\u001b[0m\n",
              "\u001b[36m╰─────────────────────────────────────────────────────────────────────────────────────────────────────────────────╯\u001b[0m\n"
            ],
            "text/html": [
              "<pre style=\"white-space:pre;overflow-x:auto;line-height:normal;font-family:Menlo,'DejaVu Sans Mono',consolas,'Courier New',monospace\"><span style=\"color: #008080; text-decoration-color: #008080\">╭─────────────────────────────────────────────── LiteAgent Started ───────────────────────────────────────────────╮</span>\n",
              "<span style=\"color: #008080; text-decoration-color: #008080\">│</span>                                                                                                                 <span style=\"color: #008080; text-decoration-color: #008080\">│</span>\n",
              "<span style=\"color: #008080; text-decoration-color: #008080\">│</span>  <span style=\"color: #008080; text-decoration-color: #008080; font-weight: bold\">LiteAgent Session Started</span>                                                                                      <span style=\"color: #008080; text-decoration-color: #008080\">│</span>\n",
              "<span style=\"color: #008080; text-decoration-color: #008080\">│</span>  <span style=\"color: #c0c0c0; text-decoration-color: #c0c0c0\">Name: </span><span style=\"color: #008080; text-decoration-color: #008080\">Interview Coach</span>                                                                                          <span style=\"color: #008080; text-decoration-color: #008080\">│</span>\n",
              "<span style=\"color: #008080; text-decoration-color: #008080\">│</span>  <span style=\"color: #c0c0c0; text-decoration-color: #c0c0c0\">id: </span><span style=\"color: #008080; text-decoration-color: #008080\">c883d888-f3b2-4108-8bc5-3aae5660f63c</span>                                                                       <span style=\"color: #008080; text-decoration-color: #008080\">│</span>\n",
              "<span style=\"color: #008080; text-decoration-color: #008080\">│</span>  <span style=\"color: #c0c0c0; text-decoration-color: #c0c0c0\">role: </span><span style=\"color: #008080; text-decoration-color: #008080\">Interview Coach</span>                                                                                          <span style=\"color: #008080; text-decoration-color: #008080\">│</span>\n",
              "<span style=\"color: #008080; text-decoration-color: #008080\">│</span>  <span style=\"color: #c0c0c0; text-decoration-color: #c0c0c0\">goal: </span><span style=\"color: #008080; text-decoration-color: #008080\">Craft tight talking points and STAR stories mapped to JD; anticipate questions; provide smart questions</span>  <span style=\"color: #008080; text-decoration-color: #008080\">│</span>\n",
              "<span style=\"color: #008080; text-decoration-color: #008080\">│</span>  <span style=\"color: #008080; text-decoration-color: #008080\">to ask.</span>                                                                                                        <span style=\"color: #008080; text-decoration-color: #008080\">│</span>\n",
              "<span style=\"color: #008080; text-decoration-color: #008080\">│</span>  <span style=\"color: #c0c0c0; text-decoration-color: #c0c0c0\">backstory: </span><span style=\"color: #008080; text-decoration-color: #008080\">Ex-MBB interviewer trained in behavioral &amp; case interviewing.</span>                                       <span style=\"color: #008080; text-decoration-color: #008080\">│</span>\n",
              "<span style=\"color: #008080; text-decoration-color: #008080\">│</span>  <span style=\"color: #c0c0c0; text-decoration-color: #c0c0c0\">tools: </span><span style=\"color: #008080; text-decoration-color: #008080\">[]</span>                                                                                                      <span style=\"color: #008080; text-decoration-color: #008080\">│</span>\n",
              "<span style=\"color: #008080; text-decoration-color: #008080\">│</span>  <span style=\"color: #c0c0c0; text-decoration-color: #c0c0c0\">verbose: </span><span style=\"color: #008080; text-decoration-color: #008080\">True</span>                                                                                                  <span style=\"color: #008080; text-decoration-color: #008080\">│</span>\n",
              "<span style=\"color: #008080; text-decoration-color: #008080\">│</span>  <span style=\"color: #c0c0c0; text-decoration-color: #c0c0c0\">Tool Args: </span>                                                                                                    <span style=\"color: #008080; text-decoration-color: #008080\">│</span>\n",
              "<span style=\"color: #008080; text-decoration-color: #008080\">│</span>                                                                                                                 <span style=\"color: #008080; text-decoration-color: #008080\">│</span>\n",
              "<span style=\"color: #008080; text-decoration-color: #008080\">│</span>                                                                                                                 <span style=\"color: #008080; text-decoration-color: #008080\">│</span>\n",
              "<span style=\"color: #008080; text-decoration-color: #008080\">╰─────────────────────────────────────────────────────────────────────────────────────────────────────────────────╯</span>\n",
              "</pre>\n"
            ]
          },
          "metadata": {}
        },
        {
          "output_type": "display_data",
          "data": {
            "text/plain": [
              "\n"
            ],
            "text/html": [
              "<pre style=\"white-space:pre;overflow-x:auto;line-height:normal;font-family:Menlo,'DejaVu Sans Mono',consolas,'Courier New',monospace\">\n",
              "</pre>\n"
            ]
          },
          "metadata": {}
        },
        {
          "output_type": "display_data",
          "data": {
            "text/plain": [
              "\u001b[32m╭─\u001b[0m\u001b[32m────────────────────────────────────────────\u001b[0m\u001b[32m ✅ Agent Final Answer \u001b[0m\u001b[32m────────────────────────────────────────────\u001b[0m\u001b[32m─╮\u001b[0m\n",
              "\u001b[32m│\u001b[0m                                                                                                                 \u001b[32m│\u001b[0m\n",
              "\u001b[32m│\u001b[0m  \u001b[37mAgent: \u001b[0m\u001b[1;92mInterview Coach\u001b[0m                                                                                         \u001b[32m│\u001b[0m\n",
              "\u001b[32m│\u001b[0m                                                                                                                 \u001b[32m│\u001b[0m\n",
              "\u001b[32m│\u001b[0m  \u001b[37mFinal Answer:\u001b[0m                                                                                                  \u001b[32m│\u001b[0m\n",
              "\u001b[32m│\u001b[0m  \u001b[92m{\u001b[0m                                                                                                              \u001b[32m│\u001b[0m\n",
              "\u001b[32m│\u001b[0m  \u001b[92m  \"opener\": \"I'm excited to discuss how my extensive experience in developing scalable predictive models, \u001b[0m     \u001b[32m│\u001b[0m\n",
              "\u001b[32m│\u001b[0m  \u001b[92mcausal inference, and deploying ML pipelines aligns with the AI Data Scientist role. My background in \u001b[0m         \u001b[32m│\u001b[0m\n",
              "\u001b[32m│\u001b[0m  \u001b[92mtranslating complex business questions into data-driven solutions and my hands-on experience with LLM \u001b[0m         \u001b[32m│\u001b[0m\n",
              "\u001b[32m│\u001b[0m  \u001b[92mevaluation and RAG architectures position me well to contribute effectively to your team.\",\u001b[0m                    \u001b[32m│\u001b[0m\n",
              "\u001b[32m│\u001b[0m  \u001b[92m  \"why_company\": [\u001b[0m                                                                                             \u001b[32m│\u001b[0m\n",
              "\u001b[32m│\u001b[0m  \u001b[92m    \"Your company's commitment to advancing AI capabilities and deploying innovative models aligns with my \u001b[0m    \u001b[32m│\u001b[0m\n",
              "\u001b[32m│\u001b[0m  \u001b[92mpassion for cutting-edge AI research and practical application.\",\u001b[0m                                              \u001b[32m│\u001b[0m\n",
              "\u001b[32m│\u001b[0m  \u001b[92m    \"The emphasis on scalable, production-ready AI solutions matches my experience in deploying models in \u001b[0m     \u001b[32m│\u001b[0m\n",
              "\u001b[32m│\u001b[0m  \u001b[92mreal-world environments, especially in financial and policy contexts.\",\u001b[0m                                        \u001b[32m│\u001b[0m\n",
              "\u001b[32m│\u001b[0m  \u001b[92m    \"Your focus on leveraging data visualization and self-service tools resonates with my track record of \u001b[0m     \u001b[32m│\u001b[0m\n",
              "\u001b[32m│\u001b[0m  \u001b[92mcreating interactive dashboards and enabling data-driven decision-making across organizations.\"\u001b[0m                \u001b[32m│\u001b[0m\n",
              "\u001b[32m│\u001b[0m  \u001b[92m  ],\u001b[0m                                                                                                           \u001b[32m│\u001b[0m\n",
              "\u001b[32m│\u001b[0m  \u001b[92m  \"why_role\": [\u001b[0m                                                                                                \u001b[32m│\u001b[0m\n",
              "\u001b[32m│\u001b[0m  \u001b[92m    \"This role offers the opportunity to lead the development and deployment of advanced ML models, including\u001b[0m  \u001b[32m│\u001b[0m\n",
              "\u001b[32m│\u001b[0m  \u001b[92mforecasting, anomaly detection, and causal inference, which are my core strengths.\",\u001b[0m                           \u001b[32m│\u001b[0m\n",
              "\u001b[32m│\u001b[0m  \u001b[92m    \"I am eager to collaborate with cross-functional teams, including AI engineers and product managers, to \u001b[0m   \u001b[32m│\u001b[0m\n",
              "\u001b[32m│\u001b[0m  \u001b[92mscale innovative features and influence data model design and KPIs.\",\u001b[0m                                          \u001b[32m│\u001b[0m\n",
              "\u001b[32m│\u001b[0m  \u001b[92m    \"The role's focus on analyzing agent interactions, implementing LLM evaluation pipelines, and building \u001b[0m    \u001b[32m│\u001b[0m\n",
              "\u001b[32m│\u001b[0m  \u001b[92mrecommendation engines aligns perfectly with my experience and interests.\"\u001b[0m                                     \u001b[32m│\u001b[0m\n",
              "\u001b[32m│\u001b[0m  \u001b[92m  ],\u001b[0m                                                                                                           \u001b[32m│\u001b[0m\n",
              "\u001b[32m│\u001b[0m  \u001b[92m  \"top_achievements_star\": [\u001b[0m                                                                                   \u001b[32m│\u001b[0m\n",
              "\u001b[32m│\u001b[0m  \u001b[92m    \"Led the development of forecasting models at Banco de Mexico that improved regional economic prediction \u001b[0m  \u001b[32m│\u001b[0m\n",
              "\u001b[32m│\u001b[0m  \u001b[92maccuracy by 15%, streamlining decision-making processes.\",\u001b[0m                                                     \u001b[32m│\u001b[0m\n",
              "\u001b[32m│\u001b[0m  \u001b[92m    \"Automated SQL pipelines and integrated generative AI tools, significantly reducing data ingestion and \u001b[0m    \u001b[32m│\u001b[0m\n",
              "\u001b[32m│\u001b[0m  \u001b[92mmodel automation workflows.\",\u001b[0m                                                                                  \u001b[32m│\u001b[0m\n",
              "\u001b[32m│\u001b[0m  \u001b[92m    \"Built interactive dashboards with Streamlit and Tableau, enabling real-time insights for policymakers, \u001b[0m   \u001b[32m│\u001b[0m\n",
              "\u001b[32m│\u001b[0m  \u001b[92mwhich enhanced strategic planning.\",\u001b[0m                                                                           \u001b[32m│\u001b[0m\n",
              "\u001b[32m│\u001b[0m  \u001b[92m    \"Fine-tuned healthcare-specific LLMs with reinforcement learning, advancing prompt engineering and reward\u001b[0m  \u001b[32m│\u001b[0m\n",
              "\u001b[32m│\u001b[0m  \u001b[92mmodeling for clinical applications.\",\u001b[0m                                                                          \u001b[32m│\u001b[0m\n",
              "\u001b[32m│\u001b[0m  \u001b[92m    \"Deployed scalable ML pipelines in production environments, partnering with AI engineers to integrate \u001b[0m     \u001b[32m│\u001b[0m\n",
              "\u001b[32m│\u001b[0m  \u001b[92mLLMs and RAG architectures for chatbots and summarization engines.\"\u001b[0m                                            \u001b[32m│\u001b[0m\n",
              "\u001b[32m│\u001b[0m  \u001b[92m  ],\u001b[0m                                                                                                           \u001b[32m│\u001b[0m\n",
              "\u001b[32m│\u001b[0m  \u001b[92m  \"risk_mitigations\": [\u001b[0m                                                                                        \u001b[32m│\u001b[0m\n",
              "\u001b[32m│\u001b[0m  \u001b[92m    \"I ensure thorough validation and testing of models before deployment to prevent biases and inaccuracies,\u001b[0m  \u001b[32m│\u001b[0m\n",
              "\u001b[32m│\u001b[0m  \u001b[92mespecially in sensitive applications.\",\u001b[0m                                                                        \u001b[32m│\u001b[0m\n",
              "\u001b[32m│\u001b[0m  \u001b[92m    \"I maintain close collaboration with engineering teams to implement monitoring and observability tools, \u001b[0m   \u001b[32m│\u001b[0m\n",
              "\u001b[32m│\u001b[0m  \u001b[92mensuring model performance and reliability over time.\",\u001b[0m                                                        \u001b[32m│\u001b[0m\n",
              "\u001b[32m│\u001b[0m  \u001b[92m    \"I stay updated on the latest developments in LLM evaluation pipelines and GenAI frameworks to \u001b[0m            \u001b[32m│\u001b[0m\n",
              "\u001b[32m│\u001b[0m  \u001b[92mincorporate best practices and mitigate obsolescence.\",\u001b[0m                                                        \u001b[32m│\u001b[0m\n",
              "\u001b[32m│\u001b[0m  \u001b[92m    \"I prioritize clear documentation and communication to bridge technical and non-technical stakeholders, \u001b[0m   \u001b[32m│\u001b[0m\n",
              "\u001b[32m│\u001b[0m  \u001b[92mreducing misunderstandings and aligning expectations.\"\u001b[0m                                                         \u001b[32m│\u001b[0m\n",
              "\u001b[32m│\u001b[0m  \u001b[92m  ],\u001b[0m                                                                                                           \u001b[32m│\u001b[0m\n",
              "\u001b[32m│\u001b[0m  \u001b[92m  \"questions_to_ask\": [\u001b[0m                                                                                        \u001b[32m│\u001b[0m\n",
              "\u001b[32m│\u001b[0m  \u001b[92m    \"Can you tell me more about the current AI initiatives and how this role will contribute to scaling those\u001b[0m  \u001b[32m│\u001b[0m\n",
              "\u001b[32m│\u001b[0m  \u001b[92mefforts?\",\u001b[0m                                                                                                     \u001b[32m│\u001b[0m\n",
              "\u001b[32m│\u001b[0m  \u001b[92m    \"What are the biggest challenges your team faces when deploying large-scale ML models in production?\",\u001b[0m     \u001b[32m│\u001b[0m\n",
              "\u001b[32m│\u001b[0m  \u001b[92m    \"How does the company support ongoing learning and development in emerging AI technologies like LLM \u001b[0m       \u001b[32m│\u001b[0m\n",
              "\u001b[32m│\u001b[0m  \u001b[92mevaluation and RAG architectures?\",\u001b[0m                                                                            \u001b[32m│\u001b[0m\n",
              "\u001b[32m│\u001b[0m  \u001b[92m    \"Could you describe the collaboration process between data scientists, engineers, and product teams for \u001b[0m   \u001b[32m│\u001b[0m\n",
              "\u001b[32m│\u001b[0m  \u001b[92mdeploying AI solutions?\"\u001b[0m                                                                                       \u001b[32m│\u001b[0m\n",
              "\u001b[32m│\u001b[0m  \u001b[92m  ]\u001b[0m                                                                                                            \u001b[32m│\u001b[0m\n",
              "\u001b[32m│\u001b[0m  \u001b[92m}\u001b[0m                                                                                                              \u001b[32m│\u001b[0m\n",
              "\u001b[32m│\u001b[0m                                                                                                                 \u001b[32m│\u001b[0m\n",
              "\u001b[32m╰─────────────────────────────────────────────────────────────────────────────────────────────────────────────────╯\u001b[0m\n"
            ],
            "text/html": [
              "<pre style=\"white-space:pre;overflow-x:auto;line-height:normal;font-family:Menlo,'DejaVu Sans Mono',consolas,'Courier New',monospace\"><span style=\"color: #008000; text-decoration-color: #008000\">╭───────────────────────────────────────────── ✅ Agent Final Answer ─────────────────────────────────────────────╮</span>\n",
              "<span style=\"color: #008000; text-decoration-color: #008000\">│</span>                                                                                                                 <span style=\"color: #008000; text-decoration-color: #008000\">│</span>\n",
              "<span style=\"color: #008000; text-decoration-color: #008000\">│</span>  <span style=\"color: #c0c0c0; text-decoration-color: #c0c0c0\">Agent: </span><span style=\"color: #00ff00; text-decoration-color: #00ff00; font-weight: bold\">Interview Coach</span>                                                                                         <span style=\"color: #008000; text-decoration-color: #008000\">│</span>\n",
              "<span style=\"color: #008000; text-decoration-color: #008000\">│</span>                                                                                                                 <span style=\"color: #008000; text-decoration-color: #008000\">│</span>\n",
              "<span style=\"color: #008000; text-decoration-color: #008000\">│</span>  <span style=\"color: #c0c0c0; text-decoration-color: #c0c0c0\">Final Answer:</span>                                                                                                  <span style=\"color: #008000; text-decoration-color: #008000\">│</span>\n",
              "<span style=\"color: #008000; text-decoration-color: #008000\">│</span>  <span style=\"color: #00ff00; text-decoration-color: #00ff00\">{</span>                                                                                                              <span style=\"color: #008000; text-decoration-color: #008000\">│</span>\n",
              "<span style=\"color: #008000; text-decoration-color: #008000\">│</span>  <span style=\"color: #00ff00; text-decoration-color: #00ff00\">  \"opener\": \"I'm excited to discuss how my extensive experience in developing scalable predictive models, </span>     <span style=\"color: #008000; text-decoration-color: #008000\">│</span>\n",
              "<span style=\"color: #008000; text-decoration-color: #008000\">│</span>  <span style=\"color: #00ff00; text-decoration-color: #00ff00\">causal inference, and deploying ML pipelines aligns with the AI Data Scientist role. My background in </span>         <span style=\"color: #008000; text-decoration-color: #008000\">│</span>\n",
              "<span style=\"color: #008000; text-decoration-color: #008000\">│</span>  <span style=\"color: #00ff00; text-decoration-color: #00ff00\">translating complex business questions into data-driven solutions and my hands-on experience with LLM </span>         <span style=\"color: #008000; text-decoration-color: #008000\">│</span>\n",
              "<span style=\"color: #008000; text-decoration-color: #008000\">│</span>  <span style=\"color: #00ff00; text-decoration-color: #00ff00\">evaluation and RAG architectures position me well to contribute effectively to your team.\",</span>                    <span style=\"color: #008000; text-decoration-color: #008000\">│</span>\n",
              "<span style=\"color: #008000; text-decoration-color: #008000\">│</span>  <span style=\"color: #00ff00; text-decoration-color: #00ff00\">  \"why_company\": [</span>                                                                                             <span style=\"color: #008000; text-decoration-color: #008000\">│</span>\n",
              "<span style=\"color: #008000; text-decoration-color: #008000\">│</span>  <span style=\"color: #00ff00; text-decoration-color: #00ff00\">    \"Your company's commitment to advancing AI capabilities and deploying innovative models aligns with my </span>    <span style=\"color: #008000; text-decoration-color: #008000\">│</span>\n",
              "<span style=\"color: #008000; text-decoration-color: #008000\">│</span>  <span style=\"color: #00ff00; text-decoration-color: #00ff00\">passion for cutting-edge AI research and practical application.\",</span>                                              <span style=\"color: #008000; text-decoration-color: #008000\">│</span>\n",
              "<span style=\"color: #008000; text-decoration-color: #008000\">│</span>  <span style=\"color: #00ff00; text-decoration-color: #00ff00\">    \"The emphasis on scalable, production-ready AI solutions matches my experience in deploying models in </span>     <span style=\"color: #008000; text-decoration-color: #008000\">│</span>\n",
              "<span style=\"color: #008000; text-decoration-color: #008000\">│</span>  <span style=\"color: #00ff00; text-decoration-color: #00ff00\">real-world environments, especially in financial and policy contexts.\",</span>                                        <span style=\"color: #008000; text-decoration-color: #008000\">│</span>\n",
              "<span style=\"color: #008000; text-decoration-color: #008000\">│</span>  <span style=\"color: #00ff00; text-decoration-color: #00ff00\">    \"Your focus on leveraging data visualization and self-service tools resonates with my track record of </span>     <span style=\"color: #008000; text-decoration-color: #008000\">│</span>\n",
              "<span style=\"color: #008000; text-decoration-color: #008000\">│</span>  <span style=\"color: #00ff00; text-decoration-color: #00ff00\">creating interactive dashboards and enabling data-driven decision-making across organizations.\"</span>                <span style=\"color: #008000; text-decoration-color: #008000\">│</span>\n",
              "<span style=\"color: #008000; text-decoration-color: #008000\">│</span>  <span style=\"color: #00ff00; text-decoration-color: #00ff00\">  ],</span>                                                                                                           <span style=\"color: #008000; text-decoration-color: #008000\">│</span>\n",
              "<span style=\"color: #008000; text-decoration-color: #008000\">│</span>  <span style=\"color: #00ff00; text-decoration-color: #00ff00\">  \"why_role\": [</span>                                                                                                <span style=\"color: #008000; text-decoration-color: #008000\">│</span>\n",
              "<span style=\"color: #008000; text-decoration-color: #008000\">│</span>  <span style=\"color: #00ff00; text-decoration-color: #00ff00\">    \"This role offers the opportunity to lead the development and deployment of advanced ML models, including</span>  <span style=\"color: #008000; text-decoration-color: #008000\">│</span>\n",
              "<span style=\"color: #008000; text-decoration-color: #008000\">│</span>  <span style=\"color: #00ff00; text-decoration-color: #00ff00\">forecasting, anomaly detection, and causal inference, which are my core strengths.\",</span>                           <span style=\"color: #008000; text-decoration-color: #008000\">│</span>\n",
              "<span style=\"color: #008000; text-decoration-color: #008000\">│</span>  <span style=\"color: #00ff00; text-decoration-color: #00ff00\">    \"I am eager to collaborate with cross-functional teams, including AI engineers and product managers, to </span>   <span style=\"color: #008000; text-decoration-color: #008000\">│</span>\n",
              "<span style=\"color: #008000; text-decoration-color: #008000\">│</span>  <span style=\"color: #00ff00; text-decoration-color: #00ff00\">scale innovative features and influence data model design and KPIs.\",</span>                                          <span style=\"color: #008000; text-decoration-color: #008000\">│</span>\n",
              "<span style=\"color: #008000; text-decoration-color: #008000\">│</span>  <span style=\"color: #00ff00; text-decoration-color: #00ff00\">    \"The role's focus on analyzing agent interactions, implementing LLM evaluation pipelines, and building </span>    <span style=\"color: #008000; text-decoration-color: #008000\">│</span>\n",
              "<span style=\"color: #008000; text-decoration-color: #008000\">│</span>  <span style=\"color: #00ff00; text-decoration-color: #00ff00\">recommendation engines aligns perfectly with my experience and interests.\"</span>                                     <span style=\"color: #008000; text-decoration-color: #008000\">│</span>\n",
              "<span style=\"color: #008000; text-decoration-color: #008000\">│</span>  <span style=\"color: #00ff00; text-decoration-color: #00ff00\">  ],</span>                                                                                                           <span style=\"color: #008000; text-decoration-color: #008000\">│</span>\n",
              "<span style=\"color: #008000; text-decoration-color: #008000\">│</span>  <span style=\"color: #00ff00; text-decoration-color: #00ff00\">  \"top_achievements_star\": [</span>                                                                                   <span style=\"color: #008000; text-decoration-color: #008000\">│</span>\n",
              "<span style=\"color: #008000; text-decoration-color: #008000\">│</span>  <span style=\"color: #00ff00; text-decoration-color: #00ff00\">    \"Led the development of forecasting models at Banco de Mexico that improved regional economic prediction </span>  <span style=\"color: #008000; text-decoration-color: #008000\">│</span>\n",
              "<span style=\"color: #008000; text-decoration-color: #008000\">│</span>  <span style=\"color: #00ff00; text-decoration-color: #00ff00\">accuracy by 15%, streamlining decision-making processes.\",</span>                                                     <span style=\"color: #008000; text-decoration-color: #008000\">│</span>\n",
              "<span style=\"color: #008000; text-decoration-color: #008000\">│</span>  <span style=\"color: #00ff00; text-decoration-color: #00ff00\">    \"Automated SQL pipelines and integrated generative AI tools, significantly reducing data ingestion and </span>    <span style=\"color: #008000; text-decoration-color: #008000\">│</span>\n",
              "<span style=\"color: #008000; text-decoration-color: #008000\">│</span>  <span style=\"color: #00ff00; text-decoration-color: #00ff00\">model automation workflows.\",</span>                                                                                  <span style=\"color: #008000; text-decoration-color: #008000\">│</span>\n",
              "<span style=\"color: #008000; text-decoration-color: #008000\">│</span>  <span style=\"color: #00ff00; text-decoration-color: #00ff00\">    \"Built interactive dashboards with Streamlit and Tableau, enabling real-time insights for policymakers, </span>   <span style=\"color: #008000; text-decoration-color: #008000\">│</span>\n",
              "<span style=\"color: #008000; text-decoration-color: #008000\">│</span>  <span style=\"color: #00ff00; text-decoration-color: #00ff00\">which enhanced strategic planning.\",</span>                                                                           <span style=\"color: #008000; text-decoration-color: #008000\">│</span>\n",
              "<span style=\"color: #008000; text-decoration-color: #008000\">│</span>  <span style=\"color: #00ff00; text-decoration-color: #00ff00\">    \"Fine-tuned healthcare-specific LLMs with reinforcement learning, advancing prompt engineering and reward</span>  <span style=\"color: #008000; text-decoration-color: #008000\">│</span>\n",
              "<span style=\"color: #008000; text-decoration-color: #008000\">│</span>  <span style=\"color: #00ff00; text-decoration-color: #00ff00\">modeling for clinical applications.\",</span>                                                                          <span style=\"color: #008000; text-decoration-color: #008000\">│</span>\n",
              "<span style=\"color: #008000; text-decoration-color: #008000\">│</span>  <span style=\"color: #00ff00; text-decoration-color: #00ff00\">    \"Deployed scalable ML pipelines in production environments, partnering with AI engineers to integrate </span>     <span style=\"color: #008000; text-decoration-color: #008000\">│</span>\n",
              "<span style=\"color: #008000; text-decoration-color: #008000\">│</span>  <span style=\"color: #00ff00; text-decoration-color: #00ff00\">LLMs and RAG architectures for chatbots and summarization engines.\"</span>                                            <span style=\"color: #008000; text-decoration-color: #008000\">│</span>\n",
              "<span style=\"color: #008000; text-decoration-color: #008000\">│</span>  <span style=\"color: #00ff00; text-decoration-color: #00ff00\">  ],</span>                                                                                                           <span style=\"color: #008000; text-decoration-color: #008000\">│</span>\n",
              "<span style=\"color: #008000; text-decoration-color: #008000\">│</span>  <span style=\"color: #00ff00; text-decoration-color: #00ff00\">  \"risk_mitigations\": [</span>                                                                                        <span style=\"color: #008000; text-decoration-color: #008000\">│</span>\n",
              "<span style=\"color: #008000; text-decoration-color: #008000\">│</span>  <span style=\"color: #00ff00; text-decoration-color: #00ff00\">    \"I ensure thorough validation and testing of models before deployment to prevent biases and inaccuracies,</span>  <span style=\"color: #008000; text-decoration-color: #008000\">│</span>\n",
              "<span style=\"color: #008000; text-decoration-color: #008000\">│</span>  <span style=\"color: #00ff00; text-decoration-color: #00ff00\">especially in sensitive applications.\",</span>                                                                        <span style=\"color: #008000; text-decoration-color: #008000\">│</span>\n",
              "<span style=\"color: #008000; text-decoration-color: #008000\">│</span>  <span style=\"color: #00ff00; text-decoration-color: #00ff00\">    \"I maintain close collaboration with engineering teams to implement monitoring and observability tools, </span>   <span style=\"color: #008000; text-decoration-color: #008000\">│</span>\n",
              "<span style=\"color: #008000; text-decoration-color: #008000\">│</span>  <span style=\"color: #00ff00; text-decoration-color: #00ff00\">ensuring model performance and reliability over time.\",</span>                                                        <span style=\"color: #008000; text-decoration-color: #008000\">│</span>\n",
              "<span style=\"color: #008000; text-decoration-color: #008000\">│</span>  <span style=\"color: #00ff00; text-decoration-color: #00ff00\">    \"I stay updated on the latest developments in LLM evaluation pipelines and GenAI frameworks to </span>            <span style=\"color: #008000; text-decoration-color: #008000\">│</span>\n",
              "<span style=\"color: #008000; text-decoration-color: #008000\">│</span>  <span style=\"color: #00ff00; text-decoration-color: #00ff00\">incorporate best practices and mitigate obsolescence.\",</span>                                                        <span style=\"color: #008000; text-decoration-color: #008000\">│</span>\n",
              "<span style=\"color: #008000; text-decoration-color: #008000\">│</span>  <span style=\"color: #00ff00; text-decoration-color: #00ff00\">    \"I prioritize clear documentation and communication to bridge technical and non-technical stakeholders, </span>   <span style=\"color: #008000; text-decoration-color: #008000\">│</span>\n",
              "<span style=\"color: #008000; text-decoration-color: #008000\">│</span>  <span style=\"color: #00ff00; text-decoration-color: #00ff00\">reducing misunderstandings and aligning expectations.\"</span>                                                         <span style=\"color: #008000; text-decoration-color: #008000\">│</span>\n",
              "<span style=\"color: #008000; text-decoration-color: #008000\">│</span>  <span style=\"color: #00ff00; text-decoration-color: #00ff00\">  ],</span>                                                                                                           <span style=\"color: #008000; text-decoration-color: #008000\">│</span>\n",
              "<span style=\"color: #008000; text-decoration-color: #008000\">│</span>  <span style=\"color: #00ff00; text-decoration-color: #00ff00\">  \"questions_to_ask\": [</span>                                                                                        <span style=\"color: #008000; text-decoration-color: #008000\">│</span>\n",
              "<span style=\"color: #008000; text-decoration-color: #008000\">│</span>  <span style=\"color: #00ff00; text-decoration-color: #00ff00\">    \"Can you tell me more about the current AI initiatives and how this role will contribute to scaling those</span>  <span style=\"color: #008000; text-decoration-color: #008000\">│</span>\n",
              "<span style=\"color: #008000; text-decoration-color: #008000\">│</span>  <span style=\"color: #00ff00; text-decoration-color: #00ff00\">efforts?\",</span>                                                                                                     <span style=\"color: #008000; text-decoration-color: #008000\">│</span>\n",
              "<span style=\"color: #008000; text-decoration-color: #008000\">│</span>  <span style=\"color: #00ff00; text-decoration-color: #00ff00\">    \"What are the biggest challenges your team faces when deploying large-scale ML models in production?\",</span>     <span style=\"color: #008000; text-decoration-color: #008000\">│</span>\n",
              "<span style=\"color: #008000; text-decoration-color: #008000\">│</span>  <span style=\"color: #00ff00; text-decoration-color: #00ff00\">    \"How does the company support ongoing learning and development in emerging AI technologies like LLM </span>       <span style=\"color: #008000; text-decoration-color: #008000\">│</span>\n",
              "<span style=\"color: #008000; text-decoration-color: #008000\">│</span>  <span style=\"color: #00ff00; text-decoration-color: #00ff00\">evaluation and RAG architectures?\",</span>                                                                            <span style=\"color: #008000; text-decoration-color: #008000\">│</span>\n",
              "<span style=\"color: #008000; text-decoration-color: #008000\">│</span>  <span style=\"color: #00ff00; text-decoration-color: #00ff00\">    \"Could you describe the collaboration process between data scientists, engineers, and product teams for </span>   <span style=\"color: #008000; text-decoration-color: #008000\">│</span>\n",
              "<span style=\"color: #008000; text-decoration-color: #008000\">│</span>  <span style=\"color: #00ff00; text-decoration-color: #00ff00\">deploying AI solutions?\"</span>                                                                                       <span style=\"color: #008000; text-decoration-color: #008000\">│</span>\n",
              "<span style=\"color: #008000; text-decoration-color: #008000\">│</span>  <span style=\"color: #00ff00; text-decoration-color: #00ff00\">  ]</span>                                                                                                            <span style=\"color: #008000; text-decoration-color: #008000\">│</span>\n",
              "<span style=\"color: #008000; text-decoration-color: #008000\">│</span>  <span style=\"color: #00ff00; text-decoration-color: #00ff00\">}</span>                                                                                                              <span style=\"color: #008000; text-decoration-color: #008000\">│</span>\n",
              "<span style=\"color: #008000; text-decoration-color: #008000\">│</span>                                                                                                                 <span style=\"color: #008000; text-decoration-color: #008000\">│</span>\n",
              "<span style=\"color: #008000; text-decoration-color: #008000\">╰─────────────────────────────────────────────────────────────────────────────────────────────────────────────────╯</span>\n",
              "</pre>\n"
            ]
          },
          "metadata": {}
        },
        {
          "output_type": "display_data",
          "data": {
            "text/plain": [
              "\n"
            ],
            "text/html": [
              "<pre style=\"white-space:pre;overflow-x:auto;line-height:normal;font-family:Menlo,'DejaVu Sans Mono',consolas,'Courier New',monospace\">\n",
              "</pre>\n"
            ]
          },
          "metadata": {}
        },
        {
          "output_type": "display_data",
          "data": {
            "text/plain": [],
            "text/html": [
              "<pre style=\"white-space:pre;overflow-x:auto;line-height:normal;font-family:Menlo,'DejaVu Sans Mono',consolas,'Courier New',monospace\"></pre>\n"
            ]
          },
          "metadata": {}
        },
        {
          "output_type": "display_data",
          "data": {
            "text/plain": [
              "\u001b[32m╭─\u001b[0m\u001b[32m────────────────────────────────────────────\u001b[0m\u001b[32m LiteAgent Completion \u001b[0m\u001b[32m─────────────────────────────────────────────\u001b[0m\u001b[32m─╮\u001b[0m\n",
              "\u001b[32m│\u001b[0m                                                                                                                 \u001b[32m│\u001b[0m\n",
              "\u001b[32m│\u001b[0m  \u001b[1;32mLiteAgent Completed\u001b[0m                                                                                            \u001b[32m│\u001b[0m\n",
              "\u001b[32m│\u001b[0m  \u001b[37mName: \u001b[0m\u001b[32mInterview Coach\u001b[0m                                                                                          \u001b[32m│\u001b[0m\n",
              "\u001b[32m│\u001b[0m  \u001b[37mid: \u001b[0m\u001b[32mc883d888-f3b2-4108-8bc5-3aae5660f63c\u001b[0m                                                                       \u001b[32m│\u001b[0m\n",
              "\u001b[32m│\u001b[0m  \u001b[37mrole: \u001b[0m\u001b[32mInterview Coach\u001b[0m                                                                                          \u001b[32m│\u001b[0m\n",
              "\u001b[32m│\u001b[0m  \u001b[37mgoal: \u001b[0m\u001b[32mCraft tight talking points and STAR stories mapped to JD; anticipate questions; provide smart questions\u001b[0m  \u001b[32m│\u001b[0m\n",
              "\u001b[32m│\u001b[0m  \u001b[32mto ask.\u001b[0m                                                                                                        \u001b[32m│\u001b[0m\n",
              "\u001b[32m│\u001b[0m  \u001b[37mbackstory: \u001b[0m\u001b[32mEx-MBB interviewer trained in behavioral & case interviewing.\u001b[0m                                       \u001b[32m│\u001b[0m\n",
              "\u001b[32m│\u001b[0m  \u001b[37mtools: \u001b[0m\u001b[32m[]\u001b[0m                                                                                                      \u001b[32m│\u001b[0m\n",
              "\u001b[32m│\u001b[0m  \u001b[37mverbose: \u001b[0m\u001b[32mTrue\u001b[0m                                                                                                  \u001b[32m│\u001b[0m\n",
              "\u001b[32m│\u001b[0m  \u001b[37mTool Args: \u001b[0m                                                                                                    \u001b[32m│\u001b[0m\n",
              "\u001b[32m│\u001b[0m                                                                                                                 \u001b[32m│\u001b[0m\n",
              "\u001b[32m│\u001b[0m                                                                                                                 \u001b[32m│\u001b[0m\n",
              "\u001b[32m╰─────────────────────────────────────────────────────────────────────────────────────────────────────────────────╯\u001b[0m\n"
            ],
            "text/html": [
              "<pre style=\"white-space:pre;overflow-x:auto;line-height:normal;font-family:Menlo,'DejaVu Sans Mono',consolas,'Courier New',monospace\"><span style=\"color: #008000; text-decoration-color: #008000\">╭───────────────────────────────────────────── LiteAgent Completion ──────────────────────────────────────────────╮</span>\n",
              "<span style=\"color: #008000; text-decoration-color: #008000\">│</span>                                                                                                                 <span style=\"color: #008000; text-decoration-color: #008000\">│</span>\n",
              "<span style=\"color: #008000; text-decoration-color: #008000\">│</span>  <span style=\"color: #008000; text-decoration-color: #008000; font-weight: bold\">LiteAgent Completed</span>                                                                                            <span style=\"color: #008000; text-decoration-color: #008000\">│</span>\n",
              "<span style=\"color: #008000; text-decoration-color: #008000\">│</span>  <span style=\"color: #c0c0c0; text-decoration-color: #c0c0c0\">Name: </span><span style=\"color: #008000; text-decoration-color: #008000\">Interview Coach</span>                                                                                          <span style=\"color: #008000; text-decoration-color: #008000\">│</span>\n",
              "<span style=\"color: #008000; text-decoration-color: #008000\">│</span>  <span style=\"color: #c0c0c0; text-decoration-color: #c0c0c0\">id: </span><span style=\"color: #008000; text-decoration-color: #008000\">c883d888-f3b2-4108-8bc5-3aae5660f63c</span>                                                                       <span style=\"color: #008000; text-decoration-color: #008000\">│</span>\n",
              "<span style=\"color: #008000; text-decoration-color: #008000\">│</span>  <span style=\"color: #c0c0c0; text-decoration-color: #c0c0c0\">role: </span><span style=\"color: #008000; text-decoration-color: #008000\">Interview Coach</span>                                                                                          <span style=\"color: #008000; text-decoration-color: #008000\">│</span>\n",
              "<span style=\"color: #008000; text-decoration-color: #008000\">│</span>  <span style=\"color: #c0c0c0; text-decoration-color: #c0c0c0\">goal: </span><span style=\"color: #008000; text-decoration-color: #008000\">Craft tight talking points and STAR stories mapped to JD; anticipate questions; provide smart questions</span>  <span style=\"color: #008000; text-decoration-color: #008000\">│</span>\n",
              "<span style=\"color: #008000; text-decoration-color: #008000\">│</span>  <span style=\"color: #008000; text-decoration-color: #008000\">to ask.</span>                                                                                                        <span style=\"color: #008000; text-decoration-color: #008000\">│</span>\n",
              "<span style=\"color: #008000; text-decoration-color: #008000\">│</span>  <span style=\"color: #c0c0c0; text-decoration-color: #c0c0c0\">backstory: </span><span style=\"color: #008000; text-decoration-color: #008000\">Ex-MBB interviewer trained in behavioral &amp; case interviewing.</span>                                       <span style=\"color: #008000; text-decoration-color: #008000\">│</span>\n",
              "<span style=\"color: #008000; text-decoration-color: #008000\">│</span>  <span style=\"color: #c0c0c0; text-decoration-color: #c0c0c0\">tools: </span><span style=\"color: #008000; text-decoration-color: #008000\">[]</span>                                                                                                      <span style=\"color: #008000; text-decoration-color: #008000\">│</span>\n",
              "<span style=\"color: #008000; text-decoration-color: #008000\">│</span>  <span style=\"color: #c0c0c0; text-decoration-color: #c0c0c0\">verbose: </span><span style=\"color: #008000; text-decoration-color: #008000\">True</span>                                                                                                  <span style=\"color: #008000; text-decoration-color: #008000\">│</span>\n",
              "<span style=\"color: #008000; text-decoration-color: #008000\">│</span>  <span style=\"color: #c0c0c0; text-decoration-color: #c0c0c0\">Tool Args: </span>                                                                                                    <span style=\"color: #008000; text-decoration-color: #008000\">│</span>\n",
              "<span style=\"color: #008000; text-decoration-color: #008000\">│</span>                                                                                                                 <span style=\"color: #008000; text-decoration-color: #008000\">│</span>\n",
              "<span style=\"color: #008000; text-decoration-color: #008000\">│</span>                                                                                                                 <span style=\"color: #008000; text-decoration-color: #008000\">│</span>\n",
              "<span style=\"color: #008000; text-decoration-color: #008000\">╰─────────────────────────────────────────────────────────────────────────────────────────────────────────────────╯</span>\n",
              "</pre>\n"
            ]
          },
          "metadata": {}
        },
        {
          "output_type": "display_data",
          "data": {
            "text/plain": [
              "\n"
            ],
            "text/html": [
              "<pre style=\"white-space:pre;overflow-x:auto;line-height:normal;font-family:Menlo,'DejaVu Sans Mono',consolas,'Courier New',monospace\">\n",
              "</pre>\n"
            ]
          },
          "metadata": {}
        },
        {
          "output_type": "display_data",
          "data": {
            "text/plain": [
              "Output()"
            ],
            "application/vnd.jupyter.widget-view+json": {
              "version_major": 2,
              "version_minor": 0,
              "model_id": "38085b8144484295b062d58ff3c3f889"
            }
          },
          "metadata": {}
        },
        {
          "output_type": "display_data",
          "data": {
            "text/plain": [
              "/usr/local/lib/python3.11/dist-packages/ipywidgets/widgets/widget_output.py:111: DeprecationWarning: \n",
              "Kernel._parent_header is deprecated in ipykernel 6. Use .get_parent()\n",
              "  if ip and hasattr(ip, 'kernel') and hasattr(ip.kernel, '_parent_header'):\n"
            ],
            "text/html": [
              "<pre style=\"white-space:pre;overflow-x:auto;line-height:normal;font-family:Menlo,'DejaVu Sans Mono',consolas,'Courier New',monospace\">/usr/local/lib/python3.11/dist-packages/ipywidgets/widgets/widget_output.py:111: DeprecationWarning: \n",
              "Kernel._parent_header is deprecated in ipykernel 6. Use .get_parent()\n",
              "  if ip and hasattr(ip, 'kernel') and hasattr(ip.kernel, '_parent_header'):\n",
              "</pre>\n"
            ]
          },
          "metadata": {}
        },
        {
          "output_type": "display_data",
          "data": {
            "text/plain": [
              "/usr/local/lib/python3.11/dist-packages/ipywidgets/widgets/widget_output.py:112: DeprecationWarning: \n",
              "Kernel._parent_header is deprecated in ipykernel 6. Use .get_parent()\n",
              "  self.msg_id = ip.kernel._parent_header['header']['msg_id']\n"
            ],
            "text/html": [
              "<pre style=\"white-space:pre;overflow-x:auto;line-height:normal;font-family:Menlo,'DejaVu Sans Mono',consolas,'Courier New',monospace\">/usr/local/lib/python3.11/dist-packages/ipywidgets/widgets/widget_output.py:112: DeprecationWarning: \n",
              "Kernel._parent_header is deprecated in ipykernel 6. Use .get_parent()\n",
              "  self.msg_id = ip.kernel._parent_header['header']['msg_id']\n",
              "</pre>\n"
            ]
          },
          "metadata": {}
        },
        {
          "output_type": "display_data",
          "data": {
            "text/plain": [],
            "text/html": [
              "<pre style=\"white-space:pre;overflow-x:auto;line-height:normal;font-family:Menlo,'DejaVu Sans Mono',consolas,'Courier New',monospace\"></pre>\n"
            ]
          },
          "metadata": {}
        },
        {
          "output_type": "display_data",
          "data": {
            "text/plain": [
              "\u001b[32m╭─\u001b[0m\u001b[32m───────────────────────────────────────────────\u001b[0m\u001b[32m Flow Completion \u001b[0m\u001b[32m───────────────────────────────────────────────\u001b[0m\u001b[32m─╮\u001b[0m\n",
              "\u001b[32m│\u001b[0m                                                                                                                 \u001b[32m│\u001b[0m\n",
              "\u001b[32m│\u001b[0m  \u001b[1;32mFlow Execution Completed\u001b[0m                                                                                       \u001b[32m│\u001b[0m\n",
              "\u001b[32m│\u001b[0m  \u001b[37mName: \u001b[0m\u001b[32mInterviewFlow\u001b[0m                                                                                            \u001b[32m│\u001b[0m\n",
              "\u001b[32m│\u001b[0m  \u001b[37mID: \u001b[0m\u001b[32m697b75fd-1def-49d3-b7aa-c161daed70c6\u001b[0m                                                                       \u001b[32m│\u001b[0m\n",
              "\u001b[32m│\u001b[0m  \u001b[37mTool Args: \u001b[0m                                                                                                    \u001b[32m│\u001b[0m\n",
              "\u001b[32m│\u001b[0m                                                                                                                 \u001b[32m│\u001b[0m\n",
              "\u001b[32m│\u001b[0m                                                                                                                 \u001b[32m│\u001b[0m\n",
              "\u001b[32m╰─────────────────────────────────────────────────────────────────────────────────────────────────────────────────╯\u001b[0m\n"
            ],
            "text/html": [
              "<pre style=\"white-space:pre;overflow-x:auto;line-height:normal;font-family:Menlo,'DejaVu Sans Mono',consolas,'Courier New',monospace\"><span style=\"color: #008000; text-decoration-color: #008000\">╭──────────────────────────────────────────────── Flow Completion ────────────────────────────────────────────────╮</span>\n",
              "<span style=\"color: #008000; text-decoration-color: #008000\">│</span>                                                                                                                 <span style=\"color: #008000; text-decoration-color: #008000\">│</span>\n",
              "<span style=\"color: #008000; text-decoration-color: #008000\">│</span>  <span style=\"color: #008000; text-decoration-color: #008000; font-weight: bold\">Flow Execution Completed</span>                                                                                       <span style=\"color: #008000; text-decoration-color: #008000\">│</span>\n",
              "<span style=\"color: #008000; text-decoration-color: #008000\">│</span>  <span style=\"color: #c0c0c0; text-decoration-color: #c0c0c0\">Name: </span><span style=\"color: #008000; text-decoration-color: #008000\">InterviewFlow</span>                                                                                            <span style=\"color: #008000; text-decoration-color: #008000\">│</span>\n",
              "<span style=\"color: #008000; text-decoration-color: #008000\">│</span>  <span style=\"color: #c0c0c0; text-decoration-color: #c0c0c0\">ID: </span><span style=\"color: #008000; text-decoration-color: #008000\">697b75fd-1def-49d3-b7aa-c161daed70c6</span>                                                                       <span style=\"color: #008000; text-decoration-color: #008000\">│</span>\n",
              "<span style=\"color: #008000; text-decoration-color: #008000\">│</span>  <span style=\"color: #c0c0c0; text-decoration-color: #c0c0c0\">Tool Args: </span>                                                                                                    <span style=\"color: #008000; text-decoration-color: #008000\">│</span>\n",
              "<span style=\"color: #008000; text-decoration-color: #008000\">│</span>                                                                                                                 <span style=\"color: #008000; text-decoration-color: #008000\">│</span>\n",
              "<span style=\"color: #008000; text-decoration-color: #008000\">│</span>                                                                                                                 <span style=\"color: #008000; text-decoration-color: #008000\">│</span>\n",
              "<span style=\"color: #008000; text-decoration-color: #008000\">╰─────────────────────────────────────────────────────────────────────────────────────────────────────────────────╯</span>\n",
              "</pre>\n"
            ]
          },
          "metadata": {}
        },
        {
          "output_type": "display_data",
          "data": {
            "text/plain": [
              "\n"
            ],
            "text/html": [
              "<pre style=\"white-space:pre;overflow-x:auto;line-height:normal;font-family:Menlo,'DejaVu Sans Mono',consolas,'Courier New',monospace\">\n",
              "</pre>\n"
            ]
          },
          "metadata": {}
        },
        {
          "output_type": "stream",
          "name": "stdout",
          "text": [
            "{\n",
            "  \"requirements\": {\n",
            "    \"title\": \"AI Data Scientist\",\n",
            "    \"seniority\": \"6+ years of experience, senior-level\",\n",
            "    \"must_have_skills\": [\n",
            "      \"Experience with predictive modeling (forecasting, anomaly detection, causal inference)\",\n",
            "      \"Proficiency in SQL and data analytics platforms (Hadoop, Spark, Snowflake)\",\n",
            "      \"Data visualization tools (Tableau, d3, Plotly)\",\n",
            "      \"Programming in Python, Git, Notebooks\",\n",
            "      \"Experience with large language models (LLMs), RAG architectures, prompt evaluation\",\n",
            "      \"Strong statistical data analysis skills (hypothesis testing, time series, multivariate analysis)\",\n",
            "      \"Ability to translate business questions into data solutions\",\n",
            "      \"Experience with ML pipelines and deploying models in production\",\n",
            "      \"Excellent communication skills for technical and non-technical audiences\"\n",
            "    ],\n",
            "    \"nice_to_have_skills\": [\n",
            "      \"Experience with LLM evaluation pipelines and GenAI frameworks (LangChain, LlamaIndex)\",\n",
            "      \"Experience with observability tools for LLMs (LangSmith, Truera, Weights & Biases)\",\n",
            "      \"Knowledge of vector similarity search, retrieval algorithms, and data modeling for vector graphs\",\n",
            "      \"Experience with anomaly detection and causal inference models\",\n",
            "      \"Advanced degree (MS or Ph.D.) in a related quantitative field\",\n",
            "      \"Experience with data dashboard and self-service tool development\",\n",
            "      \"Experience working with software engineers in production environments\"\n",
            "    ],\n",
            "    \"responsibilities\": [\n",
            "      \"Develop and productionalize ML models (forecasting, anomaly detection, attribution, causal inference)\",\n",
            "      \"Build RCA and recommendation engines for summarization and chatbots\",\n",
            "      \"Analyze agent interactions and implement LLM evaluation pipelines\",\n",
            "      \"Support experimentation and A/B testing\",\n",
            "      \"Partner with AI engineers and PMs to scale features\",\n",
            "      \"Bridge technical and business teams to translate data insights\",\n",
            "      \"Influence data model design, KPI definitions, and develop data solutions\",\n",
            "      \"Create dashboards and self-service tools for data analysis\",\n",
            "      \"Leverage and adapt existing AI/ML models for US-specific needs\"\n",
            "    ],\n",
            "    \"keywords\": [\n",
            "      \"AI Data Scientist\",\n",
            "      \"predictive modeling\",\n",
            "      \"ML pipelines\",\n",
            "      \"LLM evaluation\",\n",
            "      \"RAG architectures\",\n",
            "      \"prompt evaluation\",\n",
            "      \"data visualization\",\n",
            "      \"SQL\",\n",
            "      \"Python\",\n",
            "      \"Spark\",\n",
            "      \"Snowflake\",\n",
            "      \"Tableau\",\n",
            "      \"GenAI\",\n",
            "      \"causal inference\",\n",
            "      \"anomaly detection\",\n",
            "      \"vector similarity search\"\n",
            "    ]\n",
            "  },\n",
            "  \"match\": {\n",
            "    \"overall_match_pct\": 75.0,\n",
            "    \"strong_alignment\": [\n",
            "      \"Experience with predictive modeling (ARIMA, Prophet, XGBoost, Random Forest)\",\n",
            "      \"Applied causal inference (DiD, matching) and A/B testing\",\n",
            "      \"Automated SQL pipelines and data evaluation processes\",\n",
            "      \"Data visualization skills (Streamlit dashboards, economic reports)\",\n",
            "      \"Programming in Python and SQL\",\n",
            "      \"Experience with large-scale ML systems and generative AI\",\n",
            "      \"Research and development of ML models for forecasting and analysis\",\n",
            "      \"Ability to translate business questions into data solutions\",\n",
            "      \"Experience with hypothesis testing, time series, multivariate analysis\",\n",
            "      \"Experience with ML pipelines and deploying models in production\"\n",
            "    ],\n",
            "    \"partial_alignment\": [\n",
            "      \"Experience with LLM evaluation pipelines and prompt engineering\",\n",
            "      \"Knowledge of RAG architectures, retrieval algorithms, vector similarity search\",\n",
            "      \"Experience with observability tools for LLMs (e.g., LangSmith, Weights & Biases)\",\n",
            "      \"Experience with self-service data dashboards and tools\",\n",
            "      \"Experience working with software engineers in production environments\"\n",
            "    ],\n",
            "    \"gaps\": [\n",
            "      \"Explicit experience with large language models (LLMs) beyond fine-tuning and prompt engineering\",\n",
            "      \"Specific experience with RAG architectures and retrieval algorithms\",\n",
            "      \"Hands-on experience with LLM evaluation pipelines and GenAI frameworks like LangChain or LlamaIndex\",\n",
            "      \"Experience with observability tools for LLMs (LangSmith, Truera, Weights & Biases)\",\n",
            "      \"Knowledge of vector similarity search and data modeling for vector graphs\",\n",
            "      \"Advanced degree (MS or Ph.D.) in a related quantitative field (candidate is pursuing a Master\\u2019s)\"\n",
            "    ],\n",
            "    \"evidence_map\": {\n",
            "      \"predictive modeling\": [\n",
            "        \"Developed forecasting models (XGBoost, ARIMA, Prophet) that improved regional economic predictions by 15%\",\n",
            "        \"Built ML models for airfare forecasting (XGBoost, Random Forest)\",\n",
            "        \"Designed CVAE for age-controlled face generation\"\n",
            "      ],\n",
            "      \"causal inference\": [\n",
            "        \"Applied causal inference (DiD, matching) to evaluate policy impacts\",\n",
            "        \"Reduced debt servicing costs via causal inference analysis\",\n",
            "        \"Used Bayesian modeling and causal inference in behavioral experiments\"\n",
            "      ],\n",
            "      \"SQL and data pipelines\": [\n",
            "        \"Automated SQL pipelines for economic and financial data\",\n",
            "        \"Built SQL-Python pipeline analyzing 6.75M e-commerce records\"\n",
            "      ],\n",
            "      \"data visualization\": [\n",
            "        \"Created dashboards with Streamlit for airfare forecasting\",\n",
            "        \"Built KPI dashboards for university department analysis\",\n",
            "        \"Produced economic reports and policy briefings\"\n",
            "      ],\n",
            "      \"Python and ML\": [\n",
            "        \"Proficient in Python (Pandas, NumPy, Scikit-Learn, NLP, neural networks)\",\n",
            "        \"Experience deploying ML models in research and policy contexts\"\n",
            "      ],\n",
            "      \"large-scale ML systems and generative AI\": [\n",
            "        \"Experience with generative AI, LLM fine-tuning, prompt engineering\",\n",
            "        \"Collaborating on healthcare LLM with Reinforcement Learning from EHRs\"\n",
            "      ],\n",
            "      \"business translation\": [\n",
            "        \"Analyses informed national economic reports and policy decisions\",\n",
            "        \"Built dashboards and tools to improve operational visibility\"\n",
            "      ],\n",
            "      \"research and development\": [\n",
            "        \"Developed models for economic forecasting, policy impact, and healthcare\",\n",
            "        \"Engaged in projects involving VAE, LLMs, and causal inference\"\n",
            "      ],\n",
            "      \"communication skills\": [\n",
            "        \"Presented analyses in reports and policy briefings\",\n",
            "        \"Collaborated with cross-functional teams including policymakers and researchers\"\n",
            "      ],\n",
            "      \"nice to have\": [\n",
            "        \"Experience with LLM evaluation pipelines, RAG architectures, and vector search is implied but not explicitly demonstrated\",\n",
            "        \"Specific tools like LangChain, LlamaIndex, LangSmith, Truera, Weights & Biases are not mentioned\"\n",
            "      ]\n",
            "    }\n",
            "  },\n",
            "  \"outline\": {\n",
            "    \"objective\": null,\n",
            "    \"top_summary\": \"Senior AI Data Scientist with 6+ years of experience delivering scalable predictive models, causal inference, and large-scale ML pipelines. Proven ability to translate complex business questions into data-driven solutions, deploying models in production that increased forecast accuracy by up to 15%. Skilled in LLM evaluation, RAG architectures, and data visualization, with a strong record of cross-functional collaboration and technical communication.\",\n",
            "    \"highlight_sections\": [\n",
            "      \"Summary\",\n",
            "      \"Key Skills\",\n",
            "      \"Experience\",\n",
            "      \"Education\"\n",
            "    ],\n",
            "    \"key_skills_block\": [\n",
            "      \"Predictive Modeling\",\n",
            "      \"Causal Inference\",\n",
            "      \"ML Pipelines\",\n",
            "      \"Large Language Models (LLMs)\",\n",
            "      \"RAG Architectures\",\n",
            "      \"Prompt Engineering\",\n",
            "      \"SQL & Data Pipelines\",\n",
            "      \"Data Visualization\",\n",
            "      \"Python & Notebooks\",\n",
            "      \"Generative AI\",\n",
            "      \"Data Analysis\",\n",
            "      \"Deployment & Monitoring\",\n",
            "      \"Statistical Analysis\",\n",
            "      \"A/B Testing\",\n",
            "      \"Data Modeling\"\n",
            "    ],\n",
            "    \"reordering_rules\": [\n",
            "      \"Move 'Experience' section above 'Education' to highlight relevant work first\",\n",
            "      \"Prioritize bullets in 'Experience' that demonstrate predictive modeling, causal inference, and ML deployment\",\n",
            "      \"Rearrange skills to surface ATS keywords like LLM evaluation, RAG, prompt engineering early\",\n",
            "      \"Ensure summary and key skills are above the fold for quick scanning\"\n",
            "    ],\n",
            "    \"targeted_bullets\": {\n",
            "      \"Experience\": [\n",
            "        \"Led development and deployment of forecasting and anomaly detection models using XGBoost, ARIMA, and Prophet, improving regional economic prediction accuracy by 15%\",\n",
            "        \"Engineered causal inference analyses (DiD, matching) to evaluate policy impacts, reducing decision cycle time by 20%\",\n",
            "        \"Automated SQL and Spark pipelines processing 6.75M records, streamlining data ingestion and evaluation workflows\",\n",
            "        \"Built interactive dashboards with Streamlit and Tableau, enabling real-time insights for cross-functional teams\",\n",
            "        \"Collaborated with AI engineers to scale ML models in production, integrating LLMs and RAG architectures for chatbot and summarization engines\",\n",
            "        \"Analyzed agent interactions and implemented LLM evaluation pipelines, enhancing prompt effectiveness and model reliability\",\n",
            "        \"Translated complex business questions into scalable data solutions, influencing KPI definitions and strategic initiatives\"\n",
            "      ]\n",
            "    }\n",
            "  },\n",
            "  \"tailored_resume_markdown\": \"```markdown\\n# Cassandra Maldonado\\n\\n+1 (415) 286-1896 | cassandramr@uchicago.edu | [LinkedIn](in/cassandra-msullivan) | [GitHub](https://github.com)\\n\\n---\\n\\n## Summary\\nSenior AI Data Scientist with 6+ years of experience delivering scalable predictive models, causal inference, and large-scale ML pipelines. Proven ability to translate complex business questions into data-driven solutions, deploying models in production that increased forecast accuracy by up to 15%. Skilled in LLM evaluation, RAG architectures, prompt engineering, and data visualization, with a strong record of cross-functional collaboration and technical communication.\\n\\n---\\n\\n## Key Skills\\n- Predictive Modeling | Causal Inference | ML Pipelines | Large Language Models (LLMs) | RAG Architectures | Prompt Engineering\\n- SQL & Data Pipelines | Data Visualization | Python & Notebooks | Generative AI | Data Analysis | Deployment & Monitoring\\n- Statistical Analysis | A/B Testing | Data Modeling | Time Series Forecasting | Bayesian Inference | MLOps\\n\\n---\\n\\n## Experience\\n\\n### Mexico Central Bank (Banco de Mexico)  \\n*Machine Learning & Data Science Economist* \\u2014 Monterrey, Mexico  \\nMay 2022 \\u2013 Sep 2024\\n- Led development of forecasting models (XGBoost, ARIMA, Prophet) that improved regional economic prediction accuracy by 15%.  \\n- Engineered causal inference analyses (DiD, matching) and A/B tests to evaluate policy impacts, reducing decision cycle time by 20%.  \\n- Automated SQL pipelines and integrated generative AI tools, streamlining data ingestion and evaluation workflows for large-scale model automation.  \\n- Built interactive dashboards with Streamlit and Tableau, enabling real-time insights for policymakers and analysts.  \\n- Collaborated with AI engineers to scale ML models in production, integrating LLMs and RAG architectures for chatbot and summarization engines.  \\n- Analyzed agent interactions and implemented LLM evaluation pipelines, enhancing prompt effectiveness and model reliability.  \\n- Translated complex business questions into scalable data solutions, influencing KPI definitions and strategic initiatives.\\n\\n### Universidad Aut\\u00f3noma de Nuevo Le\\u00f3n (University-Industry Relations Office)  \\n*Consultant* \\u2014 Monterrey, Mexico  \\nSep 2021 \\u2013 May 2022\\n- Developed Python KPI dashboards, improving departmental visibility and reducing operating costs by 7% annually.  \\n- Applied A/B testing and uplift modeling to quantify the incremental effects of pricing strategies on customer conversion.\\n\\n### Secretary of Finance and General Treasury of Nuevo Le\\u00f3n (State Government)  \\n*Financial Planning Analyst* \\u2014 Mexico  \\nJun 2020 \\u2013 Aug 2021\\n- Improved budget accuracy by 23% through R-based forecasting models and real-time financial reporting tools.  \\n- Reduced debt servicing costs by 1% via automated SQL pipelines and causal inference to evaluate fiscal reforms.\\n\\n---\\n\\n## Education\\n\\n**University of Chicago, Physical Sciences Division**  \\nMaster in Applied Data Science \\u2014 Chicago, IL  \\nDec 2025 (Magna Cum Laude)  \\n- Data Science Institute Merit Scholarship\\n\\n**Instituto Tecnol\\u00f3gico y de Estudios Superiores de Monterrey**  \\nBachelor in Economics \\u2014 Monterrey, Mexico  \\nDec 2019 (Magna Cum Laude, GPA: 94/100)  \\n- Academic Excellence Award (Top 5%)  \\n- President, 36th Economics Symposium\\n\\n---\\n\\n## Major Personal Projects\\n\\n### Healthcare LLM (Inference Analytics)  \\nMar 2025 \\u2013 Present\\n- Fine-tuning healthcare-specific LLMs with Reinforcement Learning from EHRs and clinical notes, focusing on prompt engineering and reward modeling.\\n\\n### AirfareCast: Airline Fare Forecasting  \\nMar 2025\\n- Built XGBoost and Random Forest models to predict flight prices; deployed Streamlit dashboards for fare trend visualization.\\n\\n### Conditional VAE for Age-Controlled Face Generation  \\nJan 2025\\n- Designed a CVAE to simulate age-based facial transformations, achieving latent space disentanglement.\\n\\n### Customer Behavior Analysis Pipeline  \\nNov 2024\\n- Developed a SQL-Python pipeline analyzing 6.75M e-commerce records using A/B testing and time series analysis.\\n\\n### John List Voltage Research Program  \\nSep 2024 \\u2013 Present\\n- Applied Bayesian modeling and causal inference to quantify treatment effects in behavioral experiments and evaluate incremental outcomes.\\n\\n---\\n\\n## Technical Skills\\n- **Programming:** Python (Pandas, NumPy, Matplotlib, Scikit-Learn), SQL, R, STATA, Git  \\n- **ML & AI:** Generative AI (LLMs, VAEs), Classification, Regression, XGBoost, Random Forest, RNN-LSTM, NLP, Prompt Engineering  \\n- **Statistics:** Time Series Forecasting, Bayesian Inference, Causal Inference, MLE, MCMC, Econometrics, Sentiment Analysis  \\n- **Tools:** Snowflake, Tableau, Streamlit, Spark, MLOps frameworks\\n```\",\n",
            "  \"talking_points\": {\n",
            "    \"opener\": \"I'm excited to discuss how my extensive experience in developing scalable predictive models, causal inference, and deploying ML pipelines aligns with the AI Data Scientist role. My background in translating complex business questions into data-driven solutions and my hands-on experience with LLM evaluation and RAG architectures position me well to contribute effectively to your team.\",\n",
            "    \"why_company\": [\n",
            "      \"Your company's commitment to advancing AI capabilities and deploying innovative models aligns with my passion for cutting-edge AI research and practical application.\",\n",
            "      \"The emphasis on scalable, production-ready AI solutions matches my experience in deploying models in real-world environments, especially in financial and policy contexts.\",\n",
            "      \"Your focus on leveraging data visualization and self-service tools resonates with my track record of creating interactive dashboards and enabling data-driven decision-making across organizations.\"\n",
            "    ],\n",
            "    \"why_role\": [\n",
            "      \"This role offers the opportunity to lead the development and deployment of advanced ML models, including forecasting, anomaly detection, and causal inference, which are my core strengths.\",\n",
            "      \"I am eager to collaborate with cross-functional teams, including AI engineers and product managers, to scale innovative features and influence data model design and KPIs.\",\n",
            "      \"The role's focus on analyzing agent interactions, implementing LLM evaluation pipelines, and building recommendation engines aligns perfectly with my experience and interests.\"\n",
            "    ],\n",
            "    \"top_achievements_star\": [\n",
            "      \"Led the development of forecasting models at Banco de Mexico that improved regional economic prediction accuracy by 15%, streamlining decision-making processes.\",\n",
            "      \"Automated SQL pipelines and integrated generative AI tools, significantly reducing data ingestion and model automation workflows.\",\n",
            "      \"Built interactive dashboards with Streamlit and Tableau, enabling real-time insights for policymakers, which enhanced strategic planning.\",\n",
            "      \"Fine-tuned healthcare-specific LLMs with reinforcement learning, advancing prompt engineering and reward modeling for clinical applications.\",\n",
            "      \"Deployed scalable ML pipelines in production environments, partnering with AI engineers to integrate LLMs and RAG architectures for chatbots and summarization engines.\"\n",
            "    ],\n",
            "    \"risk_mitigations\": [\n",
            "      \"I ensure thorough validation and testing of models before deployment to prevent biases and inaccuracies, especially in sensitive applications.\",\n",
            "      \"I maintain close collaboration with engineering teams to implement monitoring and observability tools, ensuring model performance and reliability over time.\",\n",
            "      \"I stay updated on the latest developments in LLM evaluation pipelines and GenAI frameworks to incorporate best practices and mitigate obsolescence.\",\n",
            "      \"I prioritize clear documentation and communication to bridge technical and non-technical stakeholders, reducing misunderstandings and aligning expectations.\"\n",
            "    ],\n",
            "    \"questions_to_ask\": [\n",
            "      \"Can you tell me more about the current AI initiatives and how this role will contribute to scaling those efforts?\",\n",
            "      \"What are the biggest challenges your team faces when deploying large-scale ML models in production?\",\n",
            "      \"How does the company support ongoing learning and development in emerging AI technologies like LLM evaluation and RAG architectures?\",\n",
            "      \"Could you describe the collaboration process between data scientists, engineers, and product teams for deploying AI solutions?\"\n",
            "    ]\n",
            "  }\n",
            "}\n"
          ]
        }
      ]
    },
    {
      "cell_type": "code",
      "source": [
        "from IPython.display import display, Markdown\n",
        "\n",
        "tailored_resume_markdown = result.get('tailored_resume_markdown')\n",
        "\n",
        "display(Markdown(tailored_resume_markdown))"
      ],
      "metadata": {
        "colab": {
          "base_uri": "https://localhost:8080/",
          "height": 1000
        },
        "id": "l8coempfHoxL",
        "outputId": "26bccba9-f134-4a51-915a-312879c5f7b8"
      },
      "execution_count": 12,
      "outputs": [
        {
          "output_type": "display_data",
          "data": {
            "text/plain": [
              "<IPython.core.display.Markdown object>"
            ],
            "text/markdown": "```markdown\n# Cassandra Maldonado\n\n+1 (415) 286-1896 | cassandramr@uchicago.edu | [LinkedIn](in/cassandra-msullivan) | [GitHub](https://github.com)\n\n---\n\n## Summary\nSenior AI Data Scientist with 6+ years of experience delivering scalable predictive models, causal inference, and large-scale ML pipelines. Proven ability to translate complex business questions into data-driven solutions, deploying models in production that increased forecast accuracy by up to 15%. Skilled in LLM evaluation, RAG architectures, prompt engineering, and data visualization, with a strong record of cross-functional collaboration and technical communication.\n\n---\n\n## Key Skills\n- Predictive Modeling | Causal Inference | ML Pipelines | Large Language Models (LLMs) | RAG Architectures | Prompt Engineering\n- SQL & Data Pipelines | Data Visualization | Python & Notebooks | Generative AI | Data Analysis | Deployment & Monitoring\n- Statistical Analysis | A/B Testing | Data Modeling | Time Series Forecasting | Bayesian Inference | MLOps\n\n---\n\n## Experience\n\n### Mexico Central Bank (Banco de Mexico)  \n*Machine Learning & Data Science Economist* — Monterrey, Mexico  \nMay 2022 – Sep 2024\n- Led development of forecasting models (XGBoost, ARIMA, Prophet) that improved regional economic prediction accuracy by 15%.  \n- Engineered causal inference analyses (DiD, matching) and A/B tests to evaluate policy impacts, reducing decision cycle time by 20%.  \n- Automated SQL pipelines and integrated generative AI tools, streamlining data ingestion and evaluation workflows for large-scale model automation.  \n- Built interactive dashboards with Streamlit and Tableau, enabling real-time insights for policymakers and analysts.  \n- Collaborated with AI engineers to scale ML models in production, integrating LLMs and RAG architectures for chatbot and summarization engines.  \n- Analyzed agent interactions and implemented LLM evaluation pipelines, enhancing prompt effectiveness and model reliability.  \n- Translated complex business questions into scalable data solutions, influencing KPI definitions and strategic initiatives.\n\n### Universidad Autónoma de Nuevo León (University-Industry Relations Office)  \n*Consultant* — Monterrey, Mexico  \nSep 2021 – May 2022\n- Developed Python KPI dashboards, improving departmental visibility and reducing operating costs by 7% annually.  \n- Applied A/B testing and uplift modeling to quantify the incremental effects of pricing strategies on customer conversion.\n\n### Secretary of Finance and General Treasury of Nuevo León (State Government)  \n*Financial Planning Analyst* — Mexico  \nJun 2020 – Aug 2021\n- Improved budget accuracy by 23% through R-based forecasting models and real-time financial reporting tools.  \n- Reduced debt servicing costs by 1% via automated SQL pipelines and causal inference to evaluate fiscal reforms.\n\n---\n\n## Education\n\n**University of Chicago, Physical Sciences Division**  \nMaster in Applied Data Science — Chicago, IL  \nDec 2025 (Magna Cum Laude)  \n- Data Science Institute Merit Scholarship\n\n**Instituto Tecnológico y de Estudios Superiores de Monterrey**  \nBachelor in Economics — Monterrey, Mexico  \nDec 2019 (Magna Cum Laude, GPA: 94/100)  \n- Academic Excellence Award (Top 5%)  \n- President, 36th Economics Symposium\n\n---\n\n## Major Personal Projects\n\n### Healthcare LLM (Inference Analytics)  \nMar 2025 – Present\n- Fine-tuning healthcare-specific LLMs with Reinforcement Learning from EHRs and clinical notes, focusing on prompt engineering and reward modeling.\n\n### AirfareCast: Airline Fare Forecasting  \nMar 2025\n- Built XGBoost and Random Forest models to predict flight prices; deployed Streamlit dashboards for fare trend visualization.\n\n### Conditional VAE for Age-Controlled Face Generation  \nJan 2025\n- Designed a CVAE to simulate age-based facial transformations, achieving latent space disentanglement.\n\n### Customer Behavior Analysis Pipeline  \nNov 2024\n- Developed a SQL-Python pipeline analyzing 6.75M e-commerce records using A/B testing and time series analysis.\n\n### John List Voltage Research Program  \nSep 2024 – Present\n- Applied Bayesian modeling and causal inference to quantify treatment effects in behavioral experiments and evaluate incremental outcomes.\n\n---\n\n## Technical Skills\n- **Programming:** Python (Pandas, NumPy, Matplotlib, Scikit-Learn), SQL, R, STATA, Git  \n- **ML & AI:** Generative AI (LLMs, VAEs), Classification, Regression, XGBoost, Random Forest, RNN-LSTM, NLP, Prompt Engineering  \n- **Statistics:** Time Series Forecasting, Bayesian Inference, Causal Inference, MLE, MCMC, Econometrics, Sentiment Analysis  \n- **Tools:** Snowflake, Tableau, Streamlit, Spark, MLOps frameworks\n```"
          },
          "metadata": {}
        }
      ]
    },
    {
      "cell_type": "code",
      "source": [
        "from IPython.display import display, Markdown\n",
        "\n",
        "talking_points = result.get('talking_points')\n",
        "\n",
        "formatted_talking_points = f\"\"\"\n",
        "# Talking Points\n",
        "\n",
        "## Opener\n",
        "\n",
        "{talking_points['opener']}\n",
        "\n",
        "## Why this company\n",
        "\n",
        "{f\"{chr(10)}\".join([f\"- {p}\" for p in talking_points['why_company']])}\n",
        "\n",
        "## Why this role\n",
        "\n",
        "{f\"{chr(10)}\".join([f\"- {p}\" for p in talking_points['why_role']])}\n",
        "\n",
        "## Top Achievements\n",
        "\n",
        "{f\"{chr(10)}\".join([f\"- {p}\" for p in talking_points['top_achievements_star']])}\n",
        "\n",
        "## How do you deal with risk mitigation\n",
        "\n",
        "{f\"{chr(10)}\".join([f\"- {p}\" for p in talking_points['risk_mitigations']])}\n",
        "\n",
        "## Questions to ask the interviewer\n",
        "\n",
        "{f\"{chr(10)}\".join([f\"- {p}\" for p in talking_points['questions_to_ask']])}\n",
        "        \"\"\".strip()\n",
        "display(Markdown(formatted_talking_points))"
      ],
      "metadata": {
        "colab": {
          "base_uri": "https://localhost:8080/",
          "height": 946
        },
        "id": "GU57hqVbGzta",
        "outputId": "5acba9d1-f4ae-4cb6-906e-84291397f4c7"
      },
      "execution_count": 15,
      "outputs": [
        {
          "output_type": "display_data",
          "data": {
            "text/plain": [
              "<IPython.core.display.Markdown object>"
            ],
            "text/markdown": "# Talking Points\n\n## Opener\n\nI'm excited to discuss how my extensive experience in developing scalable predictive models, causal inference, and deploying ML pipelines aligns with the AI Data Scientist role. My background in translating complex business questions into data-driven solutions and my hands-on experience with LLM evaluation and RAG architectures position me well to contribute effectively to your team.\n\n## Why this company\n\n- Your company's commitment to advancing AI capabilities and deploying innovative models aligns with my passion for cutting-edge AI research and practical application.\n- The emphasis on scalable, production-ready AI solutions matches my experience in deploying models in real-world environments, especially in financial and policy contexts.\n- Your focus on leveraging data visualization and self-service tools resonates with my track record of creating interactive dashboards and enabling data-driven decision-making across organizations.\n\n## Why this role\n\n- This role offers the opportunity to lead the development and deployment of advanced ML models, including forecasting, anomaly detection, and causal inference, which are my core strengths.\n- I am eager to collaborate with cross-functional teams, including AI engineers and product managers, to scale innovative features and influence data model design and KPIs.\n- The role's focus on analyzing agent interactions, implementing LLM evaluation pipelines, and building recommendation engines aligns perfectly with my experience and interests.\n\n## Top Achievements\n\n- Led the development of forecasting models at Banco de Mexico that improved regional economic prediction accuracy by 15%, streamlining decision-making processes.\n- Automated SQL pipelines and integrated generative AI tools, significantly reducing data ingestion and model automation workflows.\n- Built interactive dashboards with Streamlit and Tableau, enabling real-time insights for policymakers, which enhanced strategic planning.\n- Fine-tuned healthcare-specific LLMs with reinforcement learning, advancing prompt engineering and reward modeling for clinical applications.\n- Deployed scalable ML pipelines in production environments, partnering with AI engineers to integrate LLMs and RAG architectures for chatbots and summarization engines.\n\n## How do you deal with risk mitigation\n\n- I ensure thorough validation and testing of models before deployment to prevent biases and inaccuracies, especially in sensitive applications.\n- I maintain close collaboration with engineering teams to implement monitoring and observability tools, ensuring model performance and reliability over time.\n- I stay updated on the latest developments in LLM evaluation pipelines and GenAI frameworks to incorporate best practices and mitigate obsolescence.\n- I prioritize clear documentation and communication to bridge technical and non-technical stakeholders, reducing misunderstandings and aligning expectations.\n\n## Questions to ask the interviewer\n\n- Can you tell me more about the current AI initiatives and how this role will contribute to scaling those efforts?\n- What are the biggest challenges your team faces when deploying large-scale ML models in production?\n- How does the company support ongoing learning and development in emerging AI technologies like LLM evaluation and RAG architectures?\n- Could you describe the collaboration process between data scientists, engineers, and product teams for deploying AI solutions?"
          },
          "metadata": {}
        }
      ]
    },
    {
      "cell_type": "code",
      "source": [
        "# To download in pdf the new markdown.\n",
        "from reportlab.platypus import SimpleDocTemplate, Paragraph, Spacer\n",
        "from reportlab.lib.styles import getSampleStyleSheet\n",
        "from reportlab.lib.pagesizes import LETTER\n",
        "\n",
        "tailored_resume_markdown = result.get('tailored_resume_markdown')\n",
        "\n",
        "if tailored_resume_markdown:\n",
        "    pdf_path = \"Tailored_Resume.pdf\"\n",
        "    doc = SimpleDocTemplate(pdf_path, pagesize=LETTER)\n",
        "    styles = getSampleStyleSheet()\n",
        "    story = []\n",
        "\n",
        "\n",
        "    for line in tailored_resume_markdown.split('\\n'):\n",
        "        if line.strip():\n",
        "            style = styles[\"Normal\"]\n",
        "            if line.startswith('#'):\n",
        "                style = styles[\"h1\"]\n",
        "            elif line.startswith('##'):\n",
        "                style = styles[\"h2\"]\n",
        "            elif line.startswith('-'):\n",
        "                story.append(Paragraph(\"&bull; \" + line[1:].strip(), styles[\"Normal\"]))\n",
        "                story.append(Spacer(1, 3))\n",
        "                continue\n",
        "\n",
        "            story.append(Paragraph(line.strip(), style))\n",
        "            story.append(Spacer(1, 6))\n",
        "\n",
        "    doc.build(story)\n",
        "    print(f\"Tailored resume saved to: {pdf_path}\")\n",
        "else:\n",
        "    print(\"Tailored resume markdown not found.\")"
      ],
      "metadata": {
        "colab": {
          "base_uri": "https://localhost:8080/"
        },
        "id": "4pwPw7D9XtPw",
        "outputId": "8aa40a63-fb6e-4304-f048-4a06b019702c"
      },
      "execution_count": 25,
      "outputs": [
        {
          "output_type": "stream",
          "name": "stdout",
          "text": [
            "Tailored resume saved to: Tailored_Resume.pdf\n"
          ]
        }
      ]
    },
    {
      "cell_type": "code",
      "metadata": {
        "colab": {
          "base_uri": "https://localhost:8080/"
        },
        "id": "e86beab6",
        "outputId": "4ed6ce43-68bc-4f06-869b-b90fc0cc9a57"
      },
      "source": [
        "# Comparing my orginal resume and the tailored one.\n",
        "from nbformat import read\n",
        "from google.colab import _message as google_message\n",
        "import json\n",
        "\n",
        "notebook = google_message.blocking_request(\n",
        "    'get_ipynb', timeout_sec=600)['ipynb']\n",
        "\n",
        "# Finding my original resume.\n",
        "original_resume_cell_id = 'fuE2FeAB4-0i'\n",
        "original_resume = None\n",
        "for cell in notebook['cells']:\n",
        "    if cell.get('metadata', {}).get('id') == original_resume_cell_id and cell['cell_type'] == 'code':\n",
        "        source_lines = cell['source']\n",
        "        inputs_start = None\n",
        "        for i, line in enumerate(source_lines):\n",
        "            if 'inputs={' in line:\n",
        "                inputs_start = i\n",
        "                break\n",
        "\n",
        "        if inputs_start is not None:\n",
        "            inputs_str = \"\".join(source_lines[inputs_start:]).strip()\n",
        "            inputs_str = inputs_str[len('inputs='):].strip()\n",
        "            if inputs_str.endswith(')'):\n",
        "                inputs_str = inputs_str[:-1].strip()\n",
        "\n",
        "            inputs_str = inputs_str.replace(\"'\", '\"')\n",
        "            inputs_str = inputs_str.replace('\\\\(', '(').replace('\\\\)', ')').replace('\\\\+', '+')\n",
        "\n",
        "            try:\n",
        "                inputs_dict = json.loads(inputs_str)\n",
        "                original_resume = inputs_dict.get('candidate_resume')\n",
        "                break\n",
        "            except json.JSONDecodeError as e:\n",
        "                print(f\"Error decoding JSON from cell {original_resume_cell_id}: {e}\")\n",
        "                import ast\n",
        "                try:\n",
        "                    inputs_dict = ast.literal_eval(inputs_str)\n",
        "                    original_resume = inputs_dict.get('candidate_resume')\n",
        "                    break\n",
        "                except (ValueError, SyntaxError) as eval_e:\n",
        "                     print(f\"Error evaluating string from cell {original_resume_cell_id}: {eval_e}\")\n",
        "                     original_resume = \"Could not get the candidate's original resume.\"\n",
        "                     break\n",
        "\n",
        "\n",
        "# Getting the tailored resume markdown.\n",
        "tailored_resume = result.get('tailored_resume_markdown')\n",
        "\n",
        "print(\"Original Resume Retrieved:\", original_resume is not None)\n",
        "print(\"Tailored Resume Retrieved:\", tailored_resume is not None)"
      ],
      "execution_count": 26,
      "outputs": [
        {
          "output_type": "stream",
          "name": "stdout",
          "text": [
            "Error decoding JSON from cell fuE2FeAB4-0i: Expecting ',' delimiter: line 3 column 31 (char 119)\n",
            "Error evaluating string from cell fuE2FeAB4-0i: unmatched ')' (<unknown>, line 113)\n",
            "Original Resume Retrieved: True\n",
            "Tailored Resume Retrieved: True\n"
          ]
        }
      ]
    },
    {
      "cell_type": "code",
      "metadata": {
        "id": "214d3ad4"
      },
      "source": [
        "import difflib\n",
        "\n",
        "# I will use the differ library to compare the original and tailored resume and see the differences.\n",
        "original_resume_str = str(original_resume) if original_resume else \"\"\n",
        "tailored_resume_str = str(tailored_resume) if tailored_resume else \"\"\n",
        "\n",
        "# Differ object.\n",
        "d = difflib.Differ()\n",
        "\n",
        "# Comparing line by line.\n",
        "diff_result = list(d.compare(original_resume_str.splitlines(), tailored_resume_str.splitlines()))"
      ],
      "execution_count": 27,
      "outputs": []
    },
    {
      "cell_type": "code",
      "metadata": {
        "colab": {
          "base_uri": "https://localhost:8080/"
        },
        "id": "3f6a7d02",
        "outputId": "3d7715fe-963b-448e-9d16-da7850fab041"
      },
      "source": [
        "import difflib\n",
        "\n",
        "# Paste your original resume text between the triple quotes below:\n",
        "original_resume = \"\"\"\n",
        "Cassandra Maldonado\n",
        "\n",
        "\\+ 1 \\(415\\) 286-1896 | cassandramr@uchicago.edu | in/cassandra-msullivan | Github\n",
        "\n",
        "Data scientist with experience in generative AI and large-scale ML systems. I’ve built A/B testing frameworks and automated evaluation pipelines that made it easier to track model performance and translate results into decisions in research, product or policy.\n",
        "\n",
        "**WORK EXPERIENCE **\n",
        "\n",
        "**Mexico Central Bank \\(Banco de Mexico\\) **\n",
        "\n",
        "**May 2022 - Sep 2024 **\n",
        "\n",
        "*Machine Learning & Data Science Economist Monterrey, Mexico *\n",
        "\n",
        "• Developed forecasting models \\(XGBoost, ARIMA, Prophet\\) that improved regional economic predictions by 15%.\n",
        "\n",
        "• Applied causal inference \\(DiD, matching\\) and A/B testing to evaluate the impact of policy interventions.\n",
        "\n",
        "• Conducted incrementality analysis to isolate true effects of programs on regional growth.\n",
        "\n",
        "• Automated SQL pipelines while integrating generative AI tools to streamline data evaluation processes, aligning with large-scale model automation principles.\n",
        "\n",
        "• My analyses were featured in national economic reports and policy briefings that informed high-level decisions and reached a nationwide audience.\n",
        "\n",
        "**Universidad Autónoma de Nuevo León \\(University-Industry Relations Office\\)\n",
        "\n",
        "** **Sep 2021 - May 2022 **\n",
        "\n",
        "*Consultant Monterrey, Mexico *\n",
        "\n",
        "• Built Python-based KPI dashboards that improved visibility across departments and helped reduce operating costs by a 7%\n",
        "\n",
        "annually.\n",
        "\n",
        "• Leveraged A/B testing and uplift modeling in data analysis to isolate the incremental effects of pricing strategies on customer conversion.\n",
        "\n",
        "**Secretary of Finance and General Treasury of Nuevo León \\(State Gov. Office\\)**\n",
        "\n",
        "**Jun 2020 - Aug 2021 **\n",
        "\n",
        "*Financial Planning Analyst *\n",
        "\n",
        "*Mexico *\n",
        "\n",
        "• Improved budget accuracy by 23% through R-based forecasting models and real-time financial reporting tools.\n",
        "\n",
        "• Reduced debt servicing costs by 1% by automating SQL pipelines and applying causal inference to evaluate fiscal reforms.\n",
        "\n",
        "**EDUCATION **\n",
        "\n",
        "**University of Chicago, Physical Sciences Division** **Dec 2025 **\n",
        "\n",
        "*Master in Applied Data Science Chicago, IL *\n",
        "\n",
        "• **GPA: **Magna Cum Laude\n",
        "\n",
        "• **Achievements: **Data Science Institute Merit Scholarship.\n",
        "\n",
        "**Instituto Tecnológico y de Estudios Superiores de Monterrey** **Dec 2019 **\n",
        "\n",
        "*Bachelor in Economics Monterrey, Mexico *\n",
        "\n",
        "• **GPA: **Magna Cum Laude 94/100\n",
        "\n",
        "• **Achievements: **Academic Excellence Award \\(Top 5%\\), President of the 36th Edition of the Economics Symposium.\n",
        "\n",
        "**MAJOR PERSONAL PROJECTS **\n",
        "\n",
        "**Healthcare LLM \\(Inference Analytics\\) **\n",
        "\n",
        "**Mar 2025 - Present **\n",
        "\n",
        "• Collaborating on a healthcare-specialized LLM fine-tuned with Reinforcement Learning from EHRs and clinical notes. Focused on prompt engineering, dataset preparation, and reward modeling.\n",
        "\n",
        "**AirfareCast: Airline Fare Forecasting **\n",
        "\n",
        "**Mar 2025 **\n",
        "\n",
        "• Built machine learning models \\(XGBoost, Random Forest\\) to predict flight prices. Deployed an interactive Streamlit dashboard to visualize fare trends and optimize booking decisions.\n",
        "\n",
        "**Conditional VAE for Age-Controlled Face Generation**\n",
        "\n",
        "**Jan 2025 **\n",
        "\n",
        "• Designed a Conditional Variational Autoencoder \\(CVAE\\) to simulate age-based facial transformations. Implemented data preprocessing and achieved latent space disentanglement.\n",
        "\n",
        "**Customer Behavior Analysis Pipeline **\n",
        "\n",
        "**Nov 2024 **\n",
        "\n",
        "• Built a SQL-Python pipeline to analyze 6.75M\\+ e-commerce records using A/B testing and time series.\n",
        "\n",
        "**John List Voltage Research Program **\n",
        "\n",
        "**Sep 2024 - Present **\n",
        "\n",
        "• Used Bayesian modeling and causal inference to quantify real-world treatment effects in behavioral experiments, evaluated incremental outcomes from randomized interventions.\n",
        "\n",
        "**TECHNICAL SKILLS **\n",
        "\n",
        "• **Programming**: Python \\(Pandas, NumPy, Matplotlib, Scikit-Learn\\), SQL, R, STATA, Git.\n",
        "\n",
        "• **Machine Learning & AI**: Generative AI \\(LLMs, VAEs\\), Classification, Regression, XGBoost, Random Forest, A/B\n",
        "\n",
        "Testing, RNN-LSTM, NLP, Neural Networks, Prompt Engineering.\n",
        "\n",
        "• **Statistics**: Time Series Forecasting, Bayesian Inference, GLMs, MLE, MCMC, Panel Data Econometrics, Causal Inference, Sentiment Analysis.\n",
        "\n",
        "\"\"\"\n",
        "\n",
        "# Assuming 'result' variable contains the output from the previous cell with the tailored resume\n",
        "tailored_resume = result.get('tailored_resume_markdown')\n",
        "\n",
        "if original_resume and tailored_resume:\n",
        "    print(\"The differences between my original versus my tailored resume.\")\n",
        "\n",
        "    original_resume_str = str(original_resume)\n",
        "    tailored_resume_str = str(tailored_resume)\n",
        "\n",
        "    # Differ object.\n",
        "    d = difflib.Differ()\n",
        "\n",
        "    # Comparing line by line.\n",
        "    diff_result = list(d.compare(original_resume_str.splitlines(), tailored_resume_str.splitlines()))\n",
        "\n",
        "    for line in diff_result:\n",
        "        if line.startswith('  '):\n",
        "            pass\n",
        "        elif line.startswith('- '):\n",
        "            print(f\"Removed: {line[2:]}\")\n",
        "        elif line.startswith('+ '):\n",
        "            print(f\"Added: {line[2:]}\")\n",
        "        elif line.startswith('? '):\n",
        "            print(f\"Character Diff: {line[2:]}\")\n",
        "else:\n",
        "    print(\"Could not compare resumes. Please ensure both original resume text and tailored resume markdown are available.\")"
      ],
      "execution_count": 34,
      "outputs": [
        {
          "output_type": "stream",
          "name": "stdout",
          "text": [
            "The differences between my original versus my tailored resume.\n",
            "Added: ```markdown\n",
            "Added: # Cassandra Maldonado\n",
            "Removed: Cassandra Maldonado \n",
            "Added: +1 (415) 286-1896 | cassandramr@uchicago.edu | [LinkedIn](in/cassandra-msullivan) | [GitHub](https://github.com)\n",
            "Removed: \\+ 1 \\(415\\) 286-1896 | cassandramr@uchicago.edu | in/cassandra-msullivan | Github\n",
            "Added: ---\n",
            "Removed: Data scientist with experience in generative AI and large-scale ML systems. I’ve built A/B testing frameworks and automated evaluation pipelines that made it easier to track model performance and translate results into decisions in research, product or policy. \n",
            "Added: ## Summary\n",
            "Added: Senior AI Data Scientist with 6+ years of experience delivering scalable predictive models, causal inference, and large-scale ML pipelines. Proven ability to translate complex business questions into data-driven solutions, deploying models in production that increased forecast accuracy by up to 15%. Skilled in LLM evaluation, RAG architectures, prompt engineering, and data visualization, with a strong record of cross-functional collaboration and technical communication.\n",
            "Removed: **WORK EXPERIENCE **\n",
            "Added: ---\n",
            "Removed: **Mexico Central Bank \\(Banco de Mexico\\) **\n",
            "Added: ## Key Skills\n",
            "Added: - Predictive Modeling | Causal Inference | ML Pipelines | Large Language Models (LLMs) | RAG Architectures | Prompt Engineering\n",
            "Added: - SQL & Data Pipelines | Data Visualization | Python & Notebooks | Generative AI | Data Analysis | Deployment & Monitoring\n",
            "Added: - Statistical Analysis | A/B Testing | Data Modeling | Time Series Forecasting | Bayesian Inference | MLOps\n",
            "Removed: **May 2022 - Sep 2024 **\n",
            "Added: ---\n",
            "Removed: *Machine Learning & Data Science Economist Monterrey, Mexico *\n",
            "Added: ## Experience\n",
            "Added: ### Mexico Central Bank (Banco de Mexico)  \n",
            "Added: *Machine Learning & Data Science Economist* — Monterrey, Mexico  \n",
            "Added: May 2022 – Sep 2024\n",
            "Removed: • Developed forecasting models \\(XGBoost, ARIMA, Prophet\\) that improved regional economic predictions by 15%. \n",
            "Character Diff: ^ ^       ^                    -                        -                                            ^\n",
            "\n",
            "Added: - Led development of forecasting models (XGBoost, ARIMA, Prophet) that improved regional economic prediction accuracy by 15%.  \n",
            "Character Diff: ^ ^^^^^      + ^^^^^                                                                                        ^^^^^^^^^         +\n",
            "\n",
            "Added: - Engineered causal inference analyses (DiD, matching) and A/B tests to evaluate policy impacts, reducing decision cycle time by 20%.  \n",
            "Added: - Automated SQL pipelines and integrated generative AI tools, streamlining data ingestion and evaluation workflows for large-scale model automation.  \n",
            "Added: - Built interactive dashboards with Streamlit and Tableau, enabling real-time insights for policymakers and analysts.  \n",
            "Added: - Collaborated with AI engineers to scale ML models in production, integrating LLMs and RAG architectures for chatbot and summarization engines.  \n",
            "Added: - Analyzed agent interactions and implemented LLM evaluation pipelines, enhancing prompt effectiveness and model reliability.  \n",
            "Added: - Translated complex business questions into scalable data solutions, influencing KPI definitions and strategic initiatives.\n",
            "Removed: • Applied causal inference \\(DiD, matching\\) and A/B testing to evaluate the impact of policy interventions. \n",
            "Added: ### Universidad Autónoma de Nuevo León (University-Industry Relations Office)  \n",
            "Added: *Consultant* — Monterrey, Mexico  \n",
            "Added: Sep 2021 – May 2022\n",
            "Added: - Developed Python KPI dashboards, improving departmental visibility and reducing operating costs by 7% annually.  \n",
            "Added: - Applied A/B testing and uplift modeling to quantify the incremental effects of pricing strategies on customer conversion.\n",
            "Removed: • Conducted incrementality analysis to isolate true effects of programs on regional growth. \n",
            "Added: ### Secretary of Finance and General Treasury of Nuevo León (State Government)  \n",
            "Added: *Financial Planning Analyst* — Mexico  \n",
            "Added: Jun 2020 – Aug 2021\n",
            "Added: - Improved budget accuracy by 23% through R-based forecasting models and real-time financial reporting tools.  \n",
            "Added: - Reduced debt servicing costs by 1% via automated SQL pipelines and causal inference to evaluate fiscal reforms.\n",
            "Removed: • Automated SQL pipelines while integrating generative AI tools to streamline data evaluation processes, aligning with large-scale model automation principles. \n",
            "Added: ---\n",
            "Removed: • My analyses were featured in national economic reports and policy briefings that informed high-level decisions and reached a nationwide audience. \n",
            "Added: ## Education\n",
            "Removed: **Universidad Autónoma de Nuevo León \\(University-Industry Relations Office\\)\n",
            "Added: **University of Chicago, Physical Sciences Division**  \n",
            "Added: Master in Applied Data Science — Chicago, IL  \n",
            "Added: Dec 2025 (Magna Cum Laude)  \n",
            "Added: - Data Science Institute Merit Scholarship\n",
            "Removed: ** **Sep 2021 - May 2022 **\n",
            "Added: **Instituto Tecnológico y de Estudios Superiores de Monterrey**  \n",
            "Added: Bachelor in Economics — Monterrey, Mexico  \n",
            "Added: Dec 2019 (Magna Cum Laude, GPA: 94/100)  \n",
            "Added: - Academic Excellence Award (Top 5%)  \n",
            "Added: - President, 36th Economics Symposium\n",
            "Removed: *Consultant Monterrey, Mexico *\n",
            "Added: ---\n",
            "Removed: • Built Python-based KPI dashboards that improved visibility across departments and helped reduce operating costs by a 7% \n",
            "Added: ## Major Personal Projects\n",
            "Removed: annually. \n",
            "Added: ### Healthcare LLM (Inference Analytics)  \n",
            "Added: Mar 2025 – Present\n",
            "Added: - Fine-tuning healthcare-specific LLMs with Reinforcement Learning from EHRs and clinical notes, focusing on prompt engineering and reward modeling.\n",
            "Removed: • Leveraged A/B testing and uplift modeling in data analysis to isolate the incremental effects of pricing strategies on customer conversion. \n",
            "Added: ### AirfareCast: Airline Fare Forecasting  \n",
            "Added: Mar 2025\n",
            "Added: - Built XGBoost and Random Forest models to predict flight prices; deployed Streamlit dashboards for fare trend visualization.\n",
            "Removed: **Secretary of Finance and General Treasury of Nuevo León \\(State Gov. Office\\)** \n",
            "Added: ### Conditional VAE for Age-Controlled Face Generation  \n",
            "Added: Jan 2025\n",
            "Added: - Designed a CVAE to simulate age-based facial transformations, achieving latent space disentanglement.\n",
            "Removed: **Jun 2020 - Aug 2021 **\n",
            "Added: ### Customer Behavior Analysis Pipeline  \n",
            "Added: Nov 2024\n",
            "Added: - Developed a SQL-Python pipeline analyzing 6.75M e-commerce records using A/B testing and time series analysis.\n",
            "Removed: *Financial Planning Analyst *\n",
            "Added: ### John List Voltage Research Program  \n",
            "Added: Sep 2024 – Present\n",
            "Added: - Applied Bayesian modeling and causal inference to quantify treatment effects in behavioral experiments and evaluate incremental outcomes.\n",
            "Removed: *Mexico *\n",
            "Added: ---\n",
            "Added: ## Technical Skills\n",
            "Removed: • Improved budget accuracy by 23% through R-based forecasting models and real-time financial reporting tools. \n",
            "Removed: \n",
            "Removed: • Reduced debt servicing costs by 1% by automating SQL pipelines and applying causal inference to evaluate fiscal reforms. \n",
            "Removed: \n",
            "Removed: **EDUCATION **\n",
            "Removed: \n",
            "Removed: **University of Chicago, Physical Sciences Division** **Dec 2025 **\n",
            "Removed: \n",
            "Removed: *Master in Applied Data Science Chicago, IL *\n",
            "Removed: \n",
            "Removed: • **GPA: **Magna Cum Laude \n",
            "Removed: \n",
            "Removed: • **Achievements: **Data Science Institute Merit Scholarship. \n",
            "Removed: \n",
            "Removed: **Instituto Tecnológico y de Estudios Superiores de Monterrey** **Dec 2019 **\n",
            "Removed: \n",
            "Removed: *Bachelor in Economics Monterrey, Mexico *\n",
            "Removed: \n",
            "Removed: • **GPA: **Magna Cum Laude 94/100 \n",
            "Removed: \n",
            "Removed: • **Achievements: **Academic Excellence Award \\(Top 5%\\), President of the 36th Edition of the Economics Symposium. \n",
            "Removed: \n",
            "Removed: **MAJOR PERSONAL PROJECTS **\n",
            "Removed: \n",
            "Removed: **Healthcare LLM \\(Inference Analytics\\) **\n",
            "Removed: \n",
            "Removed: **Mar 2025 - Present **\n",
            "Removed: \n",
            "Removed: • Collaborating on a healthcare-specialized LLM fine-tuned with Reinforcement Learning from EHRs and clinical notes. Focused on prompt engineering, dataset preparation, and reward modeling. \n",
            "Removed: \n",
            "Removed: **AirfareCast: Airline Fare Forecasting **\n",
            "Removed: \n",
            "Removed: **Mar 2025 **\n",
            "Removed: \n",
            "Removed: • Built machine learning models \\(XGBoost, Random Forest\\) to predict flight prices. Deployed an interactive Streamlit dashboard to visualize fare trends and optimize booking decisions. \n",
            "Removed: \n",
            "Removed: **Conditional VAE for Age-Controlled Face Generation** \n",
            "Removed: \n",
            "Removed: **Jan 2025 **\n",
            "Removed: \n",
            "Removed: • Designed a Conditional Variational Autoencoder \\(CVAE\\) to simulate age-based facial transformations. Implemented data preprocessing and achieved latent space disentanglement. \n",
            "Removed: \n",
            "Removed: **Customer Behavior Analysis Pipeline **\n",
            "Removed: \n",
            "Removed: **Nov 2024 **\n",
            "Removed: \n",
            "Removed: • Built a SQL-Python pipeline to analyze 6.75M\\+ e-commerce records using A/B testing and time series. \n",
            "Removed: \n",
            "Removed: **John List Voltage Research Program **\n",
            "Removed: \n",
            "Removed: **Sep 2024 - Present **\n",
            "Removed: \n",
            "Removed: • Used Bayesian modeling and causal inference to quantify real-world treatment effects in behavioral experiments, evaluated incremental outcomes from randomized interventions. \n",
            "Removed: \n",
            "Removed: **TECHNICAL SKILLS **\n",
            "Removed: \n",
            "Removed: • **Programming**: Python \\(Pandas, NumPy, Matplotlib, Scikit-Learn\\), SQL, R, STATA, Git. \n",
            "Character Diff: ^                -        -                                        -                     -\n",
            "\n",
            "Added: - **Programming:** Python (Pandas, NumPy, Matplotlib, Scikit-Learn), SQL, R, STATA, Git  \n",
            "Character Diff: ^              +                                                                        +\n",
            "\n",
            "Removed: \n",
            "Removed: • **Machine Learning & AI**: Generative AI \\(LLMs, VAEs\\), Classification, Regression, XGBoost, Random Forest, A/B \n",
            "Character Diff: ^    ------- -------       -               -           -                                                       ^^^\n",
            "\n",
            "Added: - **ML & AI:** Generative AI (LLMs, VAEs), Classification, Regression, XGBoost, Random Forest, RNN-LSTM, NLP, Prompt Engineering  \n",
            "Character Diff: ^          +                                                                                   ^^^^^^^^^ +++++++++++++++++++++++++\n",
            "\n",
            "Added: - **Statistics:** Time Series Forecasting, Bayesian Inference, Causal Inference, MLE, MCMC, Econometrics, Sentiment Analysis  \n",
            "Added: - **Tools:** Snowflake, Tableau, Streamlit, Spark, MLOps frameworks\n",
            "Added: ```\n",
            "Removed: \n",
            "Removed: Testing, RNN-LSTM, NLP, Neural Networks, Prompt Engineering. \n",
            "Removed: \n",
            "Removed: • **Statistics**: Time Series Forecasting, Bayesian Inference, GLMs, MLE, MCMC, Panel Data Econometrics, Causal Inference, Sentiment Analysis.\n",
            "Removed: \n"
          ]
        },
        {
          "output_type": "stream",
          "name": "stderr",
          "text": [
            "<>:4: DeprecationWarning: invalid escape sequence '\\+'\n",
            "<>:4: DeprecationWarning: invalid escape sequence '\\+'\n",
            "/tmp/ipython-input-2338290574.py:4: DeprecationWarning: invalid escape sequence '\\+'\n",
            "  original_resume = \"\"\"\n"
          ]
        }
      ]
    },
    {
      "cell_type": "markdown",
      "source": [
        " Adapting my original resume for any specific job, I focused on aligning my experience and skills with the core requirements of the role. I revised the summary to highlight relevant experience in data science, particularly emphasizing GEN AI, model evaluation, ML and decision-making. I restructured my work experience to bring forward projects most aligned with the job posting, such as A/B testing frameworks, automated evaluation pipelines and collaborative research initiatives. I also edited the language to include keywords matching the job description, making sure the resume not only showcases my capabilities but also passes the applicant tracking systems, which is an issue I've been having. The tailored version shows a more targeted and improved narrative of my fit for any of the positions."
      ],
      "metadata": {
        "id": "-smpxWpTgHQI"
      }
    }
  ]
}